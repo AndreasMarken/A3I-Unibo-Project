{
 "cells": [
  {
   "cell_type": "markdown",
   "metadata": {},
   "source": [
    "# Odds model\n",
    "For our second model, we want to take advantage of the fact that we have the odds calculated by the odds company as part of our dataset. What happens if we just predict that the team with the lowest odds wins the match?"
   ]
  },
  {
   "cell_type": "code",
   "execution_count": 213,
   "metadata": {},
   "outputs": [],
   "source": [
    "import numpy as np\n",
    "from utils import DataAggregator"
   ]
  },
  {
   "cell_type": "code",
   "execution_count": 214,
   "metadata": {},
   "outputs": [],
   "source": [
    "np.random.seed(42)"
   ]
  },
  {
   "cell_type": "code",
   "execution_count": 215,
   "metadata": {},
   "outputs": [
    {
     "data": {
      "text/html": [
       "<div>\n",
       "<style scoped>\n",
       "    .dataframe tbody tr th:only-of-type {\n",
       "        vertical-align: middle;\n",
       "    }\n",
       "\n",
       "    .dataframe tbody tr th {\n",
       "        vertical-align: top;\n",
       "    }\n",
       "\n",
       "    .dataframe thead th {\n",
       "        text-align: right;\n",
       "    }\n",
       "</style>\n",
       "<table border=\"1\" class=\"dataframe\">\n",
       "  <thead>\n",
       "    <tr style=\"text-align: right;\">\n",
       "      <th></th>\n",
       "      <th>Div</th>\n",
       "      <th>Date</th>\n",
       "      <th>HomeTeam</th>\n",
       "      <th>AwayTeam</th>\n",
       "      <th>FTHG</th>\n",
       "      <th>FTAG</th>\n",
       "      <th>FTR</th>\n",
       "      <th>HTHG</th>\n",
       "      <th>HTAG</th>\n",
       "      <th>HTR</th>\n",
       "      <th>...</th>\n",
       "      <th>AF</th>\n",
       "      <th>HC</th>\n",
       "      <th>AC</th>\n",
       "      <th>HY</th>\n",
       "      <th>AY</th>\n",
       "      <th>HR</th>\n",
       "      <th>AR</th>\n",
       "      <th>B365H</th>\n",
       "      <th>B365D</th>\n",
       "      <th>B365A</th>\n",
       "    </tr>\n",
       "  </thead>\n",
       "  <tbody>\n",
       "    <tr>\n",
       "      <th>0</th>\n",
       "      <td>E0</td>\n",
       "      <td>15/08/09</td>\n",
       "      <td>Aston Villa</td>\n",
       "      <td>Wigan</td>\n",
       "      <td>0</td>\n",
       "      <td>2</td>\n",
       "      <td>A</td>\n",
       "      <td>0</td>\n",
       "      <td>1</td>\n",
       "      <td>A</td>\n",
       "      <td>...</td>\n",
       "      <td>14</td>\n",
       "      <td>4</td>\n",
       "      <td>6</td>\n",
       "      <td>2</td>\n",
       "      <td>2</td>\n",
       "      <td>0</td>\n",
       "      <td>0</td>\n",
       "      <td>1.67</td>\n",
       "      <td>3.60</td>\n",
       "      <td>5.50</td>\n",
       "    </tr>\n",
       "    <tr>\n",
       "      <th>1</th>\n",
       "      <td>E0</td>\n",
       "      <td>15/08/09</td>\n",
       "      <td>Blackburn</td>\n",
       "      <td>Man City</td>\n",
       "      <td>0</td>\n",
       "      <td>2</td>\n",
       "      <td>A</td>\n",
       "      <td>0</td>\n",
       "      <td>1</td>\n",
       "      <td>A</td>\n",
       "      <td>...</td>\n",
       "      <td>9</td>\n",
       "      <td>5</td>\n",
       "      <td>4</td>\n",
       "      <td>2</td>\n",
       "      <td>1</td>\n",
       "      <td>0</td>\n",
       "      <td>0</td>\n",
       "      <td>3.60</td>\n",
       "      <td>3.25</td>\n",
       "      <td>2.10</td>\n",
       "    </tr>\n",
       "    <tr>\n",
       "      <th>2</th>\n",
       "      <td>E0</td>\n",
       "      <td>15/08/09</td>\n",
       "      <td>Bolton</td>\n",
       "      <td>Sunderland</td>\n",
       "      <td>0</td>\n",
       "      <td>1</td>\n",
       "      <td>A</td>\n",
       "      <td>0</td>\n",
       "      <td>1</td>\n",
       "      <td>A</td>\n",
       "      <td>...</td>\n",
       "      <td>10</td>\n",
       "      <td>4</td>\n",
       "      <td>7</td>\n",
       "      <td>2</td>\n",
       "      <td>1</td>\n",
       "      <td>0</td>\n",
       "      <td>0</td>\n",
       "      <td>2.25</td>\n",
       "      <td>3.25</td>\n",
       "      <td>3.25</td>\n",
       "    </tr>\n",
       "    <tr>\n",
       "      <th>3</th>\n",
       "      <td>E0</td>\n",
       "      <td>15/08/09</td>\n",
       "      <td>Chelsea</td>\n",
       "      <td>Hull</td>\n",
       "      <td>2</td>\n",
       "      <td>1</td>\n",
       "      <td>H</td>\n",
       "      <td>1</td>\n",
       "      <td>1</td>\n",
       "      <td>D</td>\n",
       "      <td>...</td>\n",
       "      <td>15</td>\n",
       "      <td>12</td>\n",
       "      <td>4</td>\n",
       "      <td>1</td>\n",
       "      <td>2</td>\n",
       "      <td>0</td>\n",
       "      <td>0</td>\n",
       "      <td>1.17</td>\n",
       "      <td>6.50</td>\n",
       "      <td>21.00</td>\n",
       "    </tr>\n",
       "    <tr>\n",
       "      <th>4</th>\n",
       "      <td>E0</td>\n",
       "      <td>15/08/09</td>\n",
       "      <td>Everton</td>\n",
       "      <td>Arsenal</td>\n",
       "      <td>1</td>\n",
       "      <td>6</td>\n",
       "      <td>A</td>\n",
       "      <td>0</td>\n",
       "      <td>3</td>\n",
       "      <td>A</td>\n",
       "      <td>...</td>\n",
       "      <td>13</td>\n",
       "      <td>4</td>\n",
       "      <td>9</td>\n",
       "      <td>0</td>\n",
       "      <td>0</td>\n",
       "      <td>0</td>\n",
       "      <td>0</td>\n",
       "      <td>3.20</td>\n",
       "      <td>3.25</td>\n",
       "      <td>2.30</td>\n",
       "    </tr>\n",
       "  </tbody>\n",
       "</table>\n",
       "<p>5 rows × 26 columns</p>\n",
       "</div>"
      ],
      "text/plain": [
       "  Div      Date     HomeTeam    AwayTeam  FTHG  FTAG FTR  HTHG  HTAG HTR  ...  \\\n",
       "0  E0  15/08/09  Aston Villa       Wigan     0     2   A     0     1   A  ...   \n",
       "1  E0  15/08/09    Blackburn    Man City     0     2   A     0     1   A  ...   \n",
       "2  E0  15/08/09       Bolton  Sunderland     0     1   A     0     1   A  ...   \n",
       "3  E0  15/08/09      Chelsea        Hull     2     1   H     1     1   D  ...   \n",
       "4  E0  15/08/09      Everton     Arsenal     1     6   A     0     3   A  ...   \n",
       "\n",
       "   AF  HC  AC  HY  AY  HR  AR  B365H  B365D  B365A  \n",
       "0  14   4   6   2   2   0   0   1.67   3.60   5.50  \n",
       "1   9   5   4   2   1   0   0   3.60   3.25   2.10  \n",
       "2  10   4   7   2   1   0   0   2.25   3.25   3.25  \n",
       "3  15  12   4   1   2   0   0   1.17   6.50  21.00  \n",
       "4  13   4   9   0   0   0   0   3.20   3.25   2.30  \n",
       "\n",
       "[5 rows x 26 columns]"
      ]
     },
     "execution_count": 215,
     "metadata": {},
     "output_type": "execute_result"
    }
   ],
   "source": [
    "data_aggregator = DataAggregator()\n",
    "data = data_aggregator.get_data([\"E0\"])\n",
    "data.head()"
   ]
  },
  {
   "cell_type": "markdown",
   "metadata": {},
   "source": [
    "Now we can start by implementing the base model. This model will like mentioned be based on the betting company's odds calculations for each match. We will simply choose the outcome with the lowest odds, either a home win, an away win, or a draw."
   ]
  },
  {
   "cell_type": "code",
   "execution_count": null,
   "metadata": {},
   "outputs": [],
   "source": [
    "def predict_result(row):\n",
    "    if row[\"B365H\"] <= row[\"B365D\"] and row[\"B365H\"] <= row[\"B365A\"]:\n",
    "        return \"H\"\n",
    "    elif row[\"B365D\"] < row[\"B365H\"] and row[\"B365D\"] < row[\"B365A\"]:\n",
    "        return \"D\"\n",
    "    return \"A\"\n",
    "\n",
    "data[\"prediction\"] = data.apply(predict_result, axis=1)\n"
   ]
  },
  {
   "cell_type": "code",
   "execution_count": 217,
   "metadata": {},
   "outputs": [],
   "source": [
    "accuracy, won = data_aggregator.calculate_accuracy(data, \"FTR\", \"prediction\")"
   ]
  },
  {
   "cell_type": "code",
   "execution_count": 218,
   "metadata": {},
   "outputs": [
    {
     "name": "stdout",
     "output_type": "stream",
     "text": [
      "The accuracy of the model is 54.54%\n",
      "The accuracy of the model is 4603 out of 8440 games.\n",
      "\n"
     ]
    }
   ],
   "source": [
    "print(f\"\"\"The accuracy of the model is {accuracy:.2%}\n",
    "The accuracy of the model is {accuracy*len(data):.0f} out of {len(data)} games.\n",
    "\"\"\")"
   ]
  },
  {
   "cell_type": "code",
   "execution_count": 219,
   "metadata": {},
   "outputs": [
    {
     "name": "stdout",
     "output_type": "stream",
     "text": [
      "With this model, the expected return of investment would be -2464.29€\n"
     ]
    }
   ],
   "source": [
    "print(f\"With this model, the expected return of investment would be {won:.2f}€\")"
   ]
  },
  {
   "cell_type": "markdown",
   "metadata": {},
   "source": [
    "As we can se from the result above, this model is actually quite accurate, with an accuracy of 54.54%. However, since it always chooses the lowest odds option, the return of investment is negative. This makes sense because even though the model wins 54.54% of its bets, it will rarely get a large return from a single bet. If this model would have yielded a positive return of investment, the betting companies would have had to make a lot of big mistakes in their odds calculations."
   ]
  },
  {
   "cell_type": "code",
   "execution_count": 220,
   "metadata": {},
   "outputs": [],
   "source": [
    "data_aggregator.save_metrics(\"odds\", accuracy, won)"
   ]
  }
 ],
 "metadata": {
  "kernelspec": {
   "display_name": "venv",
   "language": "python",
   "name": "python3"
  },
  "language_info": {
   "codemirror_mode": {
    "name": "ipython",
    "version": 3
   },
   "file_extension": ".py",
   "mimetype": "text/x-python",
   "name": "python",
   "nbconvert_exporter": "python",
   "pygments_lexer": "ipython3",
   "version": "3.12.7"
  }
 },
 "nbformat": 4,
 "nbformat_minor": 2
}
