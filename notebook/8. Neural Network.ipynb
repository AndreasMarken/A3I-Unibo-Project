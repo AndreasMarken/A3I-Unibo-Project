{
 "cells": [
  {
   "cell_type": "code",
   "execution_count": 1,
   "metadata": {},
   "outputs": [],
   "source": [
    "# ============================================================\n",
    "# Notebook setup\n",
    "# ============================================================\n",
    "\n",
    "%load_ext autoreload\n",
    "%autoreload 2\n",
    "\n",
    "figsize=(14, 4)\n",
    "\n",
    "random_state = 42   \n",
    "\n",
    "from utils.data_visualizator import plot_confusion_matrix\n",
    "\n",
    "from utils import DataAggregator\n",
    "\n",
    "from sklearn.metrics import confusion_matrix, classification_report\n",
    "\n",
    "import tensorflow as tf\n",
    "import tensorflow.keras as keras\n",
    "from keras.models import Sequential, Model\n",
    "from keras.layers import Dense, Dropout, Input, Concatenate\n",
    "from keras.optimizers import Adam\n",
    "from tensorflow.keras.utils import to_categorical\n",
    "from tensorflow.keras.losses import MeanSquaredError, SparseCategoricalCrossentropy\n",
    "\n",
    "from sklearn.preprocessing import StandardScaler\n",
    "\n",
    "import pandas as pd\n",
    "\n",
    "tf.random.set_seed(123)"
   ]
  },
  {
   "cell_type": "code",
   "execution_count": 2,
   "metadata": {},
   "outputs": [],
   "source": [
    "data_aggregator = DataAggregator()"
   ]
  },
  {
   "cell_type": "code",
   "execution_count": 3,
   "metadata": {},
   "outputs": [],
   "source": [
    "df = data_aggregator.get_data([\"E0\"])\n",
    "df = data_aggregator.format_date(df, \"Date\")\n",
    "df = data_aggregator.encode_result(df,\n",
    "                        mapping={\"H\": 1, \"D\": 0, \"A\": -1}, \n",
    "                        result_column=\"FTR\")\n",
    "df = data_aggregator.create_form_data(df, form_window=3)\n",
    "df = data_aggregator.create_gd_feature(df)\n",
    "df.drop(columns=[\"Div\", \"FTHG\", \"FTAG\", \"HTHG\", \"HTAG\", \"HTR\", \"Referee\", \"HS\", \"AS\", \"HST\", \"AST\", \"HF\", \"AF\", \"HC\",\"AC\",\"HY\",\"AY\",\"HR\",\"AR\"], inplace=True)\n",
    "df = data_aggregator.one_hot_encode_teams(df, \"HomeTeam\", \"AwayTeam\")"
   ]
  },
  {
   "cell_type": "code",
   "execution_count": 4,
   "metadata": {},
   "outputs": [],
   "source": [
    "target = \"FTR\"\n",
    "GD_target = \"GD\"\n",
    "\n",
    "df_train = df[df[\"Date\"] < \"2023-07-01\"]\n",
    "df_test = df[df[\"Date\"] >= \"2023-07-01\"]\n",
    "df_test = df_test[df_test[\"Date\"] < \"2024-07-01\"]\n",
    "\n",
    "X_train = df_train.drop(columns=[target, \"Date\", \"FTR\", GD_target])\n",
    "y_train = df_train[target]\n",
    "y_train_gd = df_train[GD_target]\n",
    "X_test = df_test.drop(columns=[target, \"Date\", \"FTR\", GD_target])\n",
    "y_test = df_test[target]\n",
    "y_test_gd = df_test[GD_target]"
   ]
  },
  {
   "cell_type": "code",
   "execution_count": 5,
   "metadata": {},
   "outputs": [],
   "source": [
    "scaler = StandardScaler()\n",
    "\n",
    "X_train = scaler.fit_transform(X_train)\n",
    "X_test = scaler.transform(X_test)\n",
    "input_dim = X_train.shape[1]"
   ]
  },
  {
   "cell_type": "markdown",
   "metadata": {},
   "source": [
    "## Classifier\n",
    "First of all, we start by creating a neural network that will act as a classifier. We will use it to classify the matches into categorical \"Win\", \"Draw\" and \"Loss\"."
   ]
  },
  {
   "cell_type": "code",
   "execution_count": 6,
   "metadata": {},
   "outputs": [],
   "source": [
    "def create_classifier(input_dim):\n",
    "    model = Sequential([\n",
    "        Input(shape=(input_dim,)),\n",
    "        Dense(64, activation='relu'),\n",
    "        Dropout(0.4),\n",
    "        Dense(32, activation='relu'),\n",
    "        Dropout(0.2),\n",
    "        Dense(3, activation='softmax')\n",
    "    ])\n",
    "    model.name = \"classifier\"\n",
    "    model.compile(optimizer=Adam(learning_rate=0.001), loss='categorical_crossentropy', metrics=['accuracy'])\n",
    "    return model"
   ]
  },
  {
   "cell_type": "code",
   "execution_count": 7,
   "metadata": {},
   "outputs": [],
   "source": [
    "y_train_cls = to_categorical(y_train.map({-1: 0, 0: 1, 1: 2}))\n",
    "y_test_cls = to_categorical(y_test.map({-1: 0, 0: 1, 1: 2}))"
   ]
  },
  {
   "cell_type": "code",
   "execution_count": 8,
   "metadata": {},
   "outputs": [
    {
     "data": {
      "text/html": [
       "<pre style=\"white-space:pre;overflow-x:auto;line-height:normal;font-family:Menlo,'DejaVu Sans Mono',consolas,'Courier New',monospace\"><span style=\"font-weight: bold\">Model: \"classifier\"</span>\n",
       "</pre>\n"
      ],
      "text/plain": [
       "\u001b[1mModel: \"classifier\"\u001b[0m\n"
      ]
     },
     "metadata": {},
     "output_type": "display_data"
    },
    {
     "data": {
      "text/html": [
       "<pre style=\"white-space:pre;overflow-x:auto;line-height:normal;font-family:Menlo,'DejaVu Sans Mono',consolas,'Courier New',monospace\">┏━━━━━━━━━━━━━━━━━━━━━━━━━━━━━━━━━┳━━━━━━━━━━━━━━━━━━━━━━━━┳━━━━━━━━━━━━━━━┓\n",
       "┃<span style=\"font-weight: bold\"> Layer (type)                    </span>┃<span style=\"font-weight: bold\"> Output Shape           </span>┃<span style=\"font-weight: bold\">       Param # </span>┃\n",
       "┡━━━━━━━━━━━━━━━━━━━━━━━━━━━━━━━━━╇━━━━━━━━━━━━━━━━━━━━━━━━╇━━━━━━━━━━━━━━━┩\n",
       "│ dense (<span style=\"color: #0087ff; text-decoration-color: #0087ff\">Dense</span>)                   │ (<span style=\"color: #00d7ff; text-decoration-color: #00d7ff\">None</span>, <span style=\"color: #00af00; text-decoration-color: #00af00\">64</span>)             │         <span style=\"color: #00af00; text-decoration-color: #00af00\">6,656</span> │\n",
       "├─────────────────────────────────┼────────────────────────┼───────────────┤\n",
       "│ dropout (<span style=\"color: #0087ff; text-decoration-color: #0087ff\">Dropout</span>)               │ (<span style=\"color: #00d7ff; text-decoration-color: #00d7ff\">None</span>, <span style=\"color: #00af00; text-decoration-color: #00af00\">64</span>)             │             <span style=\"color: #00af00; text-decoration-color: #00af00\">0</span> │\n",
       "├─────────────────────────────────┼────────────────────────┼───────────────┤\n",
       "│ dense_1 (<span style=\"color: #0087ff; text-decoration-color: #0087ff\">Dense</span>)                 │ (<span style=\"color: #00d7ff; text-decoration-color: #00d7ff\">None</span>, <span style=\"color: #00af00; text-decoration-color: #00af00\">32</span>)             │         <span style=\"color: #00af00; text-decoration-color: #00af00\">2,080</span> │\n",
       "├─────────────────────────────────┼────────────────────────┼───────────────┤\n",
       "│ dropout_1 (<span style=\"color: #0087ff; text-decoration-color: #0087ff\">Dropout</span>)             │ (<span style=\"color: #00d7ff; text-decoration-color: #00d7ff\">None</span>, <span style=\"color: #00af00; text-decoration-color: #00af00\">32</span>)             │             <span style=\"color: #00af00; text-decoration-color: #00af00\">0</span> │\n",
       "├─────────────────────────────────┼────────────────────────┼───────────────┤\n",
       "│ dense_2 (<span style=\"color: #0087ff; text-decoration-color: #0087ff\">Dense</span>)                 │ (<span style=\"color: #00d7ff; text-decoration-color: #00d7ff\">None</span>, <span style=\"color: #00af00; text-decoration-color: #00af00\">3</span>)              │            <span style=\"color: #00af00; text-decoration-color: #00af00\">99</span> │\n",
       "└─────────────────────────────────┴────────────────────────┴───────────────┘\n",
       "</pre>\n"
      ],
      "text/plain": [
       "┏━━━━━━━━━━━━━━━━━━━━━━━━━━━━━━━━━┳━━━━━━━━━━━━━━━━━━━━━━━━┳━━━━━━━━━━━━━━━┓\n",
       "┃\u001b[1m \u001b[0m\u001b[1mLayer (type)                   \u001b[0m\u001b[1m \u001b[0m┃\u001b[1m \u001b[0m\u001b[1mOutput Shape          \u001b[0m\u001b[1m \u001b[0m┃\u001b[1m \u001b[0m\u001b[1m      Param #\u001b[0m\u001b[1m \u001b[0m┃\n",
       "┡━━━━━━━━━━━━━━━━━━━━━━━━━━━━━━━━━╇━━━━━━━━━━━━━━━━━━━━━━━━╇━━━━━━━━━━━━━━━┩\n",
       "│ dense (\u001b[38;5;33mDense\u001b[0m)                   │ (\u001b[38;5;45mNone\u001b[0m, \u001b[38;5;34m64\u001b[0m)             │         \u001b[38;5;34m6,656\u001b[0m │\n",
       "├─────────────────────────────────┼────────────────────────┼───────────────┤\n",
       "│ dropout (\u001b[38;5;33mDropout\u001b[0m)               │ (\u001b[38;5;45mNone\u001b[0m, \u001b[38;5;34m64\u001b[0m)             │             \u001b[38;5;34m0\u001b[0m │\n",
       "├─────────────────────────────────┼────────────────────────┼───────────────┤\n",
       "│ dense_1 (\u001b[38;5;33mDense\u001b[0m)                 │ (\u001b[38;5;45mNone\u001b[0m, \u001b[38;5;34m32\u001b[0m)             │         \u001b[38;5;34m2,080\u001b[0m │\n",
       "├─────────────────────────────────┼────────────────────────┼───────────────┤\n",
       "│ dropout_1 (\u001b[38;5;33mDropout\u001b[0m)             │ (\u001b[38;5;45mNone\u001b[0m, \u001b[38;5;34m32\u001b[0m)             │             \u001b[38;5;34m0\u001b[0m │\n",
       "├─────────────────────────────────┼────────────────────────┼───────────────┤\n",
       "│ dense_2 (\u001b[38;5;33mDense\u001b[0m)                 │ (\u001b[38;5;45mNone\u001b[0m, \u001b[38;5;34m3\u001b[0m)              │            \u001b[38;5;34m99\u001b[0m │\n",
       "└─────────────────────────────────┴────────────────────────┴───────────────┘\n"
      ]
     },
     "metadata": {},
     "output_type": "display_data"
    },
    {
     "data": {
      "text/html": [
       "<pre style=\"white-space:pre;overflow-x:auto;line-height:normal;font-family:Menlo,'DejaVu Sans Mono',consolas,'Courier New',monospace\"><span style=\"font-weight: bold\"> Total params: </span><span style=\"color: #00af00; text-decoration-color: #00af00\">8,835</span> (34.51 KB)\n",
       "</pre>\n"
      ],
      "text/plain": [
       "\u001b[1m Total params: \u001b[0m\u001b[38;5;34m8,835\u001b[0m (34.51 KB)\n"
      ]
     },
     "metadata": {},
     "output_type": "display_data"
    },
    {
     "data": {
      "text/html": [
       "<pre style=\"white-space:pre;overflow-x:auto;line-height:normal;font-family:Menlo,'DejaVu Sans Mono',consolas,'Courier New',monospace\"><span style=\"font-weight: bold\"> Trainable params: </span><span style=\"color: #00af00; text-decoration-color: #00af00\">8,835</span> (34.51 KB)\n",
       "</pre>\n"
      ],
      "text/plain": [
       "\u001b[1m Trainable params: \u001b[0m\u001b[38;5;34m8,835\u001b[0m (34.51 KB)\n"
      ]
     },
     "metadata": {},
     "output_type": "display_data"
    },
    {
     "data": {
      "text/html": [
       "<pre style=\"white-space:pre;overflow-x:auto;line-height:normal;font-family:Menlo,'DejaVu Sans Mono',consolas,'Courier New',monospace\"><span style=\"font-weight: bold\"> Non-trainable params: </span><span style=\"color: #00af00; text-decoration-color: #00af00\">0</span> (0.00 B)\n",
       "</pre>\n"
      ],
      "text/plain": [
       "\u001b[1m Non-trainable params: \u001b[0m\u001b[38;5;34m0\u001b[0m (0.00 B)\n"
      ]
     },
     "metadata": {},
     "output_type": "display_data"
    },
    {
     "name": "stdout",
     "output_type": "stream",
     "text": [
      "None\n"
     ]
    }
   ],
   "source": [
    "classifier = create_classifier(input_dim)\n",
    "print(classifier.summary())"
   ]
  },
  {
   "cell_type": "code",
   "execution_count": 9,
   "metadata": {},
   "outputs": [
    {
     "name": "stdout",
     "output_type": "stream",
     "text": [
      "Epoch 1/50\n",
      "\u001b[1m200/200\u001b[0m \u001b[32m━━━━━━━━━━━━━━━━━━━━\u001b[0m\u001b[37m\u001b[0m \u001b[1m1s\u001b[0m 1ms/step - accuracy: 0.3988 - loss: 1.2104 - val_accuracy: 0.5069 - val_loss: 1.0285\n",
      "Epoch 2/50\n",
      "\u001b[1m200/200\u001b[0m \u001b[32m━━━━━━━━━━━━━━━━━━━━\u001b[0m\u001b[37m\u001b[0m \u001b[1m0s\u001b[0m 758us/step - accuracy: 0.4984 - loss: 1.0285 - val_accuracy: 0.5025 - val_loss: 1.0214\n",
      "Epoch 3/50\n",
      "\u001b[1m200/200\u001b[0m \u001b[32m━━━━━━━━━━━━━━━━━━━━\u001b[0m\u001b[37m\u001b[0m \u001b[1m0s\u001b[0m 756us/step - accuracy: 0.5174 - loss: 0.9870 - val_accuracy: 0.5063 - val_loss: 1.0179\n",
      "Epoch 4/50\n",
      "\u001b[1m200/200\u001b[0m \u001b[32m━━━━━━━━━━━━━━━━━━━━\u001b[0m\u001b[37m\u001b[0m \u001b[1m0s\u001b[0m 672us/step - accuracy: 0.5269 - loss: 0.9755 - val_accuracy: 0.5113 - val_loss: 1.0157\n",
      "Epoch 5/50\n",
      "\u001b[1m200/200\u001b[0m \u001b[32m━━━━━━━━━━━━━━━━━━━━\u001b[0m\u001b[37m\u001b[0m \u001b[1m0s\u001b[0m 685us/step - accuracy: 0.5332 - loss: 0.9685 - val_accuracy: 0.5125 - val_loss: 1.0132\n",
      "Epoch 6/50\n",
      "\u001b[1m200/200\u001b[0m \u001b[32m━━━━━━━━━━━━━━━━━━━━\u001b[0m\u001b[37m\u001b[0m \u001b[1m0s\u001b[0m 787us/step - accuracy: 0.5312 - loss: 0.9700 - val_accuracy: 0.5150 - val_loss: 1.0112\n",
      "Epoch 7/50\n",
      "\u001b[1m200/200\u001b[0m \u001b[32m━━━━━━━━━━━━━━━━━━━━\u001b[0m\u001b[37m\u001b[0m \u001b[1m0s\u001b[0m 791us/step - accuracy: 0.5372 - loss: 0.9636 - val_accuracy: 0.5119 - val_loss: 1.0123\n",
      "Epoch 8/50\n",
      "\u001b[1m200/200\u001b[0m \u001b[32m━━━━━━━━━━━━━━━━━━━━\u001b[0m\u001b[37m\u001b[0m \u001b[1m0s\u001b[0m 830us/step - accuracy: 0.5426 - loss: 0.9535 - val_accuracy: 0.5094 - val_loss: 1.0135\n",
      "Epoch 9/50\n",
      "\u001b[1m200/200\u001b[0m \u001b[32m━━━━━━━━━━━━━━━━━━━━\u001b[0m\u001b[37m\u001b[0m \u001b[1m0s\u001b[0m 792us/step - accuracy: 0.5485 - loss: 0.9550 - val_accuracy: 0.5113 - val_loss: 1.0161\n",
      "Epoch 10/50\n",
      "\u001b[1m200/200\u001b[0m \u001b[32m━━━━━━━━━━━━━━━━━━━━\u001b[0m\u001b[37m\u001b[0m \u001b[1m0s\u001b[0m 594us/step - accuracy: 0.5515 - loss: 0.9507 - val_accuracy: 0.5144 - val_loss: 1.0177\n",
      "Epoch 11/50\n",
      "\u001b[1m200/200\u001b[0m \u001b[32m━━━━━━━━━━━━━━━━━━━━\u001b[0m\u001b[37m\u001b[0m \u001b[1m0s\u001b[0m 587us/step - accuracy: 0.5427 - loss: 0.9489 - val_accuracy: 0.5069 - val_loss: 1.0246\n",
      "Epoch 12/50\n",
      "\u001b[1m200/200\u001b[0m \u001b[32m━━━━━━━━━━━━━━━━━━━━\u001b[0m\u001b[37m\u001b[0m \u001b[1m0s\u001b[0m 571us/step - accuracy: 0.5505 - loss: 0.9442 - val_accuracy: 0.5125 - val_loss: 1.0232\n",
      "Epoch 13/50\n",
      "\u001b[1m200/200\u001b[0m \u001b[32m━━━━━━━━━━━━━━━━━━━━\u001b[0m\u001b[37m\u001b[0m \u001b[1m0s\u001b[0m 554us/step - accuracy: 0.5506 - loss: 0.9383 - val_accuracy: 0.5063 - val_loss: 1.0261\n",
      "Epoch 14/50\n",
      "\u001b[1m200/200\u001b[0m \u001b[32m━━━━━━━━━━━━━━━━━━━━\u001b[0m\u001b[37m\u001b[0m \u001b[1m0s\u001b[0m 566us/step - accuracy: 0.5533 - loss: 0.9324 - val_accuracy: 0.5031 - val_loss: 1.0313\n",
      "Epoch 15/50\n",
      "\u001b[1m200/200\u001b[0m \u001b[32m━━━━━━━━━━━━━━━━━━━━\u001b[0m\u001b[37m\u001b[0m \u001b[1m0s\u001b[0m 559us/step - accuracy: 0.5583 - loss: 0.9353 - val_accuracy: 0.5063 - val_loss: 1.0272\n",
      "Epoch 16/50\n",
      "\u001b[1m200/200\u001b[0m \u001b[32m━━━━━━━━━━━━━━━━━━━━\u001b[0m\u001b[37m\u001b[0m \u001b[1m0s\u001b[0m 559us/step - accuracy: 0.5556 - loss: 0.9344 - val_accuracy: 0.5056 - val_loss: 1.0266\n",
      "Epoch 17/50\n",
      "\u001b[1m200/200\u001b[0m \u001b[32m━━━━━━━━━━━━━━━━━━━━\u001b[0m\u001b[37m\u001b[0m \u001b[1m0s\u001b[0m 563us/step - accuracy: 0.5604 - loss: 0.9238 - val_accuracy: 0.5088 - val_loss: 1.0259\n",
      "Epoch 18/50\n",
      "\u001b[1m200/200\u001b[0m \u001b[32m━━━━━━━━━━━━━━━━━━━━\u001b[0m\u001b[37m\u001b[0m \u001b[1m0s\u001b[0m 560us/step - accuracy: 0.5651 - loss: 0.9238 - val_accuracy: 0.5063 - val_loss: 1.0277\n",
      "Epoch 19/50\n",
      "\u001b[1m200/200\u001b[0m \u001b[32m━━━━━━━━━━━━━━━━━━━━\u001b[0m\u001b[37m\u001b[0m \u001b[1m0s\u001b[0m 597us/step - accuracy: 0.5606 - loss: 0.9275 - val_accuracy: 0.5113 - val_loss: 1.0276\n",
      "Epoch 20/50\n",
      "\u001b[1m200/200\u001b[0m \u001b[32m━━━━━━━━━━━━━━━━━━━━\u001b[0m\u001b[37m\u001b[0m \u001b[1m0s\u001b[0m 831us/step - accuracy: 0.5707 - loss: 0.9187 - val_accuracy: 0.5132 - val_loss: 1.0324\n",
      "Epoch 21/50\n",
      "\u001b[1m200/200\u001b[0m \u001b[32m━━━━━━━━━━━━━━━━━━━━\u001b[0m\u001b[37m\u001b[0m \u001b[1m0s\u001b[0m 579us/step - accuracy: 0.5674 - loss: 0.9175 - val_accuracy: 0.5031 - val_loss: 1.0381\n",
      "Epoch 22/50\n",
      "\u001b[1m200/200\u001b[0m \u001b[32m━━━━━━━━━━━━━━━━━━━━\u001b[0m\u001b[37m\u001b[0m \u001b[1m0s\u001b[0m 588us/step - accuracy: 0.5615 - loss: 0.9158 - val_accuracy: 0.5063 - val_loss: 1.0413\n",
      "Epoch 23/50\n",
      "\u001b[1m200/200\u001b[0m \u001b[32m━━━━━━━━━━━━━━━━━━━━\u001b[0m\u001b[37m\u001b[0m \u001b[1m0s\u001b[0m 1ms/step - accuracy: 0.5723 - loss: 0.9146 - val_accuracy: 0.4987 - val_loss: 1.0379\n",
      "Epoch 24/50\n",
      "\u001b[1m200/200\u001b[0m \u001b[32m━━━━━━━━━━━━━━━━━━━━\u001b[0m\u001b[37m\u001b[0m \u001b[1m0s\u001b[0m 652us/step - accuracy: 0.5764 - loss: 0.9122 - val_accuracy: 0.5075 - val_loss: 1.0360\n",
      "Epoch 25/50\n",
      "\u001b[1m200/200\u001b[0m \u001b[32m━━━━━━━━━━━━━━━━━━━━\u001b[0m\u001b[37m\u001b[0m \u001b[1m0s\u001b[0m 652us/step - accuracy: 0.5769 - loss: 0.9120 - val_accuracy: 0.5044 - val_loss: 1.0329\n",
      "Epoch 26/50\n",
      "\u001b[1m200/200\u001b[0m \u001b[32m━━━━━━━━━━━━━━━━━━━━\u001b[0m\u001b[37m\u001b[0m \u001b[1m0s\u001b[0m 622us/step - accuracy: 0.5792 - loss: 0.8975 - val_accuracy: 0.5044 - val_loss: 1.0401\n",
      "Epoch 27/50\n",
      "\u001b[1m200/200\u001b[0m \u001b[32m━━━━━━━━━━━━━━━━━━━━\u001b[0m\u001b[37m\u001b[0m \u001b[1m0s\u001b[0m 863us/step - accuracy: 0.5750 - loss: 0.9021 - val_accuracy: 0.5081 - val_loss: 1.0394\n",
      "Epoch 28/50\n",
      "\u001b[1m200/200\u001b[0m \u001b[32m━━━━━━━━━━━━━━━━━━━━\u001b[0m\u001b[37m\u001b[0m \u001b[1m0s\u001b[0m 611us/step - accuracy: 0.5711 - loss: 0.9004 - val_accuracy: 0.5075 - val_loss: 1.0364\n",
      "Epoch 29/50\n",
      "\u001b[1m200/200\u001b[0m \u001b[32m━━━━━━━━━━━━━━━━━━━━\u001b[0m\u001b[37m\u001b[0m \u001b[1m0s\u001b[0m 618us/step - accuracy: 0.5759 - loss: 0.8990 - val_accuracy: 0.5113 - val_loss: 1.0376\n",
      "Epoch 30/50\n",
      "\u001b[1m200/200\u001b[0m \u001b[32m━━━━━━━━━━━━━━━━━━━━\u001b[0m\u001b[37m\u001b[0m \u001b[1m0s\u001b[0m 617us/step - accuracy: 0.5758 - loss: 0.8982 - val_accuracy: 0.5000 - val_loss: 1.0450\n",
      "Epoch 31/50\n",
      "\u001b[1m200/200\u001b[0m \u001b[32m━━━━━━━━━━━━━━━━━━━━\u001b[0m\u001b[37m\u001b[0m \u001b[1m0s\u001b[0m 622us/step - accuracy: 0.5856 - loss: 0.8963 - val_accuracy: 0.5038 - val_loss: 1.0428\n",
      "Epoch 32/50\n",
      "\u001b[1m200/200\u001b[0m \u001b[32m━━━━━━━━━━━━━━━━━━━━\u001b[0m\u001b[37m\u001b[0m \u001b[1m0s\u001b[0m 627us/step - accuracy: 0.5845 - loss: 0.8965 - val_accuracy: 0.5056 - val_loss: 1.0457\n",
      "Epoch 33/50\n",
      "\u001b[1m200/200\u001b[0m \u001b[32m━━━━━━━━━━━━━━━━━━━━\u001b[0m\u001b[37m\u001b[0m \u001b[1m0s\u001b[0m 593us/step - accuracy: 0.5908 - loss: 0.8964 - val_accuracy: 0.5157 - val_loss: 1.0474\n",
      "Epoch 34/50\n",
      "\u001b[1m200/200\u001b[0m \u001b[32m━━━━━━━━━━━━━━━━━━━━\u001b[0m\u001b[37m\u001b[0m \u001b[1m0s\u001b[0m 635us/step - accuracy: 0.5909 - loss: 0.8822 - val_accuracy: 0.5013 - val_loss: 1.0436\n",
      "Epoch 35/50\n",
      "\u001b[1m200/200\u001b[0m \u001b[32m━━━━━━━━━━━━━━━━━━━━\u001b[0m\u001b[37m\u001b[0m \u001b[1m0s\u001b[0m 747us/step - accuracy: 0.5843 - loss: 0.8909 - val_accuracy: 0.5019 - val_loss: 1.0530\n",
      "Epoch 36/50\n",
      "\u001b[1m200/200\u001b[0m \u001b[32m━━━━━━━━━━━━━━━━━━━━\u001b[0m\u001b[37m\u001b[0m \u001b[1m0s\u001b[0m 629us/step - accuracy: 0.5817 - loss: 0.8912 - val_accuracy: 0.5144 - val_loss: 1.0534\n",
      "Epoch 37/50\n",
      "\u001b[1m200/200\u001b[0m \u001b[32m━━━━━━━━━━━━━━━━━━━━\u001b[0m\u001b[37m\u001b[0m \u001b[1m0s\u001b[0m 709us/step - accuracy: 0.5816 - loss: 0.8789 - val_accuracy: 0.5031 - val_loss: 1.0451\n",
      "Epoch 38/50\n",
      "\u001b[1m200/200\u001b[0m \u001b[32m━━━━━━━━━━━━━━━━━━━━\u001b[0m\u001b[37m\u001b[0m \u001b[1m0s\u001b[0m 631us/step - accuracy: 0.5976 - loss: 0.8784 - val_accuracy: 0.5094 - val_loss: 1.0647\n",
      "Epoch 39/50\n",
      "\u001b[1m200/200\u001b[0m \u001b[32m━━━━━━━━━━━━━━━━━━━━\u001b[0m\u001b[37m\u001b[0m \u001b[1m0s\u001b[0m 614us/step - accuracy: 0.5897 - loss: 0.8832 - val_accuracy: 0.5025 - val_loss: 1.0664\n",
      "Epoch 40/50\n",
      "\u001b[1m200/200\u001b[0m \u001b[32m━━━━━━━━━━━━━━━━━━━━\u001b[0m\u001b[37m\u001b[0m \u001b[1m0s\u001b[0m 614us/step - accuracy: 0.5847 - loss: 0.8784 - val_accuracy: 0.5013 - val_loss: 1.0730\n",
      "Epoch 41/50\n",
      "\u001b[1m200/200\u001b[0m \u001b[32m━━━━━━━━━━━━━━━━━━━━\u001b[0m\u001b[37m\u001b[0m \u001b[1m0s\u001b[0m 621us/step - accuracy: 0.6002 - loss: 0.8762 - val_accuracy: 0.4912 - val_loss: 1.0730\n",
      "Epoch 42/50\n",
      "\u001b[1m200/200\u001b[0m \u001b[32m━━━━━━━━━━━━━━━━━━━━\u001b[0m\u001b[37m\u001b[0m \u001b[1m0s\u001b[0m 627us/step - accuracy: 0.5919 - loss: 0.8727 - val_accuracy: 0.4956 - val_loss: 1.0659\n",
      "Epoch 43/50\n",
      "\u001b[1m200/200\u001b[0m \u001b[32m━━━━━━━━━━━━━━━━━━━━\u001b[0m\u001b[37m\u001b[0m \u001b[1m0s\u001b[0m 633us/step - accuracy: 0.5882 - loss: 0.8798 - val_accuracy: 0.4975 - val_loss: 1.0677\n",
      "Epoch 44/50\n",
      "\u001b[1m200/200\u001b[0m \u001b[32m━━━━━━━━━━━━━━━━━━━━\u001b[0m\u001b[37m\u001b[0m \u001b[1m0s\u001b[0m 636us/step - accuracy: 0.5955 - loss: 0.8784 - val_accuracy: 0.5044 - val_loss: 1.0709\n",
      "Epoch 45/50\n",
      "\u001b[1m200/200\u001b[0m \u001b[32m━━━━━━━━━━━━━━━━━━━━\u001b[0m\u001b[37m\u001b[0m \u001b[1m0s\u001b[0m 597us/step - accuracy: 0.5918 - loss: 0.8777 - val_accuracy: 0.5013 - val_loss: 1.0709\n",
      "Epoch 46/50\n",
      "\u001b[1m200/200\u001b[0m \u001b[32m━━━━━━━━━━━━━━━━━━━━\u001b[0m\u001b[37m\u001b[0m \u001b[1m0s\u001b[0m 603us/step - accuracy: 0.5962 - loss: 0.8711 - val_accuracy: 0.4962 - val_loss: 1.0726\n",
      "Epoch 47/50\n",
      "\u001b[1m200/200\u001b[0m \u001b[32m━━━━━━━━━━━━━━━━━━━━\u001b[0m\u001b[37m\u001b[0m \u001b[1m0s\u001b[0m 620us/step - accuracy: 0.5961 - loss: 0.8702 - val_accuracy: 0.4987 - val_loss: 1.0791\n",
      "Epoch 48/50\n",
      "\u001b[1m200/200\u001b[0m \u001b[32m━━━━━━━━━━━━━━━━━━━━\u001b[0m\u001b[37m\u001b[0m \u001b[1m0s\u001b[0m 621us/step - accuracy: 0.6084 - loss: 0.8632 - val_accuracy: 0.5056 - val_loss: 1.0776\n",
      "Epoch 49/50\n",
      "\u001b[1m200/200\u001b[0m \u001b[32m━━━━━━━━━━━━━━━━━━━━\u001b[0m\u001b[37m\u001b[0m \u001b[1m0s\u001b[0m 626us/step - accuracy: 0.5993 - loss: 0.8633 - val_accuracy: 0.5019 - val_loss: 1.0765\n",
      "Epoch 50/50\n",
      "\u001b[1m200/200\u001b[0m \u001b[32m━━━━━━━━━━━━━━━━━━━━\u001b[0m\u001b[37m\u001b[0m \u001b[1m0s\u001b[0m 648us/step - accuracy: 0.6100 - loss: 0.8502 - val_accuracy: 0.4987 - val_loss: 1.0712\n"
     ]
    }
   ],
   "source": [
    "history = classifier.fit(X_train, y_train_cls, validation_split=0.2, epochs=50, batch_size=32, verbose=1)"
   ]
  },
  {
   "cell_type": "code",
   "execution_count": 10,
   "metadata": {},
   "outputs": [
    {
     "name": "stdout",
     "output_type": "stream",
     "text": [
      "\u001b[1m12/12\u001b[0m \u001b[32m━━━━━━━━━━━━━━━━━━━━\u001b[0m\u001b[37m\u001b[0m \u001b[1m0s\u001b[0m 2ms/step  \n"
     ]
    }
   ],
   "source": [
    "y_pred_cls = classifier.predict(X_test)\n",
    "mapped_predictions_cls = y_pred_cls.argmax(axis=1) - 1"
   ]
  },
  {
   "cell_type": "code",
   "execution_count": 11,
   "metadata": {},
   "outputs": [
    {
     "name": "stdout",
     "output_type": "stream",
     "text": [
      "The accuracy of the model is 53.16%\n",
      "The accuracy of the model is 202 out of 380 games.\n",
      "\n",
      "With this model, the expected return on value would be 7289.50€\n"
     ]
    }
   ],
   "source": [
    "cls_df = pd.concat([df_test[[target, \"B365H\", \"B365D\", \"B365A\"]].reset_index(drop=True), pd.Series(mapped_predictions_cls, name=\"PredictedOutcome\")], axis=1)\n",
    "\n",
    "cls_accuracy, cls_won = data_aggregator.calculate_accuracy(cls_df, target, \"PredictedOutcome\")\n",
    "\n",
    "print(f\"\"\"The accuracy of the model is {cls_accuracy:.2%}\n",
    "The accuracy of the model is {cls_accuracy*len(cls_df):.0f} out of {len(cls_df)} games.\n",
    "\"\"\")\n",
    "print(f\"With this model, the expected return on value would be {cls_won:.2f}€\")"
   ]
  },
  {
   "cell_type": "code",
   "execution_count": 12,
   "metadata": {},
   "outputs": [
    {
     "name": "stdout",
     "output_type": "stream",
     "text": [
      "              precision    recall  f1-score   support\n",
      "\n",
      "          -1       0.57      0.41      0.48       123\n",
      "           0       0.30      0.04      0.07        82\n",
      "           1       0.53      0.85      0.65       175\n",
      "\n",
      "    accuracy                           0.53       380\n",
      "   macro avg       0.47      0.43      0.40       380\n",
      "weighted avg       0.49      0.53      0.47       380\n",
      "\n"
     ]
    }
   ],
   "source": [
    "print(classification_report(y_test, mapped_predictions_cls))"
   ]
  },
  {
   "cell_type": "code",
   "execution_count": 13,
   "metadata": {},
   "outputs": [
    {
     "data": {
      "image/png": "[encoded data removed]",
      "text/plain": [
       "<Figure size 640x480 with 2 Axes>"
      ]
     },
     "metadata": {},
     "output_type": "display_data"
    }
   ],
   "source": [
    "cm = confusion_matrix(y_test, mapped_predictions_cls)\n",
    "plot_confusion_matrix(cm, [\"Away\", \"Draw\", \"Home\"])"
   ]
  },
  {
   "cell_type": "markdown",
   "metadata": {},
   "source": [
    "## Regressor\n",
    "Next up we will define a neural network as a regressor, and will use it to predict the goal difference of a match."
   ]
  },
  {
   "cell_type": "code",
   "execution_count": 14,
   "metadata": {},
   "outputs": [],
   "source": [
    "def create_regressor(input_dim):\n",
    "    model = Sequential([\n",
    "        Input(shape=(input_dim,)),\n",
    "        Dense(64, activation='relu'),\n",
    "        Dropout(0.2),\n",
    "        Dense(32, activation='relu'),\n",
    "        Dropout(0.2),\n",
    "        Dense(1)\n",
    "    ])\n",
    "    model.name = \"regressor\"\n",
    "    model.compile(optimizer=Adam(learning_rate=0.001), loss='mse', metrics=['mae'])\n",
    "    return model"
   ]
  },
  {
   "cell_type": "code",
   "execution_count": 15,
   "metadata": {},
   "outputs": [
    {
     "data": {
      "text/html": [
       "<pre style=\"white-space:pre;overflow-x:auto;line-height:normal;font-family:Menlo,'DejaVu Sans Mono',consolas,'Courier New',monospace\"><span style=\"font-weight: bold\">Model: \"regressor\"</span>\n",
       "</pre>\n"
      ],
      "text/plain": [
       "\u001b[1mModel: \"regressor\"\u001b[0m\n"
      ]
     },
     "metadata": {},
     "output_type": "display_data"
    },
    {
     "data": {
      "text/html": [
       "<pre style=\"white-space:pre;overflow-x:auto;line-height:normal;font-family:Menlo,'DejaVu Sans Mono',consolas,'Courier New',monospace\">┏━━━━━━━━━━━━━━━━━━━━━━━━━━━━━━━━━┳━━━━━━━━━━━━━━━━━━━━━━━━┳━━━━━━━━━━━━━━━┓\n",
       "┃<span style=\"font-weight: bold\"> Layer (type)                    </span>┃<span style=\"font-weight: bold\"> Output Shape           </span>┃<span style=\"font-weight: bold\">       Param # </span>┃\n",
       "┡━━━━━━━━━━━━━━━━━━━━━━━━━━━━━━━━━╇━━━━━━━━━━━━━━━━━━━━━━━━╇━━━━━━━━━━━━━━━┩\n",
       "│ dense_3 (<span style=\"color: #0087ff; text-decoration-color: #0087ff\">Dense</span>)                 │ (<span style=\"color: #00d7ff; text-decoration-color: #00d7ff\">None</span>, <span style=\"color: #00af00; text-decoration-color: #00af00\">64</span>)             │         <span style=\"color: #00af00; text-decoration-color: #00af00\">6,656</span> │\n",
       "├─────────────────────────────────┼────────────────────────┼───────────────┤\n",
       "│ dropout_2 (<span style=\"color: #0087ff; text-decoration-color: #0087ff\">Dropout</span>)             │ (<span style=\"color: #00d7ff; text-decoration-color: #00d7ff\">None</span>, <span style=\"color: #00af00; text-decoration-color: #00af00\">64</span>)             │             <span style=\"color: #00af00; text-decoration-color: #00af00\">0</span> │\n",
       "├─────────────────────────────────┼────────────────────────┼───────────────┤\n",
       "│ dense_4 (<span style=\"color: #0087ff; text-decoration-color: #0087ff\">Dense</span>)                 │ (<span style=\"color: #00d7ff; text-decoration-color: #00d7ff\">None</span>, <span style=\"color: #00af00; text-decoration-color: #00af00\">32</span>)             │         <span style=\"color: #00af00; text-decoration-color: #00af00\">2,080</span> │\n",
       "├─────────────────────────────────┼────────────────────────┼───────────────┤\n",
       "│ dropout_3 (<span style=\"color: #0087ff; text-decoration-color: #0087ff\">Dropout</span>)             │ (<span style=\"color: #00d7ff; text-decoration-color: #00d7ff\">None</span>, <span style=\"color: #00af00; text-decoration-color: #00af00\">32</span>)             │             <span style=\"color: #00af00; text-decoration-color: #00af00\">0</span> │\n",
       "├─────────────────────────────────┼────────────────────────┼───────────────┤\n",
       "│ dense_5 (<span style=\"color: #0087ff; text-decoration-color: #0087ff\">Dense</span>)                 │ (<span style=\"color: #00d7ff; text-decoration-color: #00d7ff\">None</span>, <span style=\"color: #00af00; text-decoration-color: #00af00\">1</span>)              │            <span style=\"color: #00af00; text-decoration-color: #00af00\">33</span> │\n",
       "└─────────────────────────────────┴────────────────────────┴───────────────┘\n",
       "</pre>\n"
      ],
      "text/plain": [
       "┏━━━━━━━━━━━━━━━━━━━━━━━━━━━━━━━━━┳━━━━━━━━━━━━━━━━━━━━━━━━┳━━━━━━━━━━━━━━━┓\n",
       "┃\u001b[1m \u001b[0m\u001b[1mLayer (type)                   \u001b[0m\u001b[1m \u001b[0m┃\u001b[1m \u001b[0m\u001b[1mOutput Shape          \u001b[0m\u001b[1m \u001b[0m┃\u001b[1m \u001b[0m\u001b[1m      Param #\u001b[0m\u001b[1m \u001b[0m┃\n",
       "┡━━━━━━━━━━━━━━━━━━━━━━━━━━━━━━━━━╇━━━━━━━━━━━━━━━━━━━━━━━━╇━━━━━━━━━━━━━━━┩\n",
       "│ dense_3 (\u001b[38;5;33mDense\u001b[0m)                 │ (\u001b[38;5;45mNone\u001b[0m, \u001b[38;5;34m64\u001b[0m)             │         \u001b[38;5;34m6,656\u001b[0m │\n",
       "├─────────────────────────────────┼────────────────────────┼───────────────┤\n",
       "│ dropout_2 (\u001b[38;5;33mDropout\u001b[0m)             │ (\u001b[38;5;45mNone\u001b[0m, \u001b[38;5;34m64\u001b[0m)             │             \u001b[38;5;34m0\u001b[0m │\n",
       "├─────────────────────────────────┼────────────────────────┼───────────────┤\n",
       "│ dense_4 (\u001b[38;5;33mDense\u001b[0m)                 │ (\u001b[38;5;45mNone\u001b[0m, \u001b[38;5;34m32\u001b[0m)             │         \u001b[38;5;34m2,080\u001b[0m │\n",
       "├─────────────────────────────────┼────────────────────────┼───────────────┤\n",
       "│ dropout_3 (\u001b[38;5;33mDropout\u001b[0m)             │ (\u001b[38;5;45mNone\u001b[0m, \u001b[38;5;34m32\u001b[0m)             │             \u001b[38;5;34m0\u001b[0m │\n",
       "├─────────────────────────────────┼────────────────────────┼───────────────┤\n",
       "│ dense_5 (\u001b[38;5;33mDense\u001b[0m)                 │ (\u001b[38;5;45mNone\u001b[0m, \u001b[38;5;34m1\u001b[0m)              │            \u001b[38;5;34m33\u001b[0m │\n",
       "└─────────────────────────────────┴────────────────────────┴───────────────┘\n"
      ]
     },
     "metadata": {},
     "output_type": "display_data"
    },
    {
     "data": {
      "text/html": [
       "<pre style=\"white-space:pre;overflow-x:auto;line-height:normal;font-family:Menlo,'DejaVu Sans Mono',consolas,'Courier New',monospace\"><span style=\"font-weight: bold\"> Total params: </span><span style=\"color: #00af00; text-decoration-color: #00af00\">8,769</span> (34.25 KB)\n",
       "</pre>\n"
      ],
      "text/plain": [
       "\u001b[1m Total params: \u001b[0m\u001b[38;5;34m8,769\u001b[0m (34.25 KB)\n"
      ]
     },
     "metadata": {},
     "output_type": "display_data"
    },
    {
     "data": {
      "text/html": [
       "<pre style=\"white-space:pre;overflow-x:auto;line-height:normal;font-family:Menlo,'DejaVu Sans Mono',consolas,'Courier New',monospace\"><span style=\"font-weight: bold\"> Trainable params: </span><span style=\"color: #00af00; text-decoration-color: #00af00\">8,769</span> (34.25 KB)\n",
       "</pre>\n"
      ],
      "text/plain": [
       "\u001b[1m Trainable params: \u001b[0m\u001b[38;5;34m8,769\u001b[0m (34.25 KB)\n"
      ]
     },
     "metadata": {},
     "output_type": "display_data"
    },
    {
     "data": {
      "text/html": [
       "<pre style=\"white-space:pre;overflow-x:auto;line-height:normal;font-family:Menlo,'DejaVu Sans Mono',consolas,'Courier New',monospace\"><span style=\"font-weight: bold\"> Non-trainable params: </span><span style=\"color: #00af00; text-decoration-color: #00af00\">0</span> (0.00 B)\n",
       "</pre>\n"
      ],
      "text/plain": [
       "\u001b[1m Non-trainable params: \u001b[0m\u001b[38;5;34m0\u001b[0m (0.00 B)\n"
      ]
     },
     "metadata": {},
     "output_type": "display_data"
    },
    {
     "name": "stdout",
     "output_type": "stream",
     "text": [
      "None\n"
     ]
    }
   ],
   "source": [
    "regressor = create_regressor(input_dim)\n",
    "print(regressor.summary())"
   ]
  },
  {
   "cell_type": "code",
   "execution_count": 16,
   "metadata": {},
   "outputs": [
    {
     "name": "stdout",
     "output_type": "stream",
     "text": [
      "Epoch 1/50\n",
      "\u001b[1m200/200\u001b[0m \u001b[32m━━━━━━━━━━━━━━━━━━━━\u001b[0m\u001b[37m\u001b[0m \u001b[1m1s\u001b[0m 903us/step - loss: 3.2643 - mae: 1.4022 - val_loss: 3.2411 - val_mae: 1.3879\n",
      "Epoch 2/50\n",
      "\u001b[1m200/200\u001b[0m \u001b[32m━━━━━━━━━━━━━━━━━━━━\u001b[0m\u001b[37m\u001b[0m \u001b[1m0s\u001b[0m 560us/step - loss: 2.6576 - mae: 1.2651 - val_loss: 3.1814 - val_mae: 1.3741\n",
      "Epoch 3/50\n",
      "\u001b[1m200/200\u001b[0m \u001b[32m━━━━━━━━━━━━━━━━━━━━\u001b[0m\u001b[37m\u001b[0m \u001b[1m0s\u001b[0m 551us/step - loss: 2.5877 - mae: 1.2486 - val_loss: 3.1696 - val_mae: 1.3698\n",
      "Epoch 4/50\n",
      "\u001b[1m200/200\u001b[0m \u001b[32m━━━━━━━━━━━━━━━━━━━━\u001b[0m\u001b[37m\u001b[0m \u001b[1m0s\u001b[0m 559us/step - loss: 2.4735 - mae: 1.2194 - val_loss: 3.1342 - val_mae: 1.3651\n",
      "Epoch 5/50\n",
      "\u001b[1m200/200\u001b[0m \u001b[32m━━━━━━━━━━━━━━━━━━━━\u001b[0m\u001b[37m\u001b[0m \u001b[1m0s\u001b[0m 590us/step - loss: 2.5070 - mae: 1.2273 - val_loss: 3.1178 - val_mae: 1.3613\n",
      "Epoch 6/50\n",
      "\u001b[1m200/200\u001b[0m \u001b[32m━━━━━━━━━━━━━━━━━━━━\u001b[0m\u001b[37m\u001b[0m \u001b[1m0s\u001b[0m 594us/step - loss: 2.4230 - mae: 1.2098 - val_loss: 3.1307 - val_mae: 1.3647\n",
      "Epoch 7/50\n",
      "\u001b[1m200/200\u001b[0m \u001b[32m━━━━━━━━━━━━━━━━━━━━\u001b[0m\u001b[37m\u001b[0m \u001b[1m0s\u001b[0m 587us/step - loss: 2.4059 - mae: 1.2106 - val_loss: 3.1252 - val_mae: 1.3639\n",
      "Epoch 8/50\n",
      "\u001b[1m200/200\u001b[0m \u001b[32m━━━━━━━━━━━━━━━━━━━━\u001b[0m\u001b[37m\u001b[0m \u001b[1m0s\u001b[0m 578us/step - loss: 2.3902 - mae: 1.2012 - val_loss: 3.1167 - val_mae: 1.3648\n",
      "Epoch 9/50\n",
      "\u001b[1m200/200\u001b[0m \u001b[32m━━━━━━━━━━━━━━━━━━━━\u001b[0m\u001b[37m\u001b[0m \u001b[1m0s\u001b[0m 555us/step - loss: 2.3427 - mae: 1.1867 - val_loss: 3.1192 - val_mae: 1.3665\n",
      "Epoch 10/50\n",
      "\u001b[1m200/200\u001b[0m \u001b[32m━━━━━━━━━━━━━━━━━━━━\u001b[0m\u001b[37m\u001b[0m \u001b[1m0s\u001b[0m 571us/step - loss: 2.3406 - mae: 1.1907 - val_loss: 3.1188 - val_mae: 1.3649\n",
      "Epoch 11/50\n",
      "\u001b[1m200/200\u001b[0m \u001b[32m━━━━━━━━━━━━━━━━━━━━\u001b[0m\u001b[37m\u001b[0m \u001b[1m0s\u001b[0m 599us/step - loss: 2.3449 - mae: 1.1836 - val_loss: 3.1237 - val_mae: 1.3668\n",
      "Epoch 12/50\n",
      "\u001b[1m200/200\u001b[0m \u001b[32m━━━━━━━━━━━━━━━━━━━━\u001b[0m\u001b[37m\u001b[0m \u001b[1m0s\u001b[0m 561us/step - loss: 2.3008 - mae: 1.1844 - val_loss: 3.1331 - val_mae: 1.3695\n",
      "Epoch 13/50\n",
      "\u001b[1m200/200\u001b[0m \u001b[32m━━━━━━━━━━━━━━━━━━━━\u001b[0m\u001b[37m\u001b[0m \u001b[1m0s\u001b[0m 575us/step - loss: 2.2474 - mae: 1.1684 - val_loss: 3.1362 - val_mae: 1.3689\n",
      "Epoch 14/50\n",
      "\u001b[1m200/200\u001b[0m \u001b[32m━━━━━━━━━━━━━━━━━━━━\u001b[0m\u001b[37m\u001b[0m \u001b[1m0s\u001b[0m 571us/step - loss: 2.2620 - mae: 1.1694 - val_loss: 3.1399 - val_mae: 1.3721\n",
      "Epoch 15/50\n",
      "\u001b[1m200/200\u001b[0m \u001b[32m━━━━━━━━━━━━━━━━━━━━\u001b[0m\u001b[37m\u001b[0m \u001b[1m0s\u001b[0m 572us/step - loss: 2.2209 - mae: 1.1602 - val_loss: 3.1417 - val_mae: 1.3721\n",
      "Epoch 16/50\n",
      "\u001b[1m200/200\u001b[0m \u001b[32m━━━━━━━━━━━━━━━━━━━━\u001b[0m\u001b[37m\u001b[0m \u001b[1m0s\u001b[0m 640us/step - loss: 2.2211 - mae: 1.1569 - val_loss: 3.1241 - val_mae: 1.3687\n",
      "Epoch 17/50\n",
      "\u001b[1m200/200\u001b[0m \u001b[32m━━━━━━━━━━━━━━━━━━━━\u001b[0m\u001b[37m\u001b[0m \u001b[1m0s\u001b[0m 593us/step - loss: 2.2106 - mae: 1.1588 - val_loss: 3.1497 - val_mae: 1.3743\n",
      "Epoch 18/50\n",
      "\u001b[1m200/200\u001b[0m \u001b[32m━━━━━━━━━━━━━━━━━━━━\u001b[0m\u001b[37m\u001b[0m \u001b[1m0s\u001b[0m 639us/step - loss: 2.2124 - mae: 1.1558 - val_loss: 3.1514 - val_mae: 1.3775\n",
      "Epoch 19/50\n",
      "\u001b[1m200/200\u001b[0m \u001b[32m━━━━━━━━━━━━━━━━━━━━\u001b[0m\u001b[37m\u001b[0m \u001b[1m0s\u001b[0m 561us/step - loss: 2.1567 - mae: 1.1418 - val_loss: 3.1778 - val_mae: 1.3809\n",
      "Epoch 20/50\n",
      "\u001b[1m200/200\u001b[0m \u001b[32m━━━━━━━━━━━━━━━━━━━━\u001b[0m\u001b[37m\u001b[0m \u001b[1m0s\u001b[0m 524us/step - loss: 2.1822 - mae: 1.1579 - val_loss: 3.1929 - val_mae: 1.3892\n",
      "Epoch 21/50\n",
      "\u001b[1m200/200\u001b[0m \u001b[32m━━━━━━━━━━━━━━━━━━━━\u001b[0m\u001b[37m\u001b[0m \u001b[1m0s\u001b[0m 565us/step - loss: 2.1620 - mae: 1.1551 - val_loss: 3.1908 - val_mae: 1.3860\n",
      "Epoch 22/50\n",
      "\u001b[1m200/200\u001b[0m \u001b[32m━━━━━━━━━━━━━━━━━━━━\u001b[0m\u001b[37m\u001b[0m \u001b[1m0s\u001b[0m 545us/step - loss: 2.1403 - mae: 1.1382 - val_loss: 3.1822 - val_mae: 1.3856\n",
      "Epoch 23/50\n",
      "\u001b[1m200/200\u001b[0m \u001b[32m━━━━━━━━━━━━━━━━━━━━\u001b[0m\u001b[37m\u001b[0m \u001b[1m0s\u001b[0m 559us/step - loss: 2.1719 - mae: 1.1494 - val_loss: 3.2070 - val_mae: 1.3899\n",
      "Epoch 24/50\n",
      "\u001b[1m200/200\u001b[0m \u001b[32m━━━━━━━━━━━━━━━━━━━━\u001b[0m\u001b[37m\u001b[0m \u001b[1m0s\u001b[0m 552us/step - loss: 2.1119 - mae: 1.1347 - val_loss: 3.2096 - val_mae: 1.3903\n",
      "Epoch 25/50\n",
      "\u001b[1m200/200\u001b[0m \u001b[32m━━━━━━━━━━━━━━━━━━━━\u001b[0m\u001b[37m\u001b[0m \u001b[1m0s\u001b[0m 588us/step - loss: 2.1452 - mae: 1.1349 - val_loss: 3.2037 - val_mae: 1.3893\n",
      "Epoch 26/50\n",
      "\u001b[1m200/200\u001b[0m \u001b[32m━━━━━━━━━━━━━━━━━━━━\u001b[0m\u001b[37m\u001b[0m \u001b[1m0s\u001b[0m 566us/step - loss: 2.1280 - mae: 1.1323 - val_loss: 3.2148 - val_mae: 1.3961\n",
      "Epoch 27/50\n",
      "\u001b[1m200/200\u001b[0m \u001b[32m━━━━━━━━━━━━━━━━━━━━\u001b[0m\u001b[37m\u001b[0m \u001b[1m0s\u001b[0m 658us/step - loss: 2.0634 - mae: 1.1265 - val_loss: 3.2306 - val_mae: 1.3988\n",
      "Epoch 28/50\n",
      "\u001b[1m200/200\u001b[0m \u001b[32m━━━━━━━━━━━━━━━━━━━━\u001b[0m\u001b[37m\u001b[0m \u001b[1m0s\u001b[0m 565us/step - loss: 2.0637 - mae: 1.1207 - val_loss: 3.2382 - val_mae: 1.4024\n",
      "Epoch 29/50\n",
      "\u001b[1m200/200\u001b[0m \u001b[32m━━━━━━━━━━━━━━━━━━━━\u001b[0m\u001b[37m\u001b[0m \u001b[1m0s\u001b[0m 565us/step - loss: 2.0438 - mae: 1.1089 - val_loss: 3.2640 - val_mae: 1.4063\n",
      "Epoch 30/50\n",
      "\u001b[1m200/200\u001b[0m \u001b[32m━━━━━━━━━━━━━━━━━━━━\u001b[0m\u001b[37m\u001b[0m \u001b[1m0s\u001b[0m 550us/step - loss: 2.0327 - mae: 1.1104 - val_loss: 3.2165 - val_mae: 1.3953\n",
      "Epoch 31/50\n",
      "\u001b[1m200/200\u001b[0m \u001b[32m━━━━━━━━━━━━━━━━━━━━\u001b[0m\u001b[37m\u001b[0m \u001b[1m0s\u001b[0m 555us/step - loss: 2.0529 - mae: 1.1081 - val_loss: 3.2242 - val_mae: 1.3974\n",
      "Epoch 32/50\n",
      "\u001b[1m200/200\u001b[0m \u001b[32m━━━━━━━━━━━━━━━━━━━━\u001b[0m\u001b[37m\u001b[0m \u001b[1m0s\u001b[0m 571us/step - loss: 2.0249 - mae: 1.1105 - val_loss: 3.2392 - val_mae: 1.3999\n",
      "Epoch 33/50\n",
      "\u001b[1m200/200\u001b[0m \u001b[32m━━━━━━━━━━━━━━━━━━━━\u001b[0m\u001b[37m\u001b[0m \u001b[1m0s\u001b[0m 595us/step - loss: 2.0176 - mae: 1.1136 - val_loss: 3.2391 - val_mae: 1.3970\n",
      "Epoch 34/50\n",
      "\u001b[1m200/200\u001b[0m \u001b[32m━━━━━━━━━━━━━━━━━━━━\u001b[0m\u001b[37m\u001b[0m \u001b[1m0s\u001b[0m 584us/step - loss: 2.0330 - mae: 1.1026 - val_loss: 3.2321 - val_mae: 1.3990\n",
      "Epoch 35/50\n",
      "\u001b[1m200/200\u001b[0m \u001b[32m━━━━━━━━━━━━━━━━━━━━\u001b[0m\u001b[37m\u001b[0m \u001b[1m0s\u001b[0m 574us/step - loss: 1.9815 - mae: 1.0956 - val_loss: 3.2499 - val_mae: 1.4039\n",
      "Epoch 36/50\n",
      "\u001b[1m200/200\u001b[0m \u001b[32m━━━━━━━━━━━━━━━━━━━━\u001b[0m\u001b[37m\u001b[0m \u001b[1m0s\u001b[0m 582us/step - loss: 2.0169 - mae: 1.1006 - val_loss: 3.2233 - val_mae: 1.3955\n",
      "Epoch 37/50\n",
      "\u001b[1m200/200\u001b[0m \u001b[32m━━━━━━━━━━━━━━━━━━━━\u001b[0m\u001b[37m\u001b[0m \u001b[1m0s\u001b[0m 551us/step - loss: 1.9842 - mae: 1.0932 - val_loss: 3.2902 - val_mae: 1.4096\n",
      "Epoch 38/50\n",
      "\u001b[1m200/200\u001b[0m \u001b[32m━━━━━━━━━━━━━━━━━━━━\u001b[0m\u001b[37m\u001b[0m \u001b[1m0s\u001b[0m 562us/step - loss: 1.9805 - mae: 1.0953 - val_loss: 3.2456 - val_mae: 1.4006\n",
      "Epoch 39/50\n",
      "\u001b[1m200/200\u001b[0m \u001b[32m━━━━━━━━━━━━━━━━━━━━\u001b[0m\u001b[37m\u001b[0m \u001b[1m0s\u001b[0m 571us/step - loss: 1.9594 - mae: 1.0835 - val_loss: 3.2629 - val_mae: 1.4069\n",
      "Epoch 40/50\n",
      "\u001b[1m200/200\u001b[0m \u001b[32m━━━━━━━━━━━━━━━━━━━━\u001b[0m\u001b[37m\u001b[0m \u001b[1m0s\u001b[0m 572us/step - loss: 1.9442 - mae: 1.0860 - val_loss: 3.2717 - val_mae: 1.4083\n",
      "Epoch 41/50\n",
      "\u001b[1m200/200\u001b[0m \u001b[32m━━━━━━━━━━━━━━━━━━━━\u001b[0m\u001b[37m\u001b[0m \u001b[1m0s\u001b[0m 574us/step - loss: 1.9412 - mae: 1.0711 - val_loss: 3.2670 - val_mae: 1.4060\n",
      "Epoch 42/50\n",
      "\u001b[1m200/200\u001b[0m \u001b[32m━━━━━━━━━━━━━━━━━━━━\u001b[0m\u001b[37m\u001b[0m \u001b[1m0s\u001b[0m 551us/step - loss: 1.9363 - mae: 1.0849 - val_loss: 3.3006 - val_mae: 1.4132\n",
      "Epoch 43/50\n",
      "\u001b[1m200/200\u001b[0m \u001b[32m━━━━━━━━━━━━━━━━━━━━\u001b[0m\u001b[37m\u001b[0m \u001b[1m0s\u001b[0m 623us/step - loss: 1.9271 - mae: 1.0782 - val_loss: 3.2892 - val_mae: 1.4077\n",
      "Epoch 44/50\n",
      "\u001b[1m200/200\u001b[0m \u001b[32m━━━━━━━━━━━━━━━━━━━━\u001b[0m\u001b[37m\u001b[0m \u001b[1m0s\u001b[0m 632us/step - loss: 1.9610 - mae: 1.0909 - val_loss: 3.2840 - val_mae: 1.4084\n",
      "Epoch 45/50\n",
      "\u001b[1m200/200\u001b[0m \u001b[32m━━━━━━━━━━━━━━━━━━━━\u001b[0m\u001b[37m\u001b[0m \u001b[1m0s\u001b[0m 609us/step - loss: 1.9214 - mae: 1.0746 - val_loss: 3.2852 - val_mae: 1.4040\n",
      "Epoch 46/50\n",
      "\u001b[1m200/200\u001b[0m \u001b[32m━━━━━━━━━━━━━━━━━━━━\u001b[0m\u001b[37m\u001b[0m \u001b[1m0s\u001b[0m 620us/step - loss: 1.9051 - mae: 1.0749 - val_loss: 3.3037 - val_mae: 1.4104\n",
      "Epoch 47/50\n",
      "\u001b[1m200/200\u001b[0m \u001b[32m━━━━━━━━━━━━━━━━━━━━\u001b[0m\u001b[37m\u001b[0m \u001b[1m0s\u001b[0m 626us/step - loss: 1.8817 - mae: 1.0706 - val_loss: 3.2852 - val_mae: 1.4052\n",
      "Epoch 48/50\n",
      "\u001b[1m200/200\u001b[0m \u001b[32m━━━━━━━━━━━━━━━━━━━━\u001b[0m\u001b[37m\u001b[0m \u001b[1m0s\u001b[0m 594us/step - loss: 1.8673 - mae: 1.0541 - val_loss: 3.3113 - val_mae: 1.4153\n",
      "Epoch 49/50\n",
      "\u001b[1m200/200\u001b[0m \u001b[32m━━━━━━━━━━━━━━━━━━━━\u001b[0m\u001b[37m\u001b[0m \u001b[1m0s\u001b[0m 578us/step - loss: 1.8622 - mae: 1.0551 - val_loss: 3.3690 - val_mae: 1.4261\n",
      "Epoch 50/50\n",
      "\u001b[1m200/200\u001b[0m \u001b[32m━━━━━━━━━━━━━━━━━━━━\u001b[0m\u001b[37m\u001b[0m \u001b[1m0s\u001b[0m 550us/step - loss: 1.8354 - mae: 1.0538 - val_loss: 3.3278 - val_mae: 1.4179\n"
     ]
    }
   ],
   "source": [
    "history = regressor.fit(X_train, y_train_gd, validation_split=0.2, epochs=50, batch_size=32, verbose=1)"
   ]
  },
  {
   "cell_type": "code",
   "execution_count": 17,
   "metadata": {},
   "outputs": [
    {
     "name": "stdout",
     "output_type": "stream",
     "text": [
      "\u001b[1m12/12\u001b[0m \u001b[32m━━━━━━━━━━━━━━━━━━━━\u001b[0m\u001b[37m\u001b[0m \u001b[1m0s\u001b[0m 2ms/step\n"
     ]
    }
   ],
   "source": [
    "def map_result(predicitions):\n",
    "    return [1 if p >= 1 else -1 if p <= -1 else 0 for p in map(round, predicitions)]\n",
    "\n",
    "y_pred = regressor.predict(X_test).flatten()\n",
    "\n",
    "mapped_predictions = map_result(y_pred)"
   ]
  },
  {
   "cell_type": "code",
   "execution_count": 18,
   "metadata": {},
   "outputs": [
    {
     "name": "stdout",
     "output_type": "stream",
     "text": [
      "The accuracy of the model is 48.16%\n",
      "The accuracy of the model is 183 out of 380 games.\n",
      "\n",
      "With this model, the expected return on value would be 5872.70€\n"
     ]
    }
   ],
   "source": [
    "regr_df = pd.concat([df_test[[target, \"B365H\", \"B365D\", \"B365A\"]].reset_index(drop=True), pd.Series(mapped_predictions, name=\"PredictedOutcome\")], axis=1)\n",
    "\n",
    "regr_accuracy, regr_won = data_aggregator.calculate_accuracy(regr_df, target, \"PredictedOutcome\")\n",
    "\n",
    "print(f\"\"\"The accuracy of the model is {regr_accuracy:.2%}\n",
    "The accuracy of the model is {regr_accuracy*len(regr_df):.0f} out of {len(regr_df)} games.\n",
    "\"\"\")\n",
    "print(f\"With this model, the expected return on value would be {regr_won:.2f}€\")"
   ]
  },
  {
   "cell_type": "code",
   "execution_count": 19,
   "metadata": {},
   "outputs": [
    {
     "name": "stdout",
     "output_type": "stream",
     "text": [
      "              precision    recall  f1-score   support\n",
      "\n",
      "          -1       0.63      0.33      0.43       123\n",
      "           0       0.28      0.63      0.39        82\n",
      "           1       0.68      0.52      0.59       175\n",
      "\n",
      "    accuracy                           0.48       380\n",
      "   macro avg       0.53      0.49      0.47       380\n",
      "weighted avg       0.58      0.48      0.50       380\n",
      "\n"
     ]
    }
   ],
   "source": [
    "print(classification_report(y_test, mapped_predictions))"
   ]
  },
  {
   "cell_type": "code",
   "execution_count": 20,
   "metadata": {},
   "outputs": [
    {
     "data": {
      "image/png": "[encoded data removed]",
      "text/plain": [
       "<Figure size 640x480 with 2 Axes>"
      ]
     },
     "metadata": {},
     "output_type": "display_data"
    }
   ],
   "source": [
    "cm = confusion_matrix(y_test, mapped_predictions)\n",
    "plot_confusion_matrix(cm, [\"Away\", \"Draw\", \"Home\"])"
   ]
  },
  {
   "cell_type": "markdown",
   "metadata": {},
   "source": [
    "## Hybrid approach\n",
    "Finally, we will implement a hybrid variant, where we will take the output of the regressor, i.e., the predicted goal difference, and then use it as a input to a classifier NN in order to predict the results using another NN."
   ]
  },
  {
   "cell_type": "code",
   "execution_count": 21,
   "metadata": {},
   "outputs": [],
   "source": [
    "def create_hybrid_model(input_dim):\n",
    "    inputs = Input(shape=(input_dim,), name=\"main_input\")\n",
    "    \n",
    "    regressor = Dense(64, activation=\"relu\", name=\"regressor_hidden_1\")(inputs)\n",
    "    regressor = Dropout(0.2)(regressor)\n",
    "    regressor = Dense(32, activation=\"relu\", name=\"regressor_hidden_2\")(regressor)\n",
    "    gd_output = Dense(1, activation=\"linear\", name=\"goal_difference_output\")(regressor)  # Regression output\n",
    "\n",
    "    concatenated = Concatenate(name=\"concat_layer\")([inputs, gd_output])\n",
    "    \n",
    "    classifier = Dense(64, activation=\"relu\", name=\"classifier_hidden_1\")(concatenated)\n",
    "    classifier = Dropout(0.2)(classifier)\n",
    "    classifier = Dense(32, activation=\"relu\", name=\"classifier_hidden_2\")(classifier)\n",
    "    outcome_output = Dense(3, activation=\"softmax\", name=\"match_outcome_output\")(classifier)  # Classification output\n",
    "\n",
    "    model = Model(inputs=inputs, outputs=[gd_output, outcome_output])\n",
    "\n",
    "    model.name = \"hybrid_model\"\n",
    "\n",
    "    model.compile(\n",
    "        optimizer=Adam(learning_rate=0.001),\n",
    "        loss={\n",
    "            \"goal_difference_output\": MeanSquaredError(),\n",
    "            \"match_outcome_output\": SparseCategoricalCrossentropy()\n",
    "        },\n",
    "        metrics={\n",
    "            \"goal_difference_output\": \"mae\",\n",
    "            \"match_outcome_output\": \"accuracy\"\n",
    "        }\n",
    "    )\n",
    "    return model"
   ]
  },
  {
   "cell_type": "code",
   "execution_count": 22,
   "metadata": {},
   "outputs": [
    {
     "data": {
      "text/html": [
       "<pre style=\"white-space:pre;overflow-x:auto;line-height:normal;font-family:Menlo,'DejaVu Sans Mono',consolas,'Courier New',monospace\"><span style=\"font-weight: bold\">Model: \"hybrid_model\"</span>\n",
       "</pre>\n"
      ],
      "text/plain": [
       "\u001b[1mModel: \"hybrid_model\"\u001b[0m\n"
      ]
     },
     "metadata": {},
     "output_type": "display_data"
    },
    {
     "data": {
      "text/html": [
       "<pre style=\"white-space:pre;overflow-x:auto;line-height:normal;font-family:Menlo,'DejaVu Sans Mono',consolas,'Courier New',monospace\">┏━━━━━━━━━━━━━━━━━━━━━┳━━━━━━━━━━━━━━━━━━━┳━━━━━━━━━━━━┳━━━━━━━━━━━━━━━━━━━┓\n",
       "┃<span style=\"font-weight: bold\"> Layer (type)        </span>┃<span style=\"font-weight: bold\"> Output Shape      </span>┃<span style=\"font-weight: bold\">    Param # </span>┃<span style=\"font-weight: bold\"> Connected to      </span>┃\n",
       "┡━━━━━━━━━━━━━━━━━━━━━╇━━━━━━━━━━━━━━━━━━━╇━━━━━━━━━━━━╇━━━━━━━━━━━━━━━━━━━┩\n",
       "│ main_input          │ (<span style=\"color: #00d7ff; text-decoration-color: #00d7ff\">None</span>, <span style=\"color: #00af00; text-decoration-color: #00af00\">103</span>)       │          <span style=\"color: #00af00; text-decoration-color: #00af00\">0</span> │ -                 │\n",
       "│ (<span style=\"color: #0087ff; text-decoration-color: #0087ff\">InputLayer</span>)        │                   │            │                   │\n",
       "├─────────────────────┼───────────────────┼────────────┼───────────────────┤\n",
       "│ regressor_hidden_1  │ (<span style=\"color: #00d7ff; text-decoration-color: #00d7ff\">None</span>, <span style=\"color: #00af00; text-decoration-color: #00af00\">64</span>)        │      <span style=\"color: #00af00; text-decoration-color: #00af00\">6,656</span> │ main_input[<span style=\"color: #00af00; text-decoration-color: #00af00\">0</span>][<span style=\"color: #00af00; text-decoration-color: #00af00\">0</span>]  │\n",
       "│ (<span style=\"color: #0087ff; text-decoration-color: #0087ff\">Dense</span>)             │                   │            │                   │\n",
       "├─────────────────────┼───────────────────┼────────────┼───────────────────┤\n",
       "│ dropout_4 (<span style=\"color: #0087ff; text-decoration-color: #0087ff\">Dropout</span>) │ (<span style=\"color: #00d7ff; text-decoration-color: #00d7ff\">None</span>, <span style=\"color: #00af00; text-decoration-color: #00af00\">64</span>)        │          <span style=\"color: #00af00; text-decoration-color: #00af00\">0</span> │ regressor_hidden… │\n",
       "├─────────────────────┼───────────────────┼────────────┼───────────────────┤\n",
       "│ regressor_hidden_2  │ (<span style=\"color: #00d7ff; text-decoration-color: #00d7ff\">None</span>, <span style=\"color: #00af00; text-decoration-color: #00af00\">32</span>)        │      <span style=\"color: #00af00; text-decoration-color: #00af00\">2,080</span> │ dropout_4[<span style=\"color: #00af00; text-decoration-color: #00af00\">0</span>][<span style=\"color: #00af00; text-decoration-color: #00af00\">0</span>]   │\n",
       "│ (<span style=\"color: #0087ff; text-decoration-color: #0087ff\">Dense</span>)             │                   │            │                   │\n",
       "├─────────────────────┼───────────────────┼────────────┼───────────────────┤\n",
       "│ goal_difference_ou… │ (<span style=\"color: #00d7ff; text-decoration-color: #00d7ff\">None</span>, <span style=\"color: #00af00; text-decoration-color: #00af00\">1</span>)         │         <span style=\"color: #00af00; text-decoration-color: #00af00\">33</span> │ regressor_hidden… │\n",
       "│ (<span style=\"color: #0087ff; text-decoration-color: #0087ff\">Dense</span>)             │                   │            │                   │\n",
       "├─────────────────────┼───────────────────┼────────────┼───────────────────┤\n",
       "│ concat_layer        │ (<span style=\"color: #00d7ff; text-decoration-color: #00d7ff\">None</span>, <span style=\"color: #00af00; text-decoration-color: #00af00\">104</span>)       │          <span style=\"color: #00af00; text-decoration-color: #00af00\">0</span> │ main_input[<span style=\"color: #00af00; text-decoration-color: #00af00\">0</span>][<span style=\"color: #00af00; text-decoration-color: #00af00\">0</span>], │\n",
       "│ (<span style=\"color: #0087ff; text-decoration-color: #0087ff\">Concatenate</span>)       │                   │            │ goal_difference_… │\n",
       "├─────────────────────┼───────────────────┼────────────┼───────────────────┤\n",
       "│ classifier_hidden_1 │ (<span style=\"color: #00d7ff; text-decoration-color: #00d7ff\">None</span>, <span style=\"color: #00af00; text-decoration-color: #00af00\">64</span>)        │      <span style=\"color: #00af00; text-decoration-color: #00af00\">6,720</span> │ concat_layer[<span style=\"color: #00af00; text-decoration-color: #00af00\">0</span>][<span style=\"color: #00af00; text-decoration-color: #00af00\">…</span> │\n",
       "│ (<span style=\"color: #0087ff; text-decoration-color: #0087ff\">Dense</span>)             │                   │            │                   │\n",
       "├─────────────────────┼───────────────────┼────────────┼───────────────────┤\n",
       "│ dropout_5 (<span style=\"color: #0087ff; text-decoration-color: #0087ff\">Dropout</span>) │ (<span style=\"color: #00d7ff; text-decoration-color: #00d7ff\">None</span>, <span style=\"color: #00af00; text-decoration-color: #00af00\">64</span>)        │          <span style=\"color: #00af00; text-decoration-color: #00af00\">0</span> │ classifier_hidde… │\n",
       "├─────────────────────┼───────────────────┼────────────┼───────────────────┤\n",
       "│ classifier_hidden_2 │ (<span style=\"color: #00d7ff; text-decoration-color: #00d7ff\">None</span>, <span style=\"color: #00af00; text-decoration-color: #00af00\">32</span>)        │      <span style=\"color: #00af00; text-decoration-color: #00af00\">2,080</span> │ dropout_5[<span style=\"color: #00af00; text-decoration-color: #00af00\">0</span>][<span style=\"color: #00af00; text-decoration-color: #00af00\">0</span>]   │\n",
       "│ (<span style=\"color: #0087ff; text-decoration-color: #0087ff\">Dense</span>)             │                   │            │                   │\n",
       "├─────────────────────┼───────────────────┼────────────┼───────────────────┤\n",
       "│ match_outcome_outp… │ (<span style=\"color: #00d7ff; text-decoration-color: #00d7ff\">None</span>, <span style=\"color: #00af00; text-decoration-color: #00af00\">3</span>)         │         <span style=\"color: #00af00; text-decoration-color: #00af00\">99</span> │ classifier_hidde… │\n",
       "│ (<span style=\"color: #0087ff; text-decoration-color: #0087ff\">Dense</span>)             │                   │            │                   │\n",
       "└─────────────────────┴───────────────────┴────────────┴───────────────────┘\n",
       "</pre>\n"
      ],
      "text/plain": [
       "┏━━━━━━━━━━━━━━━━━━━━━┳━━━━━━━━━━━━━━━━━━━┳━━━━━━━━━━━━┳━━━━━━━━━━━━━━━━━━━┓\n",
       "┃\u001b[1m \u001b[0m\u001b[1mLayer (type)       \u001b[0m\u001b[1m \u001b[0m┃\u001b[1m \u001b[0m\u001b[1mOutput Shape     \u001b[0m\u001b[1m \u001b[0m┃\u001b[1m \u001b[0m\u001b[1m   Param #\u001b[0m\u001b[1m \u001b[0m┃\u001b[1m \u001b[0m\u001b[1mConnected to     \u001b[0m\u001b[1m \u001b[0m┃\n",
       "┡━━━━━━━━━━━━━━━━━━━━━╇━━━━━━━━━━━━━━━━━━━╇━━━━━━━━━━━━╇━━━━━━━━━━━━━━━━━━━┩\n",
       "│ main_input          │ (\u001b[38;5;45mNone\u001b[0m, \u001b[38;5;34m103\u001b[0m)       │          \u001b[38;5;34m0\u001b[0m │ -                 │\n",
       "│ (\u001b[38;5;33mInputLayer\u001b[0m)        │                   │            │                   │\n",
       "├─────────────────────┼───────────────────┼────────────┼───────────────────┤\n",
       "│ regressor_hidden_1  │ (\u001b[38;5;45mNone\u001b[0m, \u001b[38;5;34m64\u001b[0m)        │      \u001b[38;5;34m6,656\u001b[0m │ main_input[\u001b[38;5;34m0\u001b[0m][\u001b[38;5;34m0\u001b[0m]  │\n",
       "│ (\u001b[38;5;33mDense\u001b[0m)             │                   │            │                   │\n",
       "├─────────────────────┼───────────────────┼────────────┼───────────────────┤\n",
       "│ dropout_4 (\u001b[38;5;33mDropout\u001b[0m) │ (\u001b[38;5;45mNone\u001b[0m, \u001b[38;5;34m64\u001b[0m)        │          \u001b[38;5;34m0\u001b[0m │ regressor_hidden… │\n",
       "├─────────────────────┼───────────────────┼────────────┼───────────────────┤\n",
       "│ regressor_hidden_2  │ (\u001b[38;5;45mNone\u001b[0m, \u001b[38;5;34m32\u001b[0m)        │      \u001b[38;5;34m2,080\u001b[0m │ dropout_4[\u001b[38;5;34m0\u001b[0m][\u001b[38;5;34m0\u001b[0m]   │\n",
       "│ (\u001b[38;5;33mDense\u001b[0m)             │                   │            │                   │\n",
       "├─────────────────────┼───────────────────┼────────────┼───────────────────┤\n",
       "│ goal_difference_ou… │ (\u001b[38;5;45mNone\u001b[0m, \u001b[38;5;34m1\u001b[0m)         │         \u001b[38;5;34m33\u001b[0m │ regressor_hidden… │\n",
       "│ (\u001b[38;5;33mDense\u001b[0m)             │                   │            │                   │\n",
       "├─────────────────────┼───────────────────┼────────────┼───────────────────┤\n",
       "│ concat_layer        │ (\u001b[38;5;45mNone\u001b[0m, \u001b[38;5;34m104\u001b[0m)       │          \u001b[38;5;34m0\u001b[0m │ main_input[\u001b[38;5;34m0\u001b[0m][\u001b[38;5;34m0\u001b[0m], │\n",
       "│ (\u001b[38;5;33mConcatenate\u001b[0m)       │                   │            │ goal_difference_… │\n",
       "├─────────────────────┼───────────────────┼────────────┼───────────────────┤\n",
       "│ classifier_hidden_1 │ (\u001b[38;5;45mNone\u001b[0m, \u001b[38;5;34m64\u001b[0m)        │      \u001b[38;5;34m6,720\u001b[0m │ concat_layer[\u001b[38;5;34m0\u001b[0m][\u001b[38;5;34m…\u001b[0m │\n",
       "│ (\u001b[38;5;33mDense\u001b[0m)             │                   │            │                   │\n",
       "├─────────────────────┼───────────────────┼────────────┼───────────────────┤\n",
       "│ dropout_5 (\u001b[38;5;33mDropout\u001b[0m) │ (\u001b[38;5;45mNone\u001b[0m, \u001b[38;5;34m64\u001b[0m)        │          \u001b[38;5;34m0\u001b[0m │ classifier_hidde… │\n",
       "├─────────────────────┼───────────────────┼────────────┼───────────────────┤\n",
       "│ classifier_hidden_2 │ (\u001b[38;5;45mNone\u001b[0m, \u001b[38;5;34m32\u001b[0m)        │      \u001b[38;5;34m2,080\u001b[0m │ dropout_5[\u001b[38;5;34m0\u001b[0m][\u001b[38;5;34m0\u001b[0m]   │\n",
       "│ (\u001b[38;5;33mDense\u001b[0m)             │                   │            │                   │\n",
       "├─────────────────────┼───────────────────┼────────────┼───────────────────┤\n",
       "│ match_outcome_outp… │ (\u001b[38;5;45mNone\u001b[0m, \u001b[38;5;34m3\u001b[0m)         │         \u001b[38;5;34m99\u001b[0m │ classifier_hidde… │\n",
       "│ (\u001b[38;5;33mDense\u001b[0m)             │                   │            │                   │\n",
       "└─────────────────────┴───────────────────┴────────────┴───────────────────┘\n"
      ]
     },
     "metadata": {},
     "output_type": "display_data"
    },
    {
     "data": {
      "text/html": [
       "<pre style=\"white-space:pre;overflow-x:auto;line-height:normal;font-family:Menlo,'DejaVu Sans Mono',consolas,'Courier New',monospace\"><span style=\"font-weight: bold\"> Total params: </span><span style=\"color: #00af00; text-decoration-color: #00af00\">17,668</span> (69.02 KB)\n",
       "</pre>\n"
      ],
      "text/plain": [
       "\u001b[1m Total params: \u001b[0m\u001b[38;5;34m17,668\u001b[0m (69.02 KB)\n"
      ]
     },
     "metadata": {},
     "output_type": "display_data"
    },
    {
     "data": {
      "text/html": [
       "<pre style=\"white-space:pre;overflow-x:auto;line-height:normal;font-family:Menlo,'DejaVu Sans Mono',consolas,'Courier New',monospace\"><span style=\"font-weight: bold\"> Trainable params: </span><span style=\"color: #00af00; text-decoration-color: #00af00\">17,668</span> (69.02 KB)\n",
       "</pre>\n"
      ],
      "text/plain": [
       "\u001b[1m Trainable params: \u001b[0m\u001b[38;5;34m17,668\u001b[0m (69.02 KB)\n"
      ]
     },
     "metadata": {},
     "output_type": "display_data"
    },
    {
     "data": {
      "text/html": [
       "<pre style=\"white-space:pre;overflow-x:auto;line-height:normal;font-family:Menlo,'DejaVu Sans Mono',consolas,'Courier New',monospace\"><span style=\"font-weight: bold\"> Non-trainable params: </span><span style=\"color: #00af00; text-decoration-color: #00af00\">0</span> (0.00 B)\n",
       "</pre>\n"
      ],
      "text/plain": [
       "\u001b[1m Non-trainable params: \u001b[0m\u001b[38;5;34m0\u001b[0m (0.00 B)\n"
      ]
     },
     "metadata": {},
     "output_type": "display_data"
    },
    {
     "name": "stdout",
     "output_type": "stream",
     "text": [
      "None\n"
     ]
    }
   ],
   "source": [
    "hybrid_model = create_hybrid_model(input_dim)\n",
    "print(hybrid_model.summary())"
   ]
  },
  {
   "cell_type": "code",
   "execution_count": 23,
   "metadata": {},
   "outputs": [
    {
     "name": "stdout",
     "output_type": "stream",
     "text": [
      "Epoch 1/50\n",
      "\u001b[1m200/200\u001b[0m \u001b[32m━━━━━━━━━━━━━━━━━━━━\u001b[0m\u001b[37m\u001b[0m \u001b[1m1s\u001b[0m 1ms/step - goal_difference_output_loss: 2.9625 - goal_difference_output_mae: 1.3303 - loss: 4.0564 - match_outcome_output_accuracy: 0.4573 - match_outcome_output_loss: 1.0939 - val_goal_difference_output_loss: 3.0864 - val_goal_difference_output_mae: 1.3537 - val_loss: 4.0990 - val_match_outcome_output_accuracy: 0.5056 - val_match_outcome_output_loss: 1.0126\n",
      "Epoch 2/50\n",
      "\u001b[1m200/200\u001b[0m \u001b[32m━━━━━━━━━━━━━━━━━━━━\u001b[0m\u001b[37m\u001b[0m \u001b[1m0s\u001b[0m 846us/step - goal_difference_output_loss: 2.6133 - goal_difference_output_mae: 1.2535 - loss: 3.5893 - match_outcome_output_accuracy: 0.5352 - match_outcome_output_loss: 0.9760 - val_goal_difference_output_loss: 3.0523 - val_goal_difference_output_mae: 1.3455 - val_loss: 4.0648 - val_match_outcome_output_accuracy: 0.5138 - val_match_outcome_output_loss: 1.0125\n",
      "Epoch 3/50\n",
      "\u001b[1m200/200\u001b[0m \u001b[32m━━━━━━━━━━━━━━━━━━━━\u001b[0m\u001b[37m\u001b[0m \u001b[1m0s\u001b[0m 912us/step - goal_difference_output_loss: 2.4968 - goal_difference_output_mae: 1.2214 - loss: 3.4565 - match_outcome_output_accuracy: 0.5429 - match_outcome_output_loss: 0.9597 - val_goal_difference_output_loss: 3.0379 - val_goal_difference_output_mae: 1.3460 - val_loss: 4.0510 - val_match_outcome_output_accuracy: 0.4994 - val_match_outcome_output_loss: 1.0126\n",
      "Epoch 4/50\n",
      "\u001b[1m200/200\u001b[0m \u001b[32m━━━━━━━━━━━━━━━━━━━━\u001b[0m\u001b[37m\u001b[0m \u001b[1m0s\u001b[0m 834us/step - goal_difference_output_loss: 2.4648 - goal_difference_output_mae: 1.2178 - loss: 3.4114 - match_outcome_output_accuracy: 0.5474 - match_outcome_output_loss: 0.9466 - val_goal_difference_output_loss: 3.0322 - val_goal_difference_output_mae: 1.3474 - val_loss: 4.0478 - val_match_outcome_output_accuracy: 0.5069 - val_match_outcome_output_loss: 1.0155\n",
      "Epoch 5/50\n",
      "\u001b[1m200/200\u001b[0m \u001b[32m━━━━━━━━━━━━━━━━━━━━\u001b[0m\u001b[37m\u001b[0m \u001b[1m0s\u001b[0m 797us/step - goal_difference_output_loss: 2.3906 - goal_difference_output_mae: 1.2002 - loss: 3.3215 - match_outcome_output_accuracy: 0.5574 - match_outcome_output_loss: 0.9309 - val_goal_difference_output_loss: 3.0488 - val_goal_difference_output_mae: 1.3502 - val_loss: 4.0705 - val_match_outcome_output_accuracy: 0.5050 - val_match_outcome_output_loss: 1.0214\n",
      "Epoch 6/50\n",
      "\u001b[1m200/200\u001b[0m \u001b[32m━━━━━━━━━━━━━━━━━━━━\u001b[0m\u001b[37m\u001b[0m \u001b[1m0s\u001b[0m 877us/step - goal_difference_output_loss: 2.3951 - goal_difference_output_mae: 1.2012 - loss: 3.3169 - match_outcome_output_accuracy: 0.5650 - match_outcome_output_loss: 0.9218 - val_goal_difference_output_loss: 3.0523 - val_goal_difference_output_mae: 1.3518 - val_loss: 4.0788 - val_match_outcome_output_accuracy: 0.5075 - val_match_outcome_output_loss: 1.0261\n",
      "Epoch 7/50\n",
      "\u001b[1m200/200\u001b[0m \u001b[32m━━━━━━━━━━━━━━━━━━━━\u001b[0m\u001b[37m\u001b[0m \u001b[1m0s\u001b[0m 873us/step - goal_difference_output_loss: 2.3426 - goal_difference_output_mae: 1.1903 - loss: 3.2644 - match_outcome_output_accuracy: 0.5655 - match_outcome_output_loss: 0.9218 - val_goal_difference_output_loss: 3.0684 - val_goal_difference_output_mae: 1.3573 - val_loss: 4.1060 - val_match_outcome_output_accuracy: 0.5107 - val_match_outcome_output_loss: 1.0373\n",
      "Epoch 8/50\n",
      "\u001b[1m200/200\u001b[0m \u001b[32m━━━━━━━━━━━━━━━━━━━━\u001b[0m\u001b[37m\u001b[0m \u001b[1m0s\u001b[0m 882us/step - goal_difference_output_loss: 2.3352 - goal_difference_output_mae: 1.1905 - loss: 3.2400 - match_outcome_output_accuracy: 0.5701 - match_outcome_output_loss: 0.9048 - val_goal_difference_output_loss: 3.0753 - val_goal_difference_output_mae: 1.3601 - val_loss: 4.1147 - val_match_outcome_output_accuracy: 0.5056 - val_match_outcome_output_loss: 1.0393\n",
      "Epoch 9/50\n",
      "\u001b[1m200/200\u001b[0m \u001b[32m━━━━━━━━━━━━━━━━━━━━\u001b[0m\u001b[37m\u001b[0m \u001b[1m0s\u001b[0m 870us/step - goal_difference_output_loss: 2.2966 - goal_difference_output_mae: 1.1763 - loss: 3.1914 - match_outcome_output_accuracy: 0.5887 - match_outcome_output_loss: 0.8948 - val_goal_difference_output_loss: 3.1100 - val_goal_difference_output_mae: 1.3701 - val_loss: 4.1594 - val_match_outcome_output_accuracy: 0.5050 - val_match_outcome_output_loss: 1.0495\n",
      "Epoch 10/50\n",
      "\u001b[1m200/200\u001b[0m \u001b[32m━━━━━━━━━━━━━━━━━━━━\u001b[0m\u001b[37m\u001b[0m \u001b[1m0s\u001b[0m 824us/step - goal_difference_output_loss: 2.2689 - goal_difference_output_mae: 1.1711 - loss: 3.1660 - match_outcome_output_accuracy: 0.5854 - match_outcome_output_loss: 0.8971 - val_goal_difference_output_loss: 3.0980 - val_goal_difference_output_mae: 1.3664 - val_loss: 4.1561 - val_match_outcome_output_accuracy: 0.4975 - val_match_outcome_output_loss: 1.0584\n",
      "Epoch 11/50\n",
      "\u001b[1m200/200\u001b[0m \u001b[32m━━━━━━━━━━━━━━━━━━━━\u001b[0m\u001b[37m\u001b[0m \u001b[1m0s\u001b[0m 961us/step - goal_difference_output_loss: 2.2621 - goal_difference_output_mae: 1.1718 - loss: 3.1426 - match_outcome_output_accuracy: 0.5993 - match_outcome_output_loss: 0.8804 - val_goal_difference_output_loss: 3.1183 - val_goal_difference_output_mae: 1.3715 - val_loss: 4.1841 - val_match_outcome_output_accuracy: 0.4994 - val_match_outcome_output_loss: 1.0658\n",
      "Epoch 12/50\n",
      "\u001b[1m200/200\u001b[0m \u001b[32m━━━━━━━━━━━━━━━━━━━━\u001b[0m\u001b[37m\u001b[0m \u001b[1m0s\u001b[0m 821us/step - goal_difference_output_loss: 2.2330 - goal_difference_output_mae: 1.1637 - loss: 3.1135 - match_outcome_output_accuracy: 0.5944 - match_outcome_output_loss: 0.8805 - val_goal_difference_output_loss: 3.1418 - val_goal_difference_output_mae: 1.3792 - val_loss: 4.2115 - val_match_outcome_output_accuracy: 0.5019 - val_match_outcome_output_loss: 1.0698\n",
      "Epoch 13/50\n",
      "\u001b[1m200/200\u001b[0m \u001b[32m━━━━━━━━━━━━━━━━━━━━\u001b[0m\u001b[37m\u001b[0m \u001b[1m0s\u001b[0m 883us/step - goal_difference_output_loss: 2.2214 - goal_difference_output_mae: 1.1592 - loss: 3.0910 - match_outcome_output_accuracy: 0.6033 - match_outcome_output_loss: 0.8696 - val_goal_difference_output_loss: 3.1773 - val_goal_difference_output_mae: 1.3878 - val_loss: 4.2655 - val_match_outcome_output_accuracy: 0.4969 - val_match_outcome_output_loss: 1.0885\n",
      "Epoch 14/50\n",
      "\u001b[1m200/200\u001b[0m \u001b[32m━━━━━━━━━━━━━━━━━━━━\u001b[0m\u001b[37m\u001b[0m \u001b[1m0s\u001b[0m 830us/step - goal_difference_output_loss: 2.1827 - goal_difference_output_mae: 1.1542 - loss: 3.0477 - match_outcome_output_accuracy: 0.5994 - match_outcome_output_loss: 0.8650 - val_goal_difference_output_loss: 3.2007 - val_goal_difference_output_mae: 1.3951 - val_loss: 4.2965 - val_match_outcome_output_accuracy: 0.4925 - val_match_outcome_output_loss: 1.0957\n",
      "Epoch 15/50\n",
      "\u001b[1m200/200\u001b[0m \u001b[32m━━━━━━━━━━━━━━━━━━━━\u001b[0m\u001b[37m\u001b[0m \u001b[1m0s\u001b[0m 854us/step - goal_difference_output_loss: 2.1700 - goal_difference_output_mae: 1.1454 - loss: 3.0263 - match_outcome_output_accuracy: 0.6056 - match_outcome_output_loss: 0.8563 - val_goal_difference_output_loss: 3.2020 - val_goal_difference_output_mae: 1.3942 - val_loss: 4.3116 - val_match_outcome_output_accuracy: 0.4825 - val_match_outcome_output_loss: 1.1092\n",
      "Epoch 16/50\n",
      "\u001b[1m200/200\u001b[0m \u001b[32m━━━━━━━━━━━━━━━━━━━━\u001b[0m\u001b[37m\u001b[0m \u001b[1m0s\u001b[0m 885us/step - goal_difference_output_loss: 2.1336 - goal_difference_output_mae: 1.1405 - loss: 2.9783 - match_outcome_output_accuracy: 0.6166 - match_outcome_output_loss: 0.8447 - val_goal_difference_output_loss: 3.2409 - val_goal_difference_output_mae: 1.4026 - val_loss: 4.3655 - val_match_outcome_output_accuracy: 0.4818 - val_match_outcome_output_loss: 1.1245\n",
      "Epoch 17/50\n",
      "\u001b[1m200/200\u001b[0m \u001b[32m━━━━━━━━━━━━━━━━━━━━\u001b[0m\u001b[37m\u001b[0m \u001b[1m0s\u001b[0m 848us/step - goal_difference_output_loss: 2.1609 - goal_difference_output_mae: 1.1451 - loss: 3.0056 - match_outcome_output_accuracy: 0.6069 - match_outcome_output_loss: 0.8447 - val_goal_difference_output_loss: 3.2689 - val_goal_difference_output_mae: 1.4140 - val_loss: 4.3988 - val_match_outcome_output_accuracy: 0.4781 - val_match_outcome_output_loss: 1.1305\n",
      "Epoch 18/50\n",
      "\u001b[1m200/200\u001b[0m \u001b[32m━━━━━━━━━━━━━━━━━━━━\u001b[0m\u001b[37m\u001b[0m \u001b[1m0s\u001b[0m 888us/step - goal_difference_output_loss: 2.0958 - goal_difference_output_mae: 1.1232 - loss: 2.9246 - match_outcome_output_accuracy: 0.6288 - match_outcome_output_loss: 0.8288 - val_goal_difference_output_loss: 3.3163 - val_goal_difference_output_mae: 1.4238 - val_loss: 4.4641 - val_match_outcome_output_accuracy: 0.4774 - val_match_outcome_output_loss: 1.1476\n",
      "Epoch 19/50\n",
      "\u001b[1m200/200\u001b[0m \u001b[32m━━━━━━━━━━━━━━━━━━━━\u001b[0m\u001b[37m\u001b[0m \u001b[1m0s\u001b[0m 840us/step - goal_difference_output_loss: 2.1023 - goal_difference_output_mae: 1.1326 - loss: 2.9300 - match_outcome_output_accuracy: 0.6190 - match_outcome_output_loss: 0.8277 - val_goal_difference_output_loss: 3.3371 - val_goal_difference_output_mae: 1.4261 - val_loss: 4.5036 - val_match_outcome_output_accuracy: 0.4787 - val_match_outcome_output_loss: 1.1666\n",
      "Epoch 20/50\n",
      "\u001b[1m200/200\u001b[0m \u001b[32m━━━━━━━━━━━━━━━━━━━━\u001b[0m\u001b[37m\u001b[0m \u001b[1m0s\u001b[0m 2ms/step - goal_difference_output_loss: 2.0937 - goal_difference_output_mae: 1.1337 - loss: 2.9109 - match_outcome_output_accuracy: 0.6323 - match_outcome_output_loss: 0.8172 - val_goal_difference_output_loss: 3.3697 - val_goal_difference_output_mae: 1.4303 - val_loss: 4.5546 - val_match_outcome_output_accuracy: 0.4774 - val_match_outcome_output_loss: 1.1857\n",
      "Epoch 21/50\n",
      "\u001b[1m200/200\u001b[0m \u001b[32m━━━━━━━━━━━━━━━━━━━━\u001b[0m\u001b[37m\u001b[0m \u001b[1m0s\u001b[0m 916us/step - goal_difference_output_loss: 2.0558 - goal_difference_output_mae: 1.1205 - loss: 2.8741 - match_outcome_output_accuracy: 0.6282 - match_outcome_output_loss: 0.8183 - val_goal_difference_output_loss: 3.3709 - val_goal_difference_output_mae: 1.4326 - val_loss: 4.5623 - val_match_outcome_output_accuracy: 0.4756 - val_match_outcome_output_loss: 1.1920\n",
      "Epoch 22/50\n",
      "\u001b[1m200/200\u001b[0m \u001b[32m━━━━━━━━━━━━━━━━━━━━\u001b[0m\u001b[37m\u001b[0m \u001b[1m0s\u001b[0m 909us/step - goal_difference_output_loss: 2.0247 - goal_difference_output_mae: 1.1103 - loss: 2.8262 - match_outcome_output_accuracy: 0.6380 - match_outcome_output_loss: 0.8014 - val_goal_difference_output_loss: 3.4324 - val_goal_difference_output_mae: 1.4501 - val_loss: 4.6656 - val_match_outcome_output_accuracy: 0.4806 - val_match_outcome_output_loss: 1.2335\n",
      "Epoch 23/50\n",
      "\u001b[1m200/200\u001b[0m \u001b[32m━━━━━━━━━━━━━━━━━━━━\u001b[0m\u001b[37m\u001b[0m \u001b[1m0s\u001b[0m 841us/step - goal_difference_output_loss: 2.0531 - goal_difference_output_mae: 1.1192 - loss: 2.8516 - match_outcome_output_accuracy: 0.6408 - match_outcome_output_loss: 0.7985 - val_goal_difference_output_loss: 3.4667 - val_goal_difference_output_mae: 1.4599 - val_loss: 4.7107 - val_match_outcome_output_accuracy: 0.4843 - val_match_outcome_output_loss: 1.2444\n",
      "Epoch 24/50\n",
      "\u001b[1m200/200\u001b[0m \u001b[32m━━━━━━━━━━━━━━━━━━━━\u001b[0m\u001b[37m\u001b[0m \u001b[1m0s\u001b[0m 911us/step - goal_difference_output_loss: 2.0494 - goal_difference_output_mae: 1.1114 - loss: 2.8422 - match_outcome_output_accuracy: 0.6414 - match_outcome_output_loss: 0.7928 - val_goal_difference_output_loss: 3.5067 - val_goal_difference_output_mae: 1.4671 - val_loss: 4.7857 - val_match_outcome_output_accuracy: 0.4774 - val_match_outcome_output_loss: 1.2797\n",
      "Epoch 25/50\n",
      "\u001b[1m200/200\u001b[0m \u001b[32m━━━━━━━━━━━━━━━━━━━━\u001b[0m\u001b[37m\u001b[0m \u001b[1m0s\u001b[0m 969us/step - goal_difference_output_loss: 2.0108 - goal_difference_output_mae: 1.1032 - loss: 2.7925 - match_outcome_output_accuracy: 0.6486 - match_outcome_output_loss: 0.7817 - val_goal_difference_output_loss: 3.5653 - val_goal_difference_output_mae: 1.4782 - val_loss: 4.8677 - val_match_outcome_output_accuracy: 0.4668 - val_match_outcome_output_loss: 1.3032\n",
      "Epoch 26/50\n",
      "\u001b[1m200/200\u001b[0m \u001b[32m━━━━━━━━━━━━━━━━━━━━\u001b[0m\u001b[37m\u001b[0m \u001b[1m0s\u001b[0m 940us/step - goal_difference_output_loss: 2.0276 - goal_difference_output_mae: 1.1139 - loss: 2.8192 - match_outcome_output_accuracy: 0.6438 - match_outcome_output_loss: 0.7916 - val_goal_difference_output_loss: 3.5955 - val_goal_difference_output_mae: 1.4846 - val_loss: 4.9165 - val_match_outcome_output_accuracy: 0.4718 - val_match_outcome_output_loss: 1.3219\n",
      "Epoch 27/50\n",
      "\u001b[1m200/200\u001b[0m \u001b[32m━━━━━━━━━━━━━━━━━━━━\u001b[0m\u001b[37m\u001b[0m \u001b[1m0s\u001b[0m 874us/step - goal_difference_output_loss: 1.9677 - goal_difference_output_mae: 1.0879 - loss: 2.7347 - match_outcome_output_accuracy: 0.6603 - match_outcome_output_loss: 0.7670 - val_goal_difference_output_loss: 3.6238 - val_goal_difference_output_mae: 1.4924 - val_loss: 4.9609 - val_match_outcome_output_accuracy: 0.4674 - val_match_outcome_output_loss: 1.3383\n",
      "Epoch 28/50\n",
      "\u001b[1m200/200\u001b[0m \u001b[32m━━━━━━━━━━━━━━━━━━━━\u001b[0m\u001b[37m\u001b[0m \u001b[1m0s\u001b[0m 1ms/step - goal_difference_output_loss: 1.9608 - goal_difference_output_mae: 1.0944 - loss: 2.7291 - match_outcome_output_accuracy: 0.6645 - match_outcome_output_loss: 0.7683 - val_goal_difference_output_loss: 3.6507 - val_goal_difference_output_mae: 1.5014 - val_loss: 4.9853 - val_match_outcome_output_accuracy: 0.4706 - val_match_outcome_output_loss: 1.3363\n",
      "Epoch 29/50\n",
      "\u001b[1m200/200\u001b[0m \u001b[32m━━━━━━━━━━━━━━━━━━━━\u001b[0m\u001b[37m\u001b[0m \u001b[1m0s\u001b[0m 915us/step - goal_difference_output_loss: 1.9435 - goal_difference_output_mae: 1.0884 - loss: 2.7096 - match_outcome_output_accuracy: 0.6653 - match_outcome_output_loss: 0.7660 - val_goal_difference_output_loss: 3.7904 - val_goal_difference_output_mae: 1.5250 - val_loss: 5.1611 - val_match_outcome_output_accuracy: 0.4580 - val_match_outcome_output_loss: 1.3733\n",
      "Epoch 30/50\n",
      "\u001b[1m200/200\u001b[0m \u001b[32m━━━━━━━━━━━━━━━━━━━━\u001b[0m\u001b[37m\u001b[0m \u001b[1m0s\u001b[0m 899us/step - goal_difference_output_loss: 1.9275 - goal_difference_output_mae: 1.0800 - loss: 2.6814 - match_outcome_output_accuracy: 0.6632 - match_outcome_output_loss: 0.7539 - val_goal_difference_output_loss: 3.8421 - val_goal_difference_output_mae: 1.5366 - val_loss: 5.2253 - val_match_outcome_output_accuracy: 0.4687 - val_match_outcome_output_loss: 1.3858\n",
      "Epoch 31/50\n",
      "\u001b[1m200/200\u001b[0m \u001b[32m━━━━━━━━━━━━━━━━━━━━\u001b[0m\u001b[37m\u001b[0m \u001b[1m0s\u001b[0m 970us/step - goal_difference_output_loss: 1.9125 - goal_difference_output_mae: 1.0807 - loss: 2.6598 - match_outcome_output_accuracy: 0.6671 - match_outcome_output_loss: 0.7473 - val_goal_difference_output_loss: 3.8248 - val_goal_difference_output_mae: 1.5333 - val_loss: 5.2198 - val_match_outcome_output_accuracy: 0.4624 - val_match_outcome_output_loss: 1.3977\n",
      "Epoch 32/50\n",
      "\u001b[1m200/200\u001b[0m \u001b[32m━━━━━━━━━━━━━━━━━━━━\u001b[0m\u001b[37m\u001b[0m \u001b[1m0s\u001b[0m 850us/step - goal_difference_output_loss: 1.8994 - goal_difference_output_mae: 1.0806 - loss: 2.6434 - match_outcome_output_accuracy: 0.6722 - match_outcome_output_loss: 0.7440 - val_goal_difference_output_loss: 3.9961 - val_goal_difference_output_mae: 1.5588 - val_loss: 5.4677 - val_match_outcome_output_accuracy: 0.4586 - val_match_outcome_output_loss: 1.4754\n",
      "Epoch 33/50\n",
      "\u001b[1m200/200\u001b[0m \u001b[32m━━━━━━━━━━━━━━━━━━━━\u001b[0m\u001b[37m\u001b[0m \u001b[1m0s\u001b[0m 830us/step - goal_difference_output_loss: 1.8443 - goal_difference_output_mae: 1.0628 - loss: 2.5760 - match_outcome_output_accuracy: 0.6691 - match_outcome_output_loss: 0.7317 - val_goal_difference_output_loss: 3.9182 - val_goal_difference_output_mae: 1.5465 - val_loss: 5.3928 - val_match_outcome_output_accuracy: 0.4586 - val_match_outcome_output_loss: 1.4775\n",
      "Epoch 34/50\n",
      "\u001b[1m200/200\u001b[0m \u001b[32m━━━━━━━━━━━━━━━━━━━━\u001b[0m\u001b[37m\u001b[0m \u001b[1m0s\u001b[0m 898us/step - goal_difference_output_loss: 1.9150 - goal_difference_output_mae: 1.0784 - loss: 2.6457 - match_outcome_output_accuracy: 0.6780 - match_outcome_output_loss: 0.7307 - val_goal_difference_output_loss: 3.9588 - val_goal_difference_output_mae: 1.5516 - val_loss: 5.4905 - val_match_outcome_output_accuracy: 0.4605 - val_match_outcome_output_loss: 1.5351\n",
      "Epoch 35/50\n",
      "\u001b[1m200/200\u001b[0m \u001b[32m━━━━━━━━━━━━━━━━━━━━\u001b[0m\u001b[37m\u001b[0m \u001b[1m0s\u001b[0m 816us/step - goal_difference_output_loss: 1.8840 - goal_difference_output_mae: 1.0651 - loss: 2.6127 - match_outcome_output_accuracy: 0.6769 - match_outcome_output_loss: 0.7287 - val_goal_difference_output_loss: 4.1676 - val_goal_difference_output_mae: 1.5907 - val_loss: 5.7707 - val_match_outcome_output_accuracy: 0.4580 - val_match_outcome_output_loss: 1.6068\n",
      "Epoch 36/50\n",
      "\u001b[1m200/200\u001b[0m \u001b[32m━━━━━━━━━━━━━━━━━━━━\u001b[0m\u001b[37m\u001b[0m \u001b[1m0s\u001b[0m 891us/step - goal_difference_output_loss: 1.8727 - goal_difference_output_mae: 1.0651 - loss: 2.5929 - match_outcome_output_accuracy: 0.6827 - match_outcome_output_loss: 0.7201 - val_goal_difference_output_loss: 4.2355 - val_goal_difference_output_mae: 1.5921 - val_loss: 5.8355 - val_match_outcome_output_accuracy: 0.4599 - val_match_outcome_output_loss: 1.6050\n",
      "Epoch 37/50\n",
      "\u001b[1m200/200\u001b[0m \u001b[32m━━━━━━━━━━━━━━━━━━━━\u001b[0m\u001b[37m\u001b[0m \u001b[1m0s\u001b[0m 841us/step - goal_difference_output_loss: 1.8417 - goal_difference_output_mae: 1.0615 - loss: 2.5607 - match_outcome_output_accuracy: 0.6759 - match_outcome_output_loss: 0.7190 - val_goal_difference_output_loss: 4.1586 - val_goal_difference_output_mae: 1.5885 - val_loss: 5.7910 - val_match_outcome_output_accuracy: 0.4486 - val_match_outcome_output_loss: 1.6367\n",
      "Epoch 38/50\n",
      "\u001b[1m200/200\u001b[0m \u001b[32m━━━━━━━━━━━━━━━━━━━━\u001b[0m\u001b[37m\u001b[0m \u001b[1m0s\u001b[0m 890us/step - goal_difference_output_loss: 1.8257 - goal_difference_output_mae: 1.0467 - loss: 2.5355 - match_outcome_output_accuracy: 0.6852 - match_outcome_output_loss: 0.7097 - val_goal_difference_output_loss: 4.2755 - val_goal_difference_output_mae: 1.6054 - val_loss: 5.9425 - val_match_outcome_output_accuracy: 0.4430 - val_match_outcome_output_loss: 1.6711\n",
      "Epoch 39/50\n",
      "\u001b[1m200/200\u001b[0m \u001b[32m━━━━━━━━━━━━━━━━━━━━\u001b[0m\u001b[37m\u001b[0m \u001b[1m0s\u001b[0m 880us/step - goal_difference_output_loss: 1.7763 - goal_difference_output_mae: 1.0375 - loss: 2.4731 - match_outcome_output_accuracy: 0.7039 - match_outcome_output_loss: 0.6968 - val_goal_difference_output_loss: 4.3349 - val_goal_difference_output_mae: 1.6141 - val_loss: 6.0400 - val_match_outcome_output_accuracy: 0.4492 - val_match_outcome_output_loss: 1.7096\n",
      "Epoch 40/50\n",
      "\u001b[1m200/200\u001b[0m \u001b[32m━━━━━━━━━━━━━━━━━━━━\u001b[0m\u001b[37m\u001b[0m \u001b[1m0s\u001b[0m 840us/step - goal_difference_output_loss: 1.7685 - goal_difference_output_mae: 1.0343 - loss: 2.4695 - match_outcome_output_accuracy: 0.6974 - match_outcome_output_loss: 0.7010 - val_goal_difference_output_loss: 4.4238 - val_goal_difference_output_mae: 1.6267 - val_loss: 6.1523 - val_match_outcome_output_accuracy: 0.4536 - val_match_outcome_output_loss: 1.7335\n",
      "Epoch 41/50\n",
      "\u001b[1m200/200\u001b[0m \u001b[32m━━━━━━━━━━━━━━━━━━━━\u001b[0m\u001b[37m\u001b[0m \u001b[1m0s\u001b[0m 880us/step - goal_difference_output_loss: 1.7825 - goal_difference_output_mae: 1.0435 - loss: 2.4713 - match_outcome_output_accuracy: 0.6953 - match_outcome_output_loss: 0.6888 - val_goal_difference_output_loss: 4.5040 - val_goal_difference_output_mae: 1.6327 - val_loss: 6.2482 - val_match_outcome_output_accuracy: 0.4417 - val_match_outcome_output_loss: 1.7499\n",
      "Epoch 42/50\n",
      "\u001b[1m200/200\u001b[0m \u001b[32m━━━━━━━━━━━━━━━━━━━━\u001b[0m\u001b[37m\u001b[0m \u001b[1m0s\u001b[0m 853us/step - goal_difference_output_loss: 1.7974 - goal_difference_output_mae: 1.0436 - loss: 2.5013 - match_outcome_output_accuracy: 0.6870 - match_outcome_output_loss: 0.7039 - val_goal_difference_output_loss: 4.6812 - val_goal_difference_output_mae: 1.6577 - val_loss: 6.4394 - val_match_outcome_output_accuracy: 0.4474 - val_match_outcome_output_loss: 1.7652\n",
      "Epoch 43/50\n",
      "\u001b[1m200/200\u001b[0m \u001b[32m━━━━━━━━━━━━━━━━━━━━\u001b[0m\u001b[37m\u001b[0m \u001b[1m0s\u001b[0m 971us/step - goal_difference_output_loss: 1.8070 - goal_difference_output_mae: 1.0470 - loss: 2.4987 - match_outcome_output_accuracy: 0.6848 - match_outcome_output_loss: 0.6917 - val_goal_difference_output_loss: 4.7059 - val_goal_difference_output_mae: 1.6636 - val_loss: 6.5114 - val_match_outcome_output_accuracy: 0.4536 - val_match_outcome_output_loss: 1.8116\n",
      "Epoch 44/50\n",
      "\u001b[1m200/200\u001b[0m \u001b[32m━━━━━━━━━━━━━━━━━━━━\u001b[0m\u001b[37m\u001b[0m \u001b[1m0s\u001b[0m 881us/step - goal_difference_output_loss: 1.8015 - goal_difference_output_mae: 1.0399 - loss: 2.4854 - match_outcome_output_accuracy: 0.6994 - match_outcome_output_loss: 0.6839 - val_goal_difference_output_loss: 4.8842 - val_goal_difference_output_mae: 1.6899 - val_loss: 6.7559 - val_match_outcome_output_accuracy: 0.4449 - val_match_outcome_output_loss: 1.8788\n",
      "Epoch 45/50\n",
      "\u001b[1m200/200\u001b[0m \u001b[32m━━━━━━━━━━━━━━━━━━━━\u001b[0m\u001b[37m\u001b[0m \u001b[1m0s\u001b[0m 825us/step - goal_difference_output_loss: 1.7192 - goal_difference_output_mae: 1.0279 - loss: 2.3989 - match_outcome_output_accuracy: 0.6973 - match_outcome_output_loss: 0.6797 - val_goal_difference_output_loss: 4.6768 - val_goal_difference_output_mae: 1.6643 - val_loss: 6.5267 - val_match_outcome_output_accuracy: 0.4467 - val_match_outcome_output_loss: 1.8555\n",
      "Epoch 46/50\n",
      "\u001b[1m200/200\u001b[0m \u001b[32m━━━━━━━━━━━━━━━━━━━━\u001b[0m\u001b[37m\u001b[0m \u001b[1m0s\u001b[0m 904us/step - goal_difference_output_loss: 1.7015 - goal_difference_output_mae: 1.0122 - loss: 2.3787 - match_outcome_output_accuracy: 0.7028 - match_outcome_output_loss: 0.6771 - val_goal_difference_output_loss: 4.7842 - val_goal_difference_output_mae: 1.6794 - val_loss: 6.7457 - val_match_outcome_output_accuracy: 0.4524 - val_match_outcome_output_loss: 1.9688\n",
      "Epoch 47/50\n",
      "\u001b[1m200/200\u001b[0m \u001b[32m━━━━━━━━━━━━━━━━━━━━\u001b[0m\u001b[37m\u001b[0m \u001b[1m0s\u001b[0m 872us/step - goal_difference_output_loss: 1.7328 - goal_difference_output_mae: 1.0312 - loss: 2.4012 - match_outcome_output_accuracy: 0.7061 - match_outcome_output_loss: 0.6684 - val_goal_difference_output_loss: 5.0622 - val_goal_difference_output_mae: 1.7128 - val_loss: 7.1155 - val_match_outcome_output_accuracy: 0.4311 - val_match_outcome_output_loss: 2.0616\n",
      "Epoch 48/50\n",
      "\u001b[1m200/200\u001b[0m \u001b[32m━━━━━━━━━━━━━━━━━━━━\u001b[0m\u001b[37m\u001b[0m \u001b[1m0s\u001b[0m 828us/step - goal_difference_output_loss: 1.7140 - goal_difference_output_mae: 1.0241 - loss: 2.3812 - match_outcome_output_accuracy: 0.7130 - match_outcome_output_loss: 0.6672 - val_goal_difference_output_loss: 4.9757 - val_goal_difference_output_mae: 1.7023 - val_loss: 7.0103 - val_match_outcome_output_accuracy: 0.4480 - val_match_outcome_output_loss: 2.0423\n",
      "Epoch 49/50\n",
      "\u001b[1m200/200\u001b[0m \u001b[32m━━━━━━━━━━━━━━━━━━━━\u001b[0m\u001b[37m\u001b[0m \u001b[1m0s\u001b[0m 816us/step - goal_difference_output_loss: 1.6838 - goal_difference_output_mae: 1.0112 - loss: 2.3425 - match_outcome_output_accuracy: 0.7067 - match_outcome_output_loss: 0.6587 - val_goal_difference_output_loss: 4.9403 - val_goal_difference_output_mae: 1.6991 - val_loss: 6.9782 - val_match_outcome_output_accuracy: 0.4424 - val_match_outcome_output_loss: 2.0443\n",
      "Epoch 50/50\n",
      "\u001b[1m200/200\u001b[0m \u001b[32m━━━━━━━━━━━━━━━━━━━━\u001b[0m\u001b[37m\u001b[0m \u001b[1m0s\u001b[0m 834us/step - goal_difference_output_loss: 1.6962 - goal_difference_output_mae: 1.0226 - loss: 2.3616 - match_outcome_output_accuracy: 0.7027 - match_outcome_output_loss: 0.6654 - val_goal_difference_output_loss: 5.1876 - val_goal_difference_output_mae: 1.7209 - val_loss: 7.2717 - val_match_outcome_output_accuracy: 0.4305 - val_match_outcome_output_loss: 2.0925\n"
     ]
    }
   ],
   "source": [
    "history = hybrid_model.fit(\n",
    "    X_train,\n",
    "    {\"goal_difference_output\": y_train_gd, \"match_outcome_output\": y_train.map({-1: 0, 0: 1, 1: 2})},\n",
    "    validation_split=0.2,\n",
    "    epochs=50,\n",
    "    batch_size=32,\n",
    "    verbose=1\n",
    ")"
   ]
  },
  {
   "cell_type": "code",
   "execution_count": 24,
   "metadata": {},
   "outputs": [
    {
     "name": "stdout",
     "output_type": "stream",
     "text": [
      "\u001b[1m12/12\u001b[0m \u001b[32m━━━━━━━━━━━━━━━━━━━━\u001b[0m\u001b[37m\u001b[0m \u001b[1m0s\u001b[0m 2ms/step \n"
     ]
    }
   ],
   "source": [
    "y_pred_gd, y_pred_cls = hybrid_model.predict(X_test)\n",
    "\n",
    "mapped_predictions_gd = map_result(y_pred_gd.flatten())\n",
    "mapped_predictions_cls = y_pred_cls.argmax(axis=1) - 1"
   ]
  },
  {
   "cell_type": "code",
   "execution_count": 25,
   "metadata": {},
   "outputs": [
    {
     "name": "stdout",
     "output_type": "stream",
     "text": [
      "Regression predictions:\n",
      "The accuracy of the model is 48.16%\n",
      "The accuracy of the model is 183 out of 380 games.\n",
      "\n",
      "With this model, the expected return on value would be 5872.70€\n"
     ]
    }
   ],
   "source": [
    "regr_accuracy, regr_won = data_aggregator.calculate_accuracy(regr_df, target, \"PredictedOutcome\")\n",
    "print(\"Regression predictions:\")\n",
    "print(f\"\"\"The accuracy of the model is {regr_accuracy:.2%}\n",
    "The accuracy of the model is {regr_accuracy*len(regr_df):.0f} out of {len(regr_df)} games.\n",
    "\"\"\")\n",
    "print(f\"With this model, the expected return on value would be {regr_won:.2f}€\")"
   ]
  },
  {
   "cell_type": "code",
   "execution_count": 26,
   "metadata": {},
   "outputs": [
    {
     "name": "stdout",
     "output_type": "stream",
     "text": [
      "Classification predictions:\n",
      "The accuracy of the model is 53.16%\n",
      "The accuracy of the model is 202 out of 380 games.\n",
      "\n",
      "With this model, the expected return on value would be 7289.50€\n"
     ]
    }
   ],
   "source": [
    "cls_accuracy, cls_won = data_aggregator.calculate_accuracy(cls_df, target, \"PredictedOutcome\")\n",
    "print(\"Classification predictions:\")\n",
    "print(f\"\"\"The accuracy of the model is {cls_accuracy:.2%}\n",
    "The accuracy of the model is {cls_accuracy*len(cls_df):.0f} out of {len(cls_df)} games.\n",
    "\"\"\")\n",
    "print(f\"With this model, the expected return on value would be {cls_won:.2f}€\")"
   ]
  },
  {
   "cell_type": "markdown",
   "metadata": {},
   "source": [
    "Well, as we can see from the output above, the model actually just ignores the predicted goal difference feature. Meaning that the dataset itself is good enough to predict the matches with approx 62% accuracy. In order to achieve better result, we should append more features, and maybe include more form data such as 3 game form, 5 game form, 10 game form, the form against a similar opponent previous..."
   ]
  },
  {
   "cell_type": "code",
   "execution_count": 27,
   "metadata": {},
   "outputs": [],
   "source": [
    "data_aggregator.save_metrics(\"nn_cls\", cls_accuracy, cls_won)\n",
    "data_aggregator.save_metrics(\"nn_regr\", regr_accuracy, regr_won)"
   ]
  }
 ],
 "metadata": {
  "kernelspec": {
   "display_name": "venv",
   "language": "python",
   "name": "python3"
  },
  "language_info": {
   "codemirror_mode": {
    "name": "ipython",
    "version": 3
   },
   "file_extension": ".py",
   "mimetype": "text/x-python",
   "name": "python",
   "nbconvert_exporter": "python",
   "pygments_lexer": "ipython3",
   "version": "3.12.2"
  }
 },
 "nbformat": 4,
 "nbformat_minor": 2
}
