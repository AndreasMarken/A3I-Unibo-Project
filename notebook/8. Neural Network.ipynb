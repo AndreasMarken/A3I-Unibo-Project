{
 "cells": [
  {
   "cell_type": "code",
   "execution_count": 63,
   "metadata": {},
   "outputs": [
    {
     "name": "stdout",
     "output_type": "stream",
     "text": [
      "The autoreload extension is already loaded. To reload it, use:\n",
      "  %reload_ext autoreload\n"
     ]
    }
   ],
   "source": [
    "# ============================================================\n",
    "# Notebook setup\n",
    "# ============================================================\n",
    "\n",
    "%load_ext autoreload\n",
    "%autoreload 2\n",
    "\n",
    "figsize=(14, 4)\n",
    "\n",
    "random_state = 42   \n",
    "\n",
    "from utils.data_visualizator import plot_confusion_matrix\n",
    "\n",
    "from utils import DataAggregator\n",
    "\n",
    "import tensorflow as tf\n",
    "import tensorflow.keras as keras\n",
    "from keras.models import Sequential, Model\n",
    "from keras.layers import Dense, Dropout, Input, Concatenate\n",
    "from keras.optimizers import Adam\n",
    "from tensorflow.keras.utils import to_categorical\n",
    "from tensorflow.keras.losses import MeanSquaredError, SparseCategoricalCrossentropy\n",
    "\n",
    "from sklearn.preprocessing import StandardScaler\n",
    "\n",
    "import pandas as pd"
   ]
  },
  {
   "cell_type": "code",
   "execution_count": 33,
   "metadata": {},
   "outputs": [],
   "source": [
    "data_aggregator = DataAggregator()"
   ]
  },
  {
   "cell_type": "code",
   "execution_count": 34,
   "metadata": {},
   "outputs": [],
   "source": [
    "df = data_aggregator.get_data([\"E0\"])\n",
    "df = data_aggregator.format_date(df, \"Date\")\n",
    "df = data_aggregator.encode_result(df,\n",
    "                        mapping={\"H\": 1, \"D\": 0, \"A\": -1}, \n",
    "                        result_column=\"FTR\")\n",
    "df = data_aggregator.create_form_data(df, form_window=5)\n",
    "df.drop(columns=[\"Div\", \"FTHG\", \"FTAG\", \"HTHG\", \"HTAG\", \"HTR\", \"Referee\", \"HS\", \"AS\", \"HST\", \"AST\", \"HF\", \"AF\", \"HC\",\"AC\",\"HY\",\"AY\",\"HR\",\"AR\"], inplace=True)\n",
    "df = data_aggregator.one_hot_encode_teams(df, \"HomeTeam\", \"AwayTeam\")"
   ]
  },
  {
   "cell_type": "code",
   "execution_count": 35,
   "metadata": {},
   "outputs": [],
   "source": [
    "target = \"FTR\"\n",
    "\n",
    "df_train = df[df[\"Date\"] < \"2023-07-01\"]\n",
    "df_test = df[df[\"Date\"] >= \"2023-07-01\"]\n",
    "df_test = df_test[df_test[\"Date\"] < \"2024-07-01\"]\n",
    "\n",
    "X_train = df_train.drop(columns=[target, \"Date\", \"FTR\"])\n",
    "y_train = df_train[target]\n",
    "X_test = df_test.drop(columns=[target, \"Date\", \"FTR\"])\n",
    "y_test = df_test[target]"
   ]
  },
  {
   "cell_type": "code",
   "execution_count": 36,
   "metadata": {},
   "outputs": [],
   "source": [
    "scaler = StandardScaler()\n",
    "\n",
    "X_train = scaler.fit_transform(X_train)\n",
    "X_test = scaler.transform(X_test)\n",
    "input_dim = X_train.shape[1]"
   ]
  },
  {
   "cell_type": "markdown",
   "metadata": {},
   "source": [
    "## Classifier\n",
    "First of all, we start by creating a neural network that will act as a classifier. We will use it to classify the matches into categorical \"Win\", \"Draw\" and \"Loss\"."
   ]
  },
  {
   "cell_type": "code",
   "execution_count": 80,
   "metadata": {},
   "outputs": [],
   "source": [
    "def create_classifier(input_dim):\n",
    "    model = Sequential([\n",
    "        Dense(64, activation='relu', input_dim=input_dim),\n",
    "        Dropout(0.2),\n",
    "        Dense(32, activation='relu'),\n",
    "        Dropout(0.2),\n",
    "        Dense(3, activation='softmax')\n",
    "    ])\n",
    "    model.compile(optimizer=Adam(learning_rate=0.001), loss='categorical_crossentropy', metrics=['accuracy'])\n",
    "    return model"
   ]
  },
  {
   "cell_type": "code",
   "execution_count": 81,
   "metadata": {},
   "outputs": [],
   "source": [
    "y_train_cls = to_categorical(y_train.map({-1: 0, 0: 1, 1: 2}))  # Map to [0, 1, 2] classes\n",
    "y_test_cls = to_categorical(y_test.map({-1: 0, 0: 1, 1: 2}))"
   ]
  },
  {
   "cell_type": "code",
   "execution_count": 82,
   "metadata": {},
   "outputs": [
    {
     "name": "stderr",
     "output_type": "stream",
     "text": [
      "/Users/andreasmarken/Desktop/Unibo/AI in Industry/project/venv/lib/python3.12/site-packages/keras/src/layers/core/dense.py:87: UserWarning: Do not pass an `input_shape`/`input_dim` argument to a layer. When using Sequential models, prefer using an `Input(shape)` object as the first layer in the model instead.\n",
      "  super().__init__(activity_regularizer=activity_regularizer, **kwargs)\n"
     ]
    },
    {
     "data": {
      "text/html": [
       "<pre style=\"white-space:pre;overflow-x:auto;line-height:normal;font-family:Menlo,'DejaVu Sans Mono',consolas,'Courier New',monospace\"><span style=\"font-weight: bold\">Model: \"sequential_10\"</span>\n",
       "</pre>\n"
      ],
      "text/plain": [
       "\u001b[1mModel: \"sequential_10\"\u001b[0m\n"
      ]
     },
     "metadata": {},
     "output_type": "display_data"
    },
    {
     "data": {
      "text/html": [
       "<pre style=\"white-space:pre;overflow-x:auto;line-height:normal;font-family:Menlo,'DejaVu Sans Mono',consolas,'Courier New',monospace\">┏━━━━━━━━━━━━━━━━━━━━━━━━━━━━━━━━━┳━━━━━━━━━━━━━━━━━━━━━━━━┳━━━━━━━━━━━━━━━┓\n",
       "┃<span style=\"font-weight: bold\"> Layer (type)                    </span>┃<span style=\"font-weight: bold\"> Output Shape           </span>┃<span style=\"font-weight: bold\">       Param # </span>┃\n",
       "┡━━━━━━━━━━━━━━━━━━━━━━━━━━━━━━━━━╇━━━━━━━━━━━━━━━━━━━━━━━━╇━━━━━━━━━━━━━━━┩\n",
       "│ dense_31 (<span style=\"color: #0087ff; text-decoration-color: #0087ff\">Dense</span>)                │ (<span style=\"color: #00d7ff; text-decoration-color: #00d7ff\">None</span>, <span style=\"color: #00af00; text-decoration-color: #00af00\">64</span>)             │         <span style=\"color: #00af00; text-decoration-color: #00af00\">6,528</span> │\n",
       "├─────────────────────────────────┼────────────────────────┼───────────────┤\n",
       "│ dropout_25 (<span style=\"color: #0087ff; text-decoration-color: #0087ff\">Dropout</span>)            │ (<span style=\"color: #00d7ff; text-decoration-color: #00d7ff\">None</span>, <span style=\"color: #00af00; text-decoration-color: #00af00\">64</span>)             │             <span style=\"color: #00af00; text-decoration-color: #00af00\">0</span> │\n",
       "├─────────────────────────────────┼────────────────────────┼───────────────┤\n",
       "│ dense_32 (<span style=\"color: #0087ff; text-decoration-color: #0087ff\">Dense</span>)                │ (<span style=\"color: #00d7ff; text-decoration-color: #00d7ff\">None</span>, <span style=\"color: #00af00; text-decoration-color: #00af00\">32</span>)             │         <span style=\"color: #00af00; text-decoration-color: #00af00\">2,080</span> │\n",
       "├─────────────────────────────────┼────────────────────────┼───────────────┤\n",
       "│ dropout_26 (<span style=\"color: #0087ff; text-decoration-color: #0087ff\">Dropout</span>)            │ (<span style=\"color: #00d7ff; text-decoration-color: #00d7ff\">None</span>, <span style=\"color: #00af00; text-decoration-color: #00af00\">32</span>)             │             <span style=\"color: #00af00; text-decoration-color: #00af00\">0</span> │\n",
       "├─────────────────────────────────┼────────────────────────┼───────────────┤\n",
       "│ dense_33 (<span style=\"color: #0087ff; text-decoration-color: #0087ff\">Dense</span>)                │ (<span style=\"color: #00d7ff; text-decoration-color: #00d7ff\">None</span>, <span style=\"color: #00af00; text-decoration-color: #00af00\">3</span>)              │            <span style=\"color: #00af00; text-decoration-color: #00af00\">99</span> │\n",
       "└─────────────────────────────────┴────────────────────────┴───────────────┘\n",
       "</pre>\n"
      ],
      "text/plain": [
       "┏━━━━━━━━━━━━━━━━━━━━━━━━━━━━━━━━━┳━━━━━━━━━━━━━━━━━━━━━━━━┳━━━━━━━━━━━━━━━┓\n",
       "┃\u001b[1m \u001b[0m\u001b[1mLayer (type)                   \u001b[0m\u001b[1m \u001b[0m┃\u001b[1m \u001b[0m\u001b[1mOutput Shape          \u001b[0m\u001b[1m \u001b[0m┃\u001b[1m \u001b[0m\u001b[1m      Param #\u001b[0m\u001b[1m \u001b[0m┃\n",
       "┡━━━━━━━━━━━━━━━━━━━━━━━━━━━━━━━━━╇━━━━━━━━━━━━━━━━━━━━━━━━╇━━━━━━━━━━━━━━━┩\n",
       "│ dense_31 (\u001b[38;5;33mDense\u001b[0m)                │ (\u001b[38;5;45mNone\u001b[0m, \u001b[38;5;34m64\u001b[0m)             │         \u001b[38;5;34m6,528\u001b[0m │\n",
       "├─────────────────────────────────┼────────────────────────┼───────────────┤\n",
       "│ dropout_25 (\u001b[38;5;33mDropout\u001b[0m)            │ (\u001b[38;5;45mNone\u001b[0m, \u001b[38;5;34m64\u001b[0m)             │             \u001b[38;5;34m0\u001b[0m │\n",
       "├─────────────────────────────────┼────────────────────────┼───────────────┤\n",
       "│ dense_32 (\u001b[38;5;33mDense\u001b[0m)                │ (\u001b[38;5;45mNone\u001b[0m, \u001b[38;5;34m32\u001b[0m)             │         \u001b[38;5;34m2,080\u001b[0m │\n",
       "├─────────────────────────────────┼────────────────────────┼───────────────┤\n",
       "│ dropout_26 (\u001b[38;5;33mDropout\u001b[0m)            │ (\u001b[38;5;45mNone\u001b[0m, \u001b[38;5;34m32\u001b[0m)             │             \u001b[38;5;34m0\u001b[0m │\n",
       "├─────────────────────────────────┼────────────────────────┼───────────────┤\n",
       "│ dense_33 (\u001b[38;5;33mDense\u001b[0m)                │ (\u001b[38;5;45mNone\u001b[0m, \u001b[38;5;34m3\u001b[0m)              │            \u001b[38;5;34m99\u001b[0m │\n",
       "└─────────────────────────────────┴────────────────────────┴───────────────┘\n"
      ]
     },
     "metadata": {},
     "output_type": "display_data"
    },
    {
     "data": {
      "text/html": [
       "<pre style=\"white-space:pre;overflow-x:auto;line-height:normal;font-family:Menlo,'DejaVu Sans Mono',consolas,'Courier New',monospace\"><span style=\"font-weight: bold\"> Total params: </span><span style=\"color: #00af00; text-decoration-color: #00af00\">8,707</span> (34.01 KB)\n",
       "</pre>\n"
      ],
      "text/plain": [
       "\u001b[1m Total params: \u001b[0m\u001b[38;5;34m8,707\u001b[0m (34.01 KB)\n"
      ]
     },
     "metadata": {},
     "output_type": "display_data"
    },
    {
     "data": {
      "text/html": [
       "<pre style=\"white-space:pre;overflow-x:auto;line-height:normal;font-family:Menlo,'DejaVu Sans Mono',consolas,'Courier New',monospace\"><span style=\"font-weight: bold\"> Trainable params: </span><span style=\"color: #00af00; text-decoration-color: #00af00\">8,707</span> (34.01 KB)\n",
       "</pre>\n"
      ],
      "text/plain": [
       "\u001b[1m Trainable params: \u001b[0m\u001b[38;5;34m8,707\u001b[0m (34.01 KB)\n"
      ]
     },
     "metadata": {},
     "output_type": "display_data"
    },
    {
     "data": {
      "text/html": [
       "<pre style=\"white-space:pre;overflow-x:auto;line-height:normal;font-family:Menlo,'DejaVu Sans Mono',consolas,'Courier New',monospace\"><span style=\"font-weight: bold\"> Non-trainable params: </span><span style=\"color: #00af00; text-decoration-color: #00af00\">0</span> (0.00 B)\n",
       "</pre>\n"
      ],
      "text/plain": [
       "\u001b[1m Non-trainable params: \u001b[0m\u001b[38;5;34m0\u001b[0m (0.00 B)\n"
      ]
     },
     "metadata": {},
     "output_type": "display_data"
    },
    {
     "name": "stdout",
     "output_type": "stream",
     "text": [
      "None\n"
     ]
    }
   ],
   "source": [
    "classifier = create_classifier(input_dim)\n",
    "print(classifier.summary())"
   ]
  },
  {
   "cell_type": "code",
   "execution_count": 83,
   "metadata": {},
   "outputs": [
    {
     "name": "stdout",
     "output_type": "stream",
     "text": [
      "Epoch 1/50\n",
      "\u001b[1m200/200\u001b[0m \u001b[32m━━━━━━━━━━━━━━━━━━━━\u001b[0m\u001b[37m\u001b[0m \u001b[1m1s\u001b[0m 1ms/step - accuracy: 0.4506 - loss: 1.1267 - val_accuracy: 0.5495 - val_loss: 0.9680\n",
      "Epoch 2/50\n",
      "\u001b[1m200/200\u001b[0m \u001b[32m━━━━━━━━━━━━━━━━━━━━\u001b[0m\u001b[37m\u001b[0m \u001b[1m0s\u001b[0m 681us/step - accuracy: 0.5185 - loss: 0.9803 - val_accuracy: 0.5714 - val_loss: 0.9376\n",
      "Epoch 3/50\n",
      "\u001b[1m200/200\u001b[0m \u001b[32m━━━━━━━━━━━━━━━━━━━━\u001b[0m\u001b[37m\u001b[0m \u001b[1m0s\u001b[0m 667us/step - accuracy: 0.5651 - loss: 0.9283 - val_accuracy: 0.5783 - val_loss: 0.9248\n",
      "Epoch 4/50\n",
      "\u001b[1m200/200\u001b[0m \u001b[32m━━━━━━━━━━━━━━━━━━━━\u001b[0m\u001b[37m\u001b[0m \u001b[1m0s\u001b[0m 664us/step - accuracy: 0.5744 - loss: 0.9087 - val_accuracy: 0.5783 - val_loss: 0.9213\n",
      "Epoch 5/50\n",
      "\u001b[1m200/200\u001b[0m \u001b[32m━━━━━━━━━━━━━━━━━━━━\u001b[0m\u001b[37m\u001b[0m \u001b[1m0s\u001b[0m 658us/step - accuracy: 0.5908 - loss: 0.8871 - val_accuracy: 0.5771 - val_loss: 0.9235\n",
      "Epoch 6/50\n",
      "\u001b[1m200/200\u001b[0m \u001b[32m━━━━━━━━━━━━━━━━━━━━\u001b[0m\u001b[37m\u001b[0m \u001b[1m0s\u001b[0m 655us/step - accuracy: 0.5880 - loss: 0.8910 - val_accuracy: 0.5808 - val_loss: 0.9199\n",
      "Epoch 7/50\n",
      "\u001b[1m200/200\u001b[0m \u001b[32m━━━━━━━━━━━━━━━━━━━━\u001b[0m\u001b[37m\u001b[0m \u001b[1m0s\u001b[0m 658us/step - accuracy: 0.5980 - loss: 0.8738 - val_accuracy: 0.5771 - val_loss: 0.9198\n",
      "Epoch 8/50\n",
      "\u001b[1m200/200\u001b[0m \u001b[32m━━━━━━━━━━━━━━━━━━━━\u001b[0m\u001b[37m\u001b[0m \u001b[1m0s\u001b[0m 666us/step - accuracy: 0.6101 - loss: 0.8605 - val_accuracy: 0.5733 - val_loss: 0.9205\n",
      "Epoch 9/50\n",
      "\u001b[1m200/200\u001b[0m \u001b[32m━━━━━━━━━━━━━━━━━━━━\u001b[0m\u001b[37m\u001b[0m \u001b[1m0s\u001b[0m 651us/step - accuracy: 0.6055 - loss: 0.8553 - val_accuracy: 0.5764 - val_loss: 0.9249\n",
      "Epoch 10/50\n",
      "\u001b[1m200/200\u001b[0m \u001b[32m━━━━━━━━━━━━━━━━━━━━\u001b[0m\u001b[37m\u001b[0m \u001b[1m0s\u001b[0m 692us/step - accuracy: 0.6064 - loss: 0.8583 - val_accuracy: 0.5714 - val_loss: 0.9242\n",
      "Epoch 11/50\n",
      "\u001b[1m200/200\u001b[0m \u001b[32m━━━━━━━━━━━━━━━━━━━━\u001b[0m\u001b[37m\u001b[0m \u001b[1m0s\u001b[0m 667us/step - accuracy: 0.6181 - loss: 0.8445 - val_accuracy: 0.5670 - val_loss: 0.9297\n",
      "Epoch 12/50\n",
      "\u001b[1m200/200\u001b[0m \u001b[32m━━━━━━━━━━━━━━━━━━━━\u001b[0m\u001b[37m\u001b[0m \u001b[1m0s\u001b[0m 709us/step - accuracy: 0.6268 - loss: 0.8310 - val_accuracy: 0.5733 - val_loss: 0.9339\n",
      "Epoch 13/50\n",
      "\u001b[1m200/200\u001b[0m \u001b[32m━━━━━━━━━━━━━━━━━━━━\u001b[0m\u001b[37m\u001b[0m \u001b[1m0s\u001b[0m 754us/step - accuracy: 0.6252 - loss: 0.8281 - val_accuracy: 0.5714 - val_loss: 0.9442\n",
      "Epoch 14/50\n",
      "\u001b[1m200/200\u001b[0m \u001b[32m━━━━━━━━━━━━━━━━━━━━\u001b[0m\u001b[37m\u001b[0m \u001b[1m0s\u001b[0m 770us/step - accuracy: 0.6217 - loss: 0.8265 - val_accuracy: 0.5721 - val_loss: 0.9374\n",
      "Epoch 15/50\n",
      "\u001b[1m200/200\u001b[0m \u001b[32m━━━━━━━━━━━━━━━━━━━━\u001b[0m\u001b[37m\u001b[0m \u001b[1m0s\u001b[0m 670us/step - accuracy: 0.6261 - loss: 0.8264 - val_accuracy: 0.5702 - val_loss: 0.9519\n",
      "Epoch 16/50\n",
      "\u001b[1m200/200\u001b[0m \u001b[32m━━━━━━━━━━━━━━━━━━━━\u001b[0m\u001b[37m\u001b[0m \u001b[1m0s\u001b[0m 662us/step - accuracy: 0.6302 - loss: 0.8113 - val_accuracy: 0.5721 - val_loss: 0.9461\n",
      "Epoch 17/50\n",
      "\u001b[1m200/200\u001b[0m \u001b[32m━━━━━━━━━━━━━━━━━━━━\u001b[0m\u001b[37m\u001b[0m \u001b[1m0s\u001b[0m 746us/step - accuracy: 0.6225 - loss: 0.8105 - val_accuracy: 0.5689 - val_loss: 0.9563\n",
      "Epoch 18/50\n",
      "\u001b[1m200/200\u001b[0m \u001b[32m━━━━━━━━━━━━━━━━━━━━\u001b[0m\u001b[37m\u001b[0m \u001b[1m0s\u001b[0m 742us/step - accuracy: 0.6474 - loss: 0.7904 - val_accuracy: 0.5764 - val_loss: 0.9527\n",
      "Epoch 19/50\n",
      "\u001b[1m200/200\u001b[0m \u001b[32m━━━━━━━━━━━━━━━━━━━━\u001b[0m\u001b[37m\u001b[0m \u001b[1m0s\u001b[0m 728us/step - accuracy: 0.6250 - loss: 0.8082 - val_accuracy: 0.5746 - val_loss: 0.9534\n",
      "Epoch 20/50\n",
      "\u001b[1m200/200\u001b[0m \u001b[32m━━━━━━━━━━━━━━━━━━━━\u001b[0m\u001b[37m\u001b[0m \u001b[1m0s\u001b[0m 731us/step - accuracy: 0.6312 - loss: 0.8049 - val_accuracy: 0.5727 - val_loss: 0.9606\n",
      "Epoch 21/50\n",
      "\u001b[1m200/200\u001b[0m \u001b[32m━━━━━━━━━━━━━━━━━━━━\u001b[0m\u001b[37m\u001b[0m \u001b[1m0s\u001b[0m 757us/step - accuracy: 0.6466 - loss: 0.7858 - val_accuracy: 0.5658 - val_loss: 0.9671\n",
      "Epoch 22/50\n",
      "\u001b[1m200/200\u001b[0m \u001b[32m━━━━━━━━━━━━━━━━━━━━\u001b[0m\u001b[37m\u001b[0m \u001b[1m0s\u001b[0m 812us/step - accuracy: 0.6384 - loss: 0.7806 - val_accuracy: 0.5614 - val_loss: 0.9851\n",
      "Epoch 23/50\n",
      "\u001b[1m200/200\u001b[0m \u001b[32m━━━━━━━━━━━━━━━━━━━━\u001b[0m\u001b[37m\u001b[0m \u001b[1m0s\u001b[0m 1ms/step - accuracy: 0.6394 - loss: 0.7869 - val_accuracy: 0.5645 - val_loss: 0.9796\n",
      "Epoch 24/50\n",
      "\u001b[1m200/200\u001b[0m \u001b[32m━━━━━━━━━━━━━━━━━━━━\u001b[0m\u001b[37m\u001b[0m \u001b[1m0s\u001b[0m 716us/step - accuracy: 0.6503 - loss: 0.7763 - val_accuracy: 0.5652 - val_loss: 0.9861\n",
      "Epoch 25/50\n",
      "\u001b[1m200/200\u001b[0m \u001b[32m━━━━━━━━━━━━━━━━━━━━\u001b[0m\u001b[37m\u001b[0m \u001b[1m0s\u001b[0m 703us/step - accuracy: 0.6392 - loss: 0.7796 - val_accuracy: 0.5514 - val_loss: 0.9884\n",
      "Epoch 26/50\n",
      "\u001b[1m200/200\u001b[0m \u001b[32m━━━━━━━━━━━━━━━━━━━━\u001b[0m\u001b[37m\u001b[0m \u001b[1m0s\u001b[0m 709us/step - accuracy: 0.6480 - loss: 0.7695 - val_accuracy: 0.5627 - val_loss: 0.9908\n",
      "Epoch 27/50\n",
      "\u001b[1m200/200\u001b[0m \u001b[32m━━━━━━━━━━━━━━━━━━━━\u001b[0m\u001b[37m\u001b[0m \u001b[1m0s\u001b[0m 761us/step - accuracy: 0.6421 - loss: 0.7710 - val_accuracy: 0.5658 - val_loss: 0.9840\n",
      "Epoch 28/50\n",
      "\u001b[1m200/200\u001b[0m \u001b[32m━━━━━━━━━━━━━━━━━━━━\u001b[0m\u001b[37m\u001b[0m \u001b[1m0s\u001b[0m 711us/step - accuracy: 0.6664 - loss: 0.7630 - val_accuracy: 0.5652 - val_loss: 0.9835\n",
      "Epoch 29/50\n",
      "\u001b[1m200/200\u001b[0m \u001b[32m━━━━━━━━━━━━━━━━━━━━\u001b[0m\u001b[37m\u001b[0m \u001b[1m0s\u001b[0m 698us/step - accuracy: 0.6510 - loss: 0.7772 - val_accuracy: 0.5639 - val_loss: 0.9877\n",
      "Epoch 30/50\n",
      "\u001b[1m200/200\u001b[0m \u001b[32m━━━━━━━━━━━━━━━━━━━━\u001b[0m\u001b[37m\u001b[0m \u001b[1m0s\u001b[0m 672us/step - accuracy: 0.6616 - loss: 0.7509 - val_accuracy: 0.5639 - val_loss: 0.9902\n",
      "Epoch 31/50\n",
      "\u001b[1m200/200\u001b[0m \u001b[32m━━━━━━━━━━━━━━━━━━━━\u001b[0m\u001b[37m\u001b[0m \u001b[1m0s\u001b[0m 678us/step - accuracy: 0.6522 - loss: 0.7591 - val_accuracy: 0.5708 - val_loss: 0.9921\n",
      "Epoch 32/50\n",
      "\u001b[1m200/200\u001b[0m \u001b[32m━━━━━━━━━━━━━━━━━━━━\u001b[0m\u001b[37m\u001b[0m \u001b[1m0s\u001b[0m 668us/step - accuracy: 0.6630 - loss: 0.7431 - val_accuracy: 0.5670 - val_loss: 0.9841\n",
      "Epoch 33/50\n",
      "\u001b[1m200/200\u001b[0m \u001b[32m━━━━━━━━━━━━━━━━━━━━\u001b[0m\u001b[37m\u001b[0m \u001b[1m0s\u001b[0m 672us/step - accuracy: 0.6724 - loss: 0.7339 - val_accuracy: 0.5783 - val_loss: 0.9776\n",
      "Epoch 34/50\n",
      "\u001b[1m200/200\u001b[0m \u001b[32m━━━━━━━━━━━━━━━━━━━━\u001b[0m\u001b[37m\u001b[0m \u001b[1m0s\u001b[0m 673us/step - accuracy: 0.6666 - loss: 0.7577 - val_accuracy: 0.5733 - val_loss: 0.9917\n",
      "Epoch 35/50\n",
      "\u001b[1m200/200\u001b[0m \u001b[32m━━━━━━━━━━━━━━━━━━━━\u001b[0m\u001b[37m\u001b[0m \u001b[1m0s\u001b[0m 671us/step - accuracy: 0.6589 - loss: 0.7484 - val_accuracy: 0.5683 - val_loss: 0.9794\n",
      "Epoch 36/50\n",
      "\u001b[1m200/200\u001b[0m \u001b[32m━━━━━━━━━━━━━━━━━━━━\u001b[0m\u001b[37m\u001b[0m \u001b[1m0s\u001b[0m 680us/step - accuracy: 0.6730 - loss: 0.7320 - val_accuracy: 0.5727 - val_loss: 1.0065\n",
      "Epoch 37/50\n",
      "\u001b[1m200/200\u001b[0m \u001b[32m━━━━━━━━━━━━━━━━━━━━\u001b[0m\u001b[37m\u001b[0m \u001b[1m0s\u001b[0m 753us/step - accuracy: 0.6557 - loss: 0.7528 - val_accuracy: 0.5714 - val_loss: 1.0090\n",
      "Epoch 38/50\n",
      "\u001b[1m200/200\u001b[0m \u001b[32m━━━━━━━━━━━━━━━━━━━━\u001b[0m\u001b[37m\u001b[0m \u001b[1m0s\u001b[0m 671us/step - accuracy: 0.6817 - loss: 0.7115 - val_accuracy: 0.5645 - val_loss: 1.0241\n",
      "Epoch 39/50\n",
      "\u001b[1m200/200\u001b[0m \u001b[32m━━━━━━━━━━━━━━━━━━━━\u001b[0m\u001b[37m\u001b[0m \u001b[1m0s\u001b[0m 717us/step - accuracy: 0.6734 - loss: 0.7278 - val_accuracy: 0.5789 - val_loss: 1.0170\n",
      "Epoch 40/50\n",
      "\u001b[1m200/200\u001b[0m \u001b[32m━━━━━━━━━━━━━━━━━━━━\u001b[0m\u001b[37m\u001b[0m \u001b[1m0s\u001b[0m 677us/step - accuracy: 0.6725 - loss: 0.7327 - val_accuracy: 0.5695 - val_loss: 1.0303\n",
      "Epoch 41/50\n",
      "\u001b[1m200/200\u001b[0m \u001b[32m━━━━━━━━━━━━━━━━━━━━\u001b[0m\u001b[37m\u001b[0m \u001b[1m0s\u001b[0m 675us/step - accuracy: 0.6633 - loss: 0.7175 - val_accuracy: 0.5664 - val_loss: 1.0135\n",
      "Epoch 42/50\n",
      "\u001b[1m200/200\u001b[0m \u001b[32m━━━━━━━━━━━━━━━━━━━━\u001b[0m\u001b[37m\u001b[0m \u001b[1m0s\u001b[0m 683us/step - accuracy: 0.6791 - loss: 0.7136 - val_accuracy: 0.5583 - val_loss: 1.0242\n",
      "Epoch 43/50\n",
      "\u001b[1m200/200\u001b[0m \u001b[32m━━━━━━━━━━━━━━━━━━━━\u001b[0m\u001b[37m\u001b[0m \u001b[1m0s\u001b[0m 666us/step - accuracy: 0.6749 - loss: 0.7313 - val_accuracy: 0.5733 - val_loss: 1.0346\n",
      "Epoch 44/50\n",
      "\u001b[1m200/200\u001b[0m \u001b[32m━━━━━━━━━━━━━━━━━━━━\u001b[0m\u001b[37m\u001b[0m \u001b[1m0s\u001b[0m 677us/step - accuracy: 0.6658 - loss: 0.7364 - val_accuracy: 0.5627 - val_loss: 1.0230\n",
      "Epoch 45/50\n",
      "\u001b[1m200/200\u001b[0m \u001b[32m━━━━━━━━━━━━━━━━━━━━\u001b[0m\u001b[37m\u001b[0m \u001b[1m0s\u001b[0m 677us/step - accuracy: 0.6815 - loss: 0.7080 - val_accuracy: 0.5746 - val_loss: 1.0252\n",
      "Epoch 46/50\n",
      "\u001b[1m200/200\u001b[0m \u001b[32m━━━━━━━━━━━━━━━━━━━━\u001b[0m\u001b[37m\u001b[0m \u001b[1m0s\u001b[0m 750us/step - accuracy: 0.6691 - loss: 0.7121 - val_accuracy: 0.5708 - val_loss: 1.0359\n",
      "Epoch 47/50\n",
      "\u001b[1m200/200\u001b[0m \u001b[32m━━━━━━━━━━━━━━━━━━━━\u001b[0m\u001b[37m\u001b[0m \u001b[1m0s\u001b[0m 673us/step - accuracy: 0.6764 - loss: 0.7267 - val_accuracy: 0.5708 - val_loss: 1.0325\n",
      "Epoch 48/50\n",
      "\u001b[1m200/200\u001b[0m \u001b[32m━━━━━━━━━━━━━━━━━━━━\u001b[0m\u001b[37m\u001b[0m \u001b[1m0s\u001b[0m 679us/step - accuracy: 0.6728 - loss: 0.7204 - val_accuracy: 0.5683 - val_loss: 1.0390\n",
      "Epoch 49/50\n",
      "\u001b[1m200/200\u001b[0m \u001b[32m━━━━━━━━━━━━━━━━━━━━\u001b[0m\u001b[37m\u001b[0m \u001b[1m0s\u001b[0m 672us/step - accuracy: 0.6843 - loss: 0.7196 - val_accuracy: 0.5702 - val_loss: 1.0402\n",
      "Epoch 50/50\n",
      "\u001b[1m200/200\u001b[0m \u001b[32m━━━━━━━━━━━━━━━━━━━━\u001b[0m\u001b[37m\u001b[0m \u001b[1m0s\u001b[0m 672us/step - accuracy: 0.6813 - loss: 0.6993 - val_accuracy: 0.5727 - val_loss: 1.0422\n"
     ]
    }
   ],
   "source": [
    "history = classifier.fit(X_train, y_train_cls, validation_split=0.2, epochs=50, batch_size=32, verbose=1)"
   ]
  },
  {
   "cell_type": "code",
   "execution_count": 84,
   "metadata": {},
   "outputs": [
    {
     "name": "stdout",
     "output_type": "stream",
     "text": [
      "\u001b[1m12/12\u001b[0m \u001b[32m━━━━━━━━━━━━━━━━━━━━\u001b[0m\u001b[37m\u001b[0m \u001b[1m0s\u001b[0m 2ms/step \n"
     ]
    }
   ],
   "source": [
    "y_pred_cls = classifier.predict(X_test)\n",
    "mapped_predictions_cls = y_pred_cls.argmax(axis=1) - 1"
   ]
  },
  {
   "cell_type": "code",
   "execution_count": 85,
   "metadata": {},
   "outputs": [
    {
     "name": "stdout",
     "output_type": "stream",
     "text": [
      "The accuracy of the model is 62.63%\n",
      "The accuracy of the model is 238 out of 380 games.\n",
      "\n",
      "With this model, the expected return on value would be 7791.50€\n"
     ]
    }
   ],
   "source": [
    "cls_df = pd.concat([df_test[[target, \"B365H\", \"B365D\", \"B365A\"]].reset_index(drop=True), pd.Series(mapped_predictions_cls, name=\"PredictedOutcome\")], axis=1)\n",
    "\n",
    "cls_accuracy, cls_won = data_aggregator.calculate_accuracy(cls_df, target, \"PredictedOutcome\")\n",
    "\n",
    "print(f\"\"\"The accuracy of the model is {cls_accuracy:.2%}\n",
    "The accuracy of the model is {cls_accuracy*len(cls_df):.0f} out of {len(cls_df)} games.\n",
    "\"\"\")\n",
    "print(f\"With this model, the expected return on value would be {cls_won:.2f}€\")"
   ]
  },
  {
   "cell_type": "markdown",
   "metadata": {},
   "source": [
    "## Regressor\n",
    "Next up we will define a neural network as a regressor, and will use it to predict the goal difference of a match."
   ]
  },
  {
   "cell_type": "code",
   "execution_count": 88,
   "metadata": {},
   "outputs": [],
   "source": [
    "def create_regressor(input_dim):\n",
    "    model = Sequential([\n",
    "        Input(shape=(input_dim,)),\n",
    "        Dense(64, activation='relu'),\n",
    "        Dropout(0.2),\n",
    "        Dense(32, activation='relu'),\n",
    "        Dropout(0.2),\n",
    "        Dense(1)\n",
    "    ])\n",
    "    model.compile(optimizer=Adam(learning_rate=0.001), loss='mse', metrics=['mae'])\n",
    "    return model"
   ]
  },
  {
   "cell_type": "code",
   "execution_count": 89,
   "metadata": {},
   "outputs": [
    {
     "data": {
      "text/html": [
       "<pre style=\"white-space:pre;overflow-x:auto;line-height:normal;font-family:Menlo,'DejaVu Sans Mono',consolas,'Courier New',monospace\"><span style=\"font-weight: bold\">Model: \"sequential_12\"</span>\n",
       "</pre>\n"
      ],
      "text/plain": [
       "\u001b[1mModel: \"sequential_12\"\u001b[0m\n"
      ]
     },
     "metadata": {},
     "output_type": "display_data"
    },
    {
     "data": {
      "text/html": [
       "<pre style=\"white-space:pre;overflow-x:auto;line-height:normal;font-family:Menlo,'DejaVu Sans Mono',consolas,'Courier New',monospace\">┏━━━━━━━━━━━━━━━━━━━━━━━━━━━━━━━━━┳━━━━━━━━━━━━━━━━━━━━━━━━┳━━━━━━━━━━━━━━━┓\n",
       "┃<span style=\"font-weight: bold\"> Layer (type)                    </span>┃<span style=\"font-weight: bold\"> Output Shape           </span>┃<span style=\"font-weight: bold\">       Param # </span>┃\n",
       "┡━━━━━━━━━━━━━━━━━━━━━━━━━━━━━━━━━╇━━━━━━━━━━━━━━━━━━━━━━━━╇━━━━━━━━━━━━━━━┩\n",
       "│ dense_37 (<span style=\"color: #0087ff; text-decoration-color: #0087ff\">Dense</span>)                │ (<span style=\"color: #00d7ff; text-decoration-color: #00d7ff\">None</span>, <span style=\"color: #00af00; text-decoration-color: #00af00\">64</span>)             │         <span style=\"color: #00af00; text-decoration-color: #00af00\">6,528</span> │\n",
       "├─────────────────────────────────┼────────────────────────┼───────────────┤\n",
       "│ dropout_29 (<span style=\"color: #0087ff; text-decoration-color: #0087ff\">Dropout</span>)            │ (<span style=\"color: #00d7ff; text-decoration-color: #00d7ff\">None</span>, <span style=\"color: #00af00; text-decoration-color: #00af00\">64</span>)             │             <span style=\"color: #00af00; text-decoration-color: #00af00\">0</span> │\n",
       "├─────────────────────────────────┼────────────────────────┼───────────────┤\n",
       "│ dense_38 (<span style=\"color: #0087ff; text-decoration-color: #0087ff\">Dense</span>)                │ (<span style=\"color: #00d7ff; text-decoration-color: #00d7ff\">None</span>, <span style=\"color: #00af00; text-decoration-color: #00af00\">32</span>)             │         <span style=\"color: #00af00; text-decoration-color: #00af00\">2,080</span> │\n",
       "├─────────────────────────────────┼────────────────────────┼───────────────┤\n",
       "│ dropout_30 (<span style=\"color: #0087ff; text-decoration-color: #0087ff\">Dropout</span>)            │ (<span style=\"color: #00d7ff; text-decoration-color: #00d7ff\">None</span>, <span style=\"color: #00af00; text-decoration-color: #00af00\">32</span>)             │             <span style=\"color: #00af00; text-decoration-color: #00af00\">0</span> │\n",
       "├─────────────────────────────────┼────────────────────────┼───────────────┤\n",
       "│ dense_39 (<span style=\"color: #0087ff; text-decoration-color: #0087ff\">Dense</span>)                │ (<span style=\"color: #00d7ff; text-decoration-color: #00d7ff\">None</span>, <span style=\"color: #00af00; text-decoration-color: #00af00\">1</span>)              │            <span style=\"color: #00af00; text-decoration-color: #00af00\">33</span> │\n",
       "└─────────────────────────────────┴────────────────────────┴───────────────┘\n",
       "</pre>\n"
      ],
      "text/plain": [
       "┏━━━━━━━━━━━━━━━━━━━━━━━━━━━━━━━━━┳━━━━━━━━━━━━━━━━━━━━━━━━┳━━━━━━━━━━━━━━━┓\n",
       "┃\u001b[1m \u001b[0m\u001b[1mLayer (type)                   \u001b[0m\u001b[1m \u001b[0m┃\u001b[1m \u001b[0m\u001b[1mOutput Shape          \u001b[0m\u001b[1m \u001b[0m┃\u001b[1m \u001b[0m\u001b[1m      Param #\u001b[0m\u001b[1m \u001b[0m┃\n",
       "┡━━━━━━━━━━━━━━━━━━━━━━━━━━━━━━━━━╇━━━━━━━━━━━━━━━━━━━━━━━━╇━━━━━━━━━━━━━━━┩\n",
       "│ dense_37 (\u001b[38;5;33mDense\u001b[0m)                │ (\u001b[38;5;45mNone\u001b[0m, \u001b[38;5;34m64\u001b[0m)             │         \u001b[38;5;34m6,528\u001b[0m │\n",
       "├─────────────────────────────────┼────────────────────────┼───────────────┤\n",
       "│ dropout_29 (\u001b[38;5;33mDropout\u001b[0m)            │ (\u001b[38;5;45mNone\u001b[0m, \u001b[38;5;34m64\u001b[0m)             │             \u001b[38;5;34m0\u001b[0m │\n",
       "├─────────────────────────────────┼────────────────────────┼───────────────┤\n",
       "│ dense_38 (\u001b[38;5;33mDense\u001b[0m)                │ (\u001b[38;5;45mNone\u001b[0m, \u001b[38;5;34m32\u001b[0m)             │         \u001b[38;5;34m2,080\u001b[0m │\n",
       "├─────────────────────────────────┼────────────────────────┼───────────────┤\n",
       "│ dropout_30 (\u001b[38;5;33mDropout\u001b[0m)            │ (\u001b[38;5;45mNone\u001b[0m, \u001b[38;5;34m32\u001b[0m)             │             \u001b[38;5;34m0\u001b[0m │\n",
       "├─────────────────────────────────┼────────────────────────┼───────────────┤\n",
       "│ dense_39 (\u001b[38;5;33mDense\u001b[0m)                │ (\u001b[38;5;45mNone\u001b[0m, \u001b[38;5;34m1\u001b[0m)              │            \u001b[38;5;34m33\u001b[0m │\n",
       "└─────────────────────────────────┴────────────────────────┴───────────────┘\n"
      ]
     },
     "metadata": {},
     "output_type": "display_data"
    },
    {
     "data": {
      "text/html": [
       "<pre style=\"white-space:pre;overflow-x:auto;line-height:normal;font-family:Menlo,'DejaVu Sans Mono',consolas,'Courier New',monospace\"><span style=\"font-weight: bold\"> Total params: </span><span style=\"color: #00af00; text-decoration-color: #00af00\">8,641</span> (33.75 KB)\n",
       "</pre>\n"
      ],
      "text/plain": [
       "\u001b[1m Total params: \u001b[0m\u001b[38;5;34m8,641\u001b[0m (33.75 KB)\n"
      ]
     },
     "metadata": {},
     "output_type": "display_data"
    },
    {
     "data": {
      "text/html": [
       "<pre style=\"white-space:pre;overflow-x:auto;line-height:normal;font-family:Menlo,'DejaVu Sans Mono',consolas,'Courier New',monospace\"><span style=\"font-weight: bold\"> Trainable params: </span><span style=\"color: #00af00; text-decoration-color: #00af00\">8,641</span> (33.75 KB)\n",
       "</pre>\n"
      ],
      "text/plain": [
       "\u001b[1m Trainable params: \u001b[0m\u001b[38;5;34m8,641\u001b[0m (33.75 KB)\n"
      ]
     },
     "metadata": {},
     "output_type": "display_data"
    },
    {
     "data": {
      "text/html": [
       "<pre style=\"white-space:pre;overflow-x:auto;line-height:normal;font-family:Menlo,'DejaVu Sans Mono',consolas,'Courier New',monospace\"><span style=\"font-weight: bold\"> Non-trainable params: </span><span style=\"color: #00af00; text-decoration-color: #00af00\">0</span> (0.00 B)\n",
       "</pre>\n"
      ],
      "text/plain": [
       "\u001b[1m Non-trainable params: \u001b[0m\u001b[38;5;34m0\u001b[0m (0.00 B)\n"
      ]
     },
     "metadata": {},
     "output_type": "display_data"
    },
    {
     "name": "stdout",
     "output_type": "stream",
     "text": [
      "None\n"
     ]
    }
   ],
   "source": [
    "regressor = create_regressor(input_dim)\n",
    "print(regressor.summary())"
   ]
  },
  {
   "cell_type": "code",
   "execution_count": 90,
   "metadata": {},
   "outputs": [
    {
     "name": "stdout",
     "output_type": "stream",
     "text": [
      "Epoch 1/50\n",
      "\u001b[1m200/200\u001b[0m \u001b[32m━━━━━━━━━━━━━━━━━━━━\u001b[0m\u001b[37m\u001b[0m \u001b[1m1s\u001b[0m 1ms/step - loss: 1.3684 - mae: 0.9254 - val_loss: 0.6731 - val_mae: 0.7039\n",
      "Epoch 2/50\n",
      "\u001b[1m200/200\u001b[0m \u001b[32m━━━━━━━━━━━━━━━━━━━━\u001b[0m\u001b[37m\u001b[0m \u001b[1m0s\u001b[0m 744us/step - loss: 0.6622 - mae: 0.6912 - val_loss: 0.6220 - val_mae: 0.6820\n",
      "Epoch 3/50\n",
      "\u001b[1m200/200\u001b[0m \u001b[32m━━━━━━━━━━━━━━━━━━━━\u001b[0m\u001b[37m\u001b[0m \u001b[1m0s\u001b[0m 684us/step - loss: 0.5877 - mae: 0.6533 - val_loss: 0.5989 - val_mae: 0.6714\n",
      "Epoch 4/50\n",
      "\u001b[1m200/200\u001b[0m \u001b[32m━━━━━━━━━━━━━━━━━━━━\u001b[0m\u001b[37m\u001b[0m \u001b[1m0s\u001b[0m 663us/step - loss: 0.5568 - mae: 0.6334 - val_loss: 0.5993 - val_mae: 0.6603\n",
      "Epoch 5/50\n",
      "\u001b[1m200/200\u001b[0m \u001b[32m━━━━━━━━━━━━━━━━━━━━\u001b[0m\u001b[37m\u001b[0m \u001b[1m0s\u001b[0m 646us/step - loss: 0.5317 - mae: 0.6168 - val_loss: 0.5826 - val_mae: 0.6499\n",
      "Epoch 6/50\n",
      "\u001b[1m200/200\u001b[0m \u001b[32m━━━━━━━━━━━━━━━━━━━━\u001b[0m\u001b[37m\u001b[0m \u001b[1m0s\u001b[0m 650us/step - loss: 0.5357 - mae: 0.6198 - val_loss: 0.5745 - val_mae: 0.6397\n",
      "Epoch 7/50\n",
      "\u001b[1m200/200\u001b[0m \u001b[32m━━━━━━━━━━━━━━━━━━━━\u001b[0m\u001b[37m\u001b[0m \u001b[1m0s\u001b[0m 720us/step - loss: 0.5164 - mae: 0.6009 - val_loss: 0.5655 - val_mae: 0.6398\n",
      "Epoch 8/50\n",
      "\u001b[1m200/200\u001b[0m \u001b[32m━━━━━━━━━━━━━━━━━━━━\u001b[0m\u001b[37m\u001b[0m \u001b[1m0s\u001b[0m 653us/step - loss: 0.5051 - mae: 0.5972 - val_loss: 0.5642 - val_mae: 0.6352\n",
      "Epoch 9/50\n",
      "\u001b[1m200/200\u001b[0m \u001b[32m━━━━━━━━━━━━━━━━━━━━\u001b[0m\u001b[37m\u001b[0m \u001b[1m0s\u001b[0m 655us/step - loss: 0.4881 - mae: 0.5878 - val_loss: 0.5649 - val_mae: 0.6392\n",
      "Epoch 10/50\n",
      "\u001b[1m200/200\u001b[0m \u001b[32m━━━━━━━━━━━━━━━━━━━━\u001b[0m\u001b[37m\u001b[0m \u001b[1m0s\u001b[0m 647us/step - loss: 0.4920 - mae: 0.5880 - val_loss: 0.5722 - val_mae: 0.6458\n",
      "Epoch 11/50\n",
      "\u001b[1m200/200\u001b[0m \u001b[32m━━━━━━━━━━━━━━━━━━━━\u001b[0m\u001b[37m\u001b[0m \u001b[1m0s\u001b[0m 658us/step - loss: 0.4844 - mae: 0.5822 - val_loss: 0.5652 - val_mae: 0.6399\n",
      "Epoch 12/50\n",
      "\u001b[1m200/200\u001b[0m \u001b[32m━━━━━━━━━━━━━━━━━━━━\u001b[0m\u001b[37m\u001b[0m \u001b[1m0s\u001b[0m 671us/step - loss: 0.4939 - mae: 0.5910 - val_loss: 0.5609 - val_mae: 0.6259\n",
      "Epoch 13/50\n",
      "\u001b[1m200/200\u001b[0m \u001b[32m━━━━━━━━━━━━━━━━━━━━\u001b[0m\u001b[37m\u001b[0m \u001b[1m0s\u001b[0m 652us/step - loss: 0.4640 - mae: 0.5689 - val_loss: 0.5665 - val_mae: 0.6350\n",
      "Epoch 14/50\n",
      "\u001b[1m200/200\u001b[0m \u001b[32m━━━━━━━━━━━━━━━━━━━━\u001b[0m\u001b[37m\u001b[0m \u001b[1m0s\u001b[0m 663us/step - loss: 0.4614 - mae: 0.5683 - val_loss: 0.5761 - val_mae: 0.6381\n",
      "Epoch 15/50\n",
      "\u001b[1m200/200\u001b[0m \u001b[32m━━━━━━━━━━━━━━━━━━━━\u001b[0m\u001b[37m\u001b[0m \u001b[1m0s\u001b[0m 669us/step - loss: 0.4601 - mae: 0.5660 - val_loss: 0.5699 - val_mae: 0.6300\n",
      "Epoch 16/50\n",
      "\u001b[1m200/200\u001b[0m \u001b[32m━━━━━━━━━━━━━━━━━━━━\u001b[0m\u001b[37m\u001b[0m \u001b[1m0s\u001b[0m 663us/step - loss: 0.4559 - mae: 0.5575 - val_loss: 0.5784 - val_mae: 0.6357\n",
      "Epoch 17/50\n",
      "\u001b[1m200/200\u001b[0m \u001b[32m━━━━━━━━━━━━━━━━━━━━\u001b[0m\u001b[37m\u001b[0m \u001b[1m0s\u001b[0m 659us/step - loss: 0.4502 - mae: 0.5596 - val_loss: 0.5670 - val_mae: 0.6312\n",
      "Epoch 18/50\n",
      "\u001b[1m200/200\u001b[0m \u001b[32m━━━━━━━━━━━━━━━━━━━━\u001b[0m\u001b[37m\u001b[0m \u001b[1m0s\u001b[0m 740us/step - loss: 0.4728 - mae: 0.5703 - val_loss: 0.5759 - val_mae: 0.6294\n",
      "Epoch 19/50\n",
      "\u001b[1m200/200\u001b[0m \u001b[32m━━━━━━━━━━━━━━━━━━━━\u001b[0m\u001b[37m\u001b[0m \u001b[1m0s\u001b[0m 667us/step - loss: 0.4430 - mae: 0.5510 - val_loss: 0.5707 - val_mae: 0.6323\n",
      "Epoch 20/50\n",
      "\u001b[1m200/200\u001b[0m \u001b[32m━━━━━━━━━━━━━━━━━━━━\u001b[0m\u001b[37m\u001b[0m \u001b[1m0s\u001b[0m 676us/step - loss: 0.4323 - mae: 0.5433 - val_loss: 0.5695 - val_mae: 0.6329\n",
      "Epoch 21/50\n",
      "\u001b[1m200/200\u001b[0m \u001b[32m━━━━━━━━━━━━━━━━━━━━\u001b[0m\u001b[37m\u001b[0m \u001b[1m0s\u001b[0m 716us/step - loss: 0.4396 - mae: 0.5485 - val_loss: 0.5786 - val_mae: 0.6326\n",
      "Epoch 22/50\n",
      "\u001b[1m200/200\u001b[0m \u001b[32m━━━━━━━━━━━━━━━━━━━━\u001b[0m\u001b[37m\u001b[0m \u001b[1m0s\u001b[0m 1ms/step - loss: 0.4289 - mae: 0.5418 - val_loss: 0.5845 - val_mae: 0.6374\n",
      "Epoch 23/50\n",
      "\u001b[1m200/200\u001b[0m \u001b[32m━━━━━━━━━━━━━━━━━━━━\u001b[0m\u001b[37m\u001b[0m \u001b[1m0s\u001b[0m 872us/step - loss: 0.4513 - mae: 0.5570 - val_loss: 0.5803 - val_mae: 0.6253\n",
      "Epoch 24/50\n",
      "\u001b[1m200/200\u001b[0m \u001b[32m━━━━━━━━━━━━━━━━━━━━\u001b[0m\u001b[37m\u001b[0m \u001b[1m0s\u001b[0m 832us/step - loss: 0.4317 - mae: 0.5427 - val_loss: 0.5896 - val_mae: 0.6357\n",
      "Epoch 25/50\n",
      "\u001b[1m200/200\u001b[0m \u001b[32m━━━━━━━━━━━━━━━━━━━━\u001b[0m\u001b[37m\u001b[0m \u001b[1m0s\u001b[0m 728us/step - loss: 0.4219 - mae: 0.5367 - val_loss: 0.5925 - val_mae: 0.6354\n",
      "Epoch 26/50\n",
      "\u001b[1m200/200\u001b[0m \u001b[32m━━━━━━━━━━━━━━━━━━━━\u001b[0m\u001b[37m\u001b[0m \u001b[1m0s\u001b[0m 717us/step - loss: 0.4098 - mae: 0.5255 - val_loss: 0.5908 - val_mae: 0.6422\n",
      "Epoch 27/50\n",
      "\u001b[1m200/200\u001b[0m \u001b[32m━━━━━━━━━━━━━━━━━━━━\u001b[0m\u001b[37m\u001b[0m \u001b[1m0s\u001b[0m 797us/step - loss: 0.4226 - mae: 0.5378 - val_loss: 0.5827 - val_mae: 0.6348\n",
      "Epoch 28/50\n",
      "\u001b[1m200/200\u001b[0m \u001b[32m━━━━━━━━━━━━━━━━━━━━\u001b[0m\u001b[37m\u001b[0m \u001b[1m0s\u001b[0m 794us/step - loss: 0.4199 - mae: 0.5354 - val_loss: 0.5937 - val_mae: 0.6449\n",
      "Epoch 29/50\n",
      "\u001b[1m200/200\u001b[0m \u001b[32m━━━━━━━━━━━━━━━━━━━━\u001b[0m\u001b[37m\u001b[0m \u001b[1m0s\u001b[0m 727us/step - loss: 0.4117 - mae: 0.5275 - val_loss: 0.5958 - val_mae: 0.6340\n",
      "Epoch 30/50\n",
      "\u001b[1m200/200\u001b[0m \u001b[32m━━━━━━━━━━━━━━━━━━━━\u001b[0m\u001b[37m\u001b[0m \u001b[1m0s\u001b[0m 707us/step - loss: 0.4078 - mae: 0.5242 - val_loss: 0.5932 - val_mae: 0.6351\n",
      "Epoch 31/50\n",
      "\u001b[1m200/200\u001b[0m \u001b[32m━━━━━━━━━━━━━━━━━━━━\u001b[0m\u001b[37m\u001b[0m \u001b[1m0s\u001b[0m 724us/step - loss: 0.3973 - mae: 0.5168 - val_loss: 0.5897 - val_mae: 0.6377\n",
      "Epoch 32/50\n",
      "\u001b[1m200/200\u001b[0m \u001b[32m━━━━━━━━━━━━━━━━━━━━\u001b[0m\u001b[37m\u001b[0m \u001b[1m0s\u001b[0m 841us/step - loss: 0.4054 - mae: 0.5214 - val_loss: 0.6172 - val_mae: 0.6444\n",
      "Epoch 33/50\n",
      "\u001b[1m200/200\u001b[0m \u001b[32m━━━━━━━━━━━━━━━━━━━━\u001b[0m\u001b[37m\u001b[0m \u001b[1m0s\u001b[0m 708us/step - loss: 0.4081 - mae: 0.5233 - val_loss: 0.6160 - val_mae: 0.6458\n",
      "Epoch 34/50\n",
      "\u001b[1m200/200\u001b[0m \u001b[32m━━━━━━━━━━━━━━━━━━━━\u001b[0m\u001b[37m\u001b[0m \u001b[1m0s\u001b[0m 705us/step - loss: 0.3874 - mae: 0.5091 - val_loss: 0.6101 - val_mae: 0.6458\n",
      "Epoch 35/50\n",
      "\u001b[1m200/200\u001b[0m \u001b[32m━━━━━━━━━━━━━━━━━━━━\u001b[0m\u001b[37m\u001b[0m \u001b[1m0s\u001b[0m 666us/step - loss: 0.3919 - mae: 0.5148 - val_loss: 0.6096 - val_mae: 0.6428\n",
      "Epoch 36/50\n",
      "\u001b[1m200/200\u001b[0m \u001b[32m━━━━━━━━━━━━━━━━━━━━\u001b[0m\u001b[37m\u001b[0m \u001b[1m0s\u001b[0m 666us/step - loss: 0.3976 - mae: 0.5160 - val_loss: 0.6012 - val_mae: 0.6323\n",
      "Epoch 37/50\n",
      "\u001b[1m200/200\u001b[0m \u001b[32m━━━━━━━━━━━━━━━━━━━━\u001b[0m\u001b[37m\u001b[0m \u001b[1m0s\u001b[0m 706us/step - loss: 0.4104 - mae: 0.5293 - val_loss: 0.6103 - val_mae: 0.6324\n",
      "Epoch 38/50\n",
      "\u001b[1m200/200\u001b[0m \u001b[32m━━━━━━━━━━━━━━━━━━━━\u001b[0m\u001b[37m\u001b[0m \u001b[1m0s\u001b[0m 669us/step - loss: 0.3958 - mae: 0.5136 - val_loss: 0.6028 - val_mae: 0.6447\n",
      "Epoch 39/50\n",
      "\u001b[1m200/200\u001b[0m \u001b[32m━━━━━━━━━━━━━━━━━━━━\u001b[0m\u001b[37m\u001b[0m \u001b[1m0s\u001b[0m 682us/step - loss: 0.3887 - mae: 0.5135 - val_loss: 0.6137 - val_mae: 0.6387\n",
      "Epoch 40/50\n",
      "\u001b[1m200/200\u001b[0m \u001b[32m━━━━━━━━━━━━━━━━━━━━\u001b[0m\u001b[37m\u001b[0m \u001b[1m0s\u001b[0m 667us/step - loss: 0.3838 - mae: 0.5029 - val_loss: 0.6076 - val_mae: 0.6383\n",
      "Epoch 41/50\n",
      "\u001b[1m200/200\u001b[0m \u001b[32m━━━━━━━━━━━━━━━━━━━━\u001b[0m\u001b[37m\u001b[0m \u001b[1m0s\u001b[0m 748us/step - loss: 0.3982 - mae: 0.5163 - val_loss: 0.6049 - val_mae: 0.6423\n",
      "Epoch 42/50\n",
      "\u001b[1m200/200\u001b[0m \u001b[32m━━━━━━━━━━━━━━━━━━━━\u001b[0m\u001b[37m\u001b[0m \u001b[1m0s\u001b[0m 668us/step - loss: 0.3904 - mae: 0.5090 - val_loss: 0.6135 - val_mae: 0.6407\n",
      "Epoch 43/50\n",
      "\u001b[1m200/200\u001b[0m \u001b[32m━━━━━━━━━━━━━━━━━━━━\u001b[0m\u001b[37m\u001b[0m \u001b[1m0s\u001b[0m 656us/step - loss: 0.3737 - mae: 0.4968 - val_loss: 0.6002 - val_mae: 0.6406\n",
      "Epoch 44/50\n",
      "\u001b[1m200/200\u001b[0m \u001b[32m━━━━━━━━━━━━━━━━━━━━\u001b[0m\u001b[37m\u001b[0m \u001b[1m0s\u001b[0m 663us/step - loss: 0.3776 - mae: 0.5006 - val_loss: 0.6367 - val_mae: 0.6420\n",
      "Epoch 45/50\n",
      "\u001b[1m200/200\u001b[0m \u001b[32m━━━━━━━━━━━━━━━━━━━━\u001b[0m\u001b[37m\u001b[0m \u001b[1m0s\u001b[0m 672us/step - loss: 0.3849 - mae: 0.5048 - val_loss: 0.6112 - val_mae: 0.6371\n",
      "Epoch 46/50\n",
      "\u001b[1m200/200\u001b[0m \u001b[32m━━━━━━━━━━━━━━━━━━━━\u001b[0m\u001b[37m\u001b[0m \u001b[1m0s\u001b[0m 955us/step - loss: 0.3704 - mae: 0.5010 - val_loss: 0.6269 - val_mae: 0.6442\n",
      "Epoch 47/50\n",
      "\u001b[1m200/200\u001b[0m \u001b[32m━━━━━━━━━━━━━━━━━━━━\u001b[0m\u001b[37m\u001b[0m \u001b[1m0s\u001b[0m 662us/step - loss: 0.3743 - mae: 0.4984 - val_loss: 0.6103 - val_mae: 0.6465\n",
      "Epoch 48/50\n",
      "\u001b[1m200/200\u001b[0m \u001b[32m━━━━━━━━━━━━━━━━━━━━\u001b[0m\u001b[37m\u001b[0m \u001b[1m0s\u001b[0m 661us/step - loss: 0.3648 - mae: 0.4944 - val_loss: 0.6304 - val_mae: 0.6431\n",
      "Epoch 49/50\n",
      "\u001b[1m200/200\u001b[0m \u001b[32m━━━━━━━━━━━━━━━━━━━━\u001b[0m\u001b[37m\u001b[0m \u001b[1m0s\u001b[0m 669us/step - loss: 0.3657 - mae: 0.4940 - val_loss: 0.6147 - val_mae: 0.6504\n",
      "Epoch 50/50\n",
      "\u001b[1m200/200\u001b[0m \u001b[32m━━━━━━━━━━━━━━━━━━━━\u001b[0m\u001b[37m\u001b[0m \u001b[1m0s\u001b[0m 664us/step - loss: 0.3655 - mae: 0.4925 - val_loss: 0.6164 - val_mae: 0.6532\n"
     ]
    }
   ],
   "source": [
    "history = regressor.fit(X_train, y_train, validation_split=0.2, epochs=50, batch_size=32, verbose=1)"
   ]
  },
  {
   "cell_type": "code",
   "execution_count": 91,
   "metadata": {},
   "outputs": [
    {
     "name": "stdout",
     "output_type": "stream",
     "text": [
      "\u001b[1m12/12\u001b[0m \u001b[32m━━━━━━━━━━━━━━━━━━━━\u001b[0m\u001b[37m\u001b[0m \u001b[1m0s\u001b[0m 2ms/step \n"
     ]
    }
   ],
   "source": [
    "def map_result(predicitions):\n",
    "    return [1 if round(p) >= 1 else -1 if round(p) <= -1 else 0 for p in predicitions]\n",
    "\n",
    "y_pred = regressor.predict(X_test).flatten()\n",
    "\n",
    "mapped_predictions = map_result(y_pred)"
   ]
  },
  {
   "cell_type": "code",
   "execution_count": 92,
   "metadata": {},
   "outputs": [
    {
     "name": "stdout",
     "output_type": "stream",
     "text": [
      "The accuracy of the model is 45.79%\n",
      "The accuracy of the model is 174 out of 380 games.\n",
      "\n",
      "With this model, the expected return on value would be 5861.80€\n"
     ]
    }
   ],
   "source": [
    "regr_df = pd.concat([df_test[[target, \"B365H\", \"B365D\", \"B365A\"]].reset_index(drop=True), pd.Series(mapped_predictions, name=\"PredictedOutcome\")], axis=1)\n",
    "\n",
    "regr_accuracy, regr_won = data_aggregator.calculate_accuracy(regr_df, target, \"PredictedOutcome\")\n",
    "\n",
    "print(f\"\"\"The accuracy of the model is {regr_accuracy:.2%}\n",
    "The accuracy of the model is {regr_accuracy*len(regr_df):.0f} out of {len(regr_df)} games.\n",
    "\"\"\")\n",
    "print(f\"With this model, the expected return on value would be {regr_won:.2f}€\")"
   ]
  },
  {
   "cell_type": "markdown",
   "metadata": {},
   "source": [
    "## Hybrid approach\n",
    "Finally, we will implement a hybrid variant, where we will take the output of the regressor, i.e., the predicted goal difference, and then use it as a input to a classifier NN in order to predict the results using another NN."
   ]
  },
  {
   "cell_type": "code",
   "execution_count": 93,
   "metadata": {},
   "outputs": [],
   "source": [
    "def create_hybrid_model(input_dim):\n",
    "    inputs = Input(shape=(input_dim,), name=\"main_input\")\n",
    "    \n",
    "    regressor = Dense(64, activation=\"relu\", name=\"regressor_hidden_1\")(inputs)\n",
    "    regressor = Dropout(0.2)(regressor)\n",
    "    regressor = Dense(32, activation=\"relu\", name=\"regressor_hidden_2\")(regressor)\n",
    "    gd_output = Dense(1, activation=\"linear\", name=\"goal_difference_output\")(regressor)  # Regression output\n",
    "\n",
    "    concatenated = Concatenate(name=\"concat_layer\")([inputs, gd_output])\n",
    "    \n",
    "    classifier = Dense(64, activation=\"relu\", name=\"classifier_hidden_1\")(concatenated)\n",
    "    classifier = Dropout(0.2)(classifier)\n",
    "    classifier = Dense(32, activation=\"relu\", name=\"classifier_hidden_2\")(classifier)\n",
    "    outcome_output = Dense(3, activation=\"softmax\", name=\"match_outcome_output\")(classifier)  # Classification output\n",
    "\n",
    "    model = Model(inputs=inputs, outputs=[gd_output, outcome_output])\n",
    "    model.compile(\n",
    "        optimizer=Adam(learning_rate=0.001),\n",
    "        loss={\n",
    "            \"goal_difference_output\": MeanSquaredError(),\n",
    "            \"match_outcome_output\": SparseCategoricalCrossentropy()\n",
    "        },\n",
    "        metrics={\n",
    "            \"goal_difference_output\": \"mae\",\n",
    "            \"match_outcome_output\": \"accuracy\"\n",
    "        }\n",
    "    )\n",
    "    return model"
   ]
  },
  {
   "cell_type": "code",
   "execution_count": 94,
   "metadata": {},
   "outputs": [
    {
     "data": {
      "text/html": [
       "<pre style=\"white-space:pre;overflow-x:auto;line-height:normal;font-family:Menlo,'DejaVu Sans Mono',consolas,'Courier New',monospace\"><span style=\"font-weight: bold\">Model: \"functional_15\"</span>\n",
       "</pre>\n"
      ],
      "text/plain": [
       "\u001b[1mModel: \"functional_15\"\u001b[0m\n"
      ]
     },
     "metadata": {},
     "output_type": "display_data"
    },
    {
     "data": {
      "text/html": [
       "<pre style=\"white-space:pre;overflow-x:auto;line-height:normal;font-family:Menlo,'DejaVu Sans Mono',consolas,'Courier New',monospace\">┏━━━━━━━━━━━━━━━━━━━━━┳━━━━━━━━━━━━━━━━━━━┳━━━━━━━━━━━━┳━━━━━━━━━━━━━━━━━━━┓\n",
       "┃<span style=\"font-weight: bold\"> Layer (type)        </span>┃<span style=\"font-weight: bold\"> Output Shape      </span>┃<span style=\"font-weight: bold\">    Param # </span>┃<span style=\"font-weight: bold\"> Connected to      </span>┃\n",
       "┡━━━━━━━━━━━━━━━━━━━━━╇━━━━━━━━━━━━━━━━━━━╇━━━━━━━━━━━━╇━━━━━━━━━━━━━━━━━━━┩\n",
       "│ main_input          │ (<span style=\"color: #00d7ff; text-decoration-color: #00d7ff\">None</span>, <span style=\"color: #00af00; text-decoration-color: #00af00\">101</span>)       │          <span style=\"color: #00af00; text-decoration-color: #00af00\">0</span> │ -                 │\n",
       "│ (<span style=\"color: #0087ff; text-decoration-color: #0087ff\">InputLayer</span>)        │                   │            │                   │\n",
       "├─────────────────────┼───────────────────┼────────────┼───────────────────┤\n",
       "│ regressor_hidden_1  │ (<span style=\"color: #00d7ff; text-decoration-color: #00d7ff\">None</span>, <span style=\"color: #00af00; text-decoration-color: #00af00\">64</span>)        │      <span style=\"color: #00af00; text-decoration-color: #00af00\">6,528</span> │ main_input[<span style=\"color: #00af00; text-decoration-color: #00af00\">0</span>][<span style=\"color: #00af00; text-decoration-color: #00af00\">0</span>]  │\n",
       "│ (<span style=\"color: #0087ff; text-decoration-color: #0087ff\">Dense</span>)             │                   │            │                   │\n",
       "├─────────────────────┼───────────────────┼────────────┼───────────────────┤\n",
       "│ dropout_31          │ (<span style=\"color: #00d7ff; text-decoration-color: #00d7ff\">None</span>, <span style=\"color: #00af00; text-decoration-color: #00af00\">64</span>)        │          <span style=\"color: #00af00; text-decoration-color: #00af00\">0</span> │ regressor_hidden… │\n",
       "│ (<span style=\"color: #0087ff; text-decoration-color: #0087ff\">Dropout</span>)           │                   │            │                   │\n",
       "├─────────────────────┼───────────────────┼────────────┼───────────────────┤\n",
       "│ regressor_hidden_2  │ (<span style=\"color: #00d7ff; text-decoration-color: #00d7ff\">None</span>, <span style=\"color: #00af00; text-decoration-color: #00af00\">32</span>)        │      <span style=\"color: #00af00; text-decoration-color: #00af00\">2,080</span> │ dropout_31[<span style=\"color: #00af00; text-decoration-color: #00af00\">0</span>][<span style=\"color: #00af00; text-decoration-color: #00af00\">0</span>]  │\n",
       "│ (<span style=\"color: #0087ff; text-decoration-color: #0087ff\">Dense</span>)             │                   │            │                   │\n",
       "├─────────────────────┼───────────────────┼────────────┼───────────────────┤\n",
       "│ goal_difference_ou… │ (<span style=\"color: #00d7ff; text-decoration-color: #00d7ff\">None</span>, <span style=\"color: #00af00; text-decoration-color: #00af00\">1</span>)         │         <span style=\"color: #00af00; text-decoration-color: #00af00\">33</span> │ regressor_hidden… │\n",
       "│ (<span style=\"color: #0087ff; text-decoration-color: #0087ff\">Dense</span>)             │                   │            │                   │\n",
       "├─────────────────────┼───────────────────┼────────────┼───────────────────┤\n",
       "│ concat_layer        │ (<span style=\"color: #00d7ff; text-decoration-color: #00d7ff\">None</span>, <span style=\"color: #00af00; text-decoration-color: #00af00\">102</span>)       │          <span style=\"color: #00af00; text-decoration-color: #00af00\">0</span> │ main_input[<span style=\"color: #00af00; text-decoration-color: #00af00\">0</span>][<span style=\"color: #00af00; text-decoration-color: #00af00\">0</span>], │\n",
       "│ (<span style=\"color: #0087ff; text-decoration-color: #0087ff\">Concatenate</span>)       │                   │            │ goal_difference_… │\n",
       "├─────────────────────┼───────────────────┼────────────┼───────────────────┤\n",
       "│ classifier_hidden_1 │ (<span style=\"color: #00d7ff; text-decoration-color: #00d7ff\">None</span>, <span style=\"color: #00af00; text-decoration-color: #00af00\">64</span>)        │      <span style=\"color: #00af00; text-decoration-color: #00af00\">6,592</span> │ concat_layer[<span style=\"color: #00af00; text-decoration-color: #00af00\">0</span>][<span style=\"color: #00af00; text-decoration-color: #00af00\">…</span> │\n",
       "│ (<span style=\"color: #0087ff; text-decoration-color: #0087ff\">Dense</span>)             │                   │            │                   │\n",
       "├─────────────────────┼───────────────────┼────────────┼───────────────────┤\n",
       "│ dropout_32          │ (<span style=\"color: #00d7ff; text-decoration-color: #00d7ff\">None</span>, <span style=\"color: #00af00; text-decoration-color: #00af00\">64</span>)        │          <span style=\"color: #00af00; text-decoration-color: #00af00\">0</span> │ classifier_hidde… │\n",
       "│ (<span style=\"color: #0087ff; text-decoration-color: #0087ff\">Dropout</span>)           │                   │            │                   │\n",
       "├─────────────────────┼───────────────────┼────────────┼───────────────────┤\n",
       "│ classifier_hidden_2 │ (<span style=\"color: #00d7ff; text-decoration-color: #00d7ff\">None</span>, <span style=\"color: #00af00; text-decoration-color: #00af00\">32</span>)        │      <span style=\"color: #00af00; text-decoration-color: #00af00\">2,080</span> │ dropout_32[<span style=\"color: #00af00; text-decoration-color: #00af00\">0</span>][<span style=\"color: #00af00; text-decoration-color: #00af00\">0</span>]  │\n",
       "│ (<span style=\"color: #0087ff; text-decoration-color: #0087ff\">Dense</span>)             │                   │            │                   │\n",
       "├─────────────────────┼───────────────────┼────────────┼───────────────────┤\n",
       "│ match_outcome_outp… │ (<span style=\"color: #00d7ff; text-decoration-color: #00d7ff\">None</span>, <span style=\"color: #00af00; text-decoration-color: #00af00\">3</span>)         │         <span style=\"color: #00af00; text-decoration-color: #00af00\">99</span> │ classifier_hidde… │\n",
       "│ (<span style=\"color: #0087ff; text-decoration-color: #0087ff\">Dense</span>)             │                   │            │                   │\n",
       "└─────────────────────┴───────────────────┴────────────┴───────────────────┘\n",
       "</pre>\n"
      ],
      "text/plain": [
       "┏━━━━━━━━━━━━━━━━━━━━━┳━━━━━━━━━━━━━━━━━━━┳━━━━━━━━━━━━┳━━━━━━━━━━━━━━━━━━━┓\n",
       "┃\u001b[1m \u001b[0m\u001b[1mLayer (type)       \u001b[0m\u001b[1m \u001b[0m┃\u001b[1m \u001b[0m\u001b[1mOutput Shape     \u001b[0m\u001b[1m \u001b[0m┃\u001b[1m \u001b[0m\u001b[1m   Param #\u001b[0m\u001b[1m \u001b[0m┃\u001b[1m \u001b[0m\u001b[1mConnected to     \u001b[0m\u001b[1m \u001b[0m┃\n",
       "┡━━━━━━━━━━━━━━━━━━━━━╇━━━━━━━━━━━━━━━━━━━╇━━━━━━━━━━━━╇━━━━━━━━━━━━━━━━━━━┩\n",
       "│ main_input          │ (\u001b[38;5;45mNone\u001b[0m, \u001b[38;5;34m101\u001b[0m)       │          \u001b[38;5;34m0\u001b[0m │ -                 │\n",
       "│ (\u001b[38;5;33mInputLayer\u001b[0m)        │                   │            │                   │\n",
       "├─────────────────────┼───────────────────┼────────────┼───────────────────┤\n",
       "│ regressor_hidden_1  │ (\u001b[38;5;45mNone\u001b[0m, \u001b[38;5;34m64\u001b[0m)        │      \u001b[38;5;34m6,528\u001b[0m │ main_input[\u001b[38;5;34m0\u001b[0m][\u001b[38;5;34m0\u001b[0m]  │\n",
       "│ (\u001b[38;5;33mDense\u001b[0m)             │                   │            │                   │\n",
       "├─────────────────────┼───────────────────┼────────────┼───────────────────┤\n",
       "│ dropout_31          │ (\u001b[38;5;45mNone\u001b[0m, \u001b[38;5;34m64\u001b[0m)        │          \u001b[38;5;34m0\u001b[0m │ regressor_hidden… │\n",
       "│ (\u001b[38;5;33mDropout\u001b[0m)           │                   │            │                   │\n",
       "├─────────────────────┼───────────────────┼────────────┼───────────────────┤\n",
       "│ regressor_hidden_2  │ (\u001b[38;5;45mNone\u001b[0m, \u001b[38;5;34m32\u001b[0m)        │      \u001b[38;5;34m2,080\u001b[0m │ dropout_31[\u001b[38;5;34m0\u001b[0m][\u001b[38;5;34m0\u001b[0m]  │\n",
       "│ (\u001b[38;5;33mDense\u001b[0m)             │                   │            │                   │\n",
       "├─────────────────────┼───────────────────┼────────────┼───────────────────┤\n",
       "│ goal_difference_ou… │ (\u001b[38;5;45mNone\u001b[0m, \u001b[38;5;34m1\u001b[0m)         │         \u001b[38;5;34m33\u001b[0m │ regressor_hidden… │\n",
       "│ (\u001b[38;5;33mDense\u001b[0m)             │                   │            │                   │\n",
       "├─────────────────────┼───────────────────┼────────────┼───────────────────┤\n",
       "│ concat_layer        │ (\u001b[38;5;45mNone\u001b[0m, \u001b[38;5;34m102\u001b[0m)       │          \u001b[38;5;34m0\u001b[0m │ main_input[\u001b[38;5;34m0\u001b[0m][\u001b[38;5;34m0\u001b[0m], │\n",
       "│ (\u001b[38;5;33mConcatenate\u001b[0m)       │                   │            │ goal_difference_… │\n",
       "├─────────────────────┼───────────────────┼────────────┼───────────────────┤\n",
       "│ classifier_hidden_1 │ (\u001b[38;5;45mNone\u001b[0m, \u001b[38;5;34m64\u001b[0m)        │      \u001b[38;5;34m6,592\u001b[0m │ concat_layer[\u001b[38;5;34m0\u001b[0m][\u001b[38;5;34m…\u001b[0m │\n",
       "│ (\u001b[38;5;33mDense\u001b[0m)             │                   │            │                   │\n",
       "├─────────────────────┼───────────────────┼────────────┼───────────────────┤\n",
       "│ dropout_32          │ (\u001b[38;5;45mNone\u001b[0m, \u001b[38;5;34m64\u001b[0m)        │          \u001b[38;5;34m0\u001b[0m │ classifier_hidde… │\n",
       "│ (\u001b[38;5;33mDropout\u001b[0m)           │                   │            │                   │\n",
       "├─────────────────────┼───────────────────┼────────────┼───────────────────┤\n",
       "│ classifier_hidden_2 │ (\u001b[38;5;45mNone\u001b[0m, \u001b[38;5;34m32\u001b[0m)        │      \u001b[38;5;34m2,080\u001b[0m │ dropout_32[\u001b[38;5;34m0\u001b[0m][\u001b[38;5;34m0\u001b[0m]  │\n",
       "│ (\u001b[38;5;33mDense\u001b[0m)             │                   │            │                   │\n",
       "├─────────────────────┼───────────────────┼────────────┼───────────────────┤\n",
       "│ match_outcome_outp… │ (\u001b[38;5;45mNone\u001b[0m, \u001b[38;5;34m3\u001b[0m)         │         \u001b[38;5;34m99\u001b[0m │ classifier_hidde… │\n",
       "│ (\u001b[38;5;33mDense\u001b[0m)             │                   │            │                   │\n",
       "└─────────────────────┴───────────────────┴────────────┴───────────────────┘\n"
      ]
     },
     "metadata": {},
     "output_type": "display_data"
    },
    {
     "data": {
      "text/html": [
       "<pre style=\"white-space:pre;overflow-x:auto;line-height:normal;font-family:Menlo,'DejaVu Sans Mono',consolas,'Courier New',monospace\"><span style=\"font-weight: bold\"> Total params: </span><span style=\"color: #00af00; text-decoration-color: #00af00\">17,412</span> (68.02 KB)\n",
       "</pre>\n"
      ],
      "text/plain": [
       "\u001b[1m Total params: \u001b[0m\u001b[38;5;34m17,412\u001b[0m (68.02 KB)\n"
      ]
     },
     "metadata": {},
     "output_type": "display_data"
    },
    {
     "data": {
      "text/html": [
       "<pre style=\"white-space:pre;overflow-x:auto;line-height:normal;font-family:Menlo,'DejaVu Sans Mono',consolas,'Courier New',monospace\"><span style=\"font-weight: bold\"> Trainable params: </span><span style=\"color: #00af00; text-decoration-color: #00af00\">17,412</span> (68.02 KB)\n",
       "</pre>\n"
      ],
      "text/plain": [
       "\u001b[1m Trainable params: \u001b[0m\u001b[38;5;34m17,412\u001b[0m (68.02 KB)\n"
      ]
     },
     "metadata": {},
     "output_type": "display_data"
    },
    {
     "data": {
      "text/html": [
       "<pre style=\"white-space:pre;overflow-x:auto;line-height:normal;font-family:Menlo,'DejaVu Sans Mono',consolas,'Courier New',monospace\"><span style=\"font-weight: bold\"> Non-trainable params: </span><span style=\"color: #00af00; text-decoration-color: #00af00\">0</span> (0.00 B)\n",
       "</pre>\n"
      ],
      "text/plain": [
       "\u001b[1m Non-trainable params: \u001b[0m\u001b[38;5;34m0\u001b[0m (0.00 B)\n"
      ]
     },
     "metadata": {},
     "output_type": "display_data"
    },
    {
     "name": "stdout",
     "output_type": "stream",
     "text": [
      "None\n"
     ]
    }
   ],
   "source": [
    "hybrid_model = create_hybrid_model(input_dim)\n",
    "print(hybrid_model.summary())"
   ]
  },
  {
   "cell_type": "code",
   "execution_count": 95,
   "metadata": {},
   "outputs": [
    {
     "name": "stdout",
     "output_type": "stream",
     "text": [
      "Epoch 1/50\n",
      "\u001b[1m200/200\u001b[0m \u001b[32m━━━━━━━━━━━━━━━━━━━━\u001b[0m\u001b[37m\u001b[0m \u001b[1m1s\u001b[0m 2ms/step - goal_difference_output_loss: 0.9063 - goal_difference_output_mae: 0.7899 - loss: 1.9898 - match_outcome_output_accuracy: 0.4654 - match_outcome_output_loss: 1.0835 - val_goal_difference_output_loss: 0.6444 - val_goal_difference_output_mae: 0.6836 - val_loss: 1.6088 - val_match_outcome_output_accuracy: 0.5583 - val_match_outcome_output_loss: 0.9640\n",
      "Epoch 2/50\n",
      "\u001b[1m200/200\u001b[0m \u001b[32m━━━━━━━━━━━━━━━━━━━━\u001b[0m\u001b[37m\u001b[0m \u001b[1m0s\u001b[0m 1ms/step - goal_difference_output_loss: 0.5976 - goal_difference_output_mae: 0.6549 - loss: 1.5428 - match_outcome_output_accuracy: 0.5488 - match_outcome_output_loss: 0.9452 - val_goal_difference_output_loss: 0.6554 - val_goal_difference_output_mae: 0.6717 - val_loss: 1.6074 - val_match_outcome_output_accuracy: 0.5702 - val_match_outcome_output_loss: 0.9513\n",
      "Epoch 3/50\n",
      "\u001b[1m200/200\u001b[0m \u001b[32m━━━━━━━━━━━━━━━━━━━━\u001b[0m\u001b[37m\u001b[0m \u001b[1m0s\u001b[0m 1ms/step - goal_difference_output_loss: 0.5646 - goal_difference_output_mae: 0.6334 - loss: 1.4644 - match_outcome_output_accuracy: 0.5843 - match_outcome_output_loss: 0.8998 - val_goal_difference_output_loss: 0.5993 - val_goal_difference_output_mae: 0.6571 - val_loss: 1.5357 - val_match_outcome_output_accuracy: 0.5752 - val_match_outcome_output_loss: 0.9360\n",
      "Epoch 4/50\n",
      "\u001b[1m200/200\u001b[0m \u001b[32m━━━━━━━━━━━━━━━━━━━━\u001b[0m\u001b[37m\u001b[0m \u001b[1m0s\u001b[0m 1ms/step - goal_difference_output_loss: 0.5279 - goal_difference_output_mae: 0.6108 - loss: 1.4019 - match_outcome_output_accuracy: 0.5918 - match_outcome_output_loss: 0.8740 - val_goal_difference_output_loss: 0.6190 - val_goal_difference_output_mae: 0.6556 - val_loss: 1.5510 - val_match_outcome_output_accuracy: 0.5783 - val_match_outcome_output_loss: 0.9313\n",
      "Epoch 5/50\n",
      "\u001b[1m200/200\u001b[0m \u001b[32m━━━━━━━━━━━━━━━━━━━━\u001b[0m\u001b[37m\u001b[0m \u001b[1m0s\u001b[0m 1ms/step - goal_difference_output_loss: 0.5156 - goal_difference_output_mae: 0.6036 - loss: 1.3712 - match_outcome_output_accuracy: 0.6083 - match_outcome_output_loss: 0.8557 - val_goal_difference_output_loss: 0.5815 - val_goal_difference_output_mae: 0.6392 - val_loss: 1.5082 - val_match_outcome_output_accuracy: 0.5783 - val_match_outcome_output_loss: 0.9261\n",
      "Epoch 6/50\n",
      "\u001b[1m200/200\u001b[0m \u001b[32m━━━━━━━━━━━━━━━━━━━━\u001b[0m\u001b[37m\u001b[0m \u001b[1m0s\u001b[0m 1ms/step - goal_difference_output_loss: 0.4936 - goal_difference_output_mae: 0.5861 - loss: 1.3418 - match_outcome_output_accuracy: 0.6057 - match_outcome_output_loss: 0.8482 - val_goal_difference_output_loss: 0.5778 - val_goal_difference_output_mae: 0.6389 - val_loss: 1.5051 - val_match_outcome_output_accuracy: 0.5758 - val_match_outcome_output_loss: 0.9267\n",
      "Epoch 7/50\n",
      "\u001b[1m200/200\u001b[0m \u001b[32m━━━━━━━━━━━━━━━━━━━━\u001b[0m\u001b[37m\u001b[0m \u001b[1m0s\u001b[0m 1ms/step - goal_difference_output_loss: 0.4943 - goal_difference_output_mae: 0.5870 - loss: 1.3302 - match_outcome_output_accuracy: 0.6187 - match_outcome_output_loss: 0.8360 - val_goal_difference_output_loss: 0.5748 - val_goal_difference_output_mae: 0.6335 - val_loss: 1.5041 - val_match_outcome_output_accuracy: 0.5708 - val_match_outcome_output_loss: 0.9287\n",
      "Epoch 8/50\n",
      "\u001b[1m200/200\u001b[0m \u001b[32m━━━━━━━━━━━━━━━━━━━━\u001b[0m\u001b[37m\u001b[0m \u001b[1m0s\u001b[0m 1ms/step - goal_difference_output_loss: 0.4688 - goal_difference_output_mae: 0.5671 - loss: 1.2817 - match_outcome_output_accuracy: 0.6394 - match_outcome_output_loss: 0.8130 - val_goal_difference_output_loss: 0.5633 - val_goal_difference_output_mae: 0.6401 - val_loss: 1.5016 - val_match_outcome_output_accuracy: 0.5589 - val_match_outcome_output_loss: 0.9380\n",
      "Epoch 9/50\n",
      "\u001b[1m200/200\u001b[0m \u001b[32m━━━━━━━━━━━━━━━━━━━━\u001b[0m\u001b[37m\u001b[0m \u001b[1m0s\u001b[0m 1ms/step - goal_difference_output_loss: 0.4615 - goal_difference_output_mae: 0.5643 - loss: 1.2750 - match_outcome_output_accuracy: 0.6293 - match_outcome_output_loss: 0.8135 - val_goal_difference_output_loss: 0.5936 - val_goal_difference_output_mae: 0.6426 - val_loss: 1.5476 - val_match_outcome_output_accuracy: 0.5689 - val_match_outcome_output_loss: 0.9530\n",
      "Epoch 10/50\n",
      "\u001b[1m200/200\u001b[0m \u001b[32m━━━━━━━━━━━━━━━━━━━━\u001b[0m\u001b[37m\u001b[0m \u001b[1m0s\u001b[0m 1ms/step - goal_difference_output_loss: 0.4704 - goal_difference_output_mae: 0.5718 - loss: 1.2864 - match_outcome_output_accuracy: 0.6176 - match_outcome_output_loss: 0.8160 - val_goal_difference_output_loss: 0.5737 - val_goal_difference_output_mae: 0.6401 - val_loss: 1.5312 - val_match_outcome_output_accuracy: 0.5614 - val_match_outcome_output_loss: 0.9569\n",
      "Epoch 11/50\n",
      "\u001b[1m200/200\u001b[0m \u001b[32m━━━━━━━━━━━━━━━━━━━━\u001b[0m\u001b[37m\u001b[0m \u001b[1m0s\u001b[0m 1ms/step - goal_difference_output_loss: 0.4520 - goal_difference_output_mae: 0.5556 - loss: 1.2397 - match_outcome_output_accuracy: 0.6420 - match_outcome_output_loss: 0.7877 - val_goal_difference_output_loss: 0.5830 - val_goal_difference_output_mae: 0.6448 - val_loss: 1.5533 - val_match_outcome_output_accuracy: 0.5476 - val_match_outcome_output_loss: 0.9695\n",
      "Epoch 12/50\n",
      "\u001b[1m200/200\u001b[0m \u001b[32m━━━━━━━━━━━━━━━━━━━━\u001b[0m\u001b[37m\u001b[0m \u001b[1m0s\u001b[0m 1ms/step - goal_difference_output_loss: 0.4529 - goal_difference_output_mae: 0.5559 - loss: 1.2335 - match_outcome_output_accuracy: 0.6553 - match_outcome_output_loss: 0.7806 - val_goal_difference_output_loss: 0.5865 - val_goal_difference_output_mae: 0.6457 - val_loss: 1.5543 - val_match_outcome_output_accuracy: 0.5514 - val_match_outcome_output_loss: 0.9673\n",
      "Epoch 13/50\n",
      "\u001b[1m200/200\u001b[0m \u001b[32m━━━━━━━━━━━━━━━━━━━━\u001b[0m\u001b[37m\u001b[0m \u001b[1m0s\u001b[0m 1ms/step - goal_difference_output_loss: 0.4385 - goal_difference_output_mae: 0.5429 - loss: 1.2161 - match_outcome_output_accuracy: 0.6508 - match_outcome_output_loss: 0.7776 - val_goal_difference_output_loss: 0.5725 - val_goal_difference_output_mae: 0.6348 - val_loss: 1.5475 - val_match_outcome_output_accuracy: 0.5658 - val_match_outcome_output_loss: 0.9747\n",
      "Epoch 14/50\n",
      "\u001b[1m200/200\u001b[0m \u001b[32m━━━━━━━━━━━━━━━━━━━━\u001b[0m\u001b[37m\u001b[0m \u001b[1m0s\u001b[0m 1ms/step - goal_difference_output_loss: 0.4455 - goal_difference_output_mae: 0.5530 - loss: 1.2264 - match_outcome_output_accuracy: 0.6483 - match_outcome_output_loss: 0.7809 - val_goal_difference_output_loss: 0.5869 - val_goal_difference_output_mae: 0.6387 - val_loss: 1.5808 - val_match_outcome_output_accuracy: 0.5595 - val_match_outcome_output_loss: 0.9935\n",
      "Epoch 15/50\n",
      "\u001b[1m200/200\u001b[0m \u001b[32m━━━━━━━━━━━━━━━━━━━━\u001b[0m\u001b[37m\u001b[0m \u001b[1m0s\u001b[0m 1ms/step - goal_difference_output_loss: 0.4419 - goal_difference_output_mae: 0.5456 - loss: 1.1994 - match_outcome_output_accuracy: 0.6582 - match_outcome_output_loss: 0.7575 - val_goal_difference_output_loss: 0.5803 - val_goal_difference_output_mae: 0.6328 - val_loss: 1.5833 - val_match_outcome_output_accuracy: 0.5620 - val_match_outcome_output_loss: 1.0025\n",
      "Epoch 16/50\n",
      "\u001b[1m200/200\u001b[0m \u001b[32m━━━━━━━━━━━━━━━━━━━━\u001b[0m\u001b[37m\u001b[0m \u001b[1m0s\u001b[0m 1ms/step - goal_difference_output_loss: 0.4212 - goal_difference_output_mae: 0.5331 - loss: 1.1638 - match_outcome_output_accuracy: 0.6756 - match_outcome_output_loss: 0.7426 - val_goal_difference_output_loss: 0.5964 - val_goal_difference_output_mae: 0.6433 - val_loss: 1.6092 - val_match_outcome_output_accuracy: 0.5576 - val_match_outcome_output_loss: 1.0124\n",
      "Epoch 17/50\n",
      "\u001b[1m200/200\u001b[0m \u001b[32m━━━━━━━━━━━━━━━━━━━━\u001b[0m\u001b[37m\u001b[0m \u001b[1m0s\u001b[0m 1ms/step - goal_difference_output_loss: 0.4302 - goal_difference_output_mae: 0.5385 - loss: 1.1800 - match_outcome_output_accuracy: 0.6653 - match_outcome_output_loss: 0.7498 - val_goal_difference_output_loss: 0.6128 - val_goal_difference_output_mae: 0.6539 - val_loss: 1.6453 - val_match_outcome_output_accuracy: 0.5457 - val_match_outcome_output_loss: 1.0328\n",
      "Epoch 18/50\n",
      "\u001b[1m200/200\u001b[0m \u001b[32m━━━━━━━━━━━━━━━━━━━━\u001b[0m\u001b[37m\u001b[0m \u001b[1m0s\u001b[0m 1ms/step - goal_difference_output_loss: 0.4185 - goal_difference_output_mae: 0.5286 - loss: 1.1487 - match_outcome_output_accuracy: 0.6796 - match_outcome_output_loss: 0.7303 - val_goal_difference_output_loss: 0.5940 - val_goal_difference_output_mae: 0.6383 - val_loss: 1.6273 - val_match_outcome_output_accuracy: 0.5476 - val_match_outcome_output_loss: 1.0331\n",
      "Epoch 19/50\n",
      "\u001b[1m200/200\u001b[0m \u001b[32m━━━━━━━━━━━━━━━━━━━━\u001b[0m\u001b[37m\u001b[0m \u001b[1m0s\u001b[0m 1ms/step - goal_difference_output_loss: 0.4228 - goal_difference_output_mae: 0.5352 - loss: 1.1472 - match_outcome_output_accuracy: 0.6794 - match_outcome_output_loss: 0.7244 - val_goal_difference_output_loss: 0.6260 - val_goal_difference_output_mae: 0.6574 - val_loss: 1.7054 - val_match_outcome_output_accuracy: 0.5445 - val_match_outcome_output_loss: 1.0791\n",
      "Epoch 20/50\n",
      "\u001b[1m200/200\u001b[0m \u001b[32m━━━━━━━━━━━━━━━━━━━━\u001b[0m\u001b[37m\u001b[0m \u001b[1m0s\u001b[0m 1ms/step - goal_difference_output_loss: 0.4057 - goal_difference_output_mae: 0.5201 - loss: 1.1191 - match_outcome_output_accuracy: 0.6875 - match_outcome_output_loss: 0.7135 - val_goal_difference_output_loss: 0.6087 - val_goal_difference_output_mae: 0.6496 - val_loss: 1.6676 - val_match_outcome_output_accuracy: 0.5420 - val_match_outcome_output_loss: 1.0584\n",
      "Epoch 21/50\n",
      "\u001b[1m200/200\u001b[0m \u001b[32m━━━━━━━━━━━━━━━━━━━━\u001b[0m\u001b[37m\u001b[0m \u001b[1m0s\u001b[0m 1ms/step - goal_difference_output_loss: 0.4024 - goal_difference_output_mae: 0.5177 - loss: 1.1211 - match_outcome_output_accuracy: 0.6795 - match_outcome_output_loss: 0.7187 - val_goal_difference_output_loss: 0.6285 - val_goal_difference_output_mae: 0.6525 - val_loss: 1.7357 - val_match_outcome_output_accuracy: 0.5439 - val_match_outcome_output_loss: 1.1064\n",
      "Epoch 22/50\n",
      "\u001b[1m200/200\u001b[0m \u001b[32m━━━━━━━━━━━━━━━━━━━━\u001b[0m\u001b[37m\u001b[0m \u001b[1m0s\u001b[0m 1ms/step - goal_difference_output_loss: 0.4101 - goal_difference_output_mae: 0.5212 - loss: 1.1089 - match_outcome_output_accuracy: 0.6959 - match_outcome_output_loss: 0.6989 - val_goal_difference_output_loss: 0.6254 - val_goal_difference_output_mae: 0.6482 - val_loss: 1.7331 - val_match_outcome_output_accuracy: 0.5439 - val_match_outcome_output_loss: 1.1065\n",
      "Epoch 23/50\n",
      "\u001b[1m200/200\u001b[0m \u001b[32m━━━━━━━━━━━━━━━━━━━━\u001b[0m\u001b[37m\u001b[0m \u001b[1m0s\u001b[0m 1ms/step - goal_difference_output_loss: 0.3953 - goal_difference_output_mae: 0.5097 - loss: 1.0849 - match_outcome_output_accuracy: 0.7039 - match_outcome_output_loss: 0.6896 - val_goal_difference_output_loss: 0.6117 - val_goal_difference_output_mae: 0.6454 - val_loss: 1.7140 - val_match_outcome_output_accuracy: 0.5414 - val_match_outcome_output_loss: 1.1013\n",
      "Epoch 24/50\n",
      "\u001b[1m200/200\u001b[0m \u001b[32m━━━━━━━━━━━━━━━━━━━━\u001b[0m\u001b[37m\u001b[0m \u001b[1m0s\u001b[0m 1ms/step - goal_difference_output_loss: 0.3959 - goal_difference_output_mae: 0.5146 - loss: 1.0834 - match_outcome_output_accuracy: 0.6951 - match_outcome_output_loss: 0.6875 - val_goal_difference_output_loss: 0.6207 - val_goal_difference_output_mae: 0.6497 - val_loss: 1.7372 - val_match_outcome_output_accuracy: 0.5464 - val_match_outcome_output_loss: 1.1158\n",
      "Epoch 25/50\n",
      "\u001b[1m200/200\u001b[0m \u001b[32m━━━━━━━━━━━━━━━━━━━━\u001b[0m\u001b[37m\u001b[0m \u001b[1m0s\u001b[0m 1ms/step - goal_difference_output_loss: 0.3933 - goal_difference_output_mae: 0.5106 - loss: 1.0632 - match_outcome_output_accuracy: 0.7144 - match_outcome_output_loss: 0.6699 - val_goal_difference_output_loss: 0.6329 - val_goal_difference_output_mae: 0.6547 - val_loss: 1.7622 - val_match_outcome_output_accuracy: 0.5439 - val_match_outcome_output_loss: 1.1288\n",
      "Epoch 26/50\n",
      "\u001b[1m200/200\u001b[0m \u001b[32m━━━━━━━━━━━━━━━━━━━━\u001b[0m\u001b[37m\u001b[0m \u001b[1m0s\u001b[0m 1ms/step - goal_difference_output_loss: 0.3942 - goal_difference_output_mae: 0.5141 - loss: 1.0605 - match_outcome_output_accuracy: 0.7131 - match_outcome_output_loss: 0.6663 - val_goal_difference_output_loss: 0.6394 - val_goal_difference_output_mae: 0.6565 - val_loss: 1.8117 - val_match_outcome_output_accuracy: 0.5445 - val_match_outcome_output_loss: 1.1712\n",
      "Epoch 27/50\n",
      "\u001b[1m200/200\u001b[0m \u001b[32m━━━━━━━━━━━━━━━━━━━━\u001b[0m\u001b[37m\u001b[0m \u001b[1m0s\u001b[0m 1ms/step - goal_difference_output_loss: 0.3735 - goal_difference_output_mae: 0.4968 - loss: 1.0390 - match_outcome_output_accuracy: 0.7067 - match_outcome_output_loss: 0.6655 - val_goal_difference_output_loss: 0.6496 - val_goal_difference_output_mae: 0.6558 - val_loss: 1.8369 - val_match_outcome_output_accuracy: 0.5382 - val_match_outcome_output_loss: 1.1866\n",
      "Epoch 28/50\n",
      "\u001b[1m200/200\u001b[0m \u001b[32m━━━━━━━━━━━━━━━━━━━━\u001b[0m\u001b[37m\u001b[0m \u001b[1m0s\u001b[0m 1ms/step - goal_difference_output_loss: 0.3991 - goal_difference_output_mae: 0.5172 - loss: 1.0715 - match_outcome_output_accuracy: 0.7055 - match_outcome_output_loss: 0.6724 - val_goal_difference_output_loss: 0.6497 - val_goal_difference_output_mae: 0.6570 - val_loss: 1.8322 - val_match_outcome_output_accuracy: 0.5420 - val_match_outcome_output_loss: 1.1816\n",
      "Epoch 29/50\n",
      "\u001b[1m200/200\u001b[0m \u001b[32m━━━━━━━━━━━━━━━━━━━━\u001b[0m\u001b[37m\u001b[0m \u001b[1m0s\u001b[0m 1ms/step - goal_difference_output_loss: 0.3787 - goal_difference_output_mae: 0.4982 - loss: 1.0089 - match_outcome_output_accuracy: 0.7328 - match_outcome_output_loss: 0.6303 - val_goal_difference_output_loss: 0.6839 - val_goal_difference_output_mae: 0.6746 - val_loss: 1.8827 - val_match_outcome_output_accuracy: 0.5439 - val_match_outcome_output_loss: 1.1984\n",
      "Epoch 30/50\n",
      "\u001b[1m200/200\u001b[0m \u001b[32m━━━━━━━━━━━━━━━━━━━━\u001b[0m\u001b[37m\u001b[0m \u001b[1m0s\u001b[0m 1ms/step - goal_difference_output_loss: 0.3788 - goal_difference_output_mae: 0.4990 - loss: 1.0376 - match_outcome_output_accuracy: 0.7148 - match_outcome_output_loss: 0.6588 - val_goal_difference_output_loss: 0.6569 - val_goal_difference_output_mae: 0.6581 - val_loss: 1.9096 - val_match_outcome_output_accuracy: 0.5432 - val_match_outcome_output_loss: 1.2509\n",
      "Epoch 31/50\n",
      "\u001b[1m200/200\u001b[0m \u001b[32m━━━━━━━━━━━━━━━━━━━━\u001b[0m\u001b[37m\u001b[0m \u001b[1m0s\u001b[0m 1ms/step - goal_difference_output_loss: 0.3807 - goal_difference_output_mae: 0.5035 - loss: 1.0174 - match_outcome_output_accuracy: 0.7147 - match_outcome_output_loss: 0.6367 - val_goal_difference_output_loss: 0.6915 - val_goal_difference_output_mae: 0.6796 - val_loss: 1.9171 - val_match_outcome_output_accuracy: 0.5288 - val_match_outcome_output_loss: 1.2245\n",
      "Epoch 32/50\n",
      "\u001b[1m200/200\u001b[0m \u001b[32m━━━━━━━━━━━━━━━━━━━━\u001b[0m\u001b[37m\u001b[0m \u001b[1m0s\u001b[0m 1ms/step - goal_difference_output_loss: 0.3666 - goal_difference_output_mae: 0.4920 - loss: 0.9877 - match_outcome_output_accuracy: 0.7313 - match_outcome_output_loss: 0.6211 - val_goal_difference_output_loss: 0.6775 - val_goal_difference_output_mae: 0.6618 - val_loss: 1.8967 - val_match_outcome_output_accuracy: 0.5407 - val_match_outcome_output_loss: 1.2178\n",
      "Epoch 33/50\n",
      "\u001b[1m200/200\u001b[0m \u001b[32m━━━━━━━━━━━━━━━━━━━━\u001b[0m\u001b[37m\u001b[0m \u001b[1m0s\u001b[0m 1ms/step - goal_difference_output_loss: 0.3626 - goal_difference_output_mae: 0.4895 - loss: 0.9701 - match_outcome_output_accuracy: 0.7479 - match_outcome_output_loss: 0.6075 - val_goal_difference_output_loss: 0.7469 - val_goal_difference_output_mae: 0.7013 - val_loss: 2.0232 - val_match_outcome_output_accuracy: 0.5282 - val_match_outcome_output_loss: 1.2756\n",
      "Epoch 34/50\n",
      "\u001b[1m200/200\u001b[0m \u001b[32m━━━━━━━━━━━━━━━━━━━━\u001b[0m\u001b[37m\u001b[0m \u001b[1m0s\u001b[0m 1ms/step - goal_difference_output_loss: 0.3714 - goal_difference_output_mae: 0.4968 - loss: 0.9854 - match_outcome_output_accuracy: 0.7326 - match_outcome_output_loss: 0.6139 - val_goal_difference_output_loss: 0.6937 - val_goal_difference_output_mae: 0.6723 - val_loss: 2.0070 - val_match_outcome_output_accuracy: 0.5420 - val_match_outcome_output_loss: 1.3117\n",
      "Epoch 35/50\n",
      "\u001b[1m200/200\u001b[0m \u001b[32m━━━━━━━━━━━━━━━━━━━━\u001b[0m\u001b[37m\u001b[0m \u001b[1m0s\u001b[0m 1ms/step - goal_difference_output_loss: 0.3631 - goal_difference_output_mae: 0.4861 - loss: 0.9828 - match_outcome_output_accuracy: 0.7317 - match_outcome_output_loss: 0.6197 - val_goal_difference_output_loss: 0.6893 - val_goal_difference_output_mae: 0.6747 - val_loss: 1.9710 - val_match_outcome_output_accuracy: 0.5508 - val_match_outcome_output_loss: 1.2802\n",
      "Epoch 36/50\n",
      "\u001b[1m200/200\u001b[0m \u001b[32m━━━━━━━━━━━━━━━━━━━━\u001b[0m\u001b[37m\u001b[0m \u001b[1m0s\u001b[0m 1ms/step - goal_difference_output_loss: 0.3717 - goal_difference_output_mae: 0.4957 - loss: 0.9794 - match_outcome_output_accuracy: 0.7368 - match_outcome_output_loss: 0.6077 - val_goal_difference_output_loss: 0.6868 - val_goal_difference_output_mae: 0.6729 - val_loss: 1.9786 - val_match_outcome_output_accuracy: 0.5426 - val_match_outcome_output_loss: 1.2905\n",
      "Epoch 37/50\n",
      "\u001b[1m200/200\u001b[0m \u001b[32m━━━━━━━━━━━━━━━━━━━━\u001b[0m\u001b[37m\u001b[0m \u001b[1m0s\u001b[0m 1ms/step - goal_difference_output_loss: 0.3552 - goal_difference_output_mae: 0.4853 - loss: 0.9442 - match_outcome_output_accuracy: 0.7485 - match_outcome_output_loss: 0.5890 - val_goal_difference_output_loss: 0.6647 - val_goal_difference_output_mae: 0.6566 - val_loss: 2.0777 - val_match_outcome_output_accuracy: 0.5482 - val_match_outcome_output_loss: 1.4113\n",
      "Epoch 38/50\n",
      "\u001b[1m200/200\u001b[0m \u001b[32m━━━━━━━━━━━━━━━━━━━━\u001b[0m\u001b[37m\u001b[0m \u001b[1m0s\u001b[0m 1ms/step - goal_difference_output_loss: 0.3531 - goal_difference_output_mae: 0.4820 - loss: 0.9522 - match_outcome_output_accuracy: 0.7397 - match_outcome_output_loss: 0.5991 - val_goal_difference_output_loss: 0.7018 - val_goal_difference_output_mae: 0.6724 - val_loss: 2.0330 - val_match_outcome_output_accuracy: 0.5482 - val_match_outcome_output_loss: 1.3297\n",
      "Epoch 39/50\n",
      "\u001b[1m200/200\u001b[0m \u001b[32m━━━━━━━━━━━━━━━━━━━━\u001b[0m\u001b[37m\u001b[0m \u001b[1m0s\u001b[0m 1ms/step - goal_difference_output_loss: 0.3635 - goal_difference_output_mae: 0.4892 - loss: 0.9553 - match_outcome_output_accuracy: 0.7617 - match_outcome_output_loss: 0.5918 - val_goal_difference_output_loss: 0.6915 - val_goal_difference_output_mae: 0.6723 - val_loss: 2.0902 - val_match_outcome_output_accuracy: 0.5257 - val_match_outcome_output_loss: 1.3968\n",
      "Epoch 40/50\n",
      "\u001b[1m200/200\u001b[0m \u001b[32m━━━━━━━━━━━━━━━━━━━━\u001b[0m\u001b[37m\u001b[0m \u001b[1m0s\u001b[0m 1ms/step - goal_difference_output_loss: 0.3511 - goal_difference_output_mae: 0.4805 - loss: 0.9409 - match_outcome_output_accuracy: 0.7435 - match_outcome_output_loss: 0.5898 - val_goal_difference_output_loss: 0.6583 - val_goal_difference_output_mae: 0.6601 - val_loss: 2.1100 - val_match_outcome_output_accuracy: 0.5395 - val_match_outcome_output_loss: 1.4499\n",
      "Epoch 41/50\n",
      "\u001b[1m200/200\u001b[0m \u001b[32m━━━━━━━━━━━━━━━━━━━━\u001b[0m\u001b[37m\u001b[0m \u001b[1m0s\u001b[0m 1ms/step - goal_difference_output_loss: 0.3603 - goal_difference_output_mae: 0.4821 - loss: 0.9484 - match_outcome_output_accuracy: 0.7445 - match_outcome_output_loss: 0.5881 - val_goal_difference_output_loss: 0.6670 - val_goal_difference_output_mae: 0.6590 - val_loss: 2.1235 - val_match_outcome_output_accuracy: 0.5501 - val_match_outcome_output_loss: 1.4546\n",
      "Epoch 42/50\n",
      "\u001b[1m200/200\u001b[0m \u001b[32m━━━━━━━━━━━━━━━━━━━━\u001b[0m\u001b[37m\u001b[0m \u001b[1m0s\u001b[0m 1ms/step - goal_difference_output_loss: 0.3536 - goal_difference_output_mae: 0.4849 - loss: 0.9338 - match_outcome_output_accuracy: 0.7535 - match_outcome_output_loss: 0.5802 - val_goal_difference_output_loss: 0.6511 - val_goal_difference_output_mae: 0.6577 - val_loss: 2.1485 - val_match_outcome_output_accuracy: 0.5320 - val_match_outcome_output_loss: 1.4954\n",
      "Epoch 43/50\n",
      "\u001b[1m200/200\u001b[0m \u001b[32m━━━━━━━━━━━━━━━━━━━━\u001b[0m\u001b[37m\u001b[0m \u001b[1m0s\u001b[0m 1ms/step - goal_difference_output_loss: 0.3427 - goal_difference_output_mae: 0.4740 - loss: 0.9038 - match_outcome_output_accuracy: 0.7583 - match_outcome_output_loss: 0.5611 - val_goal_difference_output_loss: 0.7126 - val_goal_difference_output_mae: 0.6866 - val_loss: 2.1283 - val_match_outcome_output_accuracy: 0.5282 - val_match_outcome_output_loss: 1.4140\n",
      "Epoch 44/50\n",
      "\u001b[1m200/200\u001b[0m \u001b[32m━━━━━━━━━━━━━━━━━━━━\u001b[0m\u001b[37m\u001b[0m \u001b[1m0s\u001b[0m 1ms/step - goal_difference_output_loss: 0.3502 - goal_difference_output_mae: 0.4778 - loss: 0.9176 - match_outcome_output_accuracy: 0.7619 - match_outcome_output_loss: 0.5675 - val_goal_difference_output_loss: 0.6830 - val_goal_difference_output_mae: 0.6758 - val_loss: 2.0925 - val_match_outcome_output_accuracy: 0.5395 - val_match_outcome_output_loss: 1.4076\n",
      "Epoch 45/50\n",
      "\u001b[1m200/200\u001b[0m \u001b[32m━━━━━━━━━━━━━━━━━━━━\u001b[0m\u001b[37m\u001b[0m \u001b[1m0s\u001b[0m 1ms/step - goal_difference_output_loss: 0.3522 - goal_difference_output_mae: 0.4806 - loss: 0.9271 - match_outcome_output_accuracy: 0.7489 - match_outcome_output_loss: 0.5750 - val_goal_difference_output_loss: 0.6738 - val_goal_difference_output_mae: 0.6702 - val_loss: 2.1928 - val_match_outcome_output_accuracy: 0.5288 - val_match_outcome_output_loss: 1.5174\n",
      "Epoch 46/50\n",
      "\u001b[1m200/200\u001b[0m \u001b[32m━━━━━━━━━━━━━━━━━━━━\u001b[0m\u001b[37m\u001b[0m \u001b[1m0s\u001b[0m 1ms/step - goal_difference_output_loss: 0.3468 - goal_difference_output_mae: 0.4761 - loss: 0.9187 - match_outcome_output_accuracy: 0.7538 - match_outcome_output_loss: 0.5719 - val_goal_difference_output_loss: 0.6774 - val_goal_difference_output_mae: 0.6722 - val_loss: 2.2866 - val_match_outcome_output_accuracy: 0.5238 - val_match_outcome_output_loss: 1.6080\n",
      "Epoch 47/50\n",
      "\u001b[1m200/200\u001b[0m \u001b[32m━━━━━━━━━━━━━━━━━━━━\u001b[0m\u001b[37m\u001b[0m \u001b[1m0s\u001b[0m 1ms/step - goal_difference_output_loss: 0.3378 - goal_difference_output_mae: 0.4705 - loss: 0.8839 - match_outcome_output_accuracy: 0.7704 - match_outcome_output_loss: 0.5461 - val_goal_difference_output_loss: 0.6906 - val_goal_difference_output_mae: 0.6741 - val_loss: 2.2466 - val_match_outcome_output_accuracy: 0.5351 - val_match_outcome_output_loss: 1.5542\n",
      "Epoch 48/50\n",
      "\u001b[1m200/200\u001b[0m \u001b[32m━━━━━━━━━━━━━━━━━━━━\u001b[0m\u001b[37m\u001b[0m \u001b[1m0s\u001b[0m 1ms/step - goal_difference_output_loss: 0.3465 - goal_difference_output_mae: 0.4753 - loss: 0.8993 - match_outcome_output_accuracy: 0.7611 - match_outcome_output_loss: 0.5528 - val_goal_difference_output_loss: 0.6817 - val_goal_difference_output_mae: 0.6743 - val_loss: 2.3480 - val_match_outcome_output_accuracy: 0.5251 - val_match_outcome_output_loss: 1.6645\n",
      "Epoch 49/50\n",
      "\u001b[1m200/200\u001b[0m \u001b[32m━━━━━━━━━━━━━━━━━━━━\u001b[0m\u001b[37m\u001b[0m \u001b[1m0s\u001b[0m 1ms/step - goal_difference_output_loss: 0.3376 - goal_difference_output_mae: 0.4679 - loss: 0.8651 - match_outcome_output_accuracy: 0.7820 - match_outcome_output_loss: 0.5276 - val_goal_difference_output_loss: 0.6779 - val_goal_difference_output_mae: 0.6673 - val_loss: 2.3169 - val_match_outcome_output_accuracy: 0.5257 - val_match_outcome_output_loss: 1.6373\n",
      "Epoch 50/50\n",
      "\u001b[1m200/200\u001b[0m \u001b[32m━━━━━━━━━━━━━━━━━━━━\u001b[0m\u001b[37m\u001b[0m \u001b[1m0s\u001b[0m 1ms/step - goal_difference_output_loss: 0.3191 - goal_difference_output_mae: 0.4526 - loss: 0.8464 - match_outcome_output_accuracy: 0.7709 - match_outcome_output_loss: 0.5274 - val_goal_difference_output_loss: 0.6687 - val_goal_difference_output_mae: 0.6691 - val_loss: 2.2868 - val_match_outcome_output_accuracy: 0.5207 - val_match_outcome_output_loss: 1.6166\n"
     ]
    }
   ],
   "source": [
    "history = hybrid_model.fit(\n",
    "    X_train,\n",
    "    {\"goal_difference_output\": y_train, \"match_outcome_output\": y_train.map({-1: 0, 0: 1, 1: 2})},\n",
    "    validation_split=0.2,\n",
    "    epochs=50,\n",
    "    batch_size=32,\n",
    "    verbose=1\n",
    ")"
   ]
  },
  {
   "cell_type": "code",
   "execution_count": 96,
   "metadata": {},
   "outputs": [
    {
     "name": "stdout",
     "output_type": "stream",
     "text": [
      "\u001b[1m12/12\u001b[0m \u001b[32m━━━━━━━━━━━━━━━━━━━━\u001b[0m\u001b[37m\u001b[0m \u001b[1m0s\u001b[0m 3ms/step \n"
     ]
    }
   ],
   "source": [
    "y_pred_gd, y_pred_cls = hybrid_model.predict(X_test)\n",
    "\n",
    "mapped_predictions_gd = map_result(y_pred_gd.flatten())\n",
    "mapped_predictions_cls = y_pred_cls.argmax(axis=1) - 1"
   ]
  },
  {
   "cell_type": "code",
   "execution_count": 97,
   "metadata": {},
   "outputs": [
    {
     "name": "stdout",
     "output_type": "stream",
     "text": [
      "Regression predictions:\n",
      "The accuracy of the model is 45.79%\n",
      "The accuracy of the model is 174 out of 380 games.\n",
      "\n",
      "With this model, the expected return on value would be 5861.80€\n"
     ]
    }
   ],
   "source": [
    "regr_accuracy, regr_won = data_aggregator.calculate_accuracy(regr_df, target, \"PredictedOutcome\")\n",
    "print(\"Regression predictions:\")\n",
    "print(f\"\"\"The accuracy of the model is {regr_accuracy:.2%}\n",
    "The accuracy of the model is {regr_accuracy*len(regr_df):.0f} out of {len(regr_df)} games.\n",
    "\"\"\")\n",
    "print(f\"With this model, the expected return on value would be {regr_won:.2f}€\")"
   ]
  },
  {
   "cell_type": "code",
   "execution_count": 98,
   "metadata": {},
   "outputs": [
    {
     "name": "stdout",
     "output_type": "stream",
     "text": [
      "Classification predictions:\n",
      "The accuracy of the model is 62.63%\n",
      "The accuracy of the model is 238 out of 380 games.\n",
      "\n",
      "With this model, the expected return on value would be 7791.50€\n"
     ]
    }
   ],
   "source": [
    "cls_accuracy, cls_won = data_aggregator.calculate_accuracy(cls_df, target, \"PredictedOutcome\")\n",
    "print(\"Classification predictions:\")\n",
    "print(f\"\"\"The accuracy of the model is {cls_accuracy:.2%}\n",
    "The accuracy of the model is {cls_accuracy*len(cls_df):.0f} out of {len(cls_df)} games.\n",
    "\"\"\")\n",
    "print(f\"With this model, the expected return on value would be {cls_won:.2f}€\")"
   ]
  },
  {
   "cell_type": "markdown",
   "metadata": {},
   "source": [
    "Well, as we can see from the output above, the model actually just ignores the predicted goal difference feature. Meaning that the dataset itself is good enough to predict the matches with approx 62% accuracy. In order to achieve better result, we should append more features, and maybe include more form data such as 3 game form, 5 game form, 10 game form, the form against a similar opponent previous..."
   ]
  },
  {
   "cell_type": "code",
   "execution_count": 100,
   "metadata": {},
   "outputs": [],
   "source": [
    "data_aggregator.save_metrics(\"nn_cls\", cls_accuracy, cls_won)\n",
    "data_aggregator.save_metrics(\"nn_regr\", regr_accuracy, regr_won)"
   ]
  }
 ],
 "metadata": {
  "kernelspec": {
   "display_name": "venv",
   "language": "python",
   "name": "python3"
  },
  "language_info": {
   "codemirror_mode": {
    "name": "ipython",
    "version": 3
   },
   "file_extension": ".py",
   "mimetype": "text/x-python",
   "name": "python",
   "nbconvert_exporter": "python",
   "pygments_lexer": "ipython3",
   "version": "3.12.2"
  }
 },
 "nbformat": 4,
 "nbformat_minor": 2
}
