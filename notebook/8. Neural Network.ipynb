{
 "cells": [
  {
   "cell_type": "code",
   "execution_count": 1,
   "metadata": {},
   "outputs": [],
   "source": [
    "# ============================================================\n",
    "# Notebook setup\n",
    "# ============================================================\n",
    "\n",
    "%load_ext autoreload\n",
    "%autoreload 2\n",
    "\n",
    "figsize=(14, 4)\n",
    "\n",
    "random_state = 42   \n",
    "\n",
    "from utils.data_visualizator import plot_confusion_matrix\n",
    "\n",
    "from utils import DataAggregator\n",
    "\n",
    "from sklearn.metrics import confusion_matrix, classification_report\n",
    "\n",
    "import tensorflow as tf\n",
    "import tensorflow.keras as keras\n",
    "from keras.models import Sequential, Model\n",
    "from keras.layers import Dense, Dropout, Input, Concatenate\n",
    "from keras.optimizers import Adam\n",
    "from tensorflow.keras.utils import to_categorical\n",
    "from tensorflow.keras.losses import MeanSquaredError, SparseCategoricalCrossentropy\n",
    "\n",
    "from sklearn.preprocessing import StandardScaler\n",
    "\n",
    "import pandas as pd"
   ]
  },
  {
   "cell_type": "code",
   "execution_count": 2,
   "metadata": {},
   "outputs": [],
   "source": [
    "data_aggregator = DataAggregator()"
   ]
  },
  {
   "cell_type": "code",
   "execution_count": 3,
   "metadata": {},
   "outputs": [],
   "source": [
    "df = data_aggregator.get_data([\"E0\"])\n",
    "df = data_aggregator.format_date(df, \"Date\")\n",
    "df = data_aggregator.encode_result(df,\n",
    "                        mapping={\"H\": 1, \"D\": 0, \"A\": -1}, \n",
    "                        result_column=\"FTR\")\n",
    "df = data_aggregator.create_form_data(df, form_window=5)\n",
    "df = data_aggregator.create_gd_feature(df)\n",
    "df.drop(columns=[\"Div\", \"FTHG\", \"FTAG\", \"HTHG\", \"HTAG\", \"HTR\", \"Referee\", \"HS\", \"AS\", \"HST\", \"AST\", \"HF\", \"AF\", \"HC\",\"AC\",\"HY\",\"AY\",\"HR\",\"AR\"], inplace=True)\n",
    "df = data_aggregator.one_hot_encode_teams(df, \"HomeTeam\", \"AwayTeam\")"
   ]
  },
  {
   "cell_type": "code",
   "execution_count": 4,
   "metadata": {},
   "outputs": [],
   "source": [
    "target = \"FTR\"\n",
    "GD_target = \"GD\"\n",
    "\n",
    "df_train = df[df[\"Date\"] < \"2023-07-01\"]\n",
    "df_test = df[df[\"Date\"] >= \"2023-07-01\"]\n",
    "df_test = df_test[df_test[\"Date\"] < \"2024-07-01\"]\n",
    "\n",
    "X_train = df_train.drop(columns=[target, \"Date\", \"FTR\", GD_target])\n",
    "y_train = df_train[target]\n",
    "y_train_gd = df_train[GD_target]\n",
    "X_test = df_test.drop(columns=[target, \"Date\", \"FTR\", GD_target])\n",
    "y_test = df_test[target]\n",
    "y_test_gd = df_test[GD_target]"
   ]
  },
  {
   "cell_type": "code",
   "execution_count": 5,
   "metadata": {},
   "outputs": [],
   "source": [
    "scaler = StandardScaler()\n",
    "\n",
    "X_train = scaler.fit_transform(X_train)\n",
    "X_test = scaler.transform(X_test)\n",
    "input_dim = X_train.shape[1]"
   ]
  },
  {
   "cell_type": "markdown",
   "metadata": {},
   "source": [
    "## Classifier\n",
    "First of all, we start by creating a neural network that will act as a classifier. We will use it to classify the matches into categorical \"Win\", \"Draw\" and \"Loss\"."
   ]
  },
  {
   "cell_type": "code",
   "execution_count": 6,
   "metadata": {},
   "outputs": [],
   "source": [
    "def create_classifier(input_dim):\n",
    "    model = Sequential([\n",
    "        Input(shape=(input_dim,)),\n",
    "        Dense(64, activation='relu'),\n",
    "        Dropout(0.2),\n",
    "        Dense(32, activation='relu'),\n",
    "        Dropout(0.2),\n",
    "        Dense(3, activation='softmax')\n",
    "    ])\n",
    "    model.compile(optimizer=Adam(learning_rate=0.001), loss='categorical_crossentropy', metrics=['accuracy'])\n",
    "    return model"
   ]
  },
  {
   "cell_type": "code",
   "execution_count": 7,
   "metadata": {},
   "outputs": [],
   "source": [
    "y_train_cls = to_categorical(y_train.map({-1: 0, 0: 1, 1: 2}))\n",
    "y_test_cls = to_categorical(y_test.map({-1: 0, 0: 1, 1: 2}))"
   ]
  },
  {
   "cell_type": "code",
   "execution_count": null,
   "metadata": {},
   "outputs": [
    {
     "data": {
      "text/html": [
       "<pre style=\"white-space:pre;overflow-x:auto;line-height:normal;font-family:Menlo,'DejaVu Sans Mono',consolas,'Courier New',monospace\"><span style=\"font-weight: bold\">Model: \"sequential\"</span>\n",
       "</pre>\n"
      ],
      "text/plain": [
       "\u001b[1mModel: \"sequential\"\u001b[0m\n"
      ]
     },
     "metadata": {},
     "output_type": "display_data"
    },
    {
     "data": {
      "text/html": [
       "<pre style=\"white-space:pre;overflow-x:auto;line-height:normal;font-family:Menlo,'DejaVu Sans Mono',consolas,'Courier New',monospace\">┏━━━━━━━━━━━━━━━━━━━━━━━━━━━━━━━━━┳━━━━━━━━━━━━━━━━━━━━━━━━┳━━━━━━━━━━━━━━━┓\n",
       "┃<span style=\"font-weight: bold\"> Layer (type)                    </span>┃<span style=\"font-weight: bold\"> Output Shape           </span>┃<span style=\"font-weight: bold\">       Param # </span>┃\n",
       "┡━━━━━━━━━━━━━━━━━━━━━━━━━━━━━━━━━╇━━━━━━━━━━━━━━━━━━━━━━━━╇━━━━━━━━━━━━━━━┩\n",
       "│ dense (<span style=\"color: #0087ff; text-decoration-color: #0087ff\">Dense</span>)                   │ (<span style=\"color: #00d7ff; text-decoration-color: #00d7ff\">None</span>, <span style=\"color: #00af00; text-decoration-color: #00af00\">64</span>)             │         <span style=\"color: #00af00; text-decoration-color: #00af00\">6,656</span> │\n",
       "├─────────────────────────────────┼────────────────────────┼───────────────┤\n",
       "│ dropout (<span style=\"color: #0087ff; text-decoration-color: #0087ff\">Dropout</span>)               │ (<span style=\"color: #00d7ff; text-decoration-color: #00d7ff\">None</span>, <span style=\"color: #00af00; text-decoration-color: #00af00\">64</span>)             │             <span style=\"color: #00af00; text-decoration-color: #00af00\">0</span> │\n",
       "├─────────────────────────────────┼────────────────────────┼───────────────┤\n",
       "│ dense_1 (<span style=\"color: #0087ff; text-decoration-color: #0087ff\">Dense</span>)                 │ (<span style=\"color: #00d7ff; text-decoration-color: #00d7ff\">None</span>, <span style=\"color: #00af00; text-decoration-color: #00af00\">32</span>)             │         <span style=\"color: #00af00; text-decoration-color: #00af00\">2,080</span> │\n",
       "├─────────────────────────────────┼────────────────────────┼───────────────┤\n",
       "│ dropout_1 (<span style=\"color: #0087ff; text-decoration-color: #0087ff\">Dropout</span>)             │ (<span style=\"color: #00d7ff; text-decoration-color: #00d7ff\">None</span>, <span style=\"color: #00af00; text-decoration-color: #00af00\">32</span>)             │             <span style=\"color: #00af00; text-decoration-color: #00af00\">0</span> │\n",
       "├─────────────────────────────────┼────────────────────────┼───────────────┤\n",
       "│ dense_2 (<span style=\"color: #0087ff; text-decoration-color: #0087ff\">Dense</span>)                 │ (<span style=\"color: #00d7ff; text-decoration-color: #00d7ff\">None</span>, <span style=\"color: #00af00; text-decoration-color: #00af00\">3</span>)              │            <span style=\"color: #00af00; text-decoration-color: #00af00\">99</span> │\n",
       "└─────────────────────────────────┴────────────────────────┴───────────────┘\n",
       "</pre>\n"
      ],
      "text/plain": [
       "┏━━━━━━━━━━━━━━━━━━━━━━━━━━━━━━━━━┳━━━━━━━━━━━━━━━━━━━━━━━━┳━━━━━━━━━━━━━━━┓\n",
       "┃\u001b[1m \u001b[0m\u001b[1mLayer (type)                   \u001b[0m\u001b[1m \u001b[0m┃\u001b[1m \u001b[0m\u001b[1mOutput Shape          \u001b[0m\u001b[1m \u001b[0m┃\u001b[1m \u001b[0m\u001b[1m      Param #\u001b[0m\u001b[1m \u001b[0m┃\n",
       "┡━━━━━━━━━━━━━━━━━━━━━━━━━━━━━━━━━╇━━━━━━━━━━━━━━━━━━━━━━━━╇━━━━━━━━━━━━━━━┩\n",
       "│ dense (\u001b[38;5;33mDense\u001b[0m)                   │ (\u001b[38;5;45mNone\u001b[0m, \u001b[38;5;34m64\u001b[0m)             │         \u001b[38;5;34m6,656\u001b[0m │\n",
       "├─────────────────────────────────┼────────────────────────┼───────────────┤\n",
       "│ dropout (\u001b[38;5;33mDropout\u001b[0m)               │ (\u001b[38;5;45mNone\u001b[0m, \u001b[38;5;34m64\u001b[0m)             │             \u001b[38;5;34m0\u001b[0m │\n",
       "├─────────────────────────────────┼────────────────────────┼───────────────┤\n",
       "│ dense_1 (\u001b[38;5;33mDense\u001b[0m)                 │ (\u001b[38;5;45mNone\u001b[0m, \u001b[38;5;34m32\u001b[0m)             │         \u001b[38;5;34m2,080\u001b[0m │\n",
       "├─────────────────────────────────┼────────────────────────┼───────────────┤\n",
       "│ dropout_1 (\u001b[38;5;33mDropout\u001b[0m)             │ (\u001b[38;5;45mNone\u001b[0m, \u001b[38;5;34m32\u001b[0m)             │             \u001b[38;5;34m0\u001b[0m │\n",
       "├─────────────────────────────────┼────────────────────────┼───────────────┤\n",
       "│ dense_2 (\u001b[38;5;33mDense\u001b[0m)                 │ (\u001b[38;5;45mNone\u001b[0m, \u001b[38;5;34m3\u001b[0m)              │            \u001b[38;5;34m99\u001b[0m │\n",
       "└─────────────────────────────────┴────────────────────────┴───────────────┘\n"
      ]
     },
     "metadata": {},
     "output_type": "display_data"
    },
    {
     "data": {
      "text/html": [
       "<pre style=\"white-space:pre;overflow-x:auto;line-height:normal;font-family:Menlo,'DejaVu Sans Mono',consolas,'Courier New',monospace\"><span style=\"font-weight: bold\"> Total params: </span><span style=\"color: #00af00; text-decoration-color: #00af00\">8,835</span> (34.51 KB)\n",
       "</pre>\n"
      ],
      "text/plain": [
       "\u001b[1m Total params: \u001b[0m\u001b[38;5;34m8,835\u001b[0m (34.51 KB)\n"
      ]
     },
     "metadata": {},
     "output_type": "display_data"
    },
    {
     "data": {
      "text/html": [
       "<pre style=\"white-space:pre;overflow-x:auto;line-height:normal;font-family:Menlo,'DejaVu Sans Mono',consolas,'Courier New',monospace\"><span style=\"font-weight: bold\"> Trainable params: </span><span style=\"color: #00af00; text-decoration-color: #00af00\">8,835</span> (34.51 KB)\n",
       "</pre>\n"
      ],
      "text/plain": [
       "\u001b[1m Trainable params: \u001b[0m\u001b[38;5;34m8,835\u001b[0m (34.51 KB)\n"
      ]
     },
     "metadata": {},
     "output_type": "display_data"
    },
    {
     "data": {
      "text/html": [
       "<pre style=\"white-space:pre;overflow-x:auto;line-height:normal;font-family:Menlo,'DejaVu Sans Mono',consolas,'Courier New',monospace\"><span style=\"font-weight: bold\"> Non-trainable params: </span><span style=\"color: #00af00; text-decoration-color: #00af00\">0</span> (0.00 B)\n",
       "</pre>\n"
      ],
      "text/plain": [
       "\u001b[1m Non-trainable params: \u001b[0m\u001b[38;5;34m0\u001b[0m (0.00 B)\n"
      ]
     },
     "metadata": {},
     "output_type": "display_data"
    },
    {
     "name": "stdout",
     "output_type": "stream",
     "text": [
      "None\n"
     ]
    }
   ],
   "source": [
    "classifier = create_classifier(input_dim)\n",
    "print(classifier.summary())"
   ]
  },
  {
   "cell_type": "code",
   "execution_count": 9,
   "metadata": {},
   "outputs": [
    {
     "name": "stdout",
     "output_type": "stream",
     "text": [
      "Epoch 1/50\n",
      "\u001b[1m200/200\u001b[0m \u001b[32m━━━━━━━━━━━━━━━━━━━━\u001b[0m\u001b[37m\u001b[0m \u001b[1m1s\u001b[0m 1ms/step - accuracy: 0.4500 - loss: 1.1534 - val_accuracy: 0.5514 - val_loss: 0.9674\n",
      "Epoch 2/50\n",
      "\u001b[1m200/200\u001b[0m \u001b[32m━━━━━━━━━━━━━━━━━━━━\u001b[0m\u001b[37m\u001b[0m \u001b[1m0s\u001b[0m 868us/step - accuracy: 0.5333 - loss: 0.9753 - val_accuracy: 0.5633 - val_loss: 0.9407\n",
      "Epoch 3/50\n",
      "\u001b[1m200/200\u001b[0m \u001b[32m━━━━━━━━━━━━━━━━━━━━\u001b[0m\u001b[37m\u001b[0m \u001b[1m0s\u001b[0m 819us/step - accuracy: 0.5678 - loss: 0.9250 - val_accuracy: 0.5727 - val_loss: 0.9173\n",
      "Epoch 4/50\n",
      "\u001b[1m200/200\u001b[0m \u001b[32m━━━━━━━━━━━━━━━━━━━━\u001b[0m\u001b[37m\u001b[0m \u001b[1m0s\u001b[0m 837us/step - accuracy: 0.5861 - loss: 0.8943 - val_accuracy: 0.5752 - val_loss: 0.9118\n",
      "Epoch 5/50\n",
      "\u001b[1m200/200\u001b[0m \u001b[32m━━━━━━━━━━━━━━━━━━━━\u001b[0m\u001b[37m\u001b[0m \u001b[1m0s\u001b[0m 773us/step - accuracy: 0.5904 - loss: 0.8905 - val_accuracy: 0.5821 - val_loss: 0.9059\n",
      "Epoch 6/50\n",
      "\u001b[1m200/200\u001b[0m \u001b[32m━━━━━━━━━━━━━━━━━━━━\u001b[0m\u001b[37m\u001b[0m \u001b[1m0s\u001b[0m 791us/step - accuracy: 0.6059 - loss: 0.8674 - val_accuracy: 0.5852 - val_loss: 0.9002\n",
      "Epoch 7/50\n",
      "\u001b[1m200/200\u001b[0m \u001b[32m━━━━━━━━━━━━━━━━━━━━\u001b[0m\u001b[37m\u001b[0m \u001b[1m0s\u001b[0m 843us/step - accuracy: 0.5999 - loss: 0.8634 - val_accuracy: 0.5815 - val_loss: 0.9003\n",
      "Epoch 8/50\n",
      "\u001b[1m200/200\u001b[0m \u001b[32m━━━━━━━━━━━━━━━━━━━━\u001b[0m\u001b[37m\u001b[0m \u001b[1m0s\u001b[0m 755us/step - accuracy: 0.6214 - loss: 0.8400 - val_accuracy: 0.5883 - val_loss: 0.8983\n",
      "Epoch 9/50\n",
      "\u001b[1m200/200\u001b[0m \u001b[32m━━━━━━━━━━━━━━━━━━━━\u001b[0m\u001b[37m\u001b[0m \u001b[1m0s\u001b[0m 712us/step - accuracy: 0.6246 - loss: 0.8245 - val_accuracy: 0.5840 - val_loss: 0.9009\n",
      "Epoch 10/50\n",
      "\u001b[1m200/200\u001b[0m \u001b[32m━━━━━━━━━━━━━━━━━━━━\u001b[0m\u001b[37m\u001b[0m \u001b[1m0s\u001b[0m 760us/step - accuracy: 0.6311 - loss: 0.8233 - val_accuracy: 0.5865 - val_loss: 0.9125\n",
      "Epoch 11/50\n",
      "\u001b[1m200/200\u001b[0m \u001b[32m━━━━━━━━━━━━━━━━━━━━\u001b[0m\u001b[37m\u001b[0m \u001b[1m0s\u001b[0m 737us/step - accuracy: 0.6345 - loss: 0.8135 - val_accuracy: 0.5827 - val_loss: 0.9058\n",
      "Epoch 12/50\n",
      "\u001b[1m200/200\u001b[0m \u001b[32m━━━━━━━━━━━━━━━━━━━━\u001b[0m\u001b[37m\u001b[0m \u001b[1m0s\u001b[0m 692us/step - accuracy: 0.6429 - loss: 0.8104 - val_accuracy: 0.5827 - val_loss: 0.9075\n",
      "Epoch 13/50\n",
      "\u001b[1m200/200\u001b[0m \u001b[32m━━━━━━━━━━━━━━━━━━━━\u001b[0m\u001b[37m\u001b[0m \u001b[1m0s\u001b[0m 815us/step - accuracy: 0.6400 - loss: 0.7974 - val_accuracy: 0.5821 - val_loss: 0.9173\n",
      "Epoch 14/50\n",
      "\u001b[1m200/200\u001b[0m \u001b[32m━━━━━━━━━━━━━━━━━━━━\u001b[0m\u001b[37m\u001b[0m \u001b[1m0s\u001b[0m 806us/step - accuracy: 0.6422 - loss: 0.7874 - val_accuracy: 0.5821 - val_loss: 0.9126\n",
      "Epoch 15/50\n",
      "\u001b[1m200/200\u001b[0m \u001b[32m━━━━━━━━━━━━━━━━━━━━\u001b[0m\u001b[37m\u001b[0m \u001b[1m0s\u001b[0m 789us/step - accuracy: 0.6620 - loss: 0.7692 - val_accuracy: 0.5871 - val_loss: 0.9224\n",
      "Epoch 16/50\n",
      "\u001b[1m200/200\u001b[0m \u001b[32m━━━━━━━━━━━━━━━━━━━━\u001b[0m\u001b[37m\u001b[0m \u001b[1m0s\u001b[0m 827us/step - accuracy: 0.6485 - loss: 0.7729 - val_accuracy: 0.5764 - val_loss: 0.9341\n",
      "Epoch 17/50\n",
      "\u001b[1m200/200\u001b[0m \u001b[32m━━━━━━━━━━━━━━━━━━━━\u001b[0m\u001b[37m\u001b[0m \u001b[1m0s\u001b[0m 787us/step - accuracy: 0.6608 - loss: 0.7819 - val_accuracy: 0.5890 - val_loss: 0.9329\n",
      "Epoch 18/50\n",
      "\u001b[1m200/200\u001b[0m \u001b[32m━━━━━━━━━━━━━━━━━━━━\u001b[0m\u001b[37m\u001b[0m \u001b[1m0s\u001b[0m 763us/step - accuracy: 0.6429 - loss: 0.7772 - val_accuracy: 0.5846 - val_loss: 0.9360\n",
      "Epoch 19/50\n",
      "\u001b[1m200/200\u001b[0m \u001b[32m━━━━━━━━━━━━━━━━━━━━\u001b[0m\u001b[37m\u001b[0m \u001b[1m0s\u001b[0m 739us/step - accuracy: 0.6653 - loss: 0.7641 - val_accuracy: 0.5802 - val_loss: 0.9504\n",
      "Epoch 20/50\n",
      "\u001b[1m200/200\u001b[0m \u001b[32m━━━━━━━━━━━━━━━━━━━━\u001b[0m\u001b[37m\u001b[0m \u001b[1m0s\u001b[0m 843us/step - accuracy: 0.6634 - loss: 0.7593 - val_accuracy: 0.5852 - val_loss: 0.9605\n",
      "Epoch 21/50\n",
      "\u001b[1m200/200\u001b[0m \u001b[32m━━━━━━━━━━━━━━━━━━━━\u001b[0m\u001b[37m\u001b[0m \u001b[1m0s\u001b[0m 694us/step - accuracy: 0.6658 - loss: 0.7551 - val_accuracy: 0.5777 - val_loss: 0.9513\n",
      "Epoch 22/50\n",
      "\u001b[1m200/200\u001b[0m \u001b[32m━━━━━━━━━━━━━━━━━━━━\u001b[0m\u001b[37m\u001b[0m \u001b[1m0s\u001b[0m 703us/step - accuracy: 0.6536 - loss: 0.7637 - val_accuracy: 0.5764 - val_loss: 0.9632\n",
      "Epoch 23/50\n",
      "\u001b[1m200/200\u001b[0m \u001b[32m━━━━━━━━━━━━━━━━━━━━\u001b[0m\u001b[37m\u001b[0m \u001b[1m0s\u001b[0m 718us/step - accuracy: 0.6680 - loss: 0.7532 - val_accuracy: 0.5733 - val_loss: 0.9634\n",
      "Epoch 24/50\n",
      "\u001b[1m200/200\u001b[0m \u001b[32m━━━━━━━━━━━━━━━━━━━━\u001b[0m\u001b[37m\u001b[0m \u001b[1m0s\u001b[0m 691us/step - accuracy: 0.6764 - loss: 0.7361 - val_accuracy: 0.5576 - val_loss: 0.9841\n",
      "Epoch 25/50\n",
      "\u001b[1m200/200\u001b[0m \u001b[32m━━━━━━━━━━━━━━━━━━━━\u001b[0m\u001b[37m\u001b[0m \u001b[1m0s\u001b[0m 676us/step - accuracy: 0.6660 - loss: 0.7471 - val_accuracy: 0.5689 - val_loss: 0.9920\n",
      "Epoch 26/50\n",
      "\u001b[1m200/200\u001b[0m \u001b[32m━━━━━━━━━━━━━━━━━━━━\u001b[0m\u001b[37m\u001b[0m \u001b[1m0s\u001b[0m 691us/step - accuracy: 0.6646 - loss: 0.7342 - val_accuracy: 0.5758 - val_loss: 0.9901\n",
      "Epoch 27/50\n",
      "\u001b[1m200/200\u001b[0m \u001b[32m━━━━━━━━━━━━━━━━━━━━\u001b[0m\u001b[37m\u001b[0m \u001b[1m0s\u001b[0m 669us/step - accuracy: 0.6710 - loss: 0.7222 - val_accuracy: 0.5652 - val_loss: 1.0014\n",
      "Epoch 28/50\n",
      "\u001b[1m200/200\u001b[0m \u001b[32m━━━━━━━━━━━━━━━━━━━━\u001b[0m\u001b[37m\u001b[0m \u001b[1m0s\u001b[0m 694us/step - accuracy: 0.6970 - loss: 0.7041 - val_accuracy: 0.5683 - val_loss: 1.0032\n",
      "Epoch 29/50\n",
      "\u001b[1m200/200\u001b[0m \u001b[32m━━━━━━━━━━━━━━━━━━━━\u001b[0m\u001b[37m\u001b[0m \u001b[1m0s\u001b[0m 679us/step - accuracy: 0.6863 - loss: 0.7241 - val_accuracy: 0.5695 - val_loss: 1.0081\n",
      "Epoch 30/50\n",
      "\u001b[1m200/200\u001b[0m \u001b[32m━━━━━━━━━━━━━━━━━━━━\u001b[0m\u001b[37m\u001b[0m \u001b[1m0s\u001b[0m 693us/step - accuracy: 0.6828 - loss: 0.7320 - val_accuracy: 0.5677 - val_loss: 1.0152\n",
      "Epoch 31/50\n",
      "\u001b[1m200/200\u001b[0m \u001b[32m━━━━━━━━━━━━━━━━━━━━\u001b[0m\u001b[37m\u001b[0m \u001b[1m0s\u001b[0m 669us/step - accuracy: 0.6874 - loss: 0.7171 - val_accuracy: 0.5664 - val_loss: 1.0377\n",
      "Epoch 32/50\n",
      "\u001b[1m200/200\u001b[0m \u001b[32m━━━━━━━━━━━━━━━━━━━━\u001b[0m\u001b[37m\u001b[0m \u001b[1m0s\u001b[0m 672us/step - accuracy: 0.6803 - loss: 0.7107 - val_accuracy: 0.5602 - val_loss: 1.0352\n",
      "Epoch 33/50\n",
      "\u001b[1m200/200\u001b[0m \u001b[32m━━━━━━━━━━━━━━━━━━━━\u001b[0m\u001b[37m\u001b[0m \u001b[1m0s\u001b[0m 682us/step - accuracy: 0.6952 - loss: 0.7005 - val_accuracy: 0.5595 - val_loss: 1.0546\n",
      "Epoch 34/50\n",
      "\u001b[1m200/200\u001b[0m \u001b[32m━━━━━━━━━━━━━━━━━━━━\u001b[0m\u001b[37m\u001b[0m \u001b[1m0s\u001b[0m 668us/step - accuracy: 0.6909 - loss: 0.6977 - val_accuracy: 0.5558 - val_loss: 1.0583\n",
      "Epoch 35/50\n",
      "\u001b[1m200/200\u001b[0m \u001b[32m━━━━━━━━━━━━━━━━━━━━\u001b[0m\u001b[37m\u001b[0m \u001b[1m0s\u001b[0m 662us/step - accuracy: 0.6863 - loss: 0.6952 - val_accuracy: 0.5677 - val_loss: 1.0617\n",
      "Epoch 36/50\n",
      "\u001b[1m200/200\u001b[0m \u001b[32m━━━━━━━━━━━━━━━━━━━━\u001b[0m\u001b[37m\u001b[0m \u001b[1m0s\u001b[0m 668us/step - accuracy: 0.6898 - loss: 0.7065 - val_accuracy: 0.5545 - val_loss: 1.0553\n",
      "Epoch 37/50\n",
      "\u001b[1m200/200\u001b[0m \u001b[32m━━━━━━━━━━━━━━━━━━━━\u001b[0m\u001b[37m\u001b[0m \u001b[1m0s\u001b[0m 706us/step - accuracy: 0.6978 - loss: 0.6939 - val_accuracy: 0.5602 - val_loss: 1.0648\n",
      "Epoch 38/50\n",
      "\u001b[1m200/200\u001b[0m \u001b[32m━━━━━━━━━━━━━━━━━━━━\u001b[0m\u001b[37m\u001b[0m \u001b[1m0s\u001b[0m 677us/step - accuracy: 0.6934 - loss: 0.6993 - val_accuracy: 0.5633 - val_loss: 1.0723\n",
      "Epoch 39/50\n",
      "\u001b[1m200/200\u001b[0m \u001b[32m━━━━━━━━━━━━━━━━━━━━\u001b[0m\u001b[37m\u001b[0m \u001b[1m0s\u001b[0m 671us/step - accuracy: 0.7021 - loss: 0.6800 - val_accuracy: 0.5608 - val_loss: 1.0736\n",
      "Epoch 40/50\n",
      "\u001b[1m200/200\u001b[0m \u001b[32m━━━━━━━━━━━━━━━━━━━━\u001b[0m\u001b[37m\u001b[0m \u001b[1m0s\u001b[0m 811us/step - accuracy: 0.7025 - loss: 0.6764 - val_accuracy: 0.5608 - val_loss: 1.0878\n",
      "Epoch 41/50\n",
      "\u001b[1m200/200\u001b[0m \u001b[32m━━━━━━━━━━━━━━━━━━━━\u001b[0m\u001b[37m\u001b[0m \u001b[1m0s\u001b[0m 700us/step - accuracy: 0.7074 - loss: 0.6767 - val_accuracy: 0.5545 - val_loss: 1.0677\n",
      "Epoch 42/50\n",
      "\u001b[1m200/200\u001b[0m \u001b[32m━━━━━━━━━━━━━━━━━━━━\u001b[0m\u001b[37m\u001b[0m \u001b[1m0s\u001b[0m 680us/step - accuracy: 0.7000 - loss: 0.6873 - val_accuracy: 0.5501 - val_loss: 1.1247\n",
      "Epoch 43/50\n",
      "\u001b[1m200/200\u001b[0m \u001b[32m━━━━━━━━━━━━━━━━━━━━\u001b[0m\u001b[37m\u001b[0m \u001b[1m0s\u001b[0m 687us/step - accuracy: 0.6933 - loss: 0.6745 - val_accuracy: 0.5576 - val_loss: 1.0739\n",
      "Epoch 44/50\n",
      "\u001b[1m200/200\u001b[0m \u001b[32m━━━━━━━━━━━━━━━━━━━━\u001b[0m\u001b[37m\u001b[0m \u001b[1m0s\u001b[0m 682us/step - accuracy: 0.7101 - loss: 0.6650 - val_accuracy: 0.5614 - val_loss: 1.0985\n",
      "Epoch 45/50\n",
      "\u001b[1m200/200\u001b[0m \u001b[32m━━━━━━━━━━━━━━━━━━━━\u001b[0m\u001b[37m\u001b[0m \u001b[1m0s\u001b[0m 672us/step - accuracy: 0.7115 - loss: 0.6572 - val_accuracy: 0.5501 - val_loss: 1.0876\n",
      "Epoch 46/50\n",
      "\u001b[1m200/200\u001b[0m \u001b[32m━━━━━━━━━━━━━━━━━━━━\u001b[0m\u001b[37m\u001b[0m \u001b[1m0s\u001b[0m 699us/step - accuracy: 0.6968 - loss: 0.6734 - val_accuracy: 0.5558 - val_loss: 1.1209\n",
      "Epoch 47/50\n",
      "\u001b[1m200/200\u001b[0m \u001b[32m━━━━━━━━━━━━━━━━━━━━\u001b[0m\u001b[37m\u001b[0m \u001b[1m0s\u001b[0m 761us/step - accuracy: 0.7006 - loss: 0.6807 - val_accuracy: 0.5457 - val_loss: 1.1209\n",
      "Epoch 48/50\n",
      "\u001b[1m200/200\u001b[0m \u001b[32m━━━━━━━━━━━━━━━━━━━━\u001b[0m\u001b[37m\u001b[0m \u001b[1m0s\u001b[0m 2ms/step - accuracy: 0.7068 - loss: 0.6507 - val_accuracy: 0.5614 - val_loss: 1.1207\n",
      "Epoch 49/50\n",
      "\u001b[1m200/200\u001b[0m \u001b[32m━━━━━━━━━━━━━━━━━━━━\u001b[0m\u001b[37m\u001b[0m \u001b[1m0s\u001b[0m 746us/step - accuracy: 0.7041 - loss: 0.6660 - val_accuracy: 0.5602 - val_loss: 1.0964\n",
      "Epoch 50/50\n",
      "\u001b[1m200/200\u001b[0m \u001b[32m━━━━━━━━━━━━━━━━━━━━\u001b[0m\u001b[37m\u001b[0m \u001b[1m0s\u001b[0m 699us/step - accuracy: 0.7110 - loss: 0.6515 - val_accuracy: 0.5514 - val_loss: 1.1038\n"
     ]
    }
   ],
   "source": [
    "history = classifier.fit(X_train, y_train_cls, validation_split=0.2, epochs=50, batch_size=32, verbose=1)"
   ]
  },
  {
   "cell_type": "code",
   "execution_count": 10,
   "metadata": {},
   "outputs": [
    {
     "name": "stdout",
     "output_type": "stream",
     "text": [
      "\u001b[1m12/12\u001b[0m \u001b[32m━━━━━━━━━━━━━━━━━━━━\u001b[0m\u001b[37m\u001b[0m \u001b[1m0s\u001b[0m 2ms/step \n"
     ]
    }
   ],
   "source": [
    "y_pred_cls = classifier.predict(X_test)\n",
    "mapped_predictions_cls = y_pred_cls.argmax(axis=1) - 1"
   ]
  },
  {
   "cell_type": "code",
   "execution_count": 11,
   "metadata": {},
   "outputs": [
    {
     "name": "stdout",
     "output_type": "stream",
     "text": [
      "The accuracy of the model is 61.84%\n",
      "The accuracy of the model is 235 out of 380 games.\n",
      "\n",
      "With this model, the expected return on value would be 8280.60€\n"
     ]
    }
   ],
   "source": [
    "cls_df = pd.concat([df_test[[target, \"B365H\", \"B365D\", \"B365A\"]].reset_index(drop=True), pd.Series(mapped_predictions_cls, name=\"PredictedOutcome\")], axis=1)\n",
    "\n",
    "cls_accuracy, cls_won = data_aggregator.calculate_accuracy(cls_df, target, \"PredictedOutcome\")\n",
    "\n",
    "print(f\"\"\"The accuracy of the model is {cls_accuracy:.2%}\n",
    "The accuracy of the model is {cls_accuracy*len(cls_df):.0f} out of {len(cls_df)} games.\n",
    "\"\"\")\n",
    "print(f\"With this model, the expected return on value would be {cls_won:.2f}€\")"
   ]
  },
  {
   "cell_type": "code",
   "execution_count": 12,
   "metadata": {},
   "outputs": [
    {
     "name": "stdout",
     "output_type": "stream",
     "text": [
      "              precision    recall  f1-score   support\n",
      "\n",
      "          -1       0.67      0.60      0.64       123\n",
      "           0       0.43      0.20      0.27        82\n",
      "           1       0.62      0.83      0.71       175\n",
      "\n",
      "    accuracy                           0.62       380\n",
      "   macro avg       0.58      0.54      0.54       380\n",
      "weighted avg       0.60      0.62      0.59       380\n",
      "\n"
     ]
    }
   ],
   "source": [
    "print(classification_report(y_test, mapped_predictions_cls))"
   ]
  },
  {
   "cell_type": "code",
   "execution_count": 13,
   "metadata": {},
   "outputs": [
    {
     "data": {
      "image/png": "[encoded data removed]",
      "text/plain": [
       "<Figure size 640x480 with 2 Axes>"
      ]
     },
     "metadata": {},
     "output_type": "display_data"
    }
   ],
   "source": [
    "cm = confusion_matrix(y_test, mapped_predictions_cls)\n",
    "plot_confusion_matrix(cm, [\"Away\", \"Draw\", \"Home\"])"
   ]
  },
  {
   "cell_type": "markdown",
   "metadata": {},
   "source": [
    "## Regressor\n",
    "Next up we will define a neural network as a regressor, and will use it to predict the goal difference of a match."
   ]
  },
  {
   "cell_type": "code",
   "execution_count": 14,
   "metadata": {},
   "outputs": [],
   "source": [
    "def create_regressor(input_dim):\n",
    "    model = Sequential([\n",
    "        Input(shape=(input_dim,)),\n",
    "        Dense(64, activation='relu'),\n",
    "        Dropout(0.2),\n",
    "        Dense(32, activation='relu'),\n",
    "        Dropout(0.2),\n",
    "        Dense(1)\n",
    "    ])\n",
    "    model.compile(optimizer=Adam(learning_rate=0.001), loss='mse', metrics=['mae'])\n",
    "    return model"
   ]
  },
  {
   "cell_type": "code",
   "execution_count": 15,
   "metadata": {},
   "outputs": [
    {
     "data": {
      "text/html": [
       "<pre style=\"white-space:pre;overflow-x:auto;line-height:normal;font-family:Menlo,'DejaVu Sans Mono',consolas,'Courier New',monospace\"><span style=\"font-weight: bold\">Model: \"sequential_1\"</span>\n",
       "</pre>\n"
      ],
      "text/plain": [
       "\u001b[1mModel: \"sequential_1\"\u001b[0m\n"
      ]
     },
     "metadata": {},
     "output_type": "display_data"
    },
    {
     "data": {
      "text/html": [
       "<pre style=\"white-space:pre;overflow-x:auto;line-height:normal;font-family:Menlo,'DejaVu Sans Mono',consolas,'Courier New',monospace\">┏━━━━━━━━━━━━━━━━━━━━━━━━━━━━━━━━━┳━━━━━━━━━━━━━━━━━━━━━━━━┳━━━━━━━━━━━━━━━┓\n",
       "┃<span style=\"font-weight: bold\"> Layer (type)                    </span>┃<span style=\"font-weight: bold\"> Output Shape           </span>┃<span style=\"font-weight: bold\">       Param # </span>┃\n",
       "┡━━━━━━━━━━━━━━━━━━━━━━━━━━━━━━━━━╇━━━━━━━━━━━━━━━━━━━━━━━━╇━━━━━━━━━━━━━━━┩\n",
       "│ dense_3 (<span style=\"color: #0087ff; text-decoration-color: #0087ff\">Dense</span>)                 │ (<span style=\"color: #00d7ff; text-decoration-color: #00d7ff\">None</span>, <span style=\"color: #00af00; text-decoration-color: #00af00\">64</span>)             │         <span style=\"color: #00af00; text-decoration-color: #00af00\">6,656</span> │\n",
       "├─────────────────────────────────┼────────────────────────┼───────────────┤\n",
       "│ dropout_2 (<span style=\"color: #0087ff; text-decoration-color: #0087ff\">Dropout</span>)             │ (<span style=\"color: #00d7ff; text-decoration-color: #00d7ff\">None</span>, <span style=\"color: #00af00; text-decoration-color: #00af00\">64</span>)             │             <span style=\"color: #00af00; text-decoration-color: #00af00\">0</span> │\n",
       "├─────────────────────────────────┼────────────────────────┼───────────────┤\n",
       "│ dense_4 (<span style=\"color: #0087ff; text-decoration-color: #0087ff\">Dense</span>)                 │ (<span style=\"color: #00d7ff; text-decoration-color: #00d7ff\">None</span>, <span style=\"color: #00af00; text-decoration-color: #00af00\">32</span>)             │         <span style=\"color: #00af00; text-decoration-color: #00af00\">2,080</span> │\n",
       "├─────────────────────────────────┼────────────────────────┼───────────────┤\n",
       "│ dropout_3 (<span style=\"color: #0087ff; text-decoration-color: #0087ff\">Dropout</span>)             │ (<span style=\"color: #00d7ff; text-decoration-color: #00d7ff\">None</span>, <span style=\"color: #00af00; text-decoration-color: #00af00\">32</span>)             │             <span style=\"color: #00af00; text-decoration-color: #00af00\">0</span> │\n",
       "├─────────────────────────────────┼────────────────────────┼───────────────┤\n",
       "│ dense_5 (<span style=\"color: #0087ff; text-decoration-color: #0087ff\">Dense</span>)                 │ (<span style=\"color: #00d7ff; text-decoration-color: #00d7ff\">None</span>, <span style=\"color: #00af00; text-decoration-color: #00af00\">1</span>)              │            <span style=\"color: #00af00; text-decoration-color: #00af00\">33</span> │\n",
       "└─────────────────────────────────┴────────────────────────┴───────────────┘\n",
       "</pre>\n"
      ],
      "text/plain": [
       "┏━━━━━━━━━━━━━━━━━━━━━━━━━━━━━━━━━┳━━━━━━━━━━━━━━━━━━━━━━━━┳━━━━━━━━━━━━━━━┓\n",
       "┃\u001b[1m \u001b[0m\u001b[1mLayer (type)                   \u001b[0m\u001b[1m \u001b[0m┃\u001b[1m \u001b[0m\u001b[1mOutput Shape          \u001b[0m\u001b[1m \u001b[0m┃\u001b[1m \u001b[0m\u001b[1m      Param #\u001b[0m\u001b[1m \u001b[0m┃\n",
       "┡━━━━━━━━━━━━━━━━━━━━━━━━━━━━━━━━━╇━━━━━━━━━━━━━━━━━━━━━━━━╇━━━━━━━━━━━━━━━┩\n",
       "│ dense_3 (\u001b[38;5;33mDense\u001b[0m)                 │ (\u001b[38;5;45mNone\u001b[0m, \u001b[38;5;34m64\u001b[0m)             │         \u001b[38;5;34m6,656\u001b[0m │\n",
       "├─────────────────────────────────┼────────────────────────┼───────────────┤\n",
       "│ dropout_2 (\u001b[38;5;33mDropout\u001b[0m)             │ (\u001b[38;5;45mNone\u001b[0m, \u001b[38;5;34m64\u001b[0m)             │             \u001b[38;5;34m0\u001b[0m │\n",
       "├─────────────────────────────────┼────────────────────────┼───────────────┤\n",
       "│ dense_4 (\u001b[38;5;33mDense\u001b[0m)                 │ (\u001b[38;5;45mNone\u001b[0m, \u001b[38;5;34m32\u001b[0m)             │         \u001b[38;5;34m2,080\u001b[0m │\n",
       "├─────────────────────────────────┼────────────────────────┼───────────────┤\n",
       "│ dropout_3 (\u001b[38;5;33mDropout\u001b[0m)             │ (\u001b[38;5;45mNone\u001b[0m, \u001b[38;5;34m32\u001b[0m)             │             \u001b[38;5;34m0\u001b[0m │\n",
       "├─────────────────────────────────┼────────────────────────┼───────────────┤\n",
       "│ dense_5 (\u001b[38;5;33mDense\u001b[0m)                 │ (\u001b[38;5;45mNone\u001b[0m, \u001b[38;5;34m1\u001b[0m)              │            \u001b[38;5;34m33\u001b[0m │\n",
       "└─────────────────────────────────┴────────────────────────┴───────────────┘\n"
      ]
     },
     "metadata": {},
     "output_type": "display_data"
    },
    {
     "data": {
      "text/html": [
       "<pre style=\"white-space:pre;overflow-x:auto;line-height:normal;font-family:Menlo,'DejaVu Sans Mono',consolas,'Courier New',monospace\"><span style=\"font-weight: bold\"> Total params: </span><span style=\"color: #00af00; text-decoration-color: #00af00\">8,769</span> (34.25 KB)\n",
       "</pre>\n"
      ],
      "text/plain": [
       "\u001b[1m Total params: \u001b[0m\u001b[38;5;34m8,769\u001b[0m (34.25 KB)\n"
      ]
     },
     "metadata": {},
     "output_type": "display_data"
    },
    {
     "data": {
      "text/html": [
       "<pre style=\"white-space:pre;overflow-x:auto;line-height:normal;font-family:Menlo,'DejaVu Sans Mono',consolas,'Courier New',monospace\"><span style=\"font-weight: bold\"> Trainable params: </span><span style=\"color: #00af00; text-decoration-color: #00af00\">8,769</span> (34.25 KB)\n",
       "</pre>\n"
      ],
      "text/plain": [
       "\u001b[1m Trainable params: \u001b[0m\u001b[38;5;34m8,769\u001b[0m (34.25 KB)\n"
      ]
     },
     "metadata": {},
     "output_type": "display_data"
    },
    {
     "data": {
      "text/html": [
       "<pre style=\"white-space:pre;overflow-x:auto;line-height:normal;font-family:Menlo,'DejaVu Sans Mono',consolas,'Courier New',monospace\"><span style=\"font-weight: bold\"> Non-trainable params: </span><span style=\"color: #00af00; text-decoration-color: #00af00\">0</span> (0.00 B)\n",
       "</pre>\n"
      ],
      "text/plain": [
       "\u001b[1m Non-trainable params: \u001b[0m\u001b[38;5;34m0\u001b[0m (0.00 B)\n"
      ]
     },
     "metadata": {},
     "output_type": "display_data"
    },
    {
     "name": "stdout",
     "output_type": "stream",
     "text": [
      "None\n"
     ]
    }
   ],
   "source": [
    "regressor = create_regressor(input_dim)\n",
    "print(regressor.summary())"
   ]
  },
  {
   "cell_type": "code",
   "execution_count": 16,
   "metadata": {},
   "outputs": [
    {
     "name": "stdout",
     "output_type": "stream",
     "text": [
      "Epoch 1/50\n",
      "\u001b[1m200/200\u001b[0m \u001b[32m━━━━━━━━━━━━━━━━━━━━\u001b[0m\u001b[37m\u001b[0m \u001b[1m1s\u001b[0m 1ms/step - loss: 3.0966 - mae: 1.3715 - val_loss: 2.7828 - val_mae: 1.2956\n",
      "Epoch 2/50\n",
      "\u001b[1m200/200\u001b[0m \u001b[32m━━━━━━━━━━━━━━━━━━━━\u001b[0m\u001b[37m\u001b[0m \u001b[1m0s\u001b[0m 679us/step - loss: 2.3359 - mae: 1.1946 - val_loss: 2.5575 - val_mae: 1.2443\n",
      "Epoch 3/50\n",
      "\u001b[1m200/200\u001b[0m \u001b[32m━━━━━━━━━━━━━━━━━━━━\u001b[0m\u001b[37m\u001b[0m \u001b[1m0s\u001b[0m 650us/step - loss: 2.1615 - mae: 1.1548 - val_loss: 2.4666 - val_mae: 1.2223\n",
      "Epoch 4/50\n",
      "\u001b[1m200/200\u001b[0m \u001b[32m━━━━━━━━━━━━━━━━━━━━\u001b[0m\u001b[37m\u001b[0m \u001b[1m0s\u001b[0m 643us/step - loss: 1.9921 - mae: 1.1090 - val_loss: 2.3768 - val_mae: 1.1973\n",
      "Epoch 5/50\n",
      "\u001b[1m200/200\u001b[0m \u001b[32m━━━━━━━━━━━━━━━━━━━━\u001b[0m\u001b[37m\u001b[0m \u001b[1m0s\u001b[0m 713us/step - loss: 1.9185 - mae: 1.0894 - val_loss: 2.3890 - val_mae: 1.2056\n",
      "Epoch 6/50\n",
      "\u001b[1m200/200\u001b[0m \u001b[32m━━━━━━━━━━━━━━━━━━━━\u001b[0m\u001b[37m\u001b[0m \u001b[1m0s\u001b[0m 747us/step - loss: 1.8819 - mae: 1.0853 - val_loss: 2.3016 - val_mae: 1.1861\n",
      "Epoch 7/50\n",
      "\u001b[1m200/200\u001b[0m \u001b[32m━━━━━━━━━━━━━━━━━━━━\u001b[0m\u001b[37m\u001b[0m \u001b[1m0s\u001b[0m 700us/step - loss: 1.7946 - mae: 1.0534 - val_loss: 2.2879 - val_mae: 1.1866\n",
      "Epoch 8/50\n",
      "\u001b[1m200/200\u001b[0m \u001b[32m━━━━━━━━━━━━━━━━━━━━\u001b[0m\u001b[37m\u001b[0m \u001b[1m0s\u001b[0m 641us/step - loss: 1.8478 - mae: 1.0699 - val_loss: 2.2659 - val_mae: 1.1844\n",
      "Epoch 9/50\n",
      "\u001b[1m200/200\u001b[0m \u001b[32m━━━━━━━━━━━━━━━━━━━━\u001b[0m\u001b[37m\u001b[0m \u001b[1m0s\u001b[0m 631us/step - loss: 1.8165 - mae: 1.0611 - val_loss: 2.2342 - val_mae: 1.1761\n",
      "Epoch 10/50\n",
      "\u001b[1m200/200\u001b[0m \u001b[32m━━━━━━━━━━━━━━━━━━━━\u001b[0m\u001b[37m\u001b[0m \u001b[1m0s\u001b[0m 626us/step - loss: 1.7488 - mae: 1.0411 - val_loss: 2.2333 - val_mae: 1.1723\n",
      "Epoch 11/50\n",
      "\u001b[1m200/200\u001b[0m \u001b[32m━━━━━━━━━━━━━━━━━━━━\u001b[0m\u001b[37m\u001b[0m \u001b[1m0s\u001b[0m 685us/step - loss: 1.7064 - mae: 1.0236 - val_loss: 2.2349 - val_mae: 1.1755\n",
      "Epoch 12/50\n",
      "\u001b[1m200/200\u001b[0m \u001b[32m━━━━━━━━━━━━━━━━━━━━\u001b[0m\u001b[37m\u001b[0m \u001b[1m0s\u001b[0m 820us/step - loss: 1.6349 - mae: 1.0041 - val_loss: 2.2506 - val_mae: 1.1816\n",
      "Epoch 13/50\n",
      "\u001b[1m200/200\u001b[0m \u001b[32m━━━━━━━━━━━━━━━━━━━━\u001b[0m\u001b[37m\u001b[0m \u001b[1m0s\u001b[0m 800us/step - loss: 1.6930 - mae: 1.0256 - val_loss: 2.2686 - val_mae: 1.1881\n",
      "Epoch 14/50\n",
      "\u001b[1m200/200\u001b[0m \u001b[32m━━━━━━━━━━━━━━━━━━━━\u001b[0m\u001b[37m\u001b[0m \u001b[1m0s\u001b[0m 784us/step - loss: 1.6681 - mae: 1.0155 - val_loss: 2.2905 - val_mae: 1.1898\n",
      "Epoch 15/50\n",
      "\u001b[1m200/200\u001b[0m \u001b[32m━━━━━━━━━━━━━━━━━━━━\u001b[0m\u001b[37m\u001b[0m \u001b[1m0s\u001b[0m 720us/step - loss: 1.6323 - mae: 1.0043 - val_loss: 2.3206 - val_mae: 1.1924\n",
      "Epoch 16/50\n",
      "\u001b[1m200/200\u001b[0m \u001b[32m━━━━━━━━━━━━━━━━━━━━\u001b[0m\u001b[37m\u001b[0m \u001b[1m0s\u001b[0m 674us/step - loss: 1.6003 - mae: 0.9892 - val_loss: 2.2935 - val_mae: 1.1898\n",
      "Epoch 17/50\n",
      "\u001b[1m200/200\u001b[0m \u001b[32m━━━━━━━━━━━━━━━━━━━━\u001b[0m\u001b[37m\u001b[0m \u001b[1m0s\u001b[0m 733us/step - loss: 1.5540 - mae: 0.9765 - val_loss: 2.2630 - val_mae: 1.1840\n",
      "Epoch 18/50\n",
      "\u001b[1m200/200\u001b[0m \u001b[32m━━━━━━━━━━━━━━━━━━━━\u001b[0m\u001b[37m\u001b[0m \u001b[1m0s\u001b[0m 740us/step - loss: 1.6197 - mae: 1.0080 - val_loss: 2.2857 - val_mae: 1.1928\n",
      "Epoch 19/50\n",
      "\u001b[1m200/200\u001b[0m \u001b[32m━━━━━━━━━━━━━━━━━━━━\u001b[0m\u001b[37m\u001b[0m \u001b[1m0s\u001b[0m 768us/step - loss: 1.5974 - mae: 1.0004 - val_loss: 2.2503 - val_mae: 1.1763\n",
      "Epoch 20/50\n",
      "\u001b[1m200/200\u001b[0m \u001b[32m━━━━━━━━━━━━━━━━━━━━\u001b[0m\u001b[37m\u001b[0m \u001b[1m0s\u001b[0m 779us/step - loss: 1.5394 - mae: 0.9785 - val_loss: 2.2652 - val_mae: 1.1818\n",
      "Epoch 21/50\n",
      "\u001b[1m200/200\u001b[0m \u001b[32m━━━━━━━━━━━━━━━━━━━━\u001b[0m\u001b[37m\u001b[0m \u001b[1m0s\u001b[0m 805us/step - loss: 1.5098 - mae: 0.9676 - val_loss: 2.2867 - val_mae: 1.1866\n",
      "Epoch 22/50\n",
      "\u001b[1m200/200\u001b[0m \u001b[32m━━━━━━━━━━━━━━━━━━━━\u001b[0m\u001b[37m\u001b[0m \u001b[1m0s\u001b[0m 708us/step - loss: 1.5860 - mae: 0.9958 - val_loss: 2.2752 - val_mae: 1.1847\n",
      "Epoch 23/50\n",
      "\u001b[1m200/200\u001b[0m \u001b[32m━━━━━━━━━━━━━━━━━━━━\u001b[0m\u001b[37m\u001b[0m \u001b[1m0s\u001b[0m 805us/step - loss: 1.5118 - mae: 0.9664 - val_loss: 2.2810 - val_mae: 1.1878\n",
      "Epoch 24/50\n",
      "\u001b[1m200/200\u001b[0m \u001b[32m━━━━━━━━━━━━━━━━━━━━\u001b[0m\u001b[37m\u001b[0m \u001b[1m0s\u001b[0m 657us/step - loss: 1.4689 - mae: 0.9526 - val_loss: 2.3407 - val_mae: 1.2034\n",
      "Epoch 25/50\n",
      "\u001b[1m200/200\u001b[0m \u001b[32m━━━━━━━━━━━━━━━━━━━━\u001b[0m\u001b[37m\u001b[0m \u001b[1m0s\u001b[0m 662us/step - loss: 1.5079 - mae: 0.9665 - val_loss: 2.2679 - val_mae: 1.1855\n",
      "Epoch 26/50\n",
      "\u001b[1m200/200\u001b[0m \u001b[32m━━━━━━━━━━━━━━━━━━━━\u001b[0m\u001b[37m\u001b[0m \u001b[1m0s\u001b[0m 671us/step - loss: 1.4523 - mae: 0.9484 - val_loss: 2.2731 - val_mae: 1.1809\n",
      "Epoch 27/50\n",
      "\u001b[1m200/200\u001b[0m \u001b[32m━━━━━━━━━━━━━━━━━━━━\u001b[0m\u001b[37m\u001b[0m \u001b[1m0s\u001b[0m 643us/step - loss: 1.4595 - mae: 0.9468 - val_loss: 2.3065 - val_mae: 1.1933\n",
      "Epoch 28/50\n",
      "\u001b[1m200/200\u001b[0m \u001b[32m━━━━━━━━━━━━━━━━━━━━\u001b[0m\u001b[37m\u001b[0m \u001b[1m0s\u001b[0m 729us/step - loss: 1.4733 - mae: 0.9568 - val_loss: 2.2617 - val_mae: 1.1787\n",
      "Epoch 29/50\n",
      "\u001b[1m200/200\u001b[0m \u001b[32m━━━━━━━━━━━━━━━━━━━━\u001b[0m\u001b[37m\u001b[0m \u001b[1m0s\u001b[0m 645us/step - loss: 1.4296 - mae: 0.9475 - val_loss: 2.2785 - val_mae: 1.1809\n",
      "Epoch 30/50\n",
      "\u001b[1m200/200\u001b[0m \u001b[32m━━━━━━━━━━━━━━━━━━━━\u001b[0m\u001b[37m\u001b[0m \u001b[1m0s\u001b[0m 738us/step - loss: 1.4080 - mae: 0.9359 - val_loss: 2.2867 - val_mae: 1.1793\n",
      "Epoch 31/50\n",
      "\u001b[1m200/200\u001b[0m \u001b[32m━━━━━━━━━━━━━━━━━━━━\u001b[0m\u001b[37m\u001b[0m \u001b[1m0s\u001b[0m 845us/step - loss: 1.4333 - mae: 0.9383 - val_loss: 2.2669 - val_mae: 1.1782\n",
      "Epoch 32/50\n",
      "\u001b[1m200/200\u001b[0m \u001b[32m━━━━━━━━━━━━━━━━━━━━\u001b[0m\u001b[37m\u001b[0m \u001b[1m0s\u001b[0m 787us/step - loss: 1.3428 - mae: 0.9112 - val_loss: 2.2836 - val_mae: 1.1763\n",
      "Epoch 33/50\n",
      "\u001b[1m200/200\u001b[0m \u001b[32m━━━━━━━━━━━━━━━━━━━━\u001b[0m\u001b[37m\u001b[0m \u001b[1m0s\u001b[0m 2ms/step - loss: 1.4252 - mae: 0.9434 - val_loss: 2.3335 - val_mae: 1.1946\n",
      "Epoch 34/50\n",
      "\u001b[1m200/200\u001b[0m \u001b[32m━━━━━━━━━━━━━━━━━━━━\u001b[0m\u001b[37m\u001b[0m \u001b[1m0s\u001b[0m 679us/step - loss: 1.3371 - mae: 0.9128 - val_loss: 2.3049 - val_mae: 1.1884\n",
      "Epoch 35/50\n",
      "\u001b[1m200/200\u001b[0m \u001b[32m━━━━━━━━━━━━━━━━━━━━\u001b[0m\u001b[37m\u001b[0m \u001b[1m0s\u001b[0m 662us/step - loss: 1.4046 - mae: 0.9309 - val_loss: 2.2915 - val_mae: 1.1819\n",
      "Epoch 36/50\n",
      "\u001b[1m200/200\u001b[0m \u001b[32m━━━━━━━━━━━━━━━━━━━━\u001b[0m\u001b[37m\u001b[0m \u001b[1m0s\u001b[0m 638us/step - loss: 1.3534 - mae: 0.9093 - val_loss: 2.3165 - val_mae: 1.1894\n",
      "Epoch 37/50\n",
      "\u001b[1m200/200\u001b[0m \u001b[32m━━━━━━━━━━━━━━━━━━━━\u001b[0m\u001b[37m\u001b[0m \u001b[1m0s\u001b[0m 634us/step - loss: 1.3563 - mae: 0.9233 - val_loss: 2.3309 - val_mae: 1.1935\n",
      "Epoch 38/50\n",
      "\u001b[1m200/200\u001b[0m \u001b[32m━━━━━━━━━━━━━━━━━━━━\u001b[0m\u001b[37m\u001b[0m \u001b[1m0s\u001b[0m 640us/step - loss: 1.3435 - mae: 0.9112 - val_loss: 2.3405 - val_mae: 1.1961\n",
      "Epoch 39/50\n",
      "\u001b[1m200/200\u001b[0m \u001b[32m━━━━━━━━━━━━━━━━━━━━\u001b[0m\u001b[37m\u001b[0m \u001b[1m0s\u001b[0m 732us/step - loss: 1.3001 - mae: 0.8911 - val_loss: 2.3999 - val_mae: 1.2150\n",
      "Epoch 40/50\n",
      "\u001b[1m200/200\u001b[0m \u001b[32m━━━━━━━━━━━━━━━━━━━━\u001b[0m\u001b[37m\u001b[0m \u001b[1m0s\u001b[0m 808us/step - loss: 1.3350 - mae: 0.9104 - val_loss: 2.3674 - val_mae: 1.2046\n",
      "Epoch 41/50\n",
      "\u001b[1m200/200\u001b[0m \u001b[32m━━━━━━━━━━━━━━━━━━━━\u001b[0m\u001b[37m\u001b[0m \u001b[1m0s\u001b[0m 772us/step - loss: 1.2996 - mae: 0.8971 - val_loss: 2.3669 - val_mae: 1.2022\n",
      "Epoch 42/50\n",
      "\u001b[1m200/200\u001b[0m \u001b[32m━━━━━━━━━━━━━━━━━━━━\u001b[0m\u001b[37m\u001b[0m \u001b[1m0s\u001b[0m 802us/step - loss: 1.2916 - mae: 0.8930 - val_loss: 2.3774 - val_mae: 1.2071\n",
      "Epoch 43/50\n",
      "\u001b[1m200/200\u001b[0m \u001b[32m━━━━━━━━━━━━━━━━━━━━\u001b[0m\u001b[37m\u001b[0m \u001b[1m0s\u001b[0m 752us/step - loss: 1.3086 - mae: 0.9023 - val_loss: 2.3684 - val_mae: 1.2040\n",
      "Epoch 44/50\n",
      "\u001b[1m200/200\u001b[0m \u001b[32m━━━━━━━━━━━━━━━━━━━━\u001b[0m\u001b[37m\u001b[0m \u001b[1m0s\u001b[0m 645us/step - loss: 1.2891 - mae: 0.8910 - val_loss: 2.3684 - val_mae: 1.2025\n",
      "Epoch 45/50\n",
      "\u001b[1m200/200\u001b[0m \u001b[32m━━━━━━━━━━━━━━━━━━━━\u001b[0m\u001b[37m\u001b[0m \u001b[1m0s\u001b[0m 635us/step - loss: 1.2900 - mae: 0.8924 - val_loss: 2.3761 - val_mae: 1.2012\n",
      "Epoch 46/50\n",
      "\u001b[1m200/200\u001b[0m \u001b[32m━━━━━━━━━━━━━━━━━━━━\u001b[0m\u001b[37m\u001b[0m \u001b[1m0s\u001b[0m 638us/step - loss: 1.3326 - mae: 0.9038 - val_loss: 2.4141 - val_mae: 1.2123\n",
      "Epoch 47/50\n",
      "\u001b[1m200/200\u001b[0m \u001b[32m━━━━━━━━━━━━━━━━━━━━\u001b[0m\u001b[37m\u001b[0m \u001b[1m0s\u001b[0m 741us/step - loss: 1.2951 - mae: 0.8894 - val_loss: 2.3988 - val_mae: 1.2084\n",
      "Epoch 48/50\n",
      "\u001b[1m200/200\u001b[0m \u001b[32m━━━━━━━━━━━━━━━━━━━━\u001b[0m\u001b[37m\u001b[0m \u001b[1m0s\u001b[0m 718us/step - loss: 1.3085 - mae: 0.9023 - val_loss: 2.3682 - val_mae: 1.2014\n",
      "Epoch 49/50\n",
      "\u001b[1m200/200\u001b[0m \u001b[32m━━━━━━━━━━━━━━━━━━━━\u001b[0m\u001b[37m\u001b[0m \u001b[1m0s\u001b[0m 701us/step - loss: 1.3105 - mae: 0.8983 - val_loss: 2.3813 - val_mae: 1.2026\n",
      "Epoch 50/50\n",
      "\u001b[1m200/200\u001b[0m \u001b[32m━━━━━━━━━━━━━━━━━━━━\u001b[0m\u001b[37m\u001b[0m \u001b[1m0s\u001b[0m 650us/step - loss: 1.2773 - mae: 0.8972 - val_loss: 2.4149 - val_mae: 1.2163\n"
     ]
    }
   ],
   "source": [
    "history = regressor.fit(X_train, y_train_gd, validation_split=0.2, epochs=50, batch_size=32, verbose=1)"
   ]
  },
  {
   "cell_type": "code",
   "execution_count": 28,
   "metadata": {},
   "outputs": [
    {
     "name": "stdout",
     "output_type": "stream",
     "text": [
      "\u001b[1m12/12\u001b[0m \u001b[32m━━━━━━━━━━━━━━━━━━━━\u001b[0m\u001b[37m\u001b[0m \u001b[1m0s\u001b[0m 615us/step\n"
     ]
    }
   ],
   "source": [
    "def map_result(predicitions):\n",
    "    return [1 if p >= 1 else -1 if p <= -1 else 0 for p in map(round, predicitions)]\n",
    "\n",
    "y_pred = regressor.predict(X_test).flatten()\n",
    "\n",
    "mapped_predictions = map_result(y_pred)"
   ]
  },
  {
   "cell_type": "code",
   "execution_count": 29,
   "metadata": {},
   "outputs": [
    {
     "name": "stdout",
     "output_type": "stream",
     "text": [
      "The accuracy of the model is 53.42%\n",
      "The accuracy of the model is 203 out of 380 games.\n",
      "\n",
      "With this model, the expected return on value would be 6599.70€\n"
     ]
    }
   ],
   "source": [
    "regr_df = pd.concat([df_test[[target, \"B365H\", \"B365D\", \"B365A\"]].reset_index(drop=True), pd.Series(mapped_predictions, name=\"PredictedOutcome\")], axis=1)\n",
    "\n",
    "regr_accuracy, regr_won = data_aggregator.calculate_accuracy(regr_df, target, \"PredictedOutcome\")\n",
    "\n",
    "print(f\"\"\"The accuracy of the model is {regr_accuracy:.2%}\n",
    "The accuracy of the model is {regr_accuracy*len(regr_df):.0f} out of {len(regr_df)} games.\n",
    "\"\"\")\n",
    "print(f\"With this model, the expected return on value would be {regr_won:.2f}€\")"
   ]
  },
  {
   "cell_type": "code",
   "execution_count": 30,
   "metadata": {},
   "outputs": [
    {
     "name": "stdout",
     "output_type": "stream",
     "text": [
      "              precision    recall  f1-score   support\n",
      "\n",
      "          -1       0.68      0.53      0.60       123\n",
      "           0       0.26      0.49      0.34        82\n",
      "           1       0.76      0.56      0.64       175\n",
      "\n",
      "    accuracy                           0.53       380\n",
      "   macro avg       0.57      0.53      0.53       380\n",
      "weighted avg       0.63      0.53      0.56       380\n",
      "\n"
     ]
    }
   ],
   "source": [
    "print(classification_report(y_test, mapped_predictions))"
   ]
  },
  {
   "cell_type": "code",
   "execution_count": 31,
   "metadata": {},
   "outputs": [
    {
     "data": {
      "image/png": "[encoded data removed]",
      "text/plain": [
       "<Figure size 640x480 with 2 Axes>"
      ]
     },
     "metadata": {},
     "output_type": "display_data"
    }
   ],
   "source": [
    "cm = confusion_matrix(y_test, mapped_predictions)\n",
    "plot_confusion_matrix(cm, [\"Away\", \"Draw\", \"Home\"])"
   ]
  },
  {
   "cell_type": "markdown",
   "metadata": {},
   "source": [
    "## Hybrid approach\n",
    "Finally, we will implement a hybrid variant, where we will take the output of the regressor, i.e., the predicted goal difference, and then use it as a input to a classifier NN in order to predict the results using another NN."
   ]
  },
  {
   "cell_type": "code",
   "execution_count": 21,
   "metadata": {},
   "outputs": [],
   "source": [
    "def create_hybrid_model(input_dim):\n",
    "    inputs = Input(shape=(input_dim,), name=\"main_input\")\n",
    "    \n",
    "    regressor = Dense(64, activation=\"relu\", name=\"regressor_hidden_1\")(inputs)\n",
    "    regressor = Dropout(0.2)(regressor)\n",
    "    regressor = Dense(32, activation=\"relu\", name=\"regressor_hidden_2\")(regressor)\n",
    "    gd_output = Dense(1, activation=\"linear\", name=\"goal_difference_output\")(regressor)  # Regression output\n",
    "\n",
    "    concatenated = Concatenate(name=\"concat_layer\")([inputs, gd_output])\n",
    "    \n",
    "    classifier = Dense(64, activation=\"relu\", name=\"classifier_hidden_1\")(concatenated)\n",
    "    classifier = Dropout(0.2)(classifier)\n",
    "    classifier = Dense(32, activation=\"relu\", name=\"classifier_hidden_2\")(classifier)\n",
    "    outcome_output = Dense(3, activation=\"softmax\", name=\"match_outcome_output\")(classifier)  # Classification output\n",
    "\n",
    "    model = Model(inputs=inputs, outputs=[gd_output, outcome_output])\n",
    "    model.compile(\n",
    "        optimizer=Adam(learning_rate=0.001),\n",
    "        loss={\n",
    "            \"goal_difference_output\": MeanSquaredError(),\n",
    "            \"match_outcome_output\": SparseCategoricalCrossentropy()\n",
    "        },\n",
    "        metrics={\n",
    "            \"goal_difference_output\": \"mae\",\n",
    "            \"match_outcome_output\": \"accuracy\"\n",
    "        }\n",
    "    )\n",
    "    return model"
   ]
  },
  {
   "cell_type": "code",
   "execution_count": 22,
   "metadata": {},
   "outputs": [
    {
     "data": {
      "text/html": [
       "<pre style=\"white-space:pre;overflow-x:auto;line-height:normal;font-family:Menlo,'DejaVu Sans Mono',consolas,'Courier New',monospace\"><span style=\"font-weight: bold\">Model: \"functional_2\"</span>\n",
       "</pre>\n"
      ],
      "text/plain": [
       "\u001b[1mModel: \"functional_2\"\u001b[0m\n"
      ]
     },
     "metadata": {},
     "output_type": "display_data"
    },
    {
     "data": {
      "text/html": [
       "<pre style=\"white-space:pre;overflow-x:auto;line-height:normal;font-family:Menlo,'DejaVu Sans Mono',consolas,'Courier New',monospace\">┏━━━━━━━━━━━━━━━━━━━━━┳━━━━━━━━━━━━━━━━━━━┳━━━━━━━━━━━━┳━━━━━━━━━━━━━━━━━━━┓\n",
       "┃<span style=\"font-weight: bold\"> Layer (type)        </span>┃<span style=\"font-weight: bold\"> Output Shape      </span>┃<span style=\"font-weight: bold\">    Param # </span>┃<span style=\"font-weight: bold\"> Connected to      </span>┃\n",
       "┡━━━━━━━━━━━━━━━━━━━━━╇━━━━━━━━━━━━━━━━━━━╇━━━━━━━━━━━━╇━━━━━━━━━━━━━━━━━━━┩\n",
       "│ main_input          │ (<span style=\"color: #00d7ff; text-decoration-color: #00d7ff\">None</span>, <span style=\"color: #00af00; text-decoration-color: #00af00\">103</span>)       │          <span style=\"color: #00af00; text-decoration-color: #00af00\">0</span> │ -                 │\n",
       "│ (<span style=\"color: #0087ff; text-decoration-color: #0087ff\">InputLayer</span>)        │                   │            │                   │\n",
       "├─────────────────────┼───────────────────┼────────────┼───────────────────┤\n",
       "│ regressor_hidden_1  │ (<span style=\"color: #00d7ff; text-decoration-color: #00d7ff\">None</span>, <span style=\"color: #00af00; text-decoration-color: #00af00\">64</span>)        │      <span style=\"color: #00af00; text-decoration-color: #00af00\">6,656</span> │ main_input[<span style=\"color: #00af00; text-decoration-color: #00af00\">0</span>][<span style=\"color: #00af00; text-decoration-color: #00af00\">0</span>]  │\n",
       "│ (<span style=\"color: #0087ff; text-decoration-color: #0087ff\">Dense</span>)             │                   │            │                   │\n",
       "├─────────────────────┼───────────────────┼────────────┼───────────────────┤\n",
       "│ dropout_4 (<span style=\"color: #0087ff; text-decoration-color: #0087ff\">Dropout</span>) │ (<span style=\"color: #00d7ff; text-decoration-color: #00d7ff\">None</span>, <span style=\"color: #00af00; text-decoration-color: #00af00\">64</span>)        │          <span style=\"color: #00af00; text-decoration-color: #00af00\">0</span> │ regressor_hidden… │\n",
       "├─────────────────────┼───────────────────┼────────────┼───────────────────┤\n",
       "│ regressor_hidden_2  │ (<span style=\"color: #00d7ff; text-decoration-color: #00d7ff\">None</span>, <span style=\"color: #00af00; text-decoration-color: #00af00\">32</span>)        │      <span style=\"color: #00af00; text-decoration-color: #00af00\">2,080</span> │ dropout_4[<span style=\"color: #00af00; text-decoration-color: #00af00\">0</span>][<span style=\"color: #00af00; text-decoration-color: #00af00\">0</span>]   │\n",
       "│ (<span style=\"color: #0087ff; text-decoration-color: #0087ff\">Dense</span>)             │                   │            │                   │\n",
       "├─────────────────────┼───────────────────┼────────────┼───────────────────┤\n",
       "│ goal_difference_ou… │ (<span style=\"color: #00d7ff; text-decoration-color: #00d7ff\">None</span>, <span style=\"color: #00af00; text-decoration-color: #00af00\">1</span>)         │         <span style=\"color: #00af00; text-decoration-color: #00af00\">33</span> │ regressor_hidden… │\n",
       "│ (<span style=\"color: #0087ff; text-decoration-color: #0087ff\">Dense</span>)             │                   │            │                   │\n",
       "├─────────────────────┼───────────────────┼────────────┼───────────────────┤\n",
       "│ concat_layer        │ (<span style=\"color: #00d7ff; text-decoration-color: #00d7ff\">None</span>, <span style=\"color: #00af00; text-decoration-color: #00af00\">104</span>)       │          <span style=\"color: #00af00; text-decoration-color: #00af00\">0</span> │ main_input[<span style=\"color: #00af00; text-decoration-color: #00af00\">0</span>][<span style=\"color: #00af00; text-decoration-color: #00af00\">0</span>], │\n",
       "│ (<span style=\"color: #0087ff; text-decoration-color: #0087ff\">Concatenate</span>)       │                   │            │ goal_difference_… │\n",
       "├─────────────────────┼───────────────────┼────────────┼───────────────────┤\n",
       "│ classifier_hidden_1 │ (<span style=\"color: #00d7ff; text-decoration-color: #00d7ff\">None</span>, <span style=\"color: #00af00; text-decoration-color: #00af00\">64</span>)        │      <span style=\"color: #00af00; text-decoration-color: #00af00\">6,720</span> │ concat_layer[<span style=\"color: #00af00; text-decoration-color: #00af00\">0</span>][<span style=\"color: #00af00; text-decoration-color: #00af00\">…</span> │\n",
       "│ (<span style=\"color: #0087ff; text-decoration-color: #0087ff\">Dense</span>)             │                   │            │                   │\n",
       "├─────────────────────┼───────────────────┼────────────┼───────────────────┤\n",
       "│ dropout_5 (<span style=\"color: #0087ff; text-decoration-color: #0087ff\">Dropout</span>) │ (<span style=\"color: #00d7ff; text-decoration-color: #00d7ff\">None</span>, <span style=\"color: #00af00; text-decoration-color: #00af00\">64</span>)        │          <span style=\"color: #00af00; text-decoration-color: #00af00\">0</span> │ classifier_hidde… │\n",
       "├─────────────────────┼───────────────────┼────────────┼───────────────────┤\n",
       "│ classifier_hidden_2 │ (<span style=\"color: #00d7ff; text-decoration-color: #00d7ff\">None</span>, <span style=\"color: #00af00; text-decoration-color: #00af00\">32</span>)        │      <span style=\"color: #00af00; text-decoration-color: #00af00\">2,080</span> │ dropout_5[<span style=\"color: #00af00; text-decoration-color: #00af00\">0</span>][<span style=\"color: #00af00; text-decoration-color: #00af00\">0</span>]   │\n",
       "│ (<span style=\"color: #0087ff; text-decoration-color: #0087ff\">Dense</span>)             │                   │            │                   │\n",
       "├─────────────────────┼───────────────────┼────────────┼───────────────────┤\n",
       "│ match_outcome_outp… │ (<span style=\"color: #00d7ff; text-decoration-color: #00d7ff\">None</span>, <span style=\"color: #00af00; text-decoration-color: #00af00\">3</span>)         │         <span style=\"color: #00af00; text-decoration-color: #00af00\">99</span> │ classifier_hidde… │\n",
       "│ (<span style=\"color: #0087ff; text-decoration-color: #0087ff\">Dense</span>)             │                   │            │                   │\n",
       "└─────────────────────┴───────────────────┴────────────┴───────────────────┘\n",
       "</pre>\n"
      ],
      "text/plain": [
       "┏━━━━━━━━━━━━━━━━━━━━━┳━━━━━━━━━━━━━━━━━━━┳━━━━━━━━━━━━┳━━━━━━━━━━━━━━━━━━━┓\n",
       "┃\u001b[1m \u001b[0m\u001b[1mLayer (type)       \u001b[0m\u001b[1m \u001b[0m┃\u001b[1m \u001b[0m\u001b[1mOutput Shape     \u001b[0m\u001b[1m \u001b[0m┃\u001b[1m \u001b[0m\u001b[1m   Param #\u001b[0m\u001b[1m \u001b[0m┃\u001b[1m \u001b[0m\u001b[1mConnected to     \u001b[0m\u001b[1m \u001b[0m┃\n",
       "┡━━━━━━━━━━━━━━━━━━━━━╇━━━━━━━━━━━━━━━━━━━╇━━━━━━━━━━━━╇━━━━━━━━━━━━━━━━━━━┩\n",
       "│ main_input          │ (\u001b[38;5;45mNone\u001b[0m, \u001b[38;5;34m103\u001b[0m)       │          \u001b[38;5;34m0\u001b[0m │ -                 │\n",
       "│ (\u001b[38;5;33mInputLayer\u001b[0m)        │                   │            │                   │\n",
       "├─────────────────────┼───────────────────┼────────────┼───────────────────┤\n",
       "│ regressor_hidden_1  │ (\u001b[38;5;45mNone\u001b[0m, \u001b[38;5;34m64\u001b[0m)        │      \u001b[38;5;34m6,656\u001b[0m │ main_input[\u001b[38;5;34m0\u001b[0m][\u001b[38;5;34m0\u001b[0m]  │\n",
       "│ (\u001b[38;5;33mDense\u001b[0m)             │                   │            │                   │\n",
       "├─────────────────────┼───────────────────┼────────────┼───────────────────┤\n",
       "│ dropout_4 (\u001b[38;5;33mDropout\u001b[0m) │ (\u001b[38;5;45mNone\u001b[0m, \u001b[38;5;34m64\u001b[0m)        │          \u001b[38;5;34m0\u001b[0m │ regressor_hidden… │\n",
       "├─────────────────────┼───────────────────┼────────────┼───────────────────┤\n",
       "│ regressor_hidden_2  │ (\u001b[38;5;45mNone\u001b[0m, \u001b[38;5;34m32\u001b[0m)        │      \u001b[38;5;34m2,080\u001b[0m │ dropout_4[\u001b[38;5;34m0\u001b[0m][\u001b[38;5;34m0\u001b[0m]   │\n",
       "│ (\u001b[38;5;33mDense\u001b[0m)             │                   │            │                   │\n",
       "├─────────────────────┼───────────────────┼────────────┼───────────────────┤\n",
       "│ goal_difference_ou… │ (\u001b[38;5;45mNone\u001b[0m, \u001b[38;5;34m1\u001b[0m)         │         \u001b[38;5;34m33\u001b[0m │ regressor_hidden… │\n",
       "│ (\u001b[38;5;33mDense\u001b[0m)             │                   │            │                   │\n",
       "├─────────────────────┼───────────────────┼────────────┼───────────────────┤\n",
       "│ concat_layer        │ (\u001b[38;5;45mNone\u001b[0m, \u001b[38;5;34m104\u001b[0m)       │          \u001b[38;5;34m0\u001b[0m │ main_input[\u001b[38;5;34m0\u001b[0m][\u001b[38;5;34m0\u001b[0m], │\n",
       "│ (\u001b[38;5;33mConcatenate\u001b[0m)       │                   │            │ goal_difference_… │\n",
       "├─────────────────────┼───────────────────┼────────────┼───────────────────┤\n",
       "│ classifier_hidden_1 │ (\u001b[38;5;45mNone\u001b[0m, \u001b[38;5;34m64\u001b[0m)        │      \u001b[38;5;34m6,720\u001b[0m │ concat_layer[\u001b[38;5;34m0\u001b[0m][\u001b[38;5;34m…\u001b[0m │\n",
       "│ (\u001b[38;5;33mDense\u001b[0m)             │                   │            │                   │\n",
       "├─────────────────────┼───────────────────┼────────────┼───────────────────┤\n",
       "│ dropout_5 (\u001b[38;5;33mDropout\u001b[0m) │ (\u001b[38;5;45mNone\u001b[0m, \u001b[38;5;34m64\u001b[0m)        │          \u001b[38;5;34m0\u001b[0m │ classifier_hidde… │\n",
       "├─────────────────────┼───────────────────┼────────────┼───────────────────┤\n",
       "│ classifier_hidden_2 │ (\u001b[38;5;45mNone\u001b[0m, \u001b[38;5;34m32\u001b[0m)        │      \u001b[38;5;34m2,080\u001b[0m │ dropout_5[\u001b[38;5;34m0\u001b[0m][\u001b[38;5;34m0\u001b[0m]   │\n",
       "│ (\u001b[38;5;33mDense\u001b[0m)             │                   │            │                   │\n",
       "├─────────────────────┼───────────────────┼────────────┼───────────────────┤\n",
       "│ match_outcome_outp… │ (\u001b[38;5;45mNone\u001b[0m, \u001b[38;5;34m3\u001b[0m)         │         \u001b[38;5;34m99\u001b[0m │ classifier_hidde… │\n",
       "│ (\u001b[38;5;33mDense\u001b[0m)             │                   │            │                   │\n",
       "└─────────────────────┴───────────────────┴────────────┴───────────────────┘\n"
      ]
     },
     "metadata": {},
     "output_type": "display_data"
    },
    {
     "data": {
      "text/html": [
       "<pre style=\"white-space:pre;overflow-x:auto;line-height:normal;font-family:Menlo,'DejaVu Sans Mono',consolas,'Courier New',monospace\"><span style=\"font-weight: bold\"> Total params: </span><span style=\"color: #00af00; text-decoration-color: #00af00\">17,668</span> (69.02 KB)\n",
       "</pre>\n"
      ],
      "text/plain": [
       "\u001b[1m Total params: \u001b[0m\u001b[38;5;34m17,668\u001b[0m (69.02 KB)\n"
      ]
     },
     "metadata": {},
     "output_type": "display_data"
    },
    {
     "data": {
      "text/html": [
       "<pre style=\"white-space:pre;overflow-x:auto;line-height:normal;font-family:Menlo,'DejaVu Sans Mono',consolas,'Courier New',monospace\"><span style=\"font-weight: bold\"> Trainable params: </span><span style=\"color: #00af00; text-decoration-color: #00af00\">17,668</span> (69.02 KB)\n",
       "</pre>\n"
      ],
      "text/plain": [
       "\u001b[1m Trainable params: \u001b[0m\u001b[38;5;34m17,668\u001b[0m (69.02 KB)\n"
      ]
     },
     "metadata": {},
     "output_type": "display_data"
    },
    {
     "data": {
      "text/html": [
       "<pre style=\"white-space:pre;overflow-x:auto;line-height:normal;font-family:Menlo,'DejaVu Sans Mono',consolas,'Courier New',monospace\"><span style=\"font-weight: bold\"> Non-trainable params: </span><span style=\"color: #00af00; text-decoration-color: #00af00\">0</span> (0.00 B)\n",
       "</pre>\n"
      ],
      "text/plain": [
       "\u001b[1m Non-trainable params: \u001b[0m\u001b[38;5;34m0\u001b[0m (0.00 B)\n"
      ]
     },
     "metadata": {},
     "output_type": "display_data"
    },
    {
     "name": "stdout",
     "output_type": "stream",
     "text": [
      "None\n"
     ]
    }
   ],
   "source": [
    "hybrid_model = create_hybrid_model(input_dim)\n",
    "print(hybrid_model.summary())"
   ]
  },
  {
   "cell_type": "code",
   "execution_count": 23,
   "metadata": {},
   "outputs": [
    {
     "name": "stdout",
     "output_type": "stream",
     "text": [
      "Epoch 1/50\n",
      "\u001b[1m200/200\u001b[0m \u001b[32m━━━━━━━━━━━━━━━━━━━━\u001b[0m\u001b[37m\u001b[0m \u001b[1m1s\u001b[0m 2ms/step - goal_difference_output_loss: 3.0264 - goal_difference_output_mae: 1.3477 - loss: 4.1424 - match_outcome_output_accuracy: 0.4332 - match_outcome_output_loss: 1.1160 - val_goal_difference_output_loss: 2.7101 - val_goal_difference_output_mae: 1.2808 - val_loss: 3.6912 - val_match_outcome_output_accuracy: 0.5363 - val_match_outcome_output_loss: 0.9806\n",
      "Epoch 2/50\n",
      "\u001b[1m200/200\u001b[0m \u001b[32m━━━━━━━━━━━━━━━━━━━━\u001b[0m\u001b[37m\u001b[0m \u001b[1m0s\u001b[0m 1ms/step - goal_difference_output_loss: 2.2193 - goal_difference_output_mae: 1.1651 - loss: 3.1529 - match_outcome_output_accuracy: 0.5629 - match_outcome_output_loss: 0.9336 - val_goal_difference_output_loss: 2.5217 - val_goal_difference_output_mae: 1.2471 - val_loss: 3.4737 - val_match_outcome_output_accuracy: 0.5589 - val_match_outcome_output_loss: 0.9519\n",
      "Epoch 3/50\n",
      "\u001b[1m200/200\u001b[0m \u001b[32m━━━━━━━━━━━━━━━━━━━━\u001b[0m\u001b[37m\u001b[0m \u001b[1m0s\u001b[0m 1ms/step - goal_difference_output_loss: 2.0085 - goal_difference_output_mae: 1.1110 - loss: 2.8974 - match_outcome_output_accuracy: 0.5875 - match_outcome_output_loss: 0.8889 - val_goal_difference_output_loss: 2.3773 - val_goal_difference_output_mae: 1.2107 - val_loss: 3.2995 - val_match_outcome_output_accuracy: 0.5714 - val_match_outcome_output_loss: 0.9215\n",
      "Epoch 4/50\n",
      "\u001b[1m200/200\u001b[0m \u001b[32m━━━━━━━━━━━━━━━━━━━━\u001b[0m\u001b[37m\u001b[0m \u001b[1m0s\u001b[0m 984us/step - goal_difference_output_loss: 1.8851 - goal_difference_output_mae: 1.0807 - loss: 2.7315 - match_outcome_output_accuracy: 0.6184 - match_outcome_output_loss: 0.8464 - val_goal_difference_output_loss: 2.3455 - val_goal_difference_output_mae: 1.2057 - val_loss: 3.2615 - val_match_outcome_output_accuracy: 0.5702 - val_match_outcome_output_loss: 0.9151\n",
      "Epoch 5/50\n",
      "\u001b[1m200/200\u001b[0m \u001b[32m━━━━━━━━━━━━━━━━━━━━\u001b[0m\u001b[37m\u001b[0m \u001b[1m0s\u001b[0m 1ms/step - goal_difference_output_loss: 1.8696 - goal_difference_output_mae: 1.0740 - loss: 2.7163 - match_outcome_output_accuracy: 0.6109 - match_outcome_output_loss: 0.8467 - val_goal_difference_output_loss: 2.2868 - val_goal_difference_output_mae: 1.1911 - val_loss: 3.1994 - val_match_outcome_output_accuracy: 0.5840 - val_match_outcome_output_loss: 0.9112\n",
      "Epoch 6/50\n",
      "\u001b[1m200/200\u001b[0m \u001b[32m━━━━━━━━━━━━━━━━━━━━\u001b[0m\u001b[37m\u001b[0m \u001b[1m0s\u001b[0m 1ms/step - goal_difference_output_loss: 1.8608 - goal_difference_output_mae: 1.0726 - loss: 2.6852 - match_outcome_output_accuracy: 0.6369 - match_outcome_output_loss: 0.8245 - val_goal_difference_output_loss: 2.3078 - val_goal_difference_output_mae: 1.1993 - val_loss: 3.2344 - val_match_outcome_output_accuracy: 0.5796 - val_match_outcome_output_loss: 0.9258\n",
      "Epoch 7/50\n",
      "\u001b[1m200/200\u001b[0m \u001b[32m━━━━━━━━━━━━━━━━━━━━\u001b[0m\u001b[37m\u001b[0m \u001b[1m0s\u001b[0m 1ms/step - goal_difference_output_loss: 1.7916 - goal_difference_output_mae: 1.0489 - loss: 2.6069 - match_outcome_output_accuracy: 0.6386 - match_outcome_output_loss: 0.8153 - val_goal_difference_output_loss: 2.2876 - val_goal_difference_output_mae: 1.1918 - val_loss: 3.2200 - val_match_outcome_output_accuracy: 0.5764 - val_match_outcome_output_loss: 0.9316\n",
      "Epoch 8/50\n",
      "\u001b[1m200/200\u001b[0m \u001b[32m━━━━━━━━━━━━━━━━━━━━\u001b[0m\u001b[37m\u001b[0m \u001b[1m0s\u001b[0m 1ms/step - goal_difference_output_loss: 1.6532 - goal_difference_output_mae: 1.0113 - loss: 2.4493 - match_outcome_output_accuracy: 0.6383 - match_outcome_output_loss: 0.7961 - val_goal_difference_output_loss: 2.2683 - val_goal_difference_output_mae: 1.1881 - val_loss: 3.2104 - val_match_outcome_output_accuracy: 0.5802 - val_match_outcome_output_loss: 0.9412\n",
      "Epoch 9/50\n",
      "\u001b[1m200/200\u001b[0m \u001b[32m━━━━━━━━━━━━━━━━━━━━\u001b[0m\u001b[37m\u001b[0m \u001b[1m0s\u001b[0m 1ms/step - goal_difference_output_loss: 1.6589 - goal_difference_output_mae: 1.0092 - loss: 2.4393 - match_outcome_output_accuracy: 0.6533 - match_outcome_output_loss: 0.7804 - val_goal_difference_output_loss: 2.2713 - val_goal_difference_output_mae: 1.1910 - val_loss: 3.2160 - val_match_outcome_output_accuracy: 0.5746 - val_match_outcome_output_loss: 0.9439\n",
      "Epoch 10/50\n",
      "\u001b[1m200/200\u001b[0m \u001b[32m━━━━━━━━━━━━━━━━━━━━\u001b[0m\u001b[37m\u001b[0m \u001b[1m0s\u001b[0m 1ms/step - goal_difference_output_loss: 1.6746 - goal_difference_output_mae: 1.0237 - loss: 2.4521 - match_outcome_output_accuracy: 0.6440 - match_outcome_output_loss: 0.7775 - val_goal_difference_output_loss: 2.2662 - val_goal_difference_output_mae: 1.1926 - val_loss: 3.2108 - val_match_outcome_output_accuracy: 0.5752 - val_match_outcome_output_loss: 0.9438\n",
      "Epoch 11/50\n",
      "\u001b[1m200/200\u001b[0m \u001b[32m━━━━━━━━━━━━━━━━━━━━\u001b[0m\u001b[37m\u001b[0m \u001b[1m0s\u001b[0m 2ms/step - goal_difference_output_loss: 1.6094 - goal_difference_output_mae: 0.9912 - loss: 2.3773 - match_outcome_output_accuracy: 0.6579 - match_outcome_output_loss: 0.7679 - val_goal_difference_output_loss: 2.2930 - val_goal_difference_output_mae: 1.1996 - val_loss: 3.2550 - val_match_outcome_output_accuracy: 0.5702 - val_match_outcome_output_loss: 0.9604\n",
      "Epoch 12/50\n",
      "\u001b[1m200/200\u001b[0m \u001b[32m━━━━━━━━━━━━━━━━━━━━\u001b[0m\u001b[37m\u001b[0m \u001b[1m0s\u001b[0m 1ms/step - goal_difference_output_loss: 1.6585 - goal_difference_output_mae: 1.0114 - loss: 2.4022 - match_outcome_output_accuracy: 0.6677 - match_outcome_output_loss: 0.7437 - val_goal_difference_output_loss: 2.2941 - val_goal_difference_output_mae: 1.2010 - val_loss: 3.2718 - val_match_outcome_output_accuracy: 0.5752 - val_match_outcome_output_loss: 0.9762\n",
      "Epoch 13/50\n",
      "\u001b[1m200/200\u001b[0m \u001b[32m━━━━━━━━━━━━━━━━━━━━\u001b[0m\u001b[37m\u001b[0m \u001b[1m0s\u001b[0m 1ms/step - goal_difference_output_loss: 1.5670 - goal_difference_output_mae: 0.9777 - loss: 2.3243 - match_outcome_output_accuracy: 0.6601 - match_outcome_output_loss: 0.7573 - val_goal_difference_output_loss: 2.3316 - val_goal_difference_output_mae: 1.2097 - val_loss: 3.3414 - val_match_outcome_output_accuracy: 0.5758 - val_match_outcome_output_loss: 1.0084\n",
      "Epoch 14/50\n",
      "\u001b[1m200/200\u001b[0m \u001b[32m━━━━━━━━━━━━━━━━━━━━\u001b[0m\u001b[37m\u001b[0m \u001b[1m0s\u001b[0m 1ms/step - goal_difference_output_loss: 1.5410 - goal_difference_output_mae: 0.9663 - loss: 2.2656 - match_outcome_output_accuracy: 0.6828 - match_outcome_output_loss: 0.7247 - val_goal_difference_output_loss: 2.3140 - val_goal_difference_output_mae: 1.2023 - val_loss: 3.3056 - val_match_outcome_output_accuracy: 0.5664 - val_match_outcome_output_loss: 0.9893\n",
      "Epoch 15/50\n",
      "\u001b[1m200/200\u001b[0m \u001b[32m━━━━━━━━━━━━━━━━━━━━\u001b[0m\u001b[37m\u001b[0m \u001b[1m0s\u001b[0m 1ms/step - goal_difference_output_loss: 1.5674 - goal_difference_output_mae: 0.9827 - loss: 2.3027 - match_outcome_output_accuracy: 0.6742 - match_outcome_output_loss: 0.7353 - val_goal_difference_output_loss: 2.3278 - val_goal_difference_output_mae: 1.2077 - val_loss: 3.3250 - val_match_outcome_output_accuracy: 0.5758 - val_match_outcome_output_loss: 0.9955\n",
      "Epoch 16/50\n",
      "\u001b[1m200/200\u001b[0m \u001b[32m━━━━━━━━━━━━━━━━━━━━\u001b[0m\u001b[37m\u001b[0m \u001b[1m0s\u001b[0m 981us/step - goal_difference_output_loss: 1.5322 - goal_difference_output_mae: 0.9816 - loss: 2.2667 - match_outcome_output_accuracy: 0.6694 - match_outcome_output_loss: 0.7345 - val_goal_difference_output_loss: 2.3794 - val_goal_difference_output_mae: 1.2167 - val_loss: 3.4144 - val_match_outcome_output_accuracy: 0.5808 - val_match_outcome_output_loss: 1.0325\n",
      "Epoch 17/50\n",
      "\u001b[1m200/200\u001b[0m \u001b[32m━━━━━━━━━━━━━━━━━━━━\u001b[0m\u001b[37m\u001b[0m \u001b[1m0s\u001b[0m 953us/step - goal_difference_output_loss: 1.4879 - goal_difference_output_mae: 0.9589 - loss: 2.2096 - match_outcome_output_accuracy: 0.6842 - match_outcome_output_loss: 0.7218 - val_goal_difference_output_loss: 2.4379 - val_goal_difference_output_mae: 1.2264 - val_loss: 3.4801 - val_match_outcome_output_accuracy: 0.5771 - val_match_outcome_output_loss: 1.0394\n",
      "Epoch 18/50\n",
      "\u001b[1m200/200\u001b[0m \u001b[32m━━━━━━━━━━━━━━━━━━━━\u001b[0m\u001b[37m\u001b[0m \u001b[1m0s\u001b[0m 969us/step - goal_difference_output_loss: 1.4381 - goal_difference_output_mae: 0.9436 - loss: 2.1318 - match_outcome_output_accuracy: 0.6951 - match_outcome_output_loss: 0.6938 - val_goal_difference_output_loss: 2.3815 - val_goal_difference_output_mae: 1.2101 - val_loss: 3.4175 - val_match_outcome_output_accuracy: 0.5802 - val_match_outcome_output_loss: 1.0341\n",
      "Epoch 19/50\n",
      "\u001b[1m200/200\u001b[0m \u001b[32m━━━━━━━━━━━━━━━━━━━━\u001b[0m\u001b[37m\u001b[0m \u001b[1m0s\u001b[0m 1ms/step - goal_difference_output_loss: 1.4940 - goal_difference_output_mae: 0.9558 - loss: 2.1813 - match_outcome_output_accuracy: 0.6957 - match_outcome_output_loss: 0.6873 - val_goal_difference_output_loss: 2.4500 - val_goal_difference_output_mae: 1.2229 - val_loss: 3.5098 - val_match_outcome_output_accuracy: 0.5821 - val_match_outcome_output_loss: 1.0571\n",
      "Epoch 20/50\n",
      "\u001b[1m200/200\u001b[0m \u001b[32m━━━━━━━━━━━━━━━━━━━━\u001b[0m\u001b[37m\u001b[0m \u001b[1m0s\u001b[0m 1ms/step - goal_difference_output_loss: 1.4609 - goal_difference_output_mae: 0.9482 - loss: 2.1494 - match_outcome_output_accuracy: 0.6964 - match_outcome_output_loss: 0.6885 - val_goal_difference_output_loss: 2.3545 - val_goal_difference_output_mae: 1.2009 - val_loss: 3.3947 - val_match_outcome_output_accuracy: 0.5827 - val_match_outcome_output_loss: 1.0385\n",
      "Epoch 21/50\n",
      "\u001b[1m200/200\u001b[0m \u001b[32m━━━━━━━━━━━━━━━━━━━━\u001b[0m\u001b[37m\u001b[0m \u001b[1m0s\u001b[0m 968us/step - goal_difference_output_loss: 1.4959 - goal_difference_output_mae: 0.9614 - loss: 2.1876 - match_outcome_output_accuracy: 0.6986 - match_outcome_output_loss: 0.6917 - val_goal_difference_output_loss: 2.6009 - val_goal_difference_output_mae: 1.2522 - val_loss: 3.7101 - val_match_outcome_output_accuracy: 0.5865 - val_match_outcome_output_loss: 1.1066\n",
      "Epoch 22/50\n",
      "\u001b[1m200/200\u001b[0m \u001b[32m━━━━━━━━━━━━━━━━━━━━\u001b[0m\u001b[37m\u001b[0m \u001b[1m0s\u001b[0m 970us/step - goal_difference_output_loss: 1.4405 - goal_difference_output_mae: 0.9444 - loss: 2.1375 - match_outcome_output_accuracy: 0.6996 - match_outcome_output_loss: 0.6970 - val_goal_difference_output_loss: 2.4465 - val_goal_difference_output_mae: 1.2169 - val_loss: 3.5481 - val_match_outcome_output_accuracy: 0.5877 - val_match_outcome_output_loss: 1.0994\n",
      "Epoch 23/50\n",
      "\u001b[1m200/200\u001b[0m \u001b[32m━━━━━━━━━━━━━━━━━━━━\u001b[0m\u001b[37m\u001b[0m \u001b[1m0s\u001b[0m 1ms/step - goal_difference_output_loss: 1.3653 - goal_difference_output_mae: 0.9201 - loss: 2.0334 - match_outcome_output_accuracy: 0.7128 - match_outcome_output_loss: 0.6681 - val_goal_difference_output_loss: 2.4907 - val_goal_difference_output_mae: 1.2266 - val_loss: 3.5720 - val_match_outcome_output_accuracy: 0.5689 - val_match_outcome_output_loss: 1.0796\n",
      "Epoch 24/50\n",
      "\u001b[1m200/200\u001b[0m \u001b[32m━━━━━━━━━━━━━━━━━━━━\u001b[0m\u001b[37m\u001b[0m \u001b[1m0s\u001b[0m 1ms/step - goal_difference_output_loss: 1.4299 - goal_difference_output_mae: 0.9436 - loss: 2.0972 - match_outcome_output_accuracy: 0.7111 - match_outcome_output_loss: 0.6673 - val_goal_difference_output_loss: 2.4876 - val_goal_difference_output_mae: 1.2282 - val_loss: 3.6044 - val_match_outcome_output_accuracy: 0.5815 - val_match_outcome_output_loss: 1.1156\n",
      "Epoch 25/50\n",
      "\u001b[1m200/200\u001b[0m \u001b[32m━━━━━━━━━━━━━━━━━━━━\u001b[0m\u001b[37m\u001b[0m \u001b[1m0s\u001b[0m 991us/step - goal_difference_output_loss: 1.3670 - goal_difference_output_mae: 0.9267 - loss: 2.0172 - match_outcome_output_accuracy: 0.7153 - match_outcome_output_loss: 0.6503 - val_goal_difference_output_loss: 2.5012 - val_goal_difference_output_mae: 1.2291 - val_loss: 3.6647 - val_match_outcome_output_accuracy: 0.5840 - val_match_outcome_output_loss: 1.1621\n",
      "Epoch 26/50\n",
      "\u001b[1m200/200\u001b[0m \u001b[32m━━━━━━━━━━━━━━━━━━━━\u001b[0m\u001b[37m\u001b[0m \u001b[1m0s\u001b[0m 1ms/step - goal_difference_output_loss: 1.3785 - goal_difference_output_mae: 0.9179 - loss: 2.0239 - match_outcome_output_accuracy: 0.7207 - match_outcome_output_loss: 0.6454 - val_goal_difference_output_loss: 2.5534 - val_goal_difference_output_mae: 1.2445 - val_loss: 3.7193 - val_match_outcome_output_accuracy: 0.5846 - val_match_outcome_output_loss: 1.1643\n",
      "Epoch 27/50\n",
      "\u001b[1m200/200\u001b[0m \u001b[32m━━━━━━━━━━━━━━━━━━━━\u001b[0m\u001b[37m\u001b[0m \u001b[1m0s\u001b[0m 1ms/step - goal_difference_output_loss: 1.3818 - goal_difference_output_mae: 0.9260 - loss: 2.0260 - match_outcome_output_accuracy: 0.7273 - match_outcome_output_loss: 0.6442 - val_goal_difference_output_loss: 2.5175 - val_goal_difference_output_mae: 1.2326 - val_loss: 3.6745 - val_match_outcome_output_accuracy: 0.5733 - val_match_outcome_output_loss: 1.1554\n",
      "Epoch 28/50\n",
      "\u001b[1m200/200\u001b[0m \u001b[32m━━━━━━━━━━━━━━━━━━━━\u001b[0m\u001b[37m\u001b[0m \u001b[1m0s\u001b[0m 2ms/step - goal_difference_output_loss: 1.3849 - goal_difference_output_mae: 0.9317 - loss: 2.0176 - match_outcome_output_accuracy: 0.7309 - match_outcome_output_loss: 0.6327 - val_goal_difference_output_loss: 2.5462 - val_goal_difference_output_mae: 1.2380 - val_loss: 3.7292 - val_match_outcome_output_accuracy: 0.5708 - val_match_outcome_output_loss: 1.1822\n",
      "Epoch 29/50\n",
      "\u001b[1m200/200\u001b[0m \u001b[32m━━━━━━━━━━━━━━━━━━━━\u001b[0m\u001b[37m\u001b[0m \u001b[1m0s\u001b[0m 1ms/step - goal_difference_output_loss: 1.3427 - goal_difference_output_mae: 0.9133 - loss: 1.9797 - match_outcome_output_accuracy: 0.7194 - match_outcome_output_loss: 0.6370 - val_goal_difference_output_loss: 2.5548 - val_goal_difference_output_mae: 1.2428 - val_loss: 3.7777 - val_match_outcome_output_accuracy: 0.5846 - val_match_outcome_output_loss: 1.2218\n",
      "Epoch 30/50\n",
      "\u001b[1m200/200\u001b[0m \u001b[32m━━━━━━━━━━━━━━━━━━━━\u001b[0m\u001b[37m\u001b[0m \u001b[1m0s\u001b[0m 1ms/step - goal_difference_output_loss: 1.3594 - goal_difference_output_mae: 0.9144 - loss: 1.9896 - match_outcome_output_accuracy: 0.7344 - match_outcome_output_loss: 0.6303 - val_goal_difference_output_loss: 2.5755 - val_goal_difference_output_mae: 1.2465 - val_loss: 3.8002 - val_match_outcome_output_accuracy: 0.5821 - val_match_outcome_output_loss: 1.2235\n",
      "Epoch 31/50\n",
      "\u001b[1m200/200\u001b[0m \u001b[32m━━━━━━━━━━━━━━━━━━━━\u001b[0m\u001b[37m\u001b[0m \u001b[1m0s\u001b[0m 1ms/step - goal_difference_output_loss: 1.4376 - goal_difference_output_mae: 0.9420 - loss: 2.0635 - match_outcome_output_accuracy: 0.7262 - match_outcome_output_loss: 0.6259 - val_goal_difference_output_loss: 2.5410 - val_goal_difference_output_mae: 1.2372 - val_loss: 3.8194 - val_match_outcome_output_accuracy: 0.5858 - val_match_outcome_output_loss: 1.2780\n",
      "Epoch 32/50\n",
      "\u001b[1m200/200\u001b[0m \u001b[32m━━━━━━━━━━━━━━━━━━━━\u001b[0m\u001b[37m\u001b[0m \u001b[1m0s\u001b[0m 1ms/step - goal_difference_output_loss: 1.3334 - goal_difference_output_mae: 0.9086 - loss: 1.9531 - match_outcome_output_accuracy: 0.7378 - match_outcome_output_loss: 0.6197 - val_goal_difference_output_loss: 2.6745 - val_goal_difference_output_mae: 1.2694 - val_loss: 3.9677 - val_match_outcome_output_accuracy: 0.5727 - val_match_outcome_output_loss: 1.2908\n",
      "Epoch 33/50\n",
      "\u001b[1m200/200\u001b[0m \u001b[32m━━━━━━━━━━━━━━━━━━━━\u001b[0m\u001b[37m\u001b[0m \u001b[1m0s\u001b[0m 1ms/step - goal_difference_output_loss: 1.3110 - goal_difference_output_mae: 0.9007 - loss: 1.9276 - match_outcome_output_accuracy: 0.7334 - match_outcome_output_loss: 0.6166 - val_goal_difference_output_loss: 2.6451 - val_goal_difference_output_mae: 1.2627 - val_loss: 3.9806 - val_match_outcome_output_accuracy: 0.5802 - val_match_outcome_output_loss: 1.3347\n",
      "Epoch 34/50\n",
      "\u001b[1m200/200\u001b[0m \u001b[32m━━━━━━━━━━━━━━━━━━━━\u001b[0m\u001b[37m\u001b[0m \u001b[1m0s\u001b[0m 1ms/step - goal_difference_output_loss: 1.3013 - goal_difference_output_mae: 0.8981 - loss: 1.8857 - match_outcome_output_accuracy: 0.7516 - match_outcome_output_loss: 0.5844 - val_goal_difference_output_loss: 2.6484 - val_goal_difference_output_mae: 1.2645 - val_loss: 3.9933 - val_match_outcome_output_accuracy: 0.5796 - val_match_outcome_output_loss: 1.3441\n",
      "Epoch 35/50\n",
      "\u001b[1m200/200\u001b[0m \u001b[32m━━━━━━━━━━━━━━━━━━━━\u001b[0m\u001b[37m\u001b[0m \u001b[1m0s\u001b[0m 1ms/step - goal_difference_output_loss: 1.2699 - goal_difference_output_mae: 0.8914 - loss: 1.8655 - match_outcome_output_accuracy: 0.7516 - match_outcome_output_loss: 0.5956 - val_goal_difference_output_loss: 2.6611 - val_goal_difference_output_mae: 1.2649 - val_loss: 4.0189 - val_match_outcome_output_accuracy: 0.5789 - val_match_outcome_output_loss: 1.3561\n",
      "Epoch 36/50\n",
      "\u001b[1m200/200\u001b[0m \u001b[32m━━━━━━━━━━━━━━━━━━━━\u001b[0m\u001b[37m\u001b[0m \u001b[1m0s\u001b[0m 1ms/step - goal_difference_output_loss: 1.2874 - goal_difference_output_mae: 0.8887 - loss: 1.8821 - match_outcome_output_accuracy: 0.7379 - match_outcome_output_loss: 0.5947 - val_goal_difference_output_loss: 2.6795 - val_goal_difference_output_mae: 1.2697 - val_loss: 4.0724 - val_match_outcome_output_accuracy: 0.5771 - val_match_outcome_output_loss: 1.3924\n",
      "Epoch 37/50\n",
      "\u001b[1m200/200\u001b[0m \u001b[32m━━━━━━━━━━━━━━━━━━━━\u001b[0m\u001b[37m\u001b[0m \u001b[1m0s\u001b[0m 1ms/step - goal_difference_output_loss: 1.3107 - goal_difference_output_mae: 0.8995 - loss: 1.9129 - match_outcome_output_accuracy: 0.7493 - match_outcome_output_loss: 0.6022 - val_goal_difference_output_loss: 2.6765 - val_goal_difference_output_mae: 1.2650 - val_loss: 4.1003 - val_match_outcome_output_accuracy: 0.5827 - val_match_outcome_output_loss: 1.4238\n",
      "Epoch 38/50\n",
      "\u001b[1m200/200\u001b[0m \u001b[32m━━━━━━━━━━━━━━━━━━━━\u001b[0m\u001b[37m\u001b[0m \u001b[1m0s\u001b[0m 1ms/step - goal_difference_output_loss: 1.2412 - goal_difference_output_mae: 0.8772 - loss: 1.8270 - match_outcome_output_accuracy: 0.7451 - match_outcome_output_loss: 0.5858 - val_goal_difference_output_loss: 2.6861 - val_goal_difference_output_mae: 1.2744 - val_loss: 4.1445 - val_match_outcome_output_accuracy: 0.5764 - val_match_outcome_output_loss: 1.4588\n",
      "Epoch 39/50\n",
      "\u001b[1m200/200\u001b[0m \u001b[32m━━━━━━━━━━━━━━━━━━━━\u001b[0m\u001b[37m\u001b[0m \u001b[1m0s\u001b[0m 964us/step - goal_difference_output_loss: 1.2353 - goal_difference_output_mae: 0.8764 - loss: 1.8264 - match_outcome_output_accuracy: 0.7482 - match_outcome_output_loss: 0.5911 - val_goal_difference_output_loss: 2.6805 - val_goal_difference_output_mae: 1.2727 - val_loss: 4.1227 - val_match_outcome_output_accuracy: 0.5796 - val_match_outcome_output_loss: 1.4421\n",
      "Epoch 40/50\n",
      "\u001b[1m200/200\u001b[0m \u001b[32m━━━━━━━━━━━━━━━━━━━━\u001b[0m\u001b[37m\u001b[0m \u001b[1m0s\u001b[0m 1ms/step - goal_difference_output_loss: 1.2587 - goal_difference_output_mae: 0.8793 - loss: 1.8358 - match_outcome_output_accuracy: 0.7545 - match_outcome_output_loss: 0.5771 - val_goal_difference_output_loss: 2.6439 - val_goal_difference_output_mae: 1.2681 - val_loss: 4.1611 - val_match_outcome_output_accuracy: 0.5727 - val_match_outcome_output_loss: 1.5183\n",
      "Epoch 41/50\n",
      "\u001b[1m200/200\u001b[0m \u001b[32m━━━━━━━━━━━━━━━━━━━━\u001b[0m\u001b[37m\u001b[0m \u001b[1m0s\u001b[0m 1ms/step - goal_difference_output_loss: 1.2624 - goal_difference_output_mae: 0.8784 - loss: 1.8411 - match_outcome_output_accuracy: 0.7521 - match_outcome_output_loss: 0.5786 - val_goal_difference_output_loss: 2.6677 - val_goal_difference_output_mae: 1.2666 - val_loss: 4.1694 - val_match_outcome_output_accuracy: 0.5846 - val_match_outcome_output_loss: 1.5016\n",
      "Epoch 42/50\n",
      "\u001b[1m200/200\u001b[0m \u001b[32m━━━━━━━━━━━━━━━━━━━━\u001b[0m\u001b[37m\u001b[0m \u001b[1m0s\u001b[0m 1ms/step - goal_difference_output_loss: 1.2098 - goal_difference_output_mae: 0.8651 - loss: 1.7762 - match_outcome_output_accuracy: 0.7629 - match_outcome_output_loss: 0.5664 - val_goal_difference_output_loss: 2.7547 - val_goal_difference_output_mae: 1.2759 - val_loss: 4.3228 - val_match_outcome_output_accuracy: 0.5771 - val_match_outcome_output_loss: 1.5692\n",
      "Epoch 43/50\n",
      "\u001b[1m200/200\u001b[0m \u001b[32m━━━━━━━━━━━━━━━━━━━━\u001b[0m\u001b[37m\u001b[0m \u001b[1m0s\u001b[0m 1ms/step - goal_difference_output_loss: 1.2040 - goal_difference_output_mae: 0.8638 - loss: 1.7654 - match_outcome_output_accuracy: 0.7623 - match_outcome_output_loss: 0.5614 - val_goal_difference_output_loss: 2.7083 - val_goal_difference_output_mae: 1.2745 - val_loss: 4.3135 - val_match_outcome_output_accuracy: 0.5714 - val_match_outcome_output_loss: 1.6064\n",
      "Epoch 44/50\n",
      "\u001b[1m200/200\u001b[0m \u001b[32m━━━━━━━━━━━━━━━━━━━━\u001b[0m\u001b[37m\u001b[0m \u001b[1m0s\u001b[0m 2ms/step - goal_difference_output_loss: 1.2416 - goal_difference_output_mae: 0.8762 - loss: 1.8003 - match_outcome_output_accuracy: 0.7634 - match_outcome_output_loss: 0.5587 - val_goal_difference_output_loss: 2.7321 - val_goal_difference_output_mae: 1.2880 - val_loss: 4.3089 - val_match_outcome_output_accuracy: 0.5689 - val_match_outcome_output_loss: 1.5784\n",
      "Epoch 45/50\n",
      "\u001b[1m200/200\u001b[0m \u001b[32m━━━━━━━━━━━━━━━━━━━━\u001b[0m\u001b[37m\u001b[0m \u001b[1m0s\u001b[0m 1ms/step - goal_difference_output_loss: 1.1762 - goal_difference_output_mae: 0.8507 - loss: 1.7216 - match_outcome_output_accuracy: 0.7674 - match_outcome_output_loss: 0.5455 - val_goal_difference_output_loss: 2.7134 - val_goal_difference_output_mae: 1.2863 - val_loss: 4.3943 - val_match_outcome_output_accuracy: 0.5664 - val_match_outcome_output_loss: 1.6850\n",
      "Epoch 46/50\n",
      "\u001b[1m200/200\u001b[0m \u001b[32m━━━━━━━━━━━━━━━━━━━━\u001b[0m\u001b[37m\u001b[0m \u001b[1m0s\u001b[0m 1ms/step - goal_difference_output_loss: 1.1936 - goal_difference_output_mae: 0.8529 - loss: 1.7398 - match_outcome_output_accuracy: 0.7716 - match_outcome_output_loss: 0.5461 - val_goal_difference_output_loss: 2.7382 - val_goal_difference_output_mae: 1.2818 - val_loss: 4.4580 - val_match_outcome_output_accuracy: 0.5627 - val_match_outcome_output_loss: 1.7221\n",
      "Epoch 47/50\n",
      "\u001b[1m200/200\u001b[0m \u001b[32m━━━━━━━━━━━━━━━━━━━━\u001b[0m\u001b[37m\u001b[0m \u001b[1m0s\u001b[0m 1ms/step - goal_difference_output_loss: 1.2011 - goal_difference_output_mae: 0.8579 - loss: 1.7531 - match_outcome_output_accuracy: 0.7690 - match_outcome_output_loss: 0.5519 - val_goal_difference_output_loss: 2.7416 - val_goal_difference_output_mae: 1.2943 - val_loss: 4.6047 - val_match_outcome_output_accuracy: 0.5658 - val_match_outcome_output_loss: 1.8674\n",
      "Epoch 48/50\n",
      "\u001b[1m200/200\u001b[0m \u001b[32m━━━━━━━━━━━━━━━━━━━━\u001b[0m\u001b[37m\u001b[0m \u001b[1m0s\u001b[0m 1ms/step - goal_difference_output_loss: 1.2417 - goal_difference_output_mae: 0.8749 - loss: 1.8053 - match_outcome_output_accuracy: 0.7592 - match_outcome_output_loss: 0.5636 - val_goal_difference_output_loss: 2.7241 - val_goal_difference_output_mae: 1.2866 - val_loss: 4.4493 - val_match_outcome_output_accuracy: 0.5658 - val_match_outcome_output_loss: 1.7271\n",
      "Epoch 49/50\n",
      "\u001b[1m200/200\u001b[0m \u001b[32m━━━━━━━━━━━━━━━━━━━━\u001b[0m\u001b[37m\u001b[0m \u001b[1m0s\u001b[0m 1ms/step - goal_difference_output_loss: 1.1594 - goal_difference_output_mae: 0.8520 - loss: 1.7185 - match_outcome_output_accuracy: 0.7634 - match_outcome_output_loss: 0.5590 - val_goal_difference_output_loss: 2.7663 - val_goal_difference_output_mae: 1.2945 - val_loss: 4.4526 - val_match_outcome_output_accuracy: 0.5664 - val_match_outcome_output_loss: 1.6868\n",
      "Epoch 50/50\n",
      "\u001b[1m200/200\u001b[0m \u001b[32m━━━━━━━━━━━━━━━━━━━━\u001b[0m\u001b[37m\u001b[0m \u001b[1m0s\u001b[0m 1ms/step - goal_difference_output_loss: 1.2001 - goal_difference_output_mae: 0.8576 - loss: 1.7413 - match_outcome_output_accuracy: 0.7750 - match_outcome_output_loss: 0.5413 - val_goal_difference_output_loss: 2.7460 - val_goal_difference_output_mae: 1.2902 - val_loss: 4.5500 - val_match_outcome_output_accuracy: 0.5595 - val_match_outcome_output_loss: 1.8068\n"
     ]
    }
   ],
   "source": [
    "history = hybrid_model.fit(\n",
    "    X_train,\n",
    "    {\"goal_difference_output\": y_train_gd, \"match_outcome_output\": y_train.map({-1: 0, 0: 1, 1: 2})},\n",
    "    validation_split=0.2,\n",
    "    epochs=50,\n",
    "    batch_size=32,\n",
    "    verbose=1\n",
    ")"
   ]
  },
  {
   "cell_type": "code",
   "execution_count": 32,
   "metadata": {},
   "outputs": [
    {
     "name": "stdout",
     "output_type": "stream",
     "text": [
      "\u001b[1m12/12\u001b[0m \u001b[32m━━━━━━━━━━━━━━━━━━━━\u001b[0m\u001b[37m\u001b[0m \u001b[1m0s\u001b[0m 539us/step\n"
     ]
    }
   ],
   "source": [
    "y_pred_gd, y_pred_cls = hybrid_model.predict(X_test)\n",
    "\n",
    "mapped_predictions_gd = map_result(y_pred_gd.flatten())\n",
    "mapped_predictions_cls = y_pred_cls.argmax(axis=1) - 1"
   ]
  },
  {
   "cell_type": "code",
   "execution_count": 33,
   "metadata": {},
   "outputs": [
    {
     "name": "stdout",
     "output_type": "stream",
     "text": [
      "Regression predictions:\n",
      "The accuracy of the model is 53.42%\n",
      "The accuracy of the model is 203 out of 380 games.\n",
      "\n",
      "With this model, the expected return on value would be 6599.70€\n"
     ]
    }
   ],
   "source": [
    "regr_accuracy, regr_won = data_aggregator.calculate_accuracy(regr_df, target, \"PredictedOutcome\")\n",
    "print(\"Regression predictions:\")\n",
    "print(f\"\"\"The accuracy of the model is {regr_accuracy:.2%}\n",
    "The accuracy of the model is {regr_accuracy*len(regr_df):.0f} out of {len(regr_df)} games.\n",
    "\"\"\")\n",
    "print(f\"With this model, the expected return on value would be {regr_won:.2f}€\")"
   ]
  },
  {
   "cell_type": "code",
   "execution_count": 34,
   "metadata": {},
   "outputs": [
    {
     "name": "stdout",
     "output_type": "stream",
     "text": [
      "Classification predictions:\n",
      "The accuracy of the model is 61.84%\n",
      "The accuracy of the model is 235 out of 380 games.\n",
      "\n",
      "With this model, the expected return on value would be 8280.60€\n"
     ]
    }
   ],
   "source": [
    "cls_accuracy, cls_won = data_aggregator.calculate_accuracy(cls_df, target, \"PredictedOutcome\")\n",
    "print(\"Classification predictions:\")\n",
    "print(f\"\"\"The accuracy of the model is {cls_accuracy:.2%}\n",
    "The accuracy of the model is {cls_accuracy*len(cls_df):.0f} out of {len(cls_df)} games.\n",
    "\"\"\")\n",
    "print(f\"With this model, the expected return on value would be {cls_won:.2f}€\")"
   ]
  },
  {
   "cell_type": "markdown",
   "metadata": {},
   "source": [
    "Well, as we can see from the output above, the model actually just ignores the predicted goal difference feature. Meaning that the dataset itself is good enough to predict the matches with approx 62% accuracy. In order to achieve better result, we should append more features, and maybe include more form data such as 3 game form, 5 game form, 10 game form, the form against a similar opponent previous..."
   ]
  },
  {
   "cell_type": "code",
   "execution_count": 35,
   "metadata": {},
   "outputs": [],
   "source": [
    "data_aggregator.save_metrics(\"nn_cls\", cls_accuracy, cls_won)\n",
    "data_aggregator.save_metrics(\"nn_regr\", regr_accuracy, regr_won)"
   ]
  }
 ],
 "metadata": {
  "kernelspec": {
   "display_name": "venv",
   "language": "python",
   "name": "python3"
  },
  "language_info": {
   "codemirror_mode": {
    "name": "ipython",
    "version": 3
   },
   "file_extension": ".py",
   "mimetype": "text/x-python",
   "name": "python",
   "nbconvert_exporter": "python",
   "pygments_lexer": "ipython3",
   "version": "3.12.2"
  }
 },
 "nbformat": 4,
 "nbformat_minor": 2
}
