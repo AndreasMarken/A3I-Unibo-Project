{
 "cells": [
  {
   "cell_type": "code",
   "execution_count": 1,
   "metadata": {},
   "outputs": [],
   "source": [
    "# ============================================================\n",
    "# Notebook setup\n",
    "# ============================================================\n",
    "\n",
    "%load_ext autoreload\n",
    "%autoreload 2\n",
    "\n",
    "figsize=(14, 4)\n",
    "\n",
    "random_state = 42   \n",
    "\n",
    "from utils.data_visualizator import plot_confusion_matrix\n",
    "\n",
    "from utils import DataAggregator\n",
    "\n",
    "from sklearn.metrics import confusion_matrix, classification_report\n",
    "\n",
    "import tensorflow as tf\n",
    "import tensorflow.keras as keras\n",
    "from keras.models import Sequential, Model\n",
    "from keras.layers import Dense, Dropout, Input, Concatenate\n",
    "from keras.optimizers import Adam\n",
    "from tensorflow.keras.utils import to_categorical\n",
    "from tensorflow.keras.losses import MeanSquaredError, SparseCategoricalCrossentropy\n",
    "\n",
    "from sklearn.preprocessing import StandardScaler\n",
    "\n",
    "import pandas as pd\n",
    "\n",
    "tf.random.set_seed(123)"
   ]
  },
  {
   "cell_type": "code",
   "execution_count": 2,
   "metadata": {},
   "outputs": [],
   "source": [
    "data_aggregator = DataAggregator()"
   ]
  },
  {
   "cell_type": "code",
   "execution_count": 3,
   "metadata": {},
   "outputs": [],
   "source": [
    "df = data_aggregator.get_data([\"E0\"])\n",
    "df = data_aggregator.format_date(df, \"Date\")\n",
    "df = data_aggregator.encode_result(df,\n",
    "                        mapping={\"H\": 1, \"D\": 0, \"A\": -1}, \n",
    "                        result_column=\"FTR\")\n",
    "df = data_aggregator.create_form_data(df, form_window=3)\n",
    "df = data_aggregator.create_gd_feature(df)\n",
    "df.drop(columns=[\"Div\", \"FTHG\", \"FTAG\", \"HTHG\", \"HTAG\", \"HTR\", \"Referee\", \"HS\", \"AS\", \"HST\", \"AST\", \"HF\", \"AF\", \"HC\",\"AC\",\"HY\",\"AY\",\"HR\",\"AR\"], inplace=True)\n",
    "df = data_aggregator.one_hot_encode_teams(df, \"HomeTeam\", \"AwayTeam\")"
   ]
  },
  {
   "cell_type": "code",
   "execution_count": 4,
   "metadata": {},
   "outputs": [],
   "source": [
    "target = \"FTR\"\n",
    "GD_target = \"GD\"\n",
    "\n",
    "df_train = df[df[\"Date\"] < \"2023-07-01\"]\n",
    "df_test = df[df[\"Date\"] >= \"2023-07-01\"]\n",
    "df_test = df_test[df_test[\"Date\"] < \"2024-07-01\"]\n",
    "\n",
    "X_train = df_train.drop(columns=[target, \"Date\", \"FTR\", GD_target])\n",
    "y_train = df_train[target]\n",
    "y_train_gd = df_train[GD_target]\n",
    "X_test = df_test.drop(columns=[target, \"Date\", \"FTR\", GD_target])\n",
    "y_test = df_test[target]\n",
    "y_test_gd = df_test[GD_target]"
   ]
  },
  {
   "cell_type": "code",
   "execution_count": 5,
   "metadata": {},
   "outputs": [],
   "source": [
    "scaler = StandardScaler()\n",
    "\n",
    "X_train = scaler.fit_transform(X_train)\n",
    "X_test = scaler.transform(X_test)\n",
    "input_dim = X_train.shape[1]"
   ]
  },
  {
   "cell_type": "markdown",
   "metadata": {},
   "source": [
    "## Classifier\n",
    "First of all, we start by creating a neural network that will act as a classifier. We will use it to classify the matches into categorical \"Win\", \"Draw\" and \"Loss\"."
   ]
  },
  {
   "cell_type": "code",
   "execution_count": 6,
   "metadata": {},
   "outputs": [],
   "source": [
    "def create_classifier(input_dim):\n",
    "    model = Sequential([\n",
    "        Input(shape=(input_dim,)),\n",
    "        Dense(64, activation='relu'),\n",
    "        Dropout(0.4),\n",
    "        Dense(32, activation='relu'),\n",
    "        Dropout(0.2),\n",
    "        Dense(3, activation='softmax')\n",
    "    ])\n",
    "    model.name = \"classifier\"\n",
    "    model.compile(optimizer=Adam(learning_rate=0.001), loss='categorical_crossentropy', metrics=['accuracy'])\n",
    "    return model"
   ]
  },
  {
   "cell_type": "code",
   "execution_count": 7,
   "metadata": {},
   "outputs": [],
   "source": [
    "y_train_cls = to_categorical(y_train.map({-1: 0, 0: 1, 1: 2}))\n",
    "y_test_cls = to_categorical(y_test.map({-1: 0, 0: 1, 1: 2}))"
   ]
  },
  {
   "cell_type": "code",
   "execution_count": 8,
   "metadata": {},
   "outputs": [
    {
     "data": {
      "text/html": [
       "<pre style=\"white-space:pre;overflow-x:auto;line-height:normal;font-family:Menlo,'DejaVu Sans Mono',consolas,'Courier New',monospace\"><span style=\"font-weight: bold\">Model: \"classifier\"</span>\n",
       "</pre>\n"
      ],
      "text/plain": [
       "\u001b[1mModel: \"classifier\"\u001b[0m\n"
      ]
     },
     "metadata": {},
     "output_type": "display_data"
    },
    {
     "data": {
      "text/html": [
       "<pre style=\"white-space:pre;overflow-x:auto;line-height:normal;font-family:Menlo,'DejaVu Sans Mono',consolas,'Courier New',monospace\">┏━━━━━━━━━━━━━━━━━━━━━━━━━━━━━━━━━┳━━━━━━━━━━━━━━━━━━━━━━━━┳━━━━━━━━━━━━━━━┓\n",
       "┃<span style=\"font-weight: bold\"> Layer (type)                    </span>┃<span style=\"font-weight: bold\"> Output Shape           </span>┃<span style=\"font-weight: bold\">       Param # </span>┃\n",
       "┡━━━━━━━━━━━━━━━━━━━━━━━━━━━━━━━━━╇━━━━━━━━━━━━━━━━━━━━━━━━╇━━━━━━━━━━━━━━━┩\n",
       "│ dense (<span style=\"color: #0087ff; text-decoration-color: #0087ff\">Dense</span>)                   │ (<span style=\"color: #00d7ff; text-decoration-color: #00d7ff\">None</span>, <span style=\"color: #00af00; text-decoration-color: #00af00\">64</span>)             │         <span style=\"color: #00af00; text-decoration-color: #00af00\">6,656</span> │\n",
       "├─────────────────────────────────┼────────────────────────┼───────────────┤\n",
       "│ dropout (<span style=\"color: #0087ff; text-decoration-color: #0087ff\">Dropout</span>)               │ (<span style=\"color: #00d7ff; text-decoration-color: #00d7ff\">None</span>, <span style=\"color: #00af00; text-decoration-color: #00af00\">64</span>)             │             <span style=\"color: #00af00; text-decoration-color: #00af00\">0</span> │\n",
       "├─────────────────────────────────┼────────────────────────┼───────────────┤\n",
       "│ dense_1 (<span style=\"color: #0087ff; text-decoration-color: #0087ff\">Dense</span>)                 │ (<span style=\"color: #00d7ff; text-decoration-color: #00d7ff\">None</span>, <span style=\"color: #00af00; text-decoration-color: #00af00\">32</span>)             │         <span style=\"color: #00af00; text-decoration-color: #00af00\">2,080</span> │\n",
       "├─────────────────────────────────┼────────────────────────┼───────────────┤\n",
       "│ dropout_1 (<span style=\"color: #0087ff; text-decoration-color: #0087ff\">Dropout</span>)             │ (<span style=\"color: #00d7ff; text-decoration-color: #00d7ff\">None</span>, <span style=\"color: #00af00; text-decoration-color: #00af00\">32</span>)             │             <span style=\"color: #00af00; text-decoration-color: #00af00\">0</span> │\n",
       "├─────────────────────────────────┼────────────────────────┼───────────────┤\n",
       "│ dense_2 (<span style=\"color: #0087ff; text-decoration-color: #0087ff\">Dense</span>)                 │ (<span style=\"color: #00d7ff; text-decoration-color: #00d7ff\">None</span>, <span style=\"color: #00af00; text-decoration-color: #00af00\">3</span>)              │            <span style=\"color: #00af00; text-decoration-color: #00af00\">99</span> │\n",
       "└─────────────────────────────────┴────────────────────────┴───────────────┘\n",
       "</pre>\n"
      ],
      "text/plain": [
       "┏━━━━━━━━━━━━━━━━━━━━━━━━━━━━━━━━━┳━━━━━━━━━━━━━━━━━━━━━━━━┳━━━━━━━━━━━━━━━┓\n",
       "┃\u001b[1m \u001b[0m\u001b[1mLayer (type)                   \u001b[0m\u001b[1m \u001b[0m┃\u001b[1m \u001b[0m\u001b[1mOutput Shape          \u001b[0m\u001b[1m \u001b[0m┃\u001b[1m \u001b[0m\u001b[1m      Param #\u001b[0m\u001b[1m \u001b[0m┃\n",
       "┡━━━━━━━━━━━━━━━━━━━━━━━━━━━━━━━━━╇━━━━━━━━━━━━━━━━━━━━━━━━╇━━━━━━━━━━━━━━━┩\n",
       "│ dense (\u001b[38;5;33mDense\u001b[0m)                   │ (\u001b[38;5;45mNone\u001b[0m, \u001b[38;5;34m64\u001b[0m)             │         \u001b[38;5;34m6,656\u001b[0m │\n",
       "├─────────────────────────────────┼────────────────────────┼───────────────┤\n",
       "│ dropout (\u001b[38;5;33mDropout\u001b[0m)               │ (\u001b[38;5;45mNone\u001b[0m, \u001b[38;5;34m64\u001b[0m)             │             \u001b[38;5;34m0\u001b[0m │\n",
       "├─────────────────────────────────┼────────────────────────┼───────────────┤\n",
       "│ dense_1 (\u001b[38;5;33mDense\u001b[0m)                 │ (\u001b[38;5;45mNone\u001b[0m, \u001b[38;5;34m32\u001b[0m)             │         \u001b[38;5;34m2,080\u001b[0m │\n",
       "├─────────────────────────────────┼────────────────────────┼───────────────┤\n",
       "│ dropout_1 (\u001b[38;5;33mDropout\u001b[0m)             │ (\u001b[38;5;45mNone\u001b[0m, \u001b[38;5;34m32\u001b[0m)             │             \u001b[38;5;34m0\u001b[0m │\n",
       "├─────────────────────────────────┼────────────────────────┼───────────────┤\n",
       "│ dense_2 (\u001b[38;5;33mDense\u001b[0m)                 │ (\u001b[38;5;45mNone\u001b[0m, \u001b[38;5;34m3\u001b[0m)              │            \u001b[38;5;34m99\u001b[0m │\n",
       "└─────────────────────────────────┴────────────────────────┴───────────────┘\n"
      ]
     },
     "metadata": {},
     "output_type": "display_data"
    },
    {
     "data": {
      "text/html": [
       "<pre style=\"white-space:pre;overflow-x:auto;line-height:normal;font-family:Menlo,'DejaVu Sans Mono',consolas,'Courier New',monospace\"><span style=\"font-weight: bold\"> Total params: </span><span style=\"color: #00af00; text-decoration-color: #00af00\">8,835</span> (34.51 KB)\n",
       "</pre>\n"
      ],
      "text/plain": [
       "\u001b[1m Total params: \u001b[0m\u001b[38;5;34m8,835\u001b[0m (34.51 KB)\n"
      ]
     },
     "metadata": {},
     "output_type": "display_data"
    },
    {
     "data": {
      "text/html": [
       "<pre style=\"white-space:pre;overflow-x:auto;line-height:normal;font-family:Menlo,'DejaVu Sans Mono',consolas,'Courier New',monospace\"><span style=\"font-weight: bold\"> Trainable params: </span><span style=\"color: #00af00; text-decoration-color: #00af00\">8,835</span> (34.51 KB)\n",
       "</pre>\n"
      ],
      "text/plain": [
       "\u001b[1m Trainable params: \u001b[0m\u001b[38;5;34m8,835\u001b[0m (34.51 KB)\n"
      ]
     },
     "metadata": {},
     "output_type": "display_data"
    },
    {
     "data": {
      "text/html": [
       "<pre style=\"white-space:pre;overflow-x:auto;line-height:normal;font-family:Menlo,'DejaVu Sans Mono',consolas,'Courier New',monospace\"><span style=\"font-weight: bold\"> Non-trainable params: </span><span style=\"color: #00af00; text-decoration-color: #00af00\">0</span> (0.00 B)\n",
       "</pre>\n"
      ],
      "text/plain": [
       "\u001b[1m Non-trainable params: \u001b[0m\u001b[38;5;34m0\u001b[0m (0.00 B)\n"
      ]
     },
     "metadata": {},
     "output_type": "display_data"
    },
    {
     "name": "stdout",
     "output_type": "stream",
     "text": [
      "None\n"
     ]
    }
   ],
   "source": [
    "classifier = create_classifier(input_dim)\n",
    "print(classifier.summary())"
   ]
  },
  {
   "cell_type": "code",
   "execution_count": 9,
   "metadata": {},
   "outputs": [
    {
     "name": "stdout",
     "output_type": "stream",
     "text": [
      "Epoch 1/50\n",
      "\u001b[1m200/200\u001b[0m \u001b[32m━━━━━━━━━━━━━━━━━━━━\u001b[0m\u001b[37m\u001b[0m \u001b[1m1s\u001b[0m 1ms/step - accuracy: 0.4055 - loss: 1.2357 - val_accuracy: 0.5081 - val_loss: 1.0153\n",
      "Epoch 2/50\n",
      "\u001b[1m200/200\u001b[0m \u001b[32m━━━━━━━━━━━━━━━━━━━━\u001b[0m\u001b[37m\u001b[0m \u001b[1m0s\u001b[0m 667us/step - accuracy: 0.4919 - loss: 1.0382 - val_accuracy: 0.5113 - val_loss: 1.0054\n",
      "Epoch 3/50\n",
      "\u001b[1m200/200\u001b[0m \u001b[32m━━━━━━━━━━━━━━━━━━━━\u001b[0m\u001b[37m\u001b[0m \u001b[1m0s\u001b[0m 654us/step - accuracy: 0.5026 - loss: 1.0099 - val_accuracy: 0.5169 - val_loss: 1.0037\n",
      "Epoch 4/50\n",
      "\u001b[1m200/200\u001b[0m \u001b[32m━━━━━━━━━━━━━━━━━━━━\u001b[0m\u001b[37m\u001b[0m \u001b[1m0s\u001b[0m 662us/step - accuracy: 0.5275 - loss: 0.9845 - val_accuracy: 0.5094 - val_loss: 1.0031\n",
      "Epoch 5/50\n",
      "\u001b[1m200/200\u001b[0m \u001b[32m━━━━━━━━━━━━━━━━━━━━\u001b[0m\u001b[37m\u001b[0m \u001b[1m0s\u001b[0m 646us/step - accuracy: 0.5309 - loss: 0.9816 - val_accuracy: 0.5182 - val_loss: 0.9994\n",
      "Epoch 6/50\n",
      "\u001b[1m200/200\u001b[0m \u001b[32m━━━━━━━━━━━━━━━━━━━━\u001b[0m\u001b[37m\u001b[0m \u001b[1m0s\u001b[0m 649us/step - accuracy: 0.5303 - loss: 0.9711 - val_accuracy: 0.5163 - val_loss: 0.9963\n",
      "Epoch 7/50\n",
      "\u001b[1m200/200\u001b[0m \u001b[32m━━━━━━━━━━━━━━━━━━━━\u001b[0m\u001b[37m\u001b[0m \u001b[1m0s\u001b[0m 650us/step - accuracy: 0.5371 - loss: 0.9697 - val_accuracy: 0.5081 - val_loss: 1.0001\n",
      "Epoch 8/50\n",
      "\u001b[1m200/200\u001b[0m \u001b[32m━━━━━━━━━━━━━━━━━━━━\u001b[0m\u001b[37m\u001b[0m \u001b[1m0s\u001b[0m 658us/step - accuracy: 0.5417 - loss: 0.9575 - val_accuracy: 0.5100 - val_loss: 1.0019\n",
      "Epoch 9/50\n",
      "\u001b[1m200/200\u001b[0m \u001b[32m━━━━━━━━━━━━━━━━━━━━\u001b[0m\u001b[37m\u001b[0m \u001b[1m0s\u001b[0m 644us/step - accuracy: 0.5616 - loss: 0.9473 - val_accuracy: 0.5119 - val_loss: 1.0048\n",
      "Epoch 10/50\n",
      "\u001b[1m200/200\u001b[0m \u001b[32m━━━━━━━━━━━━━━━━━━━━\u001b[0m\u001b[37m\u001b[0m \u001b[1m0s\u001b[0m 650us/step - accuracy: 0.5540 - loss: 0.9516 - val_accuracy: 0.5169 - val_loss: 1.0033\n",
      "Epoch 11/50\n",
      "\u001b[1m200/200\u001b[0m \u001b[32m━━━━━━━━━━━━━━━━━━━━\u001b[0m\u001b[37m\u001b[0m \u001b[1m0s\u001b[0m 647us/step - accuracy: 0.5503 - loss: 0.9455 - val_accuracy: 0.5169 - val_loss: 1.0031\n",
      "Epoch 12/50\n",
      "\u001b[1m200/200\u001b[0m \u001b[32m━━━━━━━━━━━━━━━━━━━━\u001b[0m\u001b[37m\u001b[0m \u001b[1m0s\u001b[0m 688us/step - accuracy: 0.5532 - loss: 0.9390 - val_accuracy: 0.5163 - val_loss: 1.0027\n",
      "Epoch 13/50\n",
      "\u001b[1m200/200\u001b[0m \u001b[32m━━━━━━━━━━━━━━━━━━━━\u001b[0m\u001b[37m\u001b[0m \u001b[1m0s\u001b[0m 648us/step - accuracy: 0.5551 - loss: 0.9435 - val_accuracy: 0.5157 - val_loss: 1.0052\n",
      "Epoch 14/50\n",
      "\u001b[1m200/200\u001b[0m \u001b[32m━━━━━━━━━━━━━━━━━━━━\u001b[0m\u001b[37m\u001b[0m \u001b[1m0s\u001b[0m 645us/step - accuracy: 0.5540 - loss: 0.9338 - val_accuracy: 0.5163 - val_loss: 1.0075\n",
      "Epoch 15/50\n",
      "\u001b[1m200/200\u001b[0m \u001b[32m━━━━━━━━━━━━━━━━━━━━\u001b[0m\u001b[37m\u001b[0m \u001b[1m0s\u001b[0m 641us/step - accuracy: 0.5584 - loss: 0.9342 - val_accuracy: 0.5144 - val_loss: 1.0148\n",
      "Epoch 16/50\n",
      "\u001b[1m200/200\u001b[0m \u001b[32m━━━━━━━━━━━━━━━━━━━━\u001b[0m\u001b[37m\u001b[0m \u001b[1m0s\u001b[0m 671us/step - accuracy: 0.5603 - loss: 0.9365 - val_accuracy: 0.5107 - val_loss: 1.0097\n",
      "Epoch 17/50\n",
      "\u001b[1m200/200\u001b[0m \u001b[32m━━━━━━━━━━━━━━━━━━━━\u001b[0m\u001b[37m\u001b[0m \u001b[1m0s\u001b[0m 636us/step - accuracy: 0.5626 - loss: 0.9290 - val_accuracy: 0.5119 - val_loss: 1.0125\n",
      "Epoch 18/50\n",
      "\u001b[1m200/200\u001b[0m \u001b[32m━━━━━━━━━━━━━━━━━━━━\u001b[0m\u001b[37m\u001b[0m \u001b[1m0s\u001b[0m 637us/step - accuracy: 0.5617 - loss: 0.9275 - val_accuracy: 0.5175 - val_loss: 1.0137\n",
      "Epoch 19/50\n",
      "\u001b[1m200/200\u001b[0m \u001b[32m━━━━━━━━━━━━━━━━━━━━\u001b[0m\u001b[37m\u001b[0m \u001b[1m0s\u001b[0m 649us/step - accuracy: 0.5650 - loss: 0.9253 - val_accuracy: 0.5157 - val_loss: 1.0181\n",
      "Epoch 20/50\n",
      "\u001b[1m200/200\u001b[0m \u001b[32m━━━━━━━━━━━━━━━━━━━━\u001b[0m\u001b[37m\u001b[0m \u001b[1m0s\u001b[0m 649us/step - accuracy: 0.5634 - loss: 0.9228 - val_accuracy: 0.5100 - val_loss: 1.0195\n",
      "Epoch 21/50\n",
      "\u001b[1m200/200\u001b[0m \u001b[32m━━━━━━━━━━━━━━━━━━━━\u001b[0m\u001b[37m\u001b[0m \u001b[1m0s\u001b[0m 643us/step - accuracy: 0.5730 - loss: 0.9172 - val_accuracy: 0.5081 - val_loss: 1.0211\n",
      "Epoch 22/50\n",
      "\u001b[1m200/200\u001b[0m \u001b[32m━━━━━━━━━━━━━━━━━━━━\u001b[0m\u001b[37m\u001b[0m \u001b[1m0s\u001b[0m 637us/step - accuracy: 0.5705 - loss: 0.9159 - val_accuracy: 0.5132 - val_loss: 1.0192\n",
      "Epoch 23/50\n",
      "\u001b[1m200/200\u001b[0m \u001b[32m━━━━━━━━━━━━━━━━━━━━\u001b[0m\u001b[37m\u001b[0m \u001b[1m0s\u001b[0m 838us/step - accuracy: 0.5812 - loss: 0.9120 - val_accuracy: 0.5107 - val_loss: 1.0250\n",
      "Epoch 24/50\n",
      "\u001b[1m200/200\u001b[0m \u001b[32m━━━━━━━━━━━━━━━━━━━━\u001b[0m\u001b[37m\u001b[0m \u001b[1m0s\u001b[0m 646us/step - accuracy: 0.5692 - loss: 0.9133 - val_accuracy: 0.5144 - val_loss: 1.0214\n",
      "Epoch 25/50\n",
      "\u001b[1m200/200\u001b[0m \u001b[32m━━━━━━━━━━━━━━━━━━━━\u001b[0m\u001b[37m\u001b[0m \u001b[1m0s\u001b[0m 639us/step - accuracy: 0.5701 - loss: 0.9069 - val_accuracy: 0.5213 - val_loss: 1.0223\n",
      "Epoch 26/50\n",
      "\u001b[1m200/200\u001b[0m \u001b[32m━━━━━━━━━━━━━━━━━━━━\u001b[0m\u001b[37m\u001b[0m \u001b[1m0s\u001b[0m 666us/step - accuracy: 0.5746 - loss: 0.9057 - val_accuracy: 0.5144 - val_loss: 1.0223\n",
      "Epoch 27/50\n",
      "\u001b[1m200/200\u001b[0m \u001b[32m━━━━━━━━━━━━━━━━━━━━\u001b[0m\u001b[37m\u001b[0m \u001b[1m0s\u001b[0m 647us/step - accuracy: 0.5741 - loss: 0.9005 - val_accuracy: 0.5138 - val_loss: 1.0202\n",
      "Epoch 28/50\n",
      "\u001b[1m200/200\u001b[0m \u001b[32m━━━━━━━━━━━━━━━━━━━━\u001b[0m\u001b[37m\u001b[0m \u001b[1m0s\u001b[0m 659us/step - accuracy: 0.5748 - loss: 0.9032 - val_accuracy: 0.5094 - val_loss: 1.0220\n",
      "Epoch 29/50\n",
      "\u001b[1m200/200\u001b[0m \u001b[32m━━━━━━━━━━━━━━━━━━━━\u001b[0m\u001b[37m\u001b[0m \u001b[1m0s\u001b[0m 645us/step - accuracy: 0.5877 - loss: 0.9031 - val_accuracy: 0.5113 - val_loss: 1.0225\n",
      "Epoch 30/50\n",
      "\u001b[1m200/200\u001b[0m \u001b[32m━━━━━━━━━━━━━━━━━━━━\u001b[0m\u001b[37m\u001b[0m \u001b[1m0s\u001b[0m 639us/step - accuracy: 0.5779 - loss: 0.9025 - val_accuracy: 0.5107 - val_loss: 1.0248\n",
      "Epoch 31/50\n",
      "\u001b[1m200/200\u001b[0m \u001b[32m━━━━━━━━━━━━━━━━━━━━\u001b[0m\u001b[37m\u001b[0m \u001b[1m0s\u001b[0m 648us/step - accuracy: 0.5843 - loss: 0.8972 - val_accuracy: 0.5125 - val_loss: 1.0266\n",
      "Epoch 32/50\n",
      "\u001b[1m200/200\u001b[0m \u001b[32m━━━━━━━━━━━━━━━━━━━━\u001b[0m\u001b[37m\u001b[0m \u001b[1m0s\u001b[0m 657us/step - accuracy: 0.5769 - loss: 0.8969 - val_accuracy: 0.5157 - val_loss: 1.0227\n",
      "Epoch 33/50\n",
      "\u001b[1m200/200\u001b[0m \u001b[32m━━━━━━━━━━━━━━━━━━━━\u001b[0m\u001b[37m\u001b[0m \u001b[1m0s\u001b[0m 649us/step - accuracy: 0.5798 - loss: 0.8951 - val_accuracy: 0.5226 - val_loss: 1.0248\n",
      "Epoch 34/50\n",
      "\u001b[1m200/200\u001b[0m \u001b[32m━━━━━━━━━━━━━━━━━━━━\u001b[0m\u001b[37m\u001b[0m \u001b[1m0s\u001b[0m 676us/step - accuracy: 0.5909 - loss: 0.8902 - val_accuracy: 0.5194 - val_loss: 1.0236\n",
      "Epoch 35/50\n",
      "\u001b[1m200/200\u001b[0m \u001b[32m━━━━━━━━━━━━━━━━━━━━\u001b[0m\u001b[37m\u001b[0m \u001b[1m0s\u001b[0m 644us/step - accuracy: 0.5869 - loss: 0.8908 - val_accuracy: 0.5201 - val_loss: 1.0219\n",
      "Epoch 36/50\n",
      "\u001b[1m200/200\u001b[0m \u001b[32m━━━━━━━━━━━━━━━━━━━━\u001b[0m\u001b[37m\u001b[0m \u001b[1m0s\u001b[0m 653us/step - accuracy: 0.5930 - loss: 0.8857 - val_accuracy: 0.5207 - val_loss: 1.0245\n",
      "Epoch 37/50\n",
      "\u001b[1m200/200\u001b[0m \u001b[32m━━━━━━━━━━━━━━━━━━━━\u001b[0m\u001b[37m\u001b[0m \u001b[1m0s\u001b[0m 651us/step - accuracy: 0.5929 - loss: 0.8758 - val_accuracy: 0.5201 - val_loss: 1.0307\n",
      "Epoch 38/50\n",
      "\u001b[1m200/200\u001b[0m \u001b[32m━━━━━━━━━━━━━━━━━━━━\u001b[0m\u001b[37m\u001b[0m \u001b[1m0s\u001b[0m 646us/step - accuracy: 0.5922 - loss: 0.8827 - val_accuracy: 0.5219 - val_loss: 1.0374\n",
      "Epoch 39/50\n",
      "\u001b[1m200/200\u001b[0m \u001b[32m━━━━━━━━━━━━━━━━━━━━\u001b[0m\u001b[37m\u001b[0m \u001b[1m0s\u001b[0m 638us/step - accuracy: 0.5891 - loss: 0.8836 - val_accuracy: 0.5163 - val_loss: 1.0366\n",
      "Epoch 40/50\n",
      "\u001b[1m200/200\u001b[0m \u001b[32m━━━━━━━━━━━━━━━━━━━━\u001b[0m\u001b[37m\u001b[0m \u001b[1m0s\u001b[0m 667us/step - accuracy: 0.6016 - loss: 0.8786 - val_accuracy: 0.5194 - val_loss: 1.0373\n",
      "Epoch 41/50\n",
      "\u001b[1m200/200\u001b[0m \u001b[32m━━━━━━━━━━━━━━━━━━━━\u001b[0m\u001b[37m\u001b[0m \u001b[1m0s\u001b[0m 641us/step - accuracy: 0.5875 - loss: 0.8814 - val_accuracy: 0.5169 - val_loss: 1.0357\n",
      "Epoch 42/50\n",
      "\u001b[1m200/200\u001b[0m \u001b[32m━━━━━━━━━━━━━━━━━━━━\u001b[0m\u001b[37m\u001b[0m \u001b[1m0s\u001b[0m 637us/step - accuracy: 0.5973 - loss: 0.8695 - val_accuracy: 0.5232 - val_loss: 1.0429\n",
      "Epoch 43/50\n",
      "\u001b[1m200/200\u001b[0m \u001b[32m━━━━━━━━━━━━━━━━━━━━\u001b[0m\u001b[37m\u001b[0m \u001b[1m0s\u001b[0m 641us/step - accuracy: 0.5944 - loss: 0.8691 - val_accuracy: 0.5132 - val_loss: 1.0488\n",
      "Epoch 44/50\n",
      "\u001b[1m200/200\u001b[0m \u001b[32m━━━━━━━━━━━━━━━━━━━━\u001b[0m\u001b[37m\u001b[0m \u001b[1m0s\u001b[0m 634us/step - accuracy: 0.6019 - loss: 0.8695 - val_accuracy: 0.5157 - val_loss: 1.0600\n",
      "Epoch 45/50\n",
      "\u001b[1m200/200\u001b[0m \u001b[32m━━━━━━━━━━━━━━━━━━━━\u001b[0m\u001b[37m\u001b[0m \u001b[1m0s\u001b[0m 639us/step - accuracy: 0.5954 - loss: 0.8800 - val_accuracy: 0.5125 - val_loss: 1.0524\n",
      "Epoch 46/50\n",
      "\u001b[1m200/200\u001b[0m \u001b[32m━━━━━━━━━━━━━━━━━━━━\u001b[0m\u001b[37m\u001b[0m \u001b[1m0s\u001b[0m 630us/step - accuracy: 0.6022 - loss: 0.8671 - val_accuracy: 0.5182 - val_loss: 1.0443\n",
      "Epoch 47/50\n",
      "\u001b[1m200/200\u001b[0m \u001b[32m━━━━━━━━━━━━━━━━━━━━\u001b[0m\u001b[37m\u001b[0m \u001b[1m0s\u001b[0m 628us/step - accuracy: 0.6043 - loss: 0.8630 - val_accuracy: 0.5169 - val_loss: 1.0506\n",
      "Epoch 48/50\n",
      "\u001b[1m200/200\u001b[0m \u001b[32m━━━━━━━━━━━━━━━━━━━━\u001b[0m\u001b[37m\u001b[0m \u001b[1m0s\u001b[0m 635us/step - accuracy: 0.5891 - loss: 0.8768 - val_accuracy: 0.5107 - val_loss: 1.0611\n",
      "Epoch 49/50\n",
      "\u001b[1m200/200\u001b[0m \u001b[32m━━━━━━━━━━━━━━━━━━━━\u001b[0m\u001b[37m\u001b[0m \u001b[1m0s\u001b[0m 642us/step - accuracy: 0.5965 - loss: 0.8636 - val_accuracy: 0.5207 - val_loss: 1.0457\n",
      "Epoch 50/50\n",
      "\u001b[1m200/200\u001b[0m \u001b[32m━━━━━━━━━━━━━━━━━━━━\u001b[0m\u001b[37m\u001b[0m \u001b[1m0s\u001b[0m 640us/step - accuracy: 0.6005 - loss: 0.8637 - val_accuracy: 0.5132 - val_loss: 1.0622\n"
     ]
    }
   ],
   "source": [
    "history = classifier.fit(X_train, y_train_cls, validation_split=0.2, epochs=50, batch_size=32, verbose=1)"
   ]
  },
  {
   "cell_type": "code",
   "execution_count": 10,
   "metadata": {},
   "outputs": [
    {
     "name": "stdout",
     "output_type": "stream",
     "text": [
      "\u001b[1m12/12\u001b[0m \u001b[32m━━━━━━━━━━━━━━━━━━━━\u001b[0m\u001b[37m\u001b[0m \u001b[1m0s\u001b[0m 2ms/step \n"
     ]
    }
   ],
   "source": [
    "y_pred_cls = classifier.predict(X_test)\n",
    "mapped_predictions_cls = y_pred_cls.argmax(axis=1) - 1"
   ]
  },
  {
   "cell_type": "code",
   "execution_count": 11,
   "metadata": {},
   "outputs": [
    {
     "name": "stdout",
     "output_type": "stream",
     "text": [
      "The accuracy of the model is 54.21%\n",
      "The accuracy of the model is 206 out of 380 games.\n",
      "\n",
      "With this model, the expected return on value would be 7385.20€\n"
     ]
    }
   ],
   "source": [
    "cls_df = pd.concat([df_test[[target, \"B365H\", \"B365D\", \"B365A\"]].reset_index(drop=True), pd.Series(mapped_predictions_cls, name=\"PredictedOutcome\")], axis=1)\n",
    "\n",
    "cls_accuracy, cls_won = data_aggregator.calculate_accuracy(cls_df, target, \"PredictedOutcome\")\n",
    "\n",
    "print(f\"\"\"The accuracy of the model is {cls_accuracy:.2%}\n",
    "The accuracy of the model is {cls_accuracy*len(cls_df):.0f} out of {len(cls_df)} games.\n",
    "\"\"\")\n",
    "print(f\"With this model, the expected return on value would be {cls_won:.2f}€\")"
   ]
  },
  {
   "cell_type": "code",
   "execution_count": 12,
   "metadata": {},
   "outputs": [
    {
     "name": "stdout",
     "output_type": "stream",
     "text": [
      "              precision    recall  f1-score   support\n",
      "\n",
      "          -1       0.61      0.44      0.51       123\n",
      "           0       0.40      0.07      0.12        82\n",
      "           1       0.53      0.83      0.65       175\n",
      "\n",
      "    accuracy                           0.54       380\n",
      "   macro avg       0.51      0.45      0.43       380\n",
      "weighted avg       0.53      0.54      0.49       380\n",
      "\n"
     ]
    }
   ],
   "source": [
    "print(classification_report(y_test, mapped_predictions_cls))"
   ]
  },
  {
   "cell_type": "code",
   "execution_count": 13,
   "metadata": {},
   "outputs": [
    {
     "data": {
      "image/png": "[encoded data removed]",
      "text/plain": [
       "<Figure size 640x480 with 2 Axes>"
      ]
     },
     "metadata": {},
     "output_type": "display_data"
    }
   ],
   "source": [
    "cm = confusion_matrix(y_test, mapped_predictions_cls)\n",
    "plot_confusion_matrix(cm, [\"Away\", \"Draw\", \"Home\"])"
   ]
  },
  {
   "cell_type": "markdown",
   "metadata": {},
   "source": [
    "## Regressor\n",
    "Next up we will define a neural network as a regressor, and will use it to predict the goal difference of a match."
   ]
  },
  {
   "cell_type": "code",
   "execution_count": 14,
   "metadata": {},
   "outputs": [],
   "source": [
    "def create_regressor(input_dim):\n",
    "    model = Sequential([\n",
    "        Input(shape=(input_dim,)),\n",
    "        Dense(64, activation='relu'),\n",
    "        Dropout(0.2),\n",
    "        Dense(32, activation='relu'),\n",
    "        Dropout(0.2),\n",
    "        Dense(1)\n",
    "    ])\n",
    "    model.name = \"regressor\"\n",
    "    model.compile(optimizer=Adam(learning_rate=0.001), loss='mse', metrics=['mae'])\n",
    "    return model"
   ]
  },
  {
   "cell_type": "code",
   "execution_count": 15,
   "metadata": {},
   "outputs": [
    {
     "data": {
      "text/html": [
       "<pre style=\"white-space:pre;overflow-x:auto;line-height:normal;font-family:Menlo,'DejaVu Sans Mono',consolas,'Courier New',monospace\"><span style=\"font-weight: bold\">Model: \"regressor\"</span>\n",
       "</pre>\n"
      ],
      "text/plain": [
       "\u001b[1mModel: \"regressor\"\u001b[0m\n"
      ]
     },
     "metadata": {},
     "output_type": "display_data"
    },
    {
     "data": {
      "text/html": [
       "<pre style=\"white-space:pre;overflow-x:auto;line-height:normal;font-family:Menlo,'DejaVu Sans Mono',consolas,'Courier New',monospace\">┏━━━━━━━━━━━━━━━━━━━━━━━━━━━━━━━━━┳━━━━━━━━━━━━━━━━━━━━━━━━┳━━━━━━━━━━━━━━━┓\n",
       "┃<span style=\"font-weight: bold\"> Layer (type)                    </span>┃<span style=\"font-weight: bold\"> Output Shape           </span>┃<span style=\"font-weight: bold\">       Param # </span>┃\n",
       "┡━━━━━━━━━━━━━━━━━━━━━━━━━━━━━━━━━╇━━━━━━━━━━━━━━━━━━━━━━━━╇━━━━━━━━━━━━━━━┩\n",
       "│ dense_3 (<span style=\"color: #0087ff; text-decoration-color: #0087ff\">Dense</span>)                 │ (<span style=\"color: #00d7ff; text-decoration-color: #00d7ff\">None</span>, <span style=\"color: #00af00; text-decoration-color: #00af00\">64</span>)             │         <span style=\"color: #00af00; text-decoration-color: #00af00\">6,656</span> │\n",
       "├─────────────────────────────────┼────────────────────────┼───────────────┤\n",
       "│ dropout_2 (<span style=\"color: #0087ff; text-decoration-color: #0087ff\">Dropout</span>)             │ (<span style=\"color: #00d7ff; text-decoration-color: #00d7ff\">None</span>, <span style=\"color: #00af00; text-decoration-color: #00af00\">64</span>)             │             <span style=\"color: #00af00; text-decoration-color: #00af00\">0</span> │\n",
       "├─────────────────────────────────┼────────────────────────┼───────────────┤\n",
       "│ dense_4 (<span style=\"color: #0087ff; text-decoration-color: #0087ff\">Dense</span>)                 │ (<span style=\"color: #00d7ff; text-decoration-color: #00d7ff\">None</span>, <span style=\"color: #00af00; text-decoration-color: #00af00\">32</span>)             │         <span style=\"color: #00af00; text-decoration-color: #00af00\">2,080</span> │\n",
       "├─────────────────────────────────┼────────────────────────┼───────────────┤\n",
       "│ dropout_3 (<span style=\"color: #0087ff; text-decoration-color: #0087ff\">Dropout</span>)             │ (<span style=\"color: #00d7ff; text-decoration-color: #00d7ff\">None</span>, <span style=\"color: #00af00; text-decoration-color: #00af00\">32</span>)             │             <span style=\"color: #00af00; text-decoration-color: #00af00\">0</span> │\n",
       "├─────────────────────────────────┼────────────────────────┼───────────────┤\n",
       "│ dense_5 (<span style=\"color: #0087ff; text-decoration-color: #0087ff\">Dense</span>)                 │ (<span style=\"color: #00d7ff; text-decoration-color: #00d7ff\">None</span>, <span style=\"color: #00af00; text-decoration-color: #00af00\">1</span>)              │            <span style=\"color: #00af00; text-decoration-color: #00af00\">33</span> │\n",
       "└─────────────────────────────────┴────────────────────────┴───────────────┘\n",
       "</pre>\n"
      ],
      "text/plain": [
       "┏━━━━━━━━━━━━━━━━━━━━━━━━━━━━━━━━━┳━━━━━━━━━━━━━━━━━━━━━━━━┳━━━━━━━━━━━━━━━┓\n",
       "┃\u001b[1m \u001b[0m\u001b[1mLayer (type)                   \u001b[0m\u001b[1m \u001b[0m┃\u001b[1m \u001b[0m\u001b[1mOutput Shape          \u001b[0m\u001b[1m \u001b[0m┃\u001b[1m \u001b[0m\u001b[1m      Param #\u001b[0m\u001b[1m \u001b[0m┃\n",
       "┡━━━━━━━━━━━━━━━━━━━━━━━━━━━━━━━━━╇━━━━━━━━━━━━━━━━━━━━━━━━╇━━━━━━━━━━━━━━━┩\n",
       "│ dense_3 (\u001b[38;5;33mDense\u001b[0m)                 │ (\u001b[38;5;45mNone\u001b[0m, \u001b[38;5;34m64\u001b[0m)             │         \u001b[38;5;34m6,656\u001b[0m │\n",
       "├─────────────────────────────────┼────────────────────────┼───────────────┤\n",
       "│ dropout_2 (\u001b[38;5;33mDropout\u001b[0m)             │ (\u001b[38;5;45mNone\u001b[0m, \u001b[38;5;34m64\u001b[0m)             │             \u001b[38;5;34m0\u001b[0m │\n",
       "├─────────────────────────────────┼────────────────────────┼───────────────┤\n",
       "│ dense_4 (\u001b[38;5;33mDense\u001b[0m)                 │ (\u001b[38;5;45mNone\u001b[0m, \u001b[38;5;34m32\u001b[0m)             │         \u001b[38;5;34m2,080\u001b[0m │\n",
       "├─────────────────────────────────┼────────────────────────┼───────────────┤\n",
       "│ dropout_3 (\u001b[38;5;33mDropout\u001b[0m)             │ (\u001b[38;5;45mNone\u001b[0m, \u001b[38;5;34m32\u001b[0m)             │             \u001b[38;5;34m0\u001b[0m │\n",
       "├─────────────────────────────────┼────────────────────────┼───────────────┤\n",
       "│ dense_5 (\u001b[38;5;33mDense\u001b[0m)                 │ (\u001b[38;5;45mNone\u001b[0m, \u001b[38;5;34m1\u001b[0m)              │            \u001b[38;5;34m33\u001b[0m │\n",
       "└─────────────────────────────────┴────────────────────────┴───────────────┘\n"
      ]
     },
     "metadata": {},
     "output_type": "display_data"
    },
    {
     "data": {
      "text/html": [
       "<pre style=\"white-space:pre;overflow-x:auto;line-height:normal;font-family:Menlo,'DejaVu Sans Mono',consolas,'Courier New',monospace\"><span style=\"font-weight: bold\"> Total params: </span><span style=\"color: #00af00; text-decoration-color: #00af00\">8,769</span> (34.25 KB)\n",
       "</pre>\n"
      ],
      "text/plain": [
       "\u001b[1m Total params: \u001b[0m\u001b[38;5;34m8,769\u001b[0m (34.25 KB)\n"
      ]
     },
     "metadata": {},
     "output_type": "display_data"
    },
    {
     "data": {
      "text/html": [
       "<pre style=\"white-space:pre;overflow-x:auto;line-height:normal;font-family:Menlo,'DejaVu Sans Mono',consolas,'Courier New',monospace\"><span style=\"font-weight: bold\"> Trainable params: </span><span style=\"color: #00af00; text-decoration-color: #00af00\">8,769</span> (34.25 KB)\n",
       "</pre>\n"
      ],
      "text/plain": [
       "\u001b[1m Trainable params: \u001b[0m\u001b[38;5;34m8,769\u001b[0m (34.25 KB)\n"
      ]
     },
     "metadata": {},
     "output_type": "display_data"
    },
    {
     "data": {
      "text/html": [
       "<pre style=\"white-space:pre;overflow-x:auto;line-height:normal;font-family:Menlo,'DejaVu Sans Mono',consolas,'Courier New',monospace\"><span style=\"font-weight: bold\"> Non-trainable params: </span><span style=\"color: #00af00; text-decoration-color: #00af00\">0</span> (0.00 B)\n",
       "</pre>\n"
      ],
      "text/plain": [
       "\u001b[1m Non-trainable params: \u001b[0m\u001b[38;5;34m0\u001b[0m (0.00 B)\n"
      ]
     },
     "metadata": {},
     "output_type": "display_data"
    },
    {
     "name": "stdout",
     "output_type": "stream",
     "text": [
      "None\n"
     ]
    }
   ],
   "source": [
    "regressor = create_regressor(input_dim)\n",
    "print(regressor.summary())"
   ]
  },
  {
   "cell_type": "code",
   "execution_count": 16,
   "metadata": {},
   "outputs": [
    {
     "name": "stdout",
     "output_type": "stream",
     "text": [
      "Epoch 1/50\n",
      "\u001b[1m200/200\u001b[0m \u001b[32m━━━━━━━━━━━━━━━━━━━━\u001b[0m\u001b[37m\u001b[0m \u001b[1m1s\u001b[0m 1ms/step - loss: 3.2429 - mae: 1.3945 - val_loss: 3.0825 - val_mae: 1.3612\n",
      "Epoch 2/50\n",
      "\u001b[1m200/200\u001b[0m \u001b[32m━━━━━━━━━━━━━━━━━━━━\u001b[0m\u001b[37m\u001b[0m \u001b[1m0s\u001b[0m 649us/step - loss: 2.7117 - mae: 1.2734 - val_loss: 3.0640 - val_mae: 1.3567\n",
      "Epoch 3/50\n",
      "\u001b[1m200/200\u001b[0m \u001b[32m━━━━━━━━━━━━━━━━━━━━\u001b[0m\u001b[37m\u001b[0m \u001b[1m0s\u001b[0m 637us/step - loss: 2.5621 - mae: 1.2365 - val_loss: 3.0391 - val_mae: 1.3505\n",
      "Epoch 4/50\n",
      "\u001b[1m200/200\u001b[0m \u001b[32m━━━━━━━━━━━━━━━━━━━━\u001b[0m\u001b[37m\u001b[0m \u001b[1m0s\u001b[0m 635us/step - loss: 2.5084 - mae: 1.2211 - val_loss: 3.0436 - val_mae: 1.3529\n",
      "Epoch 5/50\n",
      "\u001b[1m200/200\u001b[0m \u001b[32m━━━━━━━━━━━━━━━━━━━━\u001b[0m\u001b[37m\u001b[0m \u001b[1m0s\u001b[0m 633us/step - loss: 2.5018 - mae: 1.2235 - val_loss: 3.0370 - val_mae: 1.3515\n",
      "Epoch 6/50\n",
      "\u001b[1m200/200\u001b[0m \u001b[32m━━━━━━━━━━━━━━━━━━━━\u001b[0m\u001b[37m\u001b[0m \u001b[1m0s\u001b[0m 649us/step - loss: 2.4436 - mae: 1.2137 - val_loss: 3.0347 - val_mae: 1.3536\n",
      "Epoch 7/50\n",
      "\u001b[1m200/200\u001b[0m \u001b[32m━━━━━━━━━━━━━━━━━━━━\u001b[0m\u001b[37m\u001b[0m \u001b[1m0s\u001b[0m 636us/step - loss: 2.4018 - mae: 1.2082 - val_loss: 3.0348 - val_mae: 1.3527\n",
      "Epoch 8/50\n",
      "\u001b[1m200/200\u001b[0m \u001b[32m━━━━━━━━━━━━━━━━━━━━\u001b[0m\u001b[37m\u001b[0m \u001b[1m0s\u001b[0m 639us/step - loss: 2.4096 - mae: 1.2026 - val_loss: 3.0317 - val_mae: 1.3533\n",
      "Epoch 9/50\n",
      "\u001b[1m200/200\u001b[0m \u001b[32m━━━━━━━━━━━━━━━━━━━━\u001b[0m\u001b[37m\u001b[0m \u001b[1m0s\u001b[0m 629us/step - loss: 2.3606 - mae: 1.1936 - val_loss: 3.0175 - val_mae: 1.3502\n",
      "Epoch 10/50\n",
      "\u001b[1m200/200\u001b[0m \u001b[32m━━━━━━━━━━━━━━━━━━━━\u001b[0m\u001b[37m\u001b[0m \u001b[1m0s\u001b[0m 634us/step - loss: 2.3312 - mae: 1.1881 - val_loss: 3.0549 - val_mae: 1.3564\n",
      "Epoch 11/50\n",
      "\u001b[1m200/200\u001b[0m \u001b[32m━━━━━━━━━━━━━━━━━━━━\u001b[0m\u001b[37m\u001b[0m \u001b[1m0s\u001b[0m 671us/step - loss: 2.3161 - mae: 1.1861 - val_loss: 3.0562 - val_mae: 1.3579\n",
      "Epoch 12/50\n",
      "\u001b[1m200/200\u001b[0m \u001b[32m━━━━━━━━━━━━━━━━━━━━\u001b[0m\u001b[37m\u001b[0m \u001b[1m0s\u001b[0m 636us/step - loss: 2.2733 - mae: 1.1804 - val_loss: 3.0710 - val_mae: 1.3650\n",
      "Epoch 13/50\n",
      "\u001b[1m200/200\u001b[0m \u001b[32m━━━━━━━━━━━━━━━━━━━━\u001b[0m\u001b[37m\u001b[0m \u001b[1m0s\u001b[0m 634us/step - loss: 2.3138 - mae: 1.1775 - val_loss: 3.0619 - val_mae: 1.3590\n",
      "Epoch 14/50\n",
      "\u001b[1m200/200\u001b[0m \u001b[32m━━━━━━━━━━━━━━━━━━━━\u001b[0m\u001b[37m\u001b[0m \u001b[1m0s\u001b[0m 631us/step - loss: 2.2476 - mae: 1.1680 - val_loss: 3.0714 - val_mae: 1.3635\n",
      "Epoch 15/50\n",
      "\u001b[1m200/200\u001b[0m \u001b[32m━━━━━━━━━━━━━━━━━━━━\u001b[0m\u001b[37m\u001b[0m \u001b[1m0s\u001b[0m 629us/step - loss: 2.2505 - mae: 1.1751 - val_loss: 3.0879 - val_mae: 1.3670\n",
      "Epoch 16/50\n",
      "\u001b[1m200/200\u001b[0m \u001b[32m━━━━━━━━━━━━━━━━━━━━\u001b[0m\u001b[37m\u001b[0m \u001b[1m0s\u001b[0m 632us/step - loss: 2.2545 - mae: 1.1774 - val_loss: 3.0807 - val_mae: 1.3663\n",
      "Epoch 17/50\n",
      "\u001b[1m200/200\u001b[0m \u001b[32m━━━━━━━━━━━━━━━━━━━━\u001b[0m\u001b[37m\u001b[0m \u001b[1m0s\u001b[0m 636us/step - loss: 2.2035 - mae: 1.1576 - val_loss: 3.1141 - val_mae: 1.3699\n",
      "Epoch 18/50\n",
      "\u001b[1m200/200\u001b[0m \u001b[32m━━━━━━━━━━━━━━━━━━━━\u001b[0m\u001b[37m\u001b[0m \u001b[1m0s\u001b[0m 631us/step - loss: 2.1707 - mae: 1.1468 - val_loss: 3.1193 - val_mae: 1.3752\n",
      "Epoch 19/50\n",
      "\u001b[1m200/200\u001b[0m \u001b[32m━━━━━━━━━━━━━━━━━━━━\u001b[0m\u001b[37m\u001b[0m \u001b[1m0s\u001b[0m 625us/step - loss: 2.1645 - mae: 1.1499 - val_loss: 3.1231 - val_mae: 1.3761\n",
      "Epoch 20/50\n",
      "\u001b[1m200/200\u001b[0m \u001b[32m━━━━━━━━━━━━━━━━━━━━\u001b[0m\u001b[37m\u001b[0m \u001b[1m0s\u001b[0m 635us/step - loss: 2.2014 - mae: 1.1554 - val_loss: 3.0972 - val_mae: 1.3727\n",
      "Epoch 21/50\n",
      "\u001b[1m200/200\u001b[0m \u001b[32m━━━━━━━━━━━━━━━━━━━━\u001b[0m\u001b[37m\u001b[0m \u001b[1m0s\u001b[0m 636us/step - loss: 2.1740 - mae: 1.1574 - val_loss: 3.1317 - val_mae: 1.3784\n",
      "Epoch 22/50\n",
      "\u001b[1m200/200\u001b[0m \u001b[32m━━━━━━━━━━━━━━━━━━━━\u001b[0m\u001b[37m\u001b[0m \u001b[1m0s\u001b[0m 629us/step - loss: 2.1443 - mae: 1.1393 - val_loss: 3.1654 - val_mae: 1.3855\n",
      "Epoch 23/50\n",
      "\u001b[1m200/200\u001b[0m \u001b[32m━━━━━━━━━━━━━━━━━━━━\u001b[0m\u001b[37m\u001b[0m \u001b[1m0s\u001b[0m 631us/step - loss: 2.1591 - mae: 1.1483 - val_loss: 3.1409 - val_mae: 1.3836\n",
      "Epoch 24/50\n",
      "\u001b[1m200/200\u001b[0m \u001b[32m━━━━━━━━━━━━━━━━━━━━\u001b[0m\u001b[37m\u001b[0m \u001b[1m0s\u001b[0m 625us/step - loss: 2.1234 - mae: 1.1425 - val_loss: 3.1708 - val_mae: 1.3899\n",
      "Epoch 25/50\n",
      "\u001b[1m200/200\u001b[0m \u001b[32m━━━━━━━━━━━━━━━━━━━━\u001b[0m\u001b[37m\u001b[0m \u001b[1m0s\u001b[0m 639us/step - loss: 2.1119 - mae: 1.1390 - val_loss: 3.1689 - val_mae: 1.3928\n",
      "Epoch 26/50\n",
      "\u001b[1m200/200\u001b[0m \u001b[32m━━━━━━━━━━━━━━━━━━━━\u001b[0m\u001b[37m\u001b[0m \u001b[1m0s\u001b[0m 654us/step - loss: 2.1037 - mae: 1.1266 - val_loss: 3.1875 - val_mae: 1.3950\n",
      "Epoch 27/50\n",
      "\u001b[1m200/200\u001b[0m \u001b[32m━━━━━━━━━━━━━━━━━━━━\u001b[0m\u001b[37m\u001b[0m \u001b[1m0s\u001b[0m 643us/step - loss: 2.0830 - mae: 1.1246 - val_loss: 3.1883 - val_mae: 1.3950\n",
      "Epoch 28/50\n",
      "\u001b[1m200/200\u001b[0m \u001b[32m━━━━━━━━━━━━━━━━━━━━\u001b[0m\u001b[37m\u001b[0m \u001b[1m0s\u001b[0m 631us/step - loss: 2.0647 - mae: 1.1267 - val_loss: 3.1888 - val_mae: 1.3958\n",
      "Epoch 29/50\n",
      "\u001b[1m200/200\u001b[0m \u001b[32m━━━━━━━━━━━━━━━━━━━━\u001b[0m\u001b[37m\u001b[0m \u001b[1m0s\u001b[0m 631us/step - loss: 2.0738 - mae: 1.1271 - val_loss: 3.2133 - val_mae: 1.3994\n",
      "Epoch 30/50\n",
      "\u001b[1m200/200\u001b[0m \u001b[32m━━━━━━━━━━━━━━━━━━━━\u001b[0m\u001b[37m\u001b[0m \u001b[1m0s\u001b[0m 662us/step - loss: 2.0498 - mae: 1.1133 - val_loss: 3.2261 - val_mae: 1.4068\n",
      "Epoch 31/50\n",
      "\u001b[1m200/200\u001b[0m \u001b[32m━━━━━━━━━━━━━━━━━━━━\u001b[0m\u001b[37m\u001b[0m \u001b[1m0s\u001b[0m 640us/step - loss: 2.0448 - mae: 1.1143 - val_loss: 3.2068 - val_mae: 1.4018\n",
      "Epoch 32/50\n",
      "\u001b[1m200/200\u001b[0m \u001b[32m━━━━━━━━━━━━━━━━━━━━\u001b[0m\u001b[37m\u001b[0m \u001b[1m0s\u001b[0m 626us/step - loss: 2.0134 - mae: 1.1105 - val_loss: 3.2342 - val_mae: 1.4055\n",
      "Epoch 33/50\n",
      "\u001b[1m200/200\u001b[0m \u001b[32m━━━━━━━━━━━━━━━━━━━━\u001b[0m\u001b[37m\u001b[0m \u001b[1m0s\u001b[0m 627us/step - loss: 2.0093 - mae: 1.1078 - val_loss: 3.2561 - val_mae: 1.4102\n",
      "Epoch 34/50\n",
      "\u001b[1m200/200\u001b[0m \u001b[32m━━━━━━━━━━━━━━━━━━━━\u001b[0m\u001b[37m\u001b[0m \u001b[1m0s\u001b[0m 637us/step - loss: 2.0162 - mae: 1.1074 - val_loss: 3.2641 - val_mae: 1.4094\n",
      "Epoch 35/50\n",
      "\u001b[1m200/200\u001b[0m \u001b[32m━━━━━━━━━━━━━━━━━━━━\u001b[0m\u001b[37m\u001b[0m \u001b[1m0s\u001b[0m 631us/step - loss: 2.0372 - mae: 1.1145 - val_loss: 3.2276 - val_mae: 1.4021\n",
      "Epoch 36/50\n",
      "\u001b[1m200/200\u001b[0m \u001b[32m━━━━━━━━━━━━━━━━━━━━\u001b[0m\u001b[37m\u001b[0m \u001b[1m0s\u001b[0m 825us/step - loss: 1.9759 - mae: 1.0988 - val_loss: 3.2322 - val_mae: 1.4047\n",
      "Epoch 37/50\n",
      "\u001b[1m200/200\u001b[0m \u001b[32m━━━━━━━━━━━━━━━━━━━━\u001b[0m\u001b[37m\u001b[0m \u001b[1m0s\u001b[0m 1ms/step - loss: 1.9776 - mae: 1.1015 - val_loss: 3.2216 - val_mae: 1.4007\n",
      "Epoch 38/50\n",
      "\u001b[1m200/200\u001b[0m \u001b[32m━━━━━━━━━━━━━━━━━━━━\u001b[0m\u001b[37m\u001b[0m \u001b[1m0s\u001b[0m 735us/step - loss: 1.9884 - mae: 1.1084 - val_loss: 3.2748 - val_mae: 1.4120\n",
      "Epoch 39/50\n",
      "\u001b[1m200/200\u001b[0m \u001b[32m━━━━━━━━━━━━━━━━━━━━\u001b[0m\u001b[37m\u001b[0m \u001b[1m0s\u001b[0m 794us/step - loss: 1.9204 - mae: 1.0823 - val_loss: 3.3065 - val_mae: 1.4197\n",
      "Epoch 40/50\n",
      "\u001b[1m200/200\u001b[0m \u001b[32m━━━━━━━━━━━━━━━━━━━━\u001b[0m\u001b[37m\u001b[0m \u001b[1m0s\u001b[0m 675us/step - loss: 1.9583 - mae: 1.0937 - val_loss: 3.3008 - val_mae: 1.4203\n",
      "Epoch 41/50\n",
      "\u001b[1m200/200\u001b[0m \u001b[32m━━━━━━━━━━━━━━━━━━━━\u001b[0m\u001b[37m\u001b[0m \u001b[1m0s\u001b[0m 816us/step - loss: 1.9519 - mae: 1.0939 - val_loss: 3.3117 - val_mae: 1.4222\n",
      "Epoch 42/50\n",
      "\u001b[1m200/200\u001b[0m \u001b[32m━━━━━━━━━━━━━━━━━━━━\u001b[0m\u001b[37m\u001b[0m \u001b[1m0s\u001b[0m 803us/step - loss: 1.8919 - mae: 1.0685 - val_loss: 3.2402 - val_mae: 1.4051\n",
      "Epoch 43/50\n",
      "\u001b[1m200/200\u001b[0m \u001b[32m━━━━━━━━━━━━━━━━━━━━\u001b[0m\u001b[37m\u001b[0m \u001b[1m0s\u001b[0m 810us/step - loss: 1.9193 - mae: 1.0817 - val_loss: 3.2450 - val_mae: 1.4068\n",
      "Epoch 44/50\n",
      "\u001b[1m200/200\u001b[0m \u001b[32m━━━━━━━━━━━━━━━━━━━━\u001b[0m\u001b[37m\u001b[0m \u001b[1m0s\u001b[0m 1ms/step - loss: 1.8607 - mae: 1.0643 - val_loss: 3.2785 - val_mae: 1.4154\n",
      "Epoch 45/50\n",
      "\u001b[1m200/200\u001b[0m \u001b[32m━━━━━━━━━━━━━━━━━━━━\u001b[0m\u001b[37m\u001b[0m \u001b[1m0s\u001b[0m 760us/step - loss: 1.8844 - mae: 1.0796 - val_loss: 3.2652 - val_mae: 1.4113\n",
      "Epoch 46/50\n",
      "\u001b[1m200/200\u001b[0m \u001b[32m━━━━━━━━━━━━━━━━━━━━\u001b[0m\u001b[37m\u001b[0m \u001b[1m0s\u001b[0m 748us/step - loss: 1.8895 - mae: 1.0694 - val_loss: 3.2585 - val_mae: 1.4065\n",
      "Epoch 47/50\n",
      "\u001b[1m200/200\u001b[0m \u001b[32m━━━━━━━━━━━━━━━━━━━━\u001b[0m\u001b[37m\u001b[0m \u001b[1m0s\u001b[0m 832us/step - loss: 1.9183 - mae: 1.0793 - val_loss: 3.2943 - val_mae: 1.4171\n",
      "Epoch 48/50\n",
      "\u001b[1m200/200\u001b[0m \u001b[32m━━━━━━━━━━━━━━━━━━━━\u001b[0m\u001b[37m\u001b[0m \u001b[1m0s\u001b[0m 814us/step - loss: 1.8655 - mae: 1.0693 - val_loss: 3.2971 - val_mae: 1.4185\n",
      "Epoch 49/50\n",
      "\u001b[1m200/200\u001b[0m \u001b[32m━━━━━━━━━━━━━━━━━━━━\u001b[0m\u001b[37m\u001b[0m \u001b[1m0s\u001b[0m 821us/step - loss: 1.8909 - mae: 1.0770 - val_loss: 3.2816 - val_mae: 1.4152\n",
      "Epoch 50/50\n",
      "\u001b[1m200/200\u001b[0m \u001b[32m━━━━━━━━━━━━━━━━━━━━\u001b[0m\u001b[37m\u001b[0m \u001b[1m0s\u001b[0m 1ms/step - loss: 1.8379 - mae: 1.0544 - val_loss: 3.3446 - val_mae: 1.4282\n"
     ]
    }
   ],
   "source": [
    "history = regressor.fit(X_train, y_train_gd, validation_split=0.2, epochs=50, batch_size=32, verbose=1)"
   ]
  },
  {
   "cell_type": "code",
   "execution_count": 17,
   "metadata": {},
   "outputs": [
    {
     "name": "stdout",
     "output_type": "stream",
     "text": [
      "\u001b[1m12/12\u001b[0m \u001b[32m━━━━━━━━━━━━━━━━━━━━\u001b[0m\u001b[37m\u001b[0m \u001b[1m0s\u001b[0m 2ms/step \n"
     ]
    }
   ],
   "source": [
    "def map_result(predicitions):\n",
    "    return [1 if p >= 1 else -1 if p <= -1 else 0 for p in map(round, predicitions)]\n",
    "\n",
    "y_pred = regressor.predict(X_test).flatten()\n",
    "\n",
    "mapped_predictions = map_result(y_pred)"
   ]
  },
  {
   "cell_type": "code",
   "execution_count": 18,
   "metadata": {},
   "outputs": [
    {
     "name": "stdout",
     "output_type": "stream",
     "text": [
      "The accuracy of the model is 45.00%\n",
      "The accuracy of the model is 171 out of 380 games.\n",
      "\n",
      "With this model, the expected return on value would be 6256.80€\n"
     ]
    }
   ],
   "source": [
    "regr_df = pd.concat([df_test[[target, \"B365H\", \"B365D\", \"B365A\"]].reset_index(drop=True), pd.Series(mapped_predictions, name=\"PredictedOutcome\")], axis=1)\n",
    "\n",
    "regr_accuracy, regr_won = data_aggregator.calculate_accuracy(regr_df, target, \"PredictedOutcome\")\n",
    "\n",
    "print(f\"\"\"The accuracy of the model is {regr_accuracy:.2%}\n",
    "The accuracy of the model is {regr_accuracy*len(regr_df):.0f} out of {len(regr_df)} games.\n",
    "\"\"\")\n",
    "print(f\"With this model, the expected return on value would be {regr_won:.2f}€\")"
   ]
  },
  {
   "cell_type": "code",
   "execution_count": 19,
   "metadata": {},
   "outputs": [
    {
     "name": "stdout",
     "output_type": "stream",
     "text": [
      "              precision    recall  f1-score   support\n",
      "\n",
      "          -1       0.51      0.27      0.35       123\n",
      "           0       0.22      0.37      0.28        82\n",
      "           1       0.60      0.62      0.61       175\n",
      "\n",
      "    accuracy                           0.45       380\n",
      "   macro avg       0.44      0.42      0.41       380\n",
      "weighted avg       0.49      0.45      0.45       380\n",
      "\n"
     ]
    }
   ],
   "source": [
    "print(classification_report(y_test, mapped_predictions))"
   ]
  },
  {
   "cell_type": "code",
   "execution_count": 20,
   "metadata": {},
   "outputs": [
    {
     "data": {
      "image/png": "[encoded data removed]",
      "text/plain": [
       "<Figure size 640x480 with 2 Axes>"
      ]
     },
     "metadata": {},
     "output_type": "display_data"
    }
   ],
   "source": [
    "cm = confusion_matrix(y_test, mapped_predictions)\n",
    "plot_confusion_matrix(cm, [\"Away\", \"Draw\", \"Home\"])"
   ]
  },
  {
   "cell_type": "markdown",
   "metadata": {},
   "source": [
    "What if we again filter out the predicted draws."
   ]
  },
  {
   "cell_type": "code",
   "execution_count": 21,
   "metadata": {},
   "outputs": [],
   "source": [
    "import numpy as np\n",
    "draw_mask = np.array(mapped_predictions) != 0\n",
    "\n",
    "regr_df_masked = regr_df[draw_mask]\n",
    "\n",
    "regr_accuracy_masked, regr_won_masked = data_aggregator.calculate_accuracy(regr_df_masked, target, \"PredictedOutcome\")"
   ]
  },
  {
   "cell_type": "code",
   "execution_count": 22,
   "metadata": {},
   "outputs": [
    {
     "name": "stdout",
     "output_type": "stream",
     "text": [
      "The accuracy of the model is 57.32%\n",
      "The accuracy of the model is 141 out of 246 games.\n",
      "\n",
      "With this model, the expected return on value would be 6687.70€\n"
     ]
    }
   ],
   "source": [
    "print(f\"\"\"The accuracy of the model is {regr_accuracy_masked:.2%}\n",
    "The accuracy of the model is {regr_accuracy_masked*len(regr_df_masked):.0f} out of {len(regr_df_masked)} games.\n",
    "\"\"\")\n",
    "print(f\"With this model, the expected return on value would be {regr_won_masked:.2f}€\")"
   ]
  },
  {
   "cell_type": "code",
   "execution_count": 23,
   "metadata": {},
   "outputs": [
    {
     "name": "stdout",
     "output_type": "stream",
     "text": [
      "Masked classification repport\n",
      "              precision    recall  f1-score   support\n",
      "\n",
      "          -1       0.51      0.47      0.49        70\n",
      "           0       0.00      0.00      0.00        52\n",
      "           1       0.60      0.87      0.71       124\n",
      "\n",
      "    accuracy                           0.57       246\n",
      "   macro avg       0.37      0.45      0.40       246\n",
      "weighted avg       0.45      0.57      0.50       246\n",
      "\n"
     ]
    },
    {
     "name": "stderr",
     "output_type": "stream",
     "text": [
      "/Users/andreasmarken/Desktop/Unibo/AI in Industry/project/venv/lib/python3.12/site-packages/sklearn/metrics/_classification.py:1531: UndefinedMetricWarning: Precision is ill-defined and being set to 0.0 in labels with no predicted samples. Use `zero_division` parameter to control this behavior.\n",
      "  _warn_prf(average, modifier, f\"{metric.capitalize()} is\", len(result))\n",
      "/Users/andreasmarken/Desktop/Unibo/AI in Industry/project/venv/lib/python3.12/site-packages/sklearn/metrics/_classification.py:1531: UndefinedMetricWarning: Precision is ill-defined and being set to 0.0 in labels with no predicted samples. Use `zero_division` parameter to control this behavior.\n",
      "  _warn_prf(average, modifier, f\"{metric.capitalize()} is\", len(result))\n",
      "/Users/andreasmarken/Desktop/Unibo/AI in Industry/project/venv/lib/python3.12/site-packages/sklearn/metrics/_classification.py:1531: UndefinedMetricWarning: Precision is ill-defined and being set to 0.0 in labels with no predicted samples. Use `zero_division` parameter to control this behavior.\n",
      "  _warn_prf(average, modifier, f\"{metric.capitalize()} is\", len(result))\n"
     ]
    }
   ],
   "source": [
    "print(\"Masked classification repport\")\n",
    "print(classification_report(y_test[draw_mask], regr_df_masked[\"PredictedOutcome\"]))"
   ]
  },
  {
   "cell_type": "markdown",
   "metadata": {},
   "source": [
    "## Hybrid approach\n",
    "Finally, we will implement a hybrid variant, where we will take the output of the regressor, i.e., the predicted goal difference, and then use it as a input to a classifier NN in order to predict the results using another NN."
   ]
  },
  {
   "cell_type": "code",
   "execution_count": 24,
   "metadata": {},
   "outputs": [],
   "source": [
    "def create_hybrid_model(input_dim):\n",
    "    inputs = Input(shape=(input_dim,), name=\"main_input\")\n",
    "    \n",
    "    regressor = Dense(64, activation=\"relu\", name=\"regressor_hidden_1\")(inputs)\n",
    "    regressor = Dropout(0.2)(regressor)\n",
    "    regressor = Dense(32, activation=\"relu\", name=\"regressor_hidden_2\")(regressor)\n",
    "    gd_output = Dense(1, activation=\"linear\", name=\"goal_difference_output\")(regressor)  # Regression output\n",
    "\n",
    "    concatenated = Concatenate(name=\"concat_layer\")([inputs, gd_output])\n",
    "    \n",
    "    classifier = Dense(64, activation=\"relu\", name=\"classifier_hidden_1\")(concatenated)\n",
    "    classifier = Dropout(0.2)(classifier)\n",
    "    classifier = Dense(32, activation=\"relu\", name=\"classifier_hidden_2\")(classifier)\n",
    "    outcome_output = Dense(3, activation=\"softmax\", name=\"match_outcome_output\")(classifier)  # Classification output\n",
    "\n",
    "    model = Model(inputs=inputs, outputs=[gd_output, outcome_output])\n",
    "\n",
    "    model.name = \"hybrid_model\"\n",
    "\n",
    "    model.compile(\n",
    "        optimizer=Adam(learning_rate=0.001),\n",
    "        loss={\n",
    "            \"goal_difference_output\": MeanSquaredError(),\n",
    "            \"match_outcome_output\": SparseCategoricalCrossentropy()\n",
    "        },\n",
    "        metrics={\n",
    "            \"goal_difference_output\": \"mae\",\n",
    "            \"match_outcome_output\": \"accuracy\"\n",
    "        }\n",
    "    )\n",
    "    return model"
   ]
  },
  {
   "cell_type": "code",
   "execution_count": 25,
   "metadata": {},
   "outputs": [
    {
     "data": {
      "text/html": [
       "<pre style=\"white-space:pre;overflow-x:auto;line-height:normal;font-family:Menlo,'DejaVu Sans Mono',consolas,'Courier New',monospace\"><span style=\"font-weight: bold\">Model: \"hybrid_model\"</span>\n",
       "</pre>\n"
      ],
      "text/plain": [
       "\u001b[1mModel: \"hybrid_model\"\u001b[0m\n"
      ]
     },
     "metadata": {},
     "output_type": "display_data"
    },
    {
     "data": {
      "text/html": [
       "<pre style=\"white-space:pre;overflow-x:auto;line-height:normal;font-family:Menlo,'DejaVu Sans Mono',consolas,'Courier New',monospace\">┏━━━━━━━━━━━━━━━━━━━━━┳━━━━━━━━━━━━━━━━━━━┳━━━━━━━━━━━━┳━━━━━━━━━━━━━━━━━━━┓\n",
       "┃<span style=\"font-weight: bold\"> Layer (type)        </span>┃<span style=\"font-weight: bold\"> Output Shape      </span>┃<span style=\"font-weight: bold\">    Param # </span>┃<span style=\"font-weight: bold\"> Connected to      </span>┃\n",
       "┡━━━━━━━━━━━━━━━━━━━━━╇━━━━━━━━━━━━━━━━━━━╇━━━━━━━━━━━━╇━━━━━━━━━━━━━━━━━━━┩\n",
       "│ main_input          │ (<span style=\"color: #00d7ff; text-decoration-color: #00d7ff\">None</span>, <span style=\"color: #00af00; text-decoration-color: #00af00\">103</span>)       │          <span style=\"color: #00af00; text-decoration-color: #00af00\">0</span> │ -                 │\n",
       "│ (<span style=\"color: #0087ff; text-decoration-color: #0087ff\">InputLayer</span>)        │                   │            │                   │\n",
       "├─────────────────────┼───────────────────┼────────────┼───────────────────┤\n",
       "│ regressor_hidden_1  │ (<span style=\"color: #00d7ff; text-decoration-color: #00d7ff\">None</span>, <span style=\"color: #00af00; text-decoration-color: #00af00\">64</span>)        │      <span style=\"color: #00af00; text-decoration-color: #00af00\">6,656</span> │ main_input[<span style=\"color: #00af00; text-decoration-color: #00af00\">0</span>][<span style=\"color: #00af00; text-decoration-color: #00af00\">0</span>]  │\n",
       "│ (<span style=\"color: #0087ff; text-decoration-color: #0087ff\">Dense</span>)             │                   │            │                   │\n",
       "├─────────────────────┼───────────────────┼────────────┼───────────────────┤\n",
       "│ dropout_4 (<span style=\"color: #0087ff; text-decoration-color: #0087ff\">Dropout</span>) │ (<span style=\"color: #00d7ff; text-decoration-color: #00d7ff\">None</span>, <span style=\"color: #00af00; text-decoration-color: #00af00\">64</span>)        │          <span style=\"color: #00af00; text-decoration-color: #00af00\">0</span> │ regressor_hidden… │\n",
       "├─────────────────────┼───────────────────┼────────────┼───────────────────┤\n",
       "│ regressor_hidden_2  │ (<span style=\"color: #00d7ff; text-decoration-color: #00d7ff\">None</span>, <span style=\"color: #00af00; text-decoration-color: #00af00\">32</span>)        │      <span style=\"color: #00af00; text-decoration-color: #00af00\">2,080</span> │ dropout_4[<span style=\"color: #00af00; text-decoration-color: #00af00\">0</span>][<span style=\"color: #00af00; text-decoration-color: #00af00\">0</span>]   │\n",
       "│ (<span style=\"color: #0087ff; text-decoration-color: #0087ff\">Dense</span>)             │                   │            │                   │\n",
       "├─────────────────────┼───────────────────┼────────────┼───────────────────┤\n",
       "│ goal_difference_ou… │ (<span style=\"color: #00d7ff; text-decoration-color: #00d7ff\">None</span>, <span style=\"color: #00af00; text-decoration-color: #00af00\">1</span>)         │         <span style=\"color: #00af00; text-decoration-color: #00af00\">33</span> │ regressor_hidden… │\n",
       "│ (<span style=\"color: #0087ff; text-decoration-color: #0087ff\">Dense</span>)             │                   │            │                   │\n",
       "├─────────────────────┼───────────────────┼────────────┼───────────────────┤\n",
       "│ concat_layer        │ (<span style=\"color: #00d7ff; text-decoration-color: #00d7ff\">None</span>, <span style=\"color: #00af00; text-decoration-color: #00af00\">104</span>)       │          <span style=\"color: #00af00; text-decoration-color: #00af00\">0</span> │ main_input[<span style=\"color: #00af00; text-decoration-color: #00af00\">0</span>][<span style=\"color: #00af00; text-decoration-color: #00af00\">0</span>], │\n",
       "│ (<span style=\"color: #0087ff; text-decoration-color: #0087ff\">Concatenate</span>)       │                   │            │ goal_difference_… │\n",
       "├─────────────────────┼───────────────────┼────────────┼───────────────────┤\n",
       "│ classifier_hidden_1 │ (<span style=\"color: #00d7ff; text-decoration-color: #00d7ff\">None</span>, <span style=\"color: #00af00; text-decoration-color: #00af00\">64</span>)        │      <span style=\"color: #00af00; text-decoration-color: #00af00\">6,720</span> │ concat_layer[<span style=\"color: #00af00; text-decoration-color: #00af00\">0</span>][<span style=\"color: #00af00; text-decoration-color: #00af00\">…</span> │\n",
       "│ (<span style=\"color: #0087ff; text-decoration-color: #0087ff\">Dense</span>)             │                   │            │                   │\n",
       "├─────────────────────┼───────────────────┼────────────┼───────────────────┤\n",
       "│ dropout_5 (<span style=\"color: #0087ff; text-decoration-color: #0087ff\">Dropout</span>) │ (<span style=\"color: #00d7ff; text-decoration-color: #00d7ff\">None</span>, <span style=\"color: #00af00; text-decoration-color: #00af00\">64</span>)        │          <span style=\"color: #00af00; text-decoration-color: #00af00\">0</span> │ classifier_hidde… │\n",
       "├─────────────────────┼───────────────────┼────────────┼───────────────────┤\n",
       "│ classifier_hidden_2 │ (<span style=\"color: #00d7ff; text-decoration-color: #00d7ff\">None</span>, <span style=\"color: #00af00; text-decoration-color: #00af00\">32</span>)        │      <span style=\"color: #00af00; text-decoration-color: #00af00\">2,080</span> │ dropout_5[<span style=\"color: #00af00; text-decoration-color: #00af00\">0</span>][<span style=\"color: #00af00; text-decoration-color: #00af00\">0</span>]   │\n",
       "│ (<span style=\"color: #0087ff; text-decoration-color: #0087ff\">Dense</span>)             │                   │            │                   │\n",
       "├─────────────────────┼───────────────────┼────────────┼───────────────────┤\n",
       "│ match_outcome_outp… │ (<span style=\"color: #00d7ff; text-decoration-color: #00d7ff\">None</span>, <span style=\"color: #00af00; text-decoration-color: #00af00\">3</span>)         │         <span style=\"color: #00af00; text-decoration-color: #00af00\">99</span> │ classifier_hidde… │\n",
       "│ (<span style=\"color: #0087ff; text-decoration-color: #0087ff\">Dense</span>)             │                   │            │                   │\n",
       "└─────────────────────┴───────────────────┴────────────┴───────────────────┘\n",
       "</pre>\n"
      ],
      "text/plain": [
       "┏━━━━━━━━━━━━━━━━━━━━━┳━━━━━━━━━━━━━━━━━━━┳━━━━━━━━━━━━┳━━━━━━━━━━━━━━━━━━━┓\n",
       "┃\u001b[1m \u001b[0m\u001b[1mLayer (type)       \u001b[0m\u001b[1m \u001b[0m┃\u001b[1m \u001b[0m\u001b[1mOutput Shape     \u001b[0m\u001b[1m \u001b[0m┃\u001b[1m \u001b[0m\u001b[1m   Param #\u001b[0m\u001b[1m \u001b[0m┃\u001b[1m \u001b[0m\u001b[1mConnected to     \u001b[0m\u001b[1m \u001b[0m┃\n",
       "┡━━━━━━━━━━━━━━━━━━━━━╇━━━━━━━━━━━━━━━━━━━╇━━━━━━━━━━━━╇━━━━━━━━━━━━━━━━━━━┩\n",
       "│ main_input          │ (\u001b[38;5;45mNone\u001b[0m, \u001b[38;5;34m103\u001b[0m)       │          \u001b[38;5;34m0\u001b[0m │ -                 │\n",
       "│ (\u001b[38;5;33mInputLayer\u001b[0m)        │                   │            │                   │\n",
       "├─────────────────────┼───────────────────┼────────────┼───────────────────┤\n",
       "│ regressor_hidden_1  │ (\u001b[38;5;45mNone\u001b[0m, \u001b[38;5;34m64\u001b[0m)        │      \u001b[38;5;34m6,656\u001b[0m │ main_input[\u001b[38;5;34m0\u001b[0m][\u001b[38;5;34m0\u001b[0m]  │\n",
       "│ (\u001b[38;5;33mDense\u001b[0m)             │                   │            │                   │\n",
       "├─────────────────────┼───────────────────┼────────────┼───────────────────┤\n",
       "│ dropout_4 (\u001b[38;5;33mDropout\u001b[0m) │ (\u001b[38;5;45mNone\u001b[0m, \u001b[38;5;34m64\u001b[0m)        │          \u001b[38;5;34m0\u001b[0m │ regressor_hidden… │\n",
       "├─────────────────────┼───────────────────┼────────────┼───────────────────┤\n",
       "│ regressor_hidden_2  │ (\u001b[38;5;45mNone\u001b[0m, \u001b[38;5;34m32\u001b[0m)        │      \u001b[38;5;34m2,080\u001b[0m │ dropout_4[\u001b[38;5;34m0\u001b[0m][\u001b[38;5;34m0\u001b[0m]   │\n",
       "│ (\u001b[38;5;33mDense\u001b[0m)             │                   │            │                   │\n",
       "├─────────────────────┼───────────────────┼────────────┼───────────────────┤\n",
       "│ goal_difference_ou… │ (\u001b[38;5;45mNone\u001b[0m, \u001b[38;5;34m1\u001b[0m)         │         \u001b[38;5;34m33\u001b[0m │ regressor_hidden… │\n",
       "│ (\u001b[38;5;33mDense\u001b[0m)             │                   │            │                   │\n",
       "├─────────────────────┼───────────────────┼────────────┼───────────────────┤\n",
       "│ concat_layer        │ (\u001b[38;5;45mNone\u001b[0m, \u001b[38;5;34m104\u001b[0m)       │          \u001b[38;5;34m0\u001b[0m │ main_input[\u001b[38;5;34m0\u001b[0m][\u001b[38;5;34m0\u001b[0m], │\n",
       "│ (\u001b[38;5;33mConcatenate\u001b[0m)       │                   │            │ goal_difference_… │\n",
       "├─────────────────────┼───────────────────┼────────────┼───────────────────┤\n",
       "│ classifier_hidden_1 │ (\u001b[38;5;45mNone\u001b[0m, \u001b[38;5;34m64\u001b[0m)        │      \u001b[38;5;34m6,720\u001b[0m │ concat_layer[\u001b[38;5;34m0\u001b[0m][\u001b[38;5;34m…\u001b[0m │\n",
       "│ (\u001b[38;5;33mDense\u001b[0m)             │                   │            │                   │\n",
       "├─────────────────────┼───────────────────┼────────────┼───────────────────┤\n",
       "│ dropout_5 (\u001b[38;5;33mDropout\u001b[0m) │ (\u001b[38;5;45mNone\u001b[0m, \u001b[38;5;34m64\u001b[0m)        │          \u001b[38;5;34m0\u001b[0m │ classifier_hidde… │\n",
       "├─────────────────────┼───────────────────┼────────────┼───────────────────┤\n",
       "│ classifier_hidden_2 │ (\u001b[38;5;45mNone\u001b[0m, \u001b[38;5;34m32\u001b[0m)        │      \u001b[38;5;34m2,080\u001b[0m │ dropout_5[\u001b[38;5;34m0\u001b[0m][\u001b[38;5;34m0\u001b[0m]   │\n",
       "│ (\u001b[38;5;33mDense\u001b[0m)             │                   │            │                   │\n",
       "├─────────────────────┼───────────────────┼────────────┼───────────────────┤\n",
       "│ match_outcome_outp… │ (\u001b[38;5;45mNone\u001b[0m, \u001b[38;5;34m3\u001b[0m)         │         \u001b[38;5;34m99\u001b[0m │ classifier_hidde… │\n",
       "│ (\u001b[38;5;33mDense\u001b[0m)             │                   │            │                   │\n",
       "└─────────────────────┴───────────────────┴────────────┴───────────────────┘\n"
      ]
     },
     "metadata": {},
     "output_type": "display_data"
    },
    {
     "data": {
      "text/html": [
       "<pre style=\"white-space:pre;overflow-x:auto;line-height:normal;font-family:Menlo,'DejaVu Sans Mono',consolas,'Courier New',monospace\"><span style=\"font-weight: bold\"> Total params: </span><span style=\"color: #00af00; text-decoration-color: #00af00\">17,668</span> (69.02 KB)\n",
       "</pre>\n"
      ],
      "text/plain": [
       "\u001b[1m Total params: \u001b[0m\u001b[38;5;34m17,668\u001b[0m (69.02 KB)\n"
      ]
     },
     "metadata": {},
     "output_type": "display_data"
    },
    {
     "data": {
      "text/html": [
       "<pre style=\"white-space:pre;overflow-x:auto;line-height:normal;font-family:Menlo,'DejaVu Sans Mono',consolas,'Courier New',monospace\"><span style=\"font-weight: bold\"> Trainable params: </span><span style=\"color: #00af00; text-decoration-color: #00af00\">17,668</span> (69.02 KB)\n",
       "</pre>\n"
      ],
      "text/plain": [
       "\u001b[1m Trainable params: \u001b[0m\u001b[38;5;34m17,668\u001b[0m (69.02 KB)\n"
      ]
     },
     "metadata": {},
     "output_type": "display_data"
    },
    {
     "data": {
      "text/html": [
       "<pre style=\"white-space:pre;overflow-x:auto;line-height:normal;font-family:Menlo,'DejaVu Sans Mono',consolas,'Courier New',monospace\"><span style=\"font-weight: bold\"> Non-trainable params: </span><span style=\"color: #00af00; text-decoration-color: #00af00\">0</span> (0.00 B)\n",
       "</pre>\n"
      ],
      "text/plain": [
       "\u001b[1m Non-trainable params: \u001b[0m\u001b[38;5;34m0\u001b[0m (0.00 B)\n"
      ]
     },
     "metadata": {},
     "output_type": "display_data"
    },
    {
     "name": "stdout",
     "output_type": "stream",
     "text": [
      "None\n"
     ]
    }
   ],
   "source": [
    "hybrid_model = create_hybrid_model(input_dim)\n",
    "print(hybrid_model.summary())"
   ]
  },
  {
   "cell_type": "code",
   "execution_count": 26,
   "metadata": {},
   "outputs": [
    {
     "name": "stdout",
     "output_type": "stream",
     "text": [
      "Epoch 1/50\n",
      "\u001b[1m200/200\u001b[0m \u001b[32m━━━━━━━━━━━━━━━━━━━━\u001b[0m\u001b[37m\u001b[0m \u001b[1m1s\u001b[0m 2ms/step - goal_difference_output_loss: 3.0138 - goal_difference_output_mae: 1.3374 - loss: 4.1083 - match_outcome_output_accuracy: 0.4374 - match_outcome_output_loss: 1.0945 - val_goal_difference_output_loss: 3.2170 - val_goal_difference_output_mae: 1.3896 - val_loss: 4.2282 - val_match_outcome_output_accuracy: 0.5088 - val_match_outcome_output_loss: 1.0107\n",
      "Epoch 2/50\n",
      "\u001b[1m200/200\u001b[0m \u001b[32m━━━━━━━━━━━━━━━━━━━━\u001b[0m\u001b[37m\u001b[0m \u001b[1m0s\u001b[0m 1ms/step - goal_difference_output_loss: 2.5708 - goal_difference_output_mae: 1.2467 - loss: 3.5503 - match_outcome_output_accuracy: 0.5270 - match_outcome_output_loss: 0.9796 - val_goal_difference_output_loss: 3.1383 - val_goal_difference_output_mae: 1.3714 - val_loss: 4.1403 - val_match_outcome_output_accuracy: 0.5138 - val_match_outcome_output_loss: 1.0014\n",
      "Epoch 3/50\n",
      "\u001b[1m200/200\u001b[0m \u001b[32m━━━━━━━━━━━━━━━━━━━━\u001b[0m\u001b[37m\u001b[0m \u001b[1m0s\u001b[0m 1ms/step - goal_difference_output_loss: 2.5089 - goal_difference_output_mae: 1.2332 - loss: 3.4741 - match_outcome_output_accuracy: 0.5386 - match_outcome_output_loss: 0.9653 - val_goal_difference_output_loss: 3.1096 - val_goal_difference_output_mae: 1.3659 - val_loss: 4.1153 - val_match_outcome_output_accuracy: 0.5182 - val_match_outcome_output_loss: 1.0052\n",
      "Epoch 4/50\n",
      "\u001b[1m200/200\u001b[0m \u001b[32m━━━━━━━━━━━━━━━━━━━━\u001b[0m\u001b[37m\u001b[0m \u001b[1m0s\u001b[0m 1ms/step - goal_difference_output_loss: 2.4043 - goal_difference_output_mae: 1.2035 - loss: 3.3438 - match_outcome_output_accuracy: 0.5507 - match_outcome_output_loss: 0.9395 - val_goal_difference_output_loss: 3.1205 - val_goal_difference_output_mae: 1.3687 - val_loss: 4.1291 - val_match_outcome_output_accuracy: 0.5163 - val_match_outcome_output_loss: 1.0080\n",
      "Epoch 5/50\n",
      "\u001b[1m200/200\u001b[0m \u001b[32m━━━━━━━━━━━━━━━━━━━━\u001b[0m\u001b[37m\u001b[0m \u001b[1m0s\u001b[0m 1ms/step - goal_difference_output_loss: 2.3635 - goal_difference_output_mae: 1.1979 - loss: 3.2941 - match_outcome_output_accuracy: 0.5571 - match_outcome_output_loss: 0.9306 - val_goal_difference_output_loss: 3.1598 - val_goal_difference_output_mae: 1.3762 - val_loss: 4.1718 - val_match_outcome_output_accuracy: 0.5119 - val_match_outcome_output_loss: 1.0112\n",
      "Epoch 6/50\n",
      "\u001b[1m200/200\u001b[0m \u001b[32m━━━━━━━━━━━━━━━━━━━━\u001b[0m\u001b[37m\u001b[0m \u001b[1m0s\u001b[0m 1ms/step - goal_difference_output_loss: 2.3395 - goal_difference_output_mae: 1.1902 - loss: 3.2690 - match_outcome_output_accuracy: 0.5547 - match_outcome_output_loss: 0.9294 - val_goal_difference_output_loss: 3.1360 - val_goal_difference_output_mae: 1.3728 - val_loss: 4.1492 - val_match_outcome_output_accuracy: 0.5175 - val_match_outcome_output_loss: 1.0130\n",
      "Epoch 7/50\n",
      "\u001b[1m200/200\u001b[0m \u001b[32m━━━━━━━━━━━━━━━━━━━━\u001b[0m\u001b[37m\u001b[0m \u001b[1m0s\u001b[0m 1ms/step - goal_difference_output_loss: 2.3333 - goal_difference_output_mae: 1.1865 - loss: 3.2506 - match_outcome_output_accuracy: 0.5669 - match_outcome_output_loss: 0.9173 - val_goal_difference_output_loss: 3.1579 - val_goal_difference_output_mae: 1.3805 - val_loss: 4.1820 - val_match_outcome_output_accuracy: 0.5119 - val_match_outcome_output_loss: 1.0236\n",
      "Epoch 8/50\n",
      "\u001b[1m200/200\u001b[0m \u001b[32m━━━━━━━━━━━━━━━━━━━━\u001b[0m\u001b[37m\u001b[0m \u001b[1m0s\u001b[0m 968us/step - goal_difference_output_loss: 2.3094 - goal_difference_output_mae: 1.1811 - loss: 3.2191 - match_outcome_output_accuracy: 0.5727 - match_outcome_output_loss: 0.9097 - val_goal_difference_output_loss: 3.1792 - val_goal_difference_output_mae: 1.3840 - val_loss: 4.2065 - val_match_outcome_output_accuracy: 0.5138 - val_match_outcome_output_loss: 1.0270\n",
      "Epoch 9/50\n",
      "\u001b[1m200/200\u001b[0m \u001b[32m━━━━━━━━━━━━━━━━━━━━\u001b[0m\u001b[37m\u001b[0m \u001b[1m0s\u001b[0m 1ms/step - goal_difference_output_loss: 2.2705 - goal_difference_output_mae: 1.1715 - loss: 3.1674 - match_outcome_output_accuracy: 0.5718 - match_outcome_output_loss: 0.8969 - val_goal_difference_output_loss: 3.2031 - val_goal_difference_output_mae: 1.3894 - val_loss: 4.2442 - val_match_outcome_output_accuracy: 0.5056 - val_match_outcome_output_loss: 1.0409\n",
      "Epoch 10/50\n",
      "\u001b[1m200/200\u001b[0m \u001b[32m━━━━━━━━━━━━━━━━━━━━\u001b[0m\u001b[37m\u001b[0m \u001b[1m0s\u001b[0m 1ms/step - goal_difference_output_loss: 2.2493 - goal_difference_output_mae: 1.1705 - loss: 3.1413 - match_outcome_output_accuracy: 0.5805 - match_outcome_output_loss: 0.8921 - val_goal_difference_output_loss: 3.2194 - val_goal_difference_output_mae: 1.3972 - val_loss: 4.2679 - val_match_outcome_output_accuracy: 0.5081 - val_match_outcome_output_loss: 1.0480\n",
      "Epoch 11/50\n",
      "\u001b[1m200/200\u001b[0m \u001b[32m━━━━━━━━━━━━━━━━━━━━\u001b[0m\u001b[37m\u001b[0m \u001b[1m0s\u001b[0m 1ms/step - goal_difference_output_loss: 2.2337 - goal_difference_output_mae: 1.1627 - loss: 3.1190 - match_outcome_output_accuracy: 0.5875 - match_outcome_output_loss: 0.8853 - val_goal_difference_output_loss: 3.2375 - val_goal_difference_output_mae: 1.4015 - val_loss: 4.2944 - val_match_outcome_output_accuracy: 0.5088 - val_match_outcome_output_loss: 1.0567\n",
      "Epoch 12/50\n",
      "\u001b[1m200/200\u001b[0m \u001b[32m━━━━━━━━━━━━━━━━━━━━\u001b[0m\u001b[37m\u001b[0m \u001b[1m0s\u001b[0m 971us/step - goal_difference_output_loss: 2.2114 - goal_difference_output_mae: 1.1569 - loss: 3.0817 - match_outcome_output_accuracy: 0.5979 - match_outcome_output_loss: 0.8703 - val_goal_difference_output_loss: 3.2767 - val_goal_difference_output_mae: 1.4086 - val_loss: 4.3537 - val_match_outcome_output_accuracy: 0.5031 - val_match_outcome_output_loss: 1.0774\n",
      "Epoch 13/50\n",
      "\u001b[1m200/200\u001b[0m \u001b[32m━━━━━━━━━━━━━━━━━━━━\u001b[0m\u001b[37m\u001b[0m \u001b[1m0s\u001b[0m 1ms/step - goal_difference_output_loss: 2.1879 - goal_difference_output_mae: 1.1524 - loss: 3.0584 - match_outcome_output_accuracy: 0.5959 - match_outcome_output_loss: 0.8705 - val_goal_difference_output_loss: 3.2966 - val_goal_difference_output_mae: 1.4145 - val_loss: 4.3913 - val_match_outcome_output_accuracy: 0.5013 - val_match_outcome_output_loss: 1.0951\n",
      "Epoch 14/50\n",
      "\u001b[1m200/200\u001b[0m \u001b[32m━━━━━━━━━━━━━━━━━━━━\u001b[0m\u001b[37m\u001b[0m \u001b[1m0s\u001b[0m 1ms/step - goal_difference_output_loss: 2.2057 - goal_difference_output_mae: 1.1582 - loss: 3.0623 - match_outcome_output_accuracy: 0.6033 - match_outcome_output_loss: 0.8566 - val_goal_difference_output_loss: 3.3352 - val_goal_difference_output_mae: 1.4271 - val_loss: 4.4402 - val_match_outcome_output_accuracy: 0.5044 - val_match_outcome_output_loss: 1.1058\n",
      "Epoch 15/50\n",
      "\u001b[1m200/200\u001b[0m \u001b[32m━━━━━━━━━━━━━━━━━━━━\u001b[0m\u001b[37m\u001b[0m \u001b[1m0s\u001b[0m 1ms/step - goal_difference_output_loss: 2.1238 - goal_difference_output_mae: 1.1317 - loss: 2.9645 - match_outcome_output_accuracy: 0.6108 - match_outcome_output_loss: 0.8407 - val_goal_difference_output_loss: 3.3514 - val_goal_difference_output_mae: 1.4313 - val_loss: 4.4781 - val_match_outcome_output_accuracy: 0.4906 - val_match_outcome_output_loss: 1.1273\n",
      "Epoch 16/50\n",
      "\u001b[1m200/200\u001b[0m \u001b[32m━━━━━━━━━━━━━━━━━━━━\u001b[0m\u001b[37m\u001b[0m \u001b[1m0s\u001b[0m 1ms/step - goal_difference_output_loss: 2.1192 - goal_difference_output_mae: 1.1301 - loss: 2.9588 - match_outcome_output_accuracy: 0.6119 - match_outcome_output_loss: 0.8396 - val_goal_difference_output_loss: 3.4127 - val_goal_difference_output_mae: 1.4419 - val_loss: 4.5659 - val_match_outcome_output_accuracy: 0.4925 - val_match_outcome_output_loss: 1.1543\n",
      "Epoch 17/50\n",
      "\u001b[1m200/200\u001b[0m \u001b[32m━━━━━━━━━━━━━━━━━━━━\u001b[0m\u001b[37m\u001b[0m \u001b[1m0s\u001b[0m 979us/step - goal_difference_output_loss: 2.1118 - goal_difference_output_mae: 1.1351 - loss: 2.9463 - match_outcome_output_accuracy: 0.6106 - match_outcome_output_loss: 0.8345 - val_goal_difference_output_loss: 3.3879 - val_goal_difference_output_mae: 1.4396 - val_loss: 4.5456 - val_match_outcome_output_accuracy: 0.4862 - val_match_outcome_output_loss: 1.1587\n",
      "Epoch 18/50\n",
      "\u001b[1m200/200\u001b[0m \u001b[32m━━━━━━━━━━━━━━━━━━━━\u001b[0m\u001b[37m\u001b[0m \u001b[1m0s\u001b[0m 1ms/step - goal_difference_output_loss: 2.1051 - goal_difference_output_mae: 1.1293 - loss: 2.9304 - match_outcome_output_accuracy: 0.6140 - match_outcome_output_loss: 0.8252 - val_goal_difference_output_loss: 3.4328 - val_goal_difference_output_mae: 1.4467 - val_loss: 4.6150 - val_match_outcome_output_accuracy: 0.4962 - val_match_outcome_output_loss: 1.1833\n",
      "Epoch 19/50\n",
      "\u001b[1m200/200\u001b[0m \u001b[32m━━━━━━━━━━━━━━━━━━━━\u001b[0m\u001b[37m\u001b[0m \u001b[1m0s\u001b[0m 1ms/step - goal_difference_output_loss: 2.0885 - goal_difference_output_mae: 1.1223 - loss: 2.9040 - match_outcome_output_accuracy: 0.6319 - match_outcome_output_loss: 0.8155 - val_goal_difference_output_loss: 3.4591 - val_goal_difference_output_mae: 1.4540 - val_loss: 4.6663 - val_match_outcome_output_accuracy: 0.4868 - val_match_outcome_output_loss: 1.2091\n",
      "Epoch 20/50\n",
      "\u001b[1m200/200\u001b[0m \u001b[32m━━━━━━━━━━━━━━━━━━━━\u001b[0m\u001b[37m\u001b[0m \u001b[1m0s\u001b[0m 990us/step - goal_difference_output_loss: 2.0418 - goal_difference_output_mae: 1.1112 - loss: 2.8514 - match_outcome_output_accuracy: 0.6302 - match_outcome_output_loss: 0.8096 - val_goal_difference_output_loss: 3.4785 - val_goal_difference_output_mae: 1.4560 - val_loss: 4.6990 - val_match_outcome_output_accuracy: 0.4818 - val_match_outcome_output_loss: 1.2225\n",
      "Epoch 21/50\n",
      "\u001b[1m200/200\u001b[0m \u001b[32m━━━━━━━━━━━━━━━━━━━━\u001b[0m\u001b[37m\u001b[0m \u001b[1m0s\u001b[0m 1ms/step - goal_difference_output_loss: 2.0296 - goal_difference_output_mae: 1.1079 - loss: 2.8403 - match_outcome_output_accuracy: 0.6280 - match_outcome_output_loss: 0.8107 - val_goal_difference_output_loss: 3.5007 - val_goal_difference_output_mae: 1.4605 - val_loss: 4.7255 - val_match_outcome_output_accuracy: 0.4799 - val_match_outcome_output_loss: 1.2268\n",
      "Epoch 22/50\n",
      "\u001b[1m200/200\u001b[0m \u001b[32m━━━━━━━━━━━━━━━━━━━━\u001b[0m\u001b[37m\u001b[0m \u001b[1m0s\u001b[0m 1ms/step - goal_difference_output_loss: 2.0425 - goal_difference_output_mae: 1.1114 - loss: 2.8444 - match_outcome_output_accuracy: 0.6300 - match_outcome_output_loss: 0.8019 - val_goal_difference_output_loss: 3.5743 - val_goal_difference_output_mae: 1.4703 - val_loss: 4.8276 - val_match_outcome_output_accuracy: 0.4799 - val_match_outcome_output_loss: 1.2559\n",
      "Epoch 23/50\n",
      "\u001b[1m200/200\u001b[0m \u001b[32m━━━━━━━━━━━━━━━━━━━━\u001b[0m\u001b[37m\u001b[0m \u001b[1m0s\u001b[0m 1ms/step - goal_difference_output_loss: 2.0261 - goal_difference_output_mae: 1.1108 - loss: 2.8134 - match_outcome_output_accuracy: 0.6434 - match_outcome_output_loss: 0.7873 - val_goal_difference_output_loss: 3.5815 - val_goal_difference_output_mae: 1.4802 - val_loss: 4.8580 - val_match_outcome_output_accuracy: 0.4868 - val_match_outcome_output_loss: 1.2785\n",
      "Epoch 24/50\n",
      "\u001b[1m200/200\u001b[0m \u001b[32m━━━━━━━━━━━━━━━━━━━━\u001b[0m\u001b[37m\u001b[0m \u001b[1m0s\u001b[0m 1ms/step - goal_difference_output_loss: 2.0162 - goal_difference_output_mae: 1.1052 - loss: 2.8039 - match_outcome_output_accuracy: 0.6422 - match_outcome_output_loss: 0.7877 - val_goal_difference_output_loss: 3.6416 - val_goal_difference_output_mae: 1.4908 - val_loss: 4.9405 - val_match_outcome_output_accuracy: 0.4856 - val_match_outcome_output_loss: 1.3026\n",
      "Epoch 25/50\n",
      "\u001b[1m200/200\u001b[0m \u001b[32m━━━━━━━━━━━━━━━━━━━━\u001b[0m\u001b[37m\u001b[0m \u001b[1m0s\u001b[0m 969us/step - goal_difference_output_loss: 2.0274 - goal_difference_output_mae: 1.1092 - loss: 2.7996 - match_outcome_output_accuracy: 0.6514 - match_outcome_output_loss: 0.7723 - val_goal_difference_output_loss: 3.6932 - val_goal_difference_output_mae: 1.4983 - val_loss: 5.0265 - val_match_outcome_output_accuracy: 0.4762 - val_match_outcome_output_loss: 1.3371\n",
      "Epoch 26/50\n",
      "\u001b[1m200/200\u001b[0m \u001b[32m━━━━━━━━━━━━━━━━━━━━\u001b[0m\u001b[37m\u001b[0m \u001b[1m0s\u001b[0m 1ms/step - goal_difference_output_loss: 1.9763 - goal_difference_output_mae: 1.0975 - loss: 2.7570 - match_outcome_output_accuracy: 0.6466 - match_outcome_output_loss: 0.7808 - val_goal_difference_output_loss: 3.6616 - val_goal_difference_output_mae: 1.4949 - val_loss: 4.9969 - val_match_outcome_output_accuracy: 0.4774 - val_match_outcome_output_loss: 1.3393\n",
      "Epoch 27/50\n",
      "\u001b[1m200/200\u001b[0m \u001b[32m━━━━━━━━━━━━━━━━━━━━\u001b[0m\u001b[37m\u001b[0m \u001b[1m0s\u001b[0m 1ms/step - goal_difference_output_loss: 1.9813 - goal_difference_output_mae: 1.0900 - loss: 2.7610 - match_outcome_output_accuracy: 0.6535 - match_outcome_output_loss: 0.7796 - val_goal_difference_output_loss: 3.6754 - val_goal_difference_output_mae: 1.4983 - val_loss: 4.9969 - val_match_outcome_output_accuracy: 0.4749 - val_match_outcome_output_loss: 1.3260\n",
      "Epoch 28/50\n",
      "\u001b[1m200/200\u001b[0m \u001b[32m━━━━━━━━━━━━━━━━━━━━\u001b[0m\u001b[37m\u001b[0m \u001b[1m0s\u001b[0m 1ms/step - goal_difference_output_loss: 1.9426 - goal_difference_output_mae: 1.0874 - loss: 2.7100 - match_outcome_output_accuracy: 0.6538 - match_outcome_output_loss: 0.7674 - val_goal_difference_output_loss: 3.7939 - val_goal_difference_output_mae: 1.5170 - val_loss: 5.1646 - val_match_outcome_output_accuracy: 0.4706 - val_match_outcome_output_loss: 1.3764\n",
      "Epoch 29/50\n",
      "\u001b[1m200/200\u001b[0m \u001b[32m━━━━━━━━━━━━━━━━━━━━\u001b[0m\u001b[37m\u001b[0m \u001b[1m0s\u001b[0m 1ms/step - goal_difference_output_loss: 1.9145 - goal_difference_output_mae: 1.0764 - loss: 2.6699 - match_outcome_output_accuracy: 0.6546 - match_outcome_output_loss: 0.7554 - val_goal_difference_output_loss: 3.8526 - val_goal_difference_output_mae: 1.5252 - val_loss: 5.2714 - val_match_outcome_output_accuracy: 0.4699 - val_match_outcome_output_loss: 1.4251\n",
      "Epoch 30/50\n",
      "\u001b[1m200/200\u001b[0m \u001b[32m━━━━━━━━━━━━━━━━━━━━\u001b[0m\u001b[37m\u001b[0m \u001b[1m0s\u001b[0m 1ms/step - goal_difference_output_loss: 1.8979 - goal_difference_output_mae: 1.0723 - loss: 2.6474 - match_outcome_output_accuracy: 0.6687 - match_outcome_output_loss: 0.7495 - val_goal_difference_output_loss: 3.7606 - val_goal_difference_output_mae: 1.5157 - val_loss: 5.1687 - val_match_outcome_output_accuracy: 0.4712 - val_match_outcome_output_loss: 1.4131\n",
      "Epoch 31/50\n",
      "\u001b[1m200/200\u001b[0m \u001b[32m━━━━━━━━━━━━━━━━━━━━\u001b[0m\u001b[37m\u001b[0m \u001b[1m0s\u001b[0m 2ms/step - goal_difference_output_loss: 1.8886 - goal_difference_output_mae: 1.0696 - loss: 2.6278 - match_outcome_output_accuracy: 0.6719 - match_outcome_output_loss: 0.7392 - val_goal_difference_output_loss: 3.8299 - val_goal_difference_output_mae: 1.5248 - val_loss: 5.2914 - val_match_outcome_output_accuracy: 0.4712 - val_match_outcome_output_loss: 1.4680\n",
      "Epoch 32/50\n",
      "\u001b[1m200/200\u001b[0m \u001b[32m━━━━━━━━━━━━━━━━━━━━\u001b[0m\u001b[37m\u001b[0m \u001b[1m0s\u001b[0m 1ms/step - goal_difference_output_loss: 1.9001 - goal_difference_output_mae: 1.0685 - loss: 2.6369 - match_outcome_output_accuracy: 0.6621 - match_outcome_output_loss: 0.7368 - val_goal_difference_output_loss: 3.9403 - val_goal_difference_output_mae: 1.5412 - val_loss: 5.4094 - val_match_outcome_output_accuracy: 0.4712 - val_match_outcome_output_loss: 1.4761\n",
      "Epoch 33/50\n",
      "\u001b[1m200/200\u001b[0m \u001b[32m━━━━━━━━━━━━━━━━━━━━\u001b[0m\u001b[37m\u001b[0m \u001b[1m0s\u001b[0m 1ms/step - goal_difference_output_loss: 1.9054 - goal_difference_output_mae: 1.0797 - loss: 2.6428 - match_outcome_output_accuracy: 0.6701 - match_outcome_output_loss: 0.7374 - val_goal_difference_output_loss: 3.9046 - val_goal_difference_output_mae: 1.5402 - val_loss: 5.3852 - val_match_outcome_output_accuracy: 0.4674 - val_match_outcome_output_loss: 1.4862\n",
      "Epoch 34/50\n",
      "\u001b[1m200/200\u001b[0m \u001b[32m━━━━━━━━━━━━━━━━━━━━\u001b[0m\u001b[37m\u001b[0m \u001b[1m0s\u001b[0m 1ms/step - goal_difference_output_loss: 1.8106 - goal_difference_output_mae: 1.0486 - loss: 2.5343 - match_outcome_output_accuracy: 0.6835 - match_outcome_output_loss: 0.7237 - val_goal_difference_output_loss: 4.0419 - val_goal_difference_output_mae: 1.5558 - val_loss: 5.5676 - val_match_outcome_output_accuracy: 0.4599 - val_match_outcome_output_loss: 1.5330\n",
      "Epoch 35/50\n",
      "\u001b[1m200/200\u001b[0m \u001b[32m━━━━━━━━━━━━━━━━━━━━\u001b[0m\u001b[37m\u001b[0m \u001b[1m0s\u001b[0m 1ms/step - goal_difference_output_loss: 1.8237 - goal_difference_output_mae: 1.0549 - loss: 2.5382 - match_outcome_output_accuracy: 0.6860 - match_outcome_output_loss: 0.7145 - val_goal_difference_output_loss: 4.0189 - val_goal_difference_output_mae: 1.5563 - val_loss: 5.5197 - val_match_outcome_output_accuracy: 0.4649 - val_match_outcome_output_loss: 1.5079\n",
      "Epoch 36/50\n",
      "\u001b[1m200/200\u001b[0m \u001b[32m━━━━━━━━━━━━━━━━━━━━\u001b[0m\u001b[37m\u001b[0m \u001b[1m0s\u001b[0m 1ms/step - goal_difference_output_loss: 1.8640 - goal_difference_output_mae: 1.0567 - loss: 2.5831 - match_outcome_output_accuracy: 0.6802 - match_outcome_output_loss: 0.7191 - val_goal_difference_output_loss: 3.9666 - val_goal_difference_output_mae: 1.5474 - val_loss: 5.4709 - val_match_outcome_output_accuracy: 0.4674 - val_match_outcome_output_loss: 1.5102\n",
      "Epoch 37/50\n",
      "\u001b[1m200/200\u001b[0m \u001b[32m━━━━━━━━━━━━━━━━━━━━\u001b[0m\u001b[37m\u001b[0m \u001b[1m0s\u001b[0m 1ms/step - goal_difference_output_loss: 1.8083 - goal_difference_output_mae: 1.0405 - loss: 2.5271 - match_outcome_output_accuracy: 0.6823 - match_outcome_output_loss: 0.7188 - val_goal_difference_output_loss: 4.0606 - val_goal_difference_output_mae: 1.5604 - val_loss: 5.6001 - val_match_outcome_output_accuracy: 0.4605 - val_match_outcome_output_loss: 1.5467\n",
      "Epoch 38/50\n",
      "\u001b[1m200/200\u001b[0m \u001b[32m━━━━━━━━━━━━━━━━━━━━\u001b[0m\u001b[37m\u001b[0m \u001b[1m0s\u001b[0m 1ms/step - goal_difference_output_loss: 1.8496 - goal_difference_output_mae: 1.0587 - loss: 2.5671 - match_outcome_output_accuracy: 0.6804 - match_outcome_output_loss: 0.7174 - val_goal_difference_output_loss: 4.2387 - val_goal_difference_output_mae: 1.5766 - val_loss: 5.8031 - val_match_outcome_output_accuracy: 0.4599 - val_match_outcome_output_loss: 1.5740\n",
      "Epoch 39/50\n",
      "\u001b[1m200/200\u001b[0m \u001b[32m━━━━━━━━━━━━━━━━━━━━\u001b[0m\u001b[37m\u001b[0m \u001b[1m0s\u001b[0m 1ms/step - goal_difference_output_loss: 1.8060 - goal_difference_output_mae: 1.0422 - loss: 2.5121 - match_outcome_output_accuracy: 0.6883 - match_outcome_output_loss: 0.7061 - val_goal_difference_output_loss: 4.0907 - val_goal_difference_output_mae: 1.5563 - val_loss: 5.6560 - val_match_outcome_output_accuracy: 0.4630 - val_match_outcome_output_loss: 1.5734\n",
      "Epoch 40/50\n",
      "\u001b[1m200/200\u001b[0m \u001b[32m━━━━━━━━━━━━━━━━━━━━\u001b[0m\u001b[37m\u001b[0m \u001b[1m0s\u001b[0m 1ms/step - goal_difference_output_loss: 1.7892 - goal_difference_output_mae: 1.0407 - loss: 2.4910 - match_outcome_output_accuracy: 0.6989 - match_outcome_output_loss: 0.7018 - val_goal_difference_output_loss: 4.1274 - val_goal_difference_output_mae: 1.5643 - val_loss: 5.6736 - val_match_outcome_output_accuracy: 0.4612 - val_match_outcome_output_loss: 1.5543\n",
      "Epoch 41/50\n",
      "\u001b[1m200/200\u001b[0m \u001b[32m━━━━━━━━━━━━━━━━━━━━\u001b[0m\u001b[37m\u001b[0m \u001b[1m0s\u001b[0m 1ms/step - goal_difference_output_loss: 1.8523 - goal_difference_output_mae: 1.0595 - loss: 2.5567 - match_outcome_output_accuracy: 0.6979 - match_outcome_output_loss: 0.7044 - val_goal_difference_output_loss: 4.0372 - val_goal_difference_output_mae: 1.5567 - val_loss: 5.5588 - val_match_outcome_output_accuracy: 0.4605 - val_match_outcome_output_loss: 1.5292\n",
      "Epoch 42/50\n",
      "\u001b[1m200/200\u001b[0m \u001b[32m━━━━━━━━━━━━━━━━━━━━\u001b[0m\u001b[37m\u001b[0m \u001b[1m0s\u001b[0m 975us/step - goal_difference_output_loss: 1.8130 - goal_difference_output_mae: 1.0462 - loss: 2.5056 - match_outcome_output_accuracy: 0.6962 - match_outcome_output_loss: 0.6926 - val_goal_difference_output_loss: 4.1921 - val_goal_difference_output_mae: 1.5781 - val_loss: 5.7974 - val_match_outcome_output_accuracy: 0.4530 - val_match_outcome_output_loss: 1.6146\n",
      "Epoch 43/50\n",
      "\u001b[1m200/200\u001b[0m \u001b[32m━━━━━━━━━━━━━━━━━━━━\u001b[0m\u001b[37m\u001b[0m \u001b[1m0s\u001b[0m 1ms/step - goal_difference_output_loss: 1.7543 - goal_difference_output_mae: 1.0339 - loss: 2.4408 - match_outcome_output_accuracy: 0.6944 - match_outcome_output_loss: 0.6864 - val_goal_difference_output_loss: 4.0916 - val_goal_difference_output_mae: 1.5643 - val_loss: 5.6628 - val_match_outcome_output_accuracy: 0.4612 - val_match_outcome_output_loss: 1.5797\n",
      "Epoch 44/50\n",
      "\u001b[1m200/200\u001b[0m \u001b[32m━━━━━━━━━━━━━━━━━━━━\u001b[0m\u001b[37m\u001b[0m \u001b[1m0s\u001b[0m 1ms/step - goal_difference_output_loss: 1.7779 - goal_difference_output_mae: 1.0407 - loss: 2.4573 - match_outcome_output_accuracy: 0.6948 - match_outcome_output_loss: 0.6794 - val_goal_difference_output_loss: 4.1839 - val_goal_difference_output_mae: 1.5829 - val_loss: 5.7720 - val_match_outcome_output_accuracy: 0.4574 - val_match_outcome_output_loss: 1.5969\n",
      "Epoch 45/50\n",
      "\u001b[1m200/200\u001b[0m \u001b[32m━━━━━━━━━━━━━━━━━━━━\u001b[0m\u001b[37m\u001b[0m \u001b[1m0s\u001b[0m 1ms/step - goal_difference_output_loss: 1.7755 - goal_difference_output_mae: 1.0391 - loss: 2.4548 - match_outcome_output_accuracy: 0.6931 - match_outcome_output_loss: 0.6793 - val_goal_difference_output_loss: 4.2758 - val_goal_difference_output_mae: 1.5987 - val_loss: 5.8769 - val_match_outcome_output_accuracy: 0.4662 - val_match_outcome_output_loss: 1.6112\n",
      "Epoch 46/50\n",
      "\u001b[1m200/200\u001b[0m \u001b[32m━━━━━━━━━━━━━━━━━━━━\u001b[0m\u001b[37m\u001b[0m \u001b[1m0s\u001b[0m 1ms/step - goal_difference_output_loss: 1.7424 - goal_difference_output_mae: 1.0206 - loss: 2.4153 - match_outcome_output_accuracy: 0.7085 - match_outcome_output_loss: 0.6729 - val_goal_difference_output_loss: 4.1803 - val_goal_difference_output_mae: 1.5832 - val_loss: 5.8183 - val_match_outcome_output_accuracy: 0.4599 - val_match_outcome_output_loss: 1.6469\n",
      "Epoch 47/50\n",
      "\u001b[1m200/200\u001b[0m \u001b[32m━━━━━━━━━━━━━━━━━━━━\u001b[0m\u001b[37m\u001b[0m \u001b[1m0s\u001b[0m 1ms/step - goal_difference_output_loss: 1.7501 - goal_difference_output_mae: 1.0316 - loss: 2.4318 - match_outcome_output_accuracy: 0.6988 - match_outcome_output_loss: 0.6817 - val_goal_difference_output_loss: 4.3883 - val_goal_difference_output_mae: 1.6102 - val_loss: 6.0150 - val_match_outcome_output_accuracy: 0.4543 - val_match_outcome_output_loss: 1.6381\n",
      "Epoch 48/50\n",
      "\u001b[1m200/200\u001b[0m \u001b[32m━━━━━━━━━━━━━━━━━━━━\u001b[0m\u001b[37m\u001b[0m \u001b[1m0s\u001b[0m 1ms/step - goal_difference_output_loss: 1.7107 - goal_difference_output_mae: 1.0192 - loss: 2.3980 - match_outcome_output_accuracy: 0.6965 - match_outcome_output_loss: 0.6873 - val_goal_difference_output_loss: 4.2350 - val_goal_difference_output_mae: 1.5905 - val_loss: 5.8418 - val_match_outcome_output_accuracy: 0.4524 - val_match_outcome_output_loss: 1.6170\n",
      "Epoch 49/50\n",
      "\u001b[1m200/200\u001b[0m \u001b[32m━━━━━━━━━━━━━━━━━━━━\u001b[0m\u001b[37m\u001b[0m \u001b[1m0s\u001b[0m 1ms/step - goal_difference_output_loss: 1.7228 - goal_difference_output_mae: 1.0228 - loss: 2.3944 - match_outcome_output_accuracy: 0.6979 - match_outcome_output_loss: 0.6716 - val_goal_difference_output_loss: 4.1742 - val_goal_difference_output_mae: 1.5853 - val_loss: 5.8088 - val_match_outcome_output_accuracy: 0.4586 - val_match_outcome_output_loss: 1.6444\n",
      "Epoch 50/50\n",
      "\u001b[1m200/200\u001b[0m \u001b[32m━━━━━━━━━━━━━━━━━━━━\u001b[0m\u001b[37m\u001b[0m \u001b[1m0s\u001b[0m 965us/step - goal_difference_output_loss: 1.7103 - goal_difference_output_mae: 1.0178 - loss: 2.3872 - match_outcome_output_accuracy: 0.7006 - match_outcome_output_loss: 0.6769 - val_goal_difference_output_loss: 4.0255 - val_goal_difference_output_mae: 1.5666 - val_loss: 5.6287 - val_match_outcome_output_accuracy: 0.4630 - val_match_outcome_output_loss: 1.6116\n"
     ]
    }
   ],
   "source": [
    "history = hybrid_model.fit(\n",
    "    X_train,\n",
    "    {\"goal_difference_output\": y_train_gd, \"match_outcome_output\": y_train.map({-1: 0, 0: 1, 1: 2})},\n",
    "    validation_split=0.2,\n",
    "    epochs=50,\n",
    "    batch_size=32,\n",
    "    verbose=1\n",
    ")"
   ]
  },
  {
   "cell_type": "code",
   "execution_count": 27,
   "metadata": {},
   "outputs": [
    {
     "name": "stdout",
     "output_type": "stream",
     "text": [
      "\u001b[1m12/12\u001b[0m \u001b[32m━━━━━━━━━━━━━━━━━━━━\u001b[0m\u001b[37m\u001b[0m \u001b[1m0s\u001b[0m 3ms/step \n"
     ]
    }
   ],
   "source": [
    "y_pred_gd, y_pred_cls = hybrid_model.predict(X_test)\n",
    "\n",
    "mapped_predictions_gd = map_result(y_pred_gd.flatten())\n",
    "mapped_predictions_cls = y_pred_cls.argmax(axis=1) - 1"
   ]
  },
  {
   "cell_type": "code",
   "execution_count": 28,
   "metadata": {},
   "outputs": [
    {
     "name": "stdout",
     "output_type": "stream",
     "text": [
      "Regression predictions:\n",
      "The accuracy of the model is 45.00%\n",
      "The accuracy of the model is 171 out of 380 games.\n",
      "\n",
      "With this model, the expected return on value would be 6256.80€\n"
     ]
    }
   ],
   "source": [
    "regr_accuracy, regr_won = data_aggregator.calculate_accuracy(regr_df, target, \"PredictedOutcome\")\n",
    "print(\"Regression predictions:\")\n",
    "print(f\"\"\"The accuracy of the model is {regr_accuracy:.2%}\n",
    "The accuracy of the model is {regr_accuracy*len(regr_df):.0f} out of {len(regr_df)} games.\n",
    "\"\"\")\n",
    "print(f\"With this model, the expected return on value would be {regr_won:.2f}€\")"
   ]
  },
  {
   "cell_type": "code",
   "execution_count": 29,
   "metadata": {},
   "outputs": [
    {
     "name": "stdout",
     "output_type": "stream",
     "text": [
      "Classification predictions:\n",
      "The accuracy of the model is 54.21%\n",
      "The accuracy of the model is 206 out of 380 games.\n",
      "\n",
      "With this model, the expected return on value would be 7385.20€\n"
     ]
    }
   ],
   "source": [
    "cls_accuracy, cls_won = data_aggregator.calculate_accuracy(cls_df, target, \"PredictedOutcome\")\n",
    "print(\"Classification predictions:\")\n",
    "print(f\"\"\"The accuracy of the model is {cls_accuracy:.2%}\n",
    "The accuracy of the model is {cls_accuracy*len(cls_df):.0f} out of {len(cls_df)} games.\n",
    "\"\"\")\n",
    "print(f\"With this model, the expected return on value would be {cls_won:.2f}€\")"
   ]
  },
  {
   "cell_type": "markdown",
   "metadata": {},
   "source": [
    "Well, as we can see from the output above, the model actually just ignores the predicted goal difference feature. Meaning that the dataset itself is good enough to predict the matches with approx 62% accuracy. In order to achieve better result, we should append more features, and maybe include more form data such as 3 game form, 5 game form, 10 game form, the form against a similar opponent previous..."
   ]
  },
  {
   "cell_type": "code",
   "execution_count": 30,
   "metadata": {},
   "outputs": [],
   "source": [
    "data_aggregator.save_metrics(\"nn_cls\", cls_accuracy, cls_won)\n",
    "data_aggregator.save_metrics(\"nn_regr\", regr_accuracy, regr_won)"
   ]
  }
 ],
 "metadata": {
  "kernelspec": {
   "display_name": "venv",
   "language": "python",
   "name": "python3"
  },
  "language_info": {
   "codemirror_mode": {
    "name": "ipython",
    "version": 3
   },
   "file_extension": ".py",
   "mimetype": "text/x-python",
   "name": "python",
   "nbconvert_exporter": "python",
   "pygments_lexer": "ipython3",
   "version": "3.12.2"
  }
 },
 "nbformat": 4,
 "nbformat_minor": 2
}
