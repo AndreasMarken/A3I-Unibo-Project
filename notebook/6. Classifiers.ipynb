{
 "cells": [
  {
   "cell_type": "code",
   "execution_count": 1,
   "metadata": {},
   "outputs": [],
   "source": [
    "# ============================================================\n",
    "# Notebook setup\n",
    "# ============================================================\n",
    "\n",
    "%load_ext autoreload\n",
    "%autoreload 2\n",
    "\n",
    "figsize=(14, 4)\n",
    "\n",
    "random_state = 42   \n",
    "\n",
    "from sklearn.svm import SVC\n",
    "from sklearn.linear_model import Perceptron\n",
    "from sklearn.tree import DecisionTreeClassifier\n",
    "from sklearn.naive_bayes import GaussianNB\n",
    "from sklearn.neighbors import KNeighborsClassifier\n",
    "from sklearn.ensemble import AdaBoostClassifier, RandomForestClassifier\n",
    "\n",
    "from sklearn.model_selection import GridSearchCV\n",
    "from sklearn.preprocessing import StandardScaler\n",
    "from sklearn.metrics import accuracy_score, confusion_matrix\n",
    "\n",
    "from utils.data_visualizator import plot_confusion_matrixes\n",
    "\n",
    "from utils import DataAggregator\n",
    "import pandas as pd\n",
    "\n",
    "from tqdm import tqdm\n",
    "\n",
    "from xgboost import XGBClassifier"
   ]
  },
  {
   "cell_type": "markdown",
   "metadata": {},
   "source": [
    "# Classifiers\n",
    "Next up, we want to use classifying algorithms to predict the outcome of future matches. To do so, we will need to examine what data we have to make use of the features created in the previous notebook. First we will try to predict the outcome of the matches, we will here use grid search to find the best classifier with the best parameteres."
   ]
  },
  {
   "cell_type": "code",
   "execution_count": 2,
   "metadata": {},
   "outputs": [],
   "source": [
    "data_aggregator = DataAggregator()\n",
    "df = data_aggregator.preprocess_data(data_aggregator.get_data([\"E0\"]), \n",
    "                                     date_column=\"Date\",\n",
    "                                     home_team_column=\"HomeTeam\",\n",
    "                                     away_team_column=\"AwayTeam\",\n",
    "                                     result_column=\"FTR\",\n",
    "                                     form_window=5)"
   ]
  },
  {
   "cell_type": "code",
   "execution_count": 3,
   "metadata": {},
   "outputs": [
    {
     "data": {
      "text/html": [
       "<div>\n",
       "<style scoped>\n",
       "    .dataframe tbody tr th:only-of-type {\n",
       "        vertical-align: middle;\n",
       "    }\n",
       "\n",
       "    .dataframe tbody tr th {\n",
       "        vertical-align: top;\n",
       "    }\n",
       "\n",
       "    .dataframe thead th {\n",
       "        text-align: right;\n",
       "    }\n",
       "</style>\n",
       "<table border=\"1\" class=\"dataframe\">\n",
       "  <thead>\n",
       "    <tr style=\"text-align: right;\">\n",
       "      <th></th>\n",
       "      <th>Date</th>\n",
       "      <th>FTR</th>\n",
       "      <th>B365H</th>\n",
       "      <th>B365D</th>\n",
       "      <th>B365A</th>\n",
       "      <th>Year</th>\n",
       "      <th>Month</th>\n",
       "      <th>Day</th>\n",
       "      <th>DayOfWeek</th>\n",
       "      <th>HomeTeamWinForm</th>\n",
       "      <th>...</th>\n",
       "      <th>AwayTeam_Southampton</th>\n",
       "      <th>AwayTeam_Stoke</th>\n",
       "      <th>AwayTeam_Sunderland</th>\n",
       "      <th>AwayTeam_Swansea</th>\n",
       "      <th>AwayTeam_Tottenham</th>\n",
       "      <th>AwayTeam_Watford</th>\n",
       "      <th>AwayTeam_West Brom</th>\n",
       "      <th>AwayTeam_West Ham</th>\n",
       "      <th>AwayTeam_Wigan</th>\n",
       "      <th>AwayTeam_Wolves</th>\n",
       "    </tr>\n",
       "  </thead>\n",
       "  <tbody>\n",
       "    <tr>\n",
       "      <th>0</th>\n",
       "      <td>2002-08-17</td>\n",
       "      <td>0</td>\n",
       "      <td>1.727</td>\n",
       "      <td>3.25</td>\n",
       "      <td>4.333</td>\n",
       "      <td>2002</td>\n",
       "      <td>8</td>\n",
       "      <td>17</td>\n",
       "      <td>5</td>\n",
       "      <td>0.415135</td>\n",
       "      <td>...</td>\n",
       "      <td>False</td>\n",
       "      <td>False</td>\n",
       "      <td>True</td>\n",
       "      <td>False</td>\n",
       "      <td>False</td>\n",
       "      <td>False</td>\n",
       "      <td>False</td>\n",
       "      <td>False</td>\n",
       "      <td>False</td>\n",
       "      <td>False</td>\n",
       "    </tr>\n",
       "    <tr>\n",
       "      <th>1</th>\n",
       "      <td>2002-08-17</td>\n",
       "      <td>0</td>\n",
       "      <td>2.250</td>\n",
       "      <td>3.25</td>\n",
       "      <td>2.750</td>\n",
       "      <td>2002</td>\n",
       "      <td>8</td>\n",
       "      <td>17</td>\n",
       "      <td>5</td>\n",
       "      <td>0.356981</td>\n",
       "      <td>...</td>\n",
       "      <td>False</td>\n",
       "      <td>False</td>\n",
       "      <td>False</td>\n",
       "      <td>False</td>\n",
       "      <td>False</td>\n",
       "      <td>False</td>\n",
       "      <td>False</td>\n",
       "      <td>False</td>\n",
       "      <td>False</td>\n",
       "      <td>False</td>\n",
       "    </tr>\n",
       "    <tr>\n",
       "      <th>2</th>\n",
       "      <td>2002-08-17</td>\n",
       "      <td>1</td>\n",
       "      <td>1.200</td>\n",
       "      <td>5.00</td>\n",
       "      <td>12.000</td>\n",
       "      <td>2002</td>\n",
       "      <td>8</td>\n",
       "      <td>17</td>\n",
       "      <td>5</td>\n",
       "      <td>0.687770</td>\n",
       "      <td>...</td>\n",
       "      <td>False</td>\n",
       "      <td>False</td>\n",
       "      <td>False</td>\n",
       "      <td>False</td>\n",
       "      <td>False</td>\n",
       "      <td>False</td>\n",
       "      <td>True</td>\n",
       "      <td>False</td>\n",
       "      <td>False</td>\n",
       "      <td>False</td>\n",
       "    </tr>\n",
       "    <tr>\n",
       "      <th>3</th>\n",
       "      <td>2002-08-17</td>\n",
       "      <td>-1</td>\n",
       "      <td>2.800</td>\n",
       "      <td>3.25</td>\n",
       "      <td>2.200</td>\n",
       "      <td>2002</td>\n",
       "      <td>8</td>\n",
       "      <td>17</td>\n",
       "      <td>5</td>\n",
       "      <td>0.415556</td>\n",
       "      <td>...</td>\n",
       "      <td>False</td>\n",
       "      <td>False</td>\n",
       "      <td>False</td>\n",
       "      <td>False</td>\n",
       "      <td>False</td>\n",
       "      <td>False</td>\n",
       "      <td>False</td>\n",
       "      <td>False</td>\n",
       "      <td>False</td>\n",
       "      <td>False</td>\n",
       "    </tr>\n",
       "    <tr>\n",
       "      <th>4</th>\n",
       "      <td>2002-08-17</td>\n",
       "      <td>1</td>\n",
       "      <td>1.727</td>\n",
       "      <td>3.25</td>\n",
       "      <td>4.333</td>\n",
       "      <td>2002</td>\n",
       "      <td>8</td>\n",
       "      <td>17</td>\n",
       "      <td>5</td>\n",
       "      <td>0.426403</td>\n",
       "      <td>...</td>\n",
       "      <td>False</td>\n",
       "      <td>False</td>\n",
       "      <td>False</td>\n",
       "      <td>False</td>\n",
       "      <td>False</td>\n",
       "      <td>False</td>\n",
       "      <td>False</td>\n",
       "      <td>False</td>\n",
       "      <td>False</td>\n",
       "      <td>False</td>\n",
       "    </tr>\n",
       "  </tbody>\n",
       "</table>\n",
       "<p>5 rows × 103 columns</p>\n",
       "</div>"
      ],
      "text/plain": [
       "        Date  FTR  B365H  B365D   B365A  Year  Month  Day  DayOfWeek  \\\n",
       "0 2002-08-17    0  1.727   3.25   4.333  2002      8   17          5   \n",
       "1 2002-08-17    0  2.250   3.25   2.750  2002      8   17          5   \n",
       "2 2002-08-17    1  1.200   5.00  12.000  2002      8   17          5   \n",
       "3 2002-08-17   -1  2.800   3.25   2.200  2002      8   17          5   \n",
       "4 2002-08-17    1  1.727   3.25   4.333  2002      8   17          5   \n",
       "\n",
       "   HomeTeamWinForm  ...  AwayTeam_Southampton  AwayTeam_Stoke  \\\n",
       "0         0.415135  ...                 False           False   \n",
       "1         0.356981  ...                 False           False   \n",
       "2         0.687770  ...                 False           False   \n",
       "3         0.415556  ...                 False           False   \n",
       "4         0.426403  ...                 False           False   \n",
       "\n",
       "   AwayTeam_Sunderland  AwayTeam_Swansea  AwayTeam_Tottenham  \\\n",
       "0                 True             False               False   \n",
       "1                False             False               False   \n",
       "2                False             False               False   \n",
       "3                False             False               False   \n",
       "4                False             False               False   \n",
       "\n",
       "   AwayTeam_Watford  AwayTeam_West Brom  AwayTeam_West Ham  AwayTeam_Wigan  \\\n",
       "0             False               False              False           False   \n",
       "1             False               False              False           False   \n",
       "2             False                True              False           False   \n",
       "3             False               False              False           False   \n",
       "4             False               False              False           False   \n",
       "\n",
       "   AwayTeam_Wolves  \n",
       "0            False  \n",
       "1            False  \n",
       "2            False  \n",
       "3            False  \n",
       "4            False  \n",
       "\n",
       "[5 rows x 103 columns]"
      ]
     },
     "execution_count": 3,
     "metadata": {},
     "output_type": "execute_result"
    }
   ],
   "source": [
    "df.head()"
   ]
  },
  {
   "cell_type": "code",
   "execution_count": 4,
   "metadata": {},
   "outputs": [
    {
     "name": "stdout",
     "output_type": "stream",
     "text": [
      "FTR\n",
      "2    0.460025\n",
      "0    0.293108\n",
      "1    0.246867\n",
      "Name: proportion, dtype: float64 \n",
      " FTR\n",
      "2    0.460526\n",
      "0    0.323684\n",
      "1    0.215789\n",
      "Name: proportion, dtype: float64\n"
     ]
    }
   ],
   "source": [
    "traget = \"FTR\"\n",
    "df_train = df[df[\"Date\"] < \"2023-07-01\"]\n",
    "df_test = df[df[\"Date\"] >= \"2023-07-01\"]\n",
    "df_test = df_test[df_test[\"Date\"] < \"2024-07-01\"]\n",
    "\n",
    "X_train_df = df_train.drop(columns=[traget, \"Date\"])\n",
    "y_train = df_train[traget].map({1: 2, 0: 1, -1: 0})\n",
    "X_test_df = df_test.drop(columns=[traget, \"Date\"])\n",
    "y_test = df_test[traget].map({1: 2, 0: 1, -1: 0})\n",
    "\n",
    "print(y_train.value_counts(normalize=True), \"\\n\", y_test.value_counts(normalize=True))"
   ]
  },
  {
   "cell_type": "code",
   "execution_count": 5,
   "metadata": {},
   "outputs": [],
   "source": [
    "scaler = StandardScaler()\n",
    "\n",
    "X_train = scaler.fit_transform(X_train_df)\n",
    "X_test = scaler.transform(X_test_df)"
   ]
  },
  {
   "cell_type": "code",
   "execution_count": 6,
   "metadata": {},
   "outputs": [],
   "source": [
    "model_lbls = [\n",
    "    'dt' # decision tree\n",
    "    ,'nb' # gaussian naive bayes\n",
    "    ,'lp'   # linear perceptron\n",
    "    ,'svc'  # support vector \n",
    "    ,'knn'  # k nearest neighbours\n",
    "    ,'adb'  # adaboost\n",
    "    ,'rf'   # random forest\n",
    "    ,'xgb'  # xgboost\n",
    "]\n",
    "\n",
    "models = {\n",
    "    'dt': {'name': 'Decision Tree       ',\n",
    "           'estimator': DecisionTreeClassifier(random_state=random_state), \n",
    "           'param': [{'max_depth': [*range(1,20)],'class_weight':[None,'balanced']}],\n",
    "          },\n",
    "    'nb': {'name': 'Gaussian Naive Bayes',\n",
    "           'estimator': GaussianNB(),\n",
    "           'param': [{'var_smoothing': [10**exp for exp in range(-3,-13,-1)]}]\n",
    "          },\n",
    "    'lp': {'name': 'Linear Perceptron   ',\n",
    "           'estimator': Perceptron(random_state=random_state),\n",
    "           'param': [{'early_stopping': [True,False],'class_weight':[None,'balanced']}],\n",
    "          },\n",
    "    'svc':{'name': 'Support Vector      ',\n",
    "           'estimator': SVC(random_state=random_state), \n",
    "           'param': [{'kernel': ['rbf'], \n",
    "                    'gamma': [1e-3, 1e-4],\n",
    "                    'C': [1, 10, 100],\n",
    "                    },\n",
    "                    {'kernel': ['linear'],\n",
    "                     'C': [1, 10, 100],                     \n",
    "             },\n",
    "                   ]\n",
    "          },\n",
    "    'knn':{'name': 'K Nearest Neighbor ',\n",
    "           'estimator': KNeighborsClassifier(),\n",
    "           'param': [{'n_neighbors': list(range(1,7))}]\n",
    "       },\n",
    "    'adb':{'name': 'AdaBoost           ',\n",
    "           'estimator': AdaBoostClassifier(random_state=random_state, algorithm=\"SAMME\"),\n",
    "           'param': [{'n_estimators':[10,20,30,40,50]\n",
    "                     ,'learning_rate':[0.2,0.5,0.75,1,1.25,1.5]}]\n",
    "          },\n",
    "    'rf': {'name': 'Random forest       ',\n",
    "           'estimator': RandomForestClassifier(random_state=random_state),\n",
    "           'param': [{'max_depth': [*range(4,10)]\n",
    "                     ,'n_estimators':[*range(10,60,10)]}]\n",
    "          },\n",
    "    'xgb': {'name': 'XGBoost            ',\n",
    "           'estimator': XGBClassifier(random_state=random_state),\n",
    "           'param': [{'max_depth': [*range(4,10)]\n",
    "                     ,'n_estimators':[*range(10,60,10)]\n",
    "                     ,'learning_rate':[0.2,0.5,0.75,1,1.25,1.5]}]\n",
    "          }\n",
    "}"
   ]
  },
  {
   "cell_type": "code",
   "execution_count": 7,
   "metadata": {},
   "outputs": [
    {
     "name": "stderr",
     "output_type": "stream",
     "text": [
      "100%|██████████| 8/8 [04:33<00:00, 34.16s/it]\n"
     ]
    }
   ],
   "source": [
    "best_classifiers = {}\n",
    "best_scores = {}\n",
    "\n",
    "for model_lbl in tqdm(model_lbls):\n",
    "    model = models[model_lbl]\n",
    "    name = model['name'].strip()\n",
    "    estimator = model['estimator']\n",
    "    param_grid = model['param']\n",
    "    \n",
    "    grid_search = GridSearchCV(estimator=estimator, \n",
    "                               param_grid=param_grid, \n",
    "                               scoring='accuracy', \n",
    "                               cv=5, \n",
    "                               n_jobs=-1)\n",
    "    grid_search.fit(X_train, y_train)\n",
    "    \n",
    "    best_model = grid_search.best_estimator_\n",
    "    best_params = grid_search.best_params_\n",
    "    best_score = grid_search.best_score_\n",
    "    \n",
    "    y_pred = best_model.predict(X_test)\n",
    "    test_score = accuracy_score(y_test, y_pred)\n",
    "    \n",
    "    best_classifiers[model_lbl] = best_model\n",
    "    best_scores[model_lbl] = {\n",
    "        'Best Params': best_params,\n",
    "        'CV Accuracy': best_score,\n",
    "        'Test Accuracy': test_score\n",
    "    }\n"
   ]
  },
  {
   "cell_type": "code",
   "execution_count": 8,
   "metadata": {},
   "outputs": [],
   "source": [
    "result = {}\n",
    "\n",
    "confusion_matrixes = {}\n",
    "\n",
    "for model_lbl in model_lbls:\n",
    "    model = best_classifiers[model_lbl]\n",
    "    \n",
    "    y_pred = model.predict(X_test)\n",
    "\n",
    "    full_df = pd.concat([X_test_df.reset_index(drop=True), y_test.reset_index(drop=True), pd.DataFrame(y_pred, columns=[\"Prediction\"]).reset_index(drop=True)], axis=1)\n",
    "\n",
    "    accuracy, won = data_aggregator.calculate_accuracy(full_df, \"FTR\", \"Prediction\")\n",
    "\n",
    "    data_aggregator.save_metrics(f\"{model_lbl}-classifier\", accuracy, won)\n",
    "\n",
    "    result[model_lbl] = [accuracy, won]\n",
    "\n",
    "    confusion_matrixes[model_lbl] = confusion_matrix(y_test, y_pred, labels=[0, 1, 2])"
   ]
  },
  {
   "cell_type": "code",
   "execution_count": 9,
   "metadata": {},
   "outputs": [
    {
     "data": {
      "text/html": [
       "<div>\n",
       "<style scoped>\n",
       "    .dataframe tbody tr th:only-of-type {\n",
       "        vertical-align: middle;\n",
       "    }\n",
       "\n",
       "    .dataframe tbody tr th {\n",
       "        vertical-align: top;\n",
       "    }\n",
       "\n",
       "    .dataframe thead th {\n",
       "        text-align: right;\n",
       "    }\n",
       "</style>\n",
       "<table border=\"1\" class=\"dataframe\">\n",
       "  <thead>\n",
       "    <tr style=\"text-align: right;\">\n",
       "      <th></th>\n",
       "      <th>dt</th>\n",
       "      <th>nb</th>\n",
       "      <th>lp</th>\n",
       "      <th>svc</th>\n",
       "      <th>knn</th>\n",
       "      <th>adb</th>\n",
       "      <th>rf</th>\n",
       "      <th>xgb</th>\n",
       "    </tr>\n",
       "  </thead>\n",
       "  <tbody>\n",
       "    <tr>\n",
       "      <th>Accuracy</th>\n",
       "      <td>0.597368</td>\n",
       "      <td>0.521053</td>\n",
       "      <td>0.568421</td>\n",
       "      <td>0.615789</td>\n",
       "      <td>0.534211</td>\n",
       "      <td>0.636842</td>\n",
       "      <td>0.631579</td>\n",
       "      <td>0.623684</td>\n",
       "    </tr>\n",
       "    <tr>\n",
       "      <th>Won</th>\n",
       "      <td>7906.600000</td>\n",
       "      <td>6634.500000</td>\n",
       "      <td>7359.700000</td>\n",
       "      <td>8029.700000</td>\n",
       "      <td>6513.300000</td>\n",
       "      <td>8231.000000</td>\n",
       "      <td>8200.000000</td>\n",
       "      <td>8148.500000</td>\n",
       "    </tr>\n",
       "  </tbody>\n",
       "</table>\n",
       "</div>"
      ],
      "text/plain": [
       "                   dt           nb           lp          svc          knn  \\\n",
       "Accuracy     0.597368     0.521053     0.568421     0.615789     0.534211   \n",
       "Won       7906.600000  6634.500000  7359.700000  8029.700000  6513.300000   \n",
       "\n",
       "                  adb           rf          xgb  \n",
       "Accuracy     0.636842     0.631579     0.623684  \n",
       "Won       8231.000000  8200.000000  8148.500000  "
      ]
     },
     "execution_count": 9,
     "metadata": {},
     "output_type": "execute_result"
    }
   ],
   "source": [
    "pd.DataFrame(result, index=[\"Accuracy\", \"Won\"])"
   ]
  },
  {
   "cell_type": "code",
   "execution_count": 10,
   "metadata": {},
   "outputs": [
    {
     "data": {
      "image/png": "[encoded data removed]",
      "text/plain": [
       "<Figure size 1600x800 with 8 Axes>"
      ]
     },
     "metadata": {},
     "output_type": "display_data"
    }
   ],
   "source": [
    "plot_confusion_matrixes(confusion_matrixes, classes=[\"A\", \"D\", \"H\"])"
   ]
  },
  {
   "cell_type": "markdown",
   "metadata": {},
   "source": [
    "As we can see from above, the models really struggles when predicting draws. The accuracy on home- and away wins, however, is pretty decent. Lets then have a look at filtering out those draws, in order to see how the model will perform then."
   ]
  },
  {
   "cell_type": "code",
   "execution_count": 11,
   "metadata": {},
   "outputs": [],
   "source": [
    "df = df[df[\"FTR\"] != 0]\n",
    "\n",
    "df_train = df[df[\"Date\"] < \"2023-07-01\"]\n",
    "df_test = df[df[\"Date\"] >= \"2023-07-01\"]\n",
    "df_test = df_test[df_test[\"Date\"] < \"2024-07-01\"]\n",
    "\n",
    "X_train_df = df_train.drop(columns=[traget, \"Date\"])\n",
    "y_train = df_train[traget]\n",
    "X_test_df = df_test.drop(columns=[traget, \"Date\"])\n",
    "y_test = df_test[traget]"
   ]
  },
  {
   "cell_type": "code",
   "execution_count": 12,
   "metadata": {},
   "outputs": [],
   "source": [
    "scaler = StandardScaler()\n",
    "\n",
    "X_train = scaler.fit_transform(X_train_df)\n",
    "X_test = scaler.transform(X_test_df)"
   ]
  },
  {
   "cell_type": "markdown",
   "metadata": {},
   "source": [
    "Instead of performing the full grid search again, we can see that adaboost performed the best earlier. Lets use that to predict these new matches."
   ]
  },
  {
   "cell_type": "code",
   "execution_count": 13,
   "metadata": {},
   "outputs": [],
   "source": [
    "model = AdaBoostClassifier(random_state=random_state, algorithm=\"SAMME\").fit(X_train, y_train)"
   ]
  },
  {
   "cell_type": "code",
   "execution_count": 14,
   "metadata": {},
   "outputs": [],
   "source": [
    "y_pred = model.predict(X_test)\n",
    "\n",
    "full_df = pd.concat([X_test_df.reset_index(drop=True), y_test.reset_index(drop=True), pd.DataFrame(y_pred, columns=[\"Prediction\"]).reset_index(drop=True)], axis=1)\n",
    "\n",
    "accuracy, won = data_aggregator.calculate_accuracy(full_df, \"FTR\", \"Prediction\")"
   ]
  },
  {
   "cell_type": "code",
   "execution_count": 15,
   "metadata": {},
   "outputs": [
    {
     "name": "stdout",
     "output_type": "stream",
     "text": [
      "The accuracy of the model is 80.20%\n",
      "The accuracy of the model is 239 out of 298 games.\n",
      "\n",
      "With this model, the expected return on value would be 8919.90€\n"
     ]
    }
   ],
   "source": [
    "print(f\"\"\"The accuracy of the model is {accuracy:.2%}\n",
    "The accuracy of the model is {accuracy*len(full_df):.0f} out of {len(full_df)} games.\n",
    "\"\"\")\n",
    "print(f\"With this model, the expected return on value would be {won:.2f}€\")"
   ]
  },
  {
   "cell_type": "markdown",
   "metadata": {},
   "source": [
    "As we can see, if we filter out the draws, we are actually able to predict the matches with an 80% accuracy. Turns out predicting draws is a really difficult task... Well, lets have a look at methods to see if we are able to increase this performance."
   ]
  },
  {
   "cell_type": "code",
   "execution_count": 16,
   "metadata": {},
   "outputs": [],
   "source": [
    "data_aggregator.save_metrics(\"adb-classifier (no draws)\", accuracy, won)"
   ]
  }
 ],
 "metadata": {
  "kernelspec": {
   "display_name": "venv",
   "language": "python",
   "name": "python3"
  },
  "language_info": {
   "codemirror_mode": {
    "name": "ipython",
    "version": 3
   },
   "file_extension": ".py",
   "mimetype": "text/x-python",
   "name": "python",
   "nbconvert_exporter": "python",
   "pygments_lexer": "ipython3",
   "version": "3.12.2"
  }
 },
 "nbformat": 4,
 "nbformat_minor": 2
}
