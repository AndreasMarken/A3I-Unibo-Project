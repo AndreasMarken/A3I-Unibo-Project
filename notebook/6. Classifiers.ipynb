{
 "cells": [
  {
   "cell_type": "code",
   "execution_count": 48,
   "metadata": {},
   "outputs": [
    {
     "name": "stdout",
     "output_type": "stream",
     "text": [
      "The autoreload extension is already loaded. To reload it, use:\n",
      "  %reload_ext autoreload\n"
     ]
    }
   ],
   "source": [
    "# ============================================================\n",
    "# Notebook setup\n",
    "# ============================================================\n",
    "\n",
    "%load_ext autoreload\n",
    "%autoreload 2\n",
    "\n",
    "figsize=(14, 4)\n",
    "\n",
    "random_state = 42   \n",
    "\n",
    "from sklearn.svm import SVC\n",
    "from sklearn.linear_model import Perceptron\n",
    "from sklearn.tree import DecisionTreeClassifier\n",
    "from sklearn.naive_bayes import GaussianNB\n",
    "from sklearn.neighbors import KNeighborsClassifier\n",
    "from sklearn.ensemble import AdaBoostClassifier, RandomForestClassifier\n",
    "\n",
    "from sklearn.model_selection import GridSearchCV\n",
    "from sklearn.preprocessing import StandardScaler\n",
    "from sklearn.metrics import accuracy_score, confusion_matrix, classification_report\n",
    "\n",
    "from utils.data_visualizator import plot_confusion_matrixes, plot_confusion_matrix\n",
    "\n",
    "from utils import DataAggregator\n",
    "import pandas as pd\n",
    "\n",
    "from tqdm import tqdm\n",
    "\n",
    "from xgboost import XGBClassifier"
   ]
  },
  {
   "cell_type": "markdown",
   "metadata": {},
   "source": [
    "# Classifiers\n",
    "Next up, we want to use classifying algorithms to predict the outcome of future matches. To do so, we will use the preprocess_data function described in the previous section. This data contains form data for each team, that hopefully will provide predictive power for the classifiers. We will also make use of multiple classifiers, using grid search to find the best from each of the classifiers."
   ]
  },
  {
   "cell_type": "code",
   "execution_count": 49,
   "metadata": {},
   "outputs": [],
   "source": [
    "data_aggregator = DataAggregator()\n",
    "df = data_aggregator.preprocess_data(data_aggregator.get_data([\"E0\"]), \n",
    "                                     date_column=\"Date\",\n",
    "                                     home_team_column=\"HomeTeam\",\n",
    "                                     away_team_column=\"AwayTeam\",\n",
    "                                     result_column=\"FTR\",\n",
    "                                     form_window=5)"
   ]
  },
  {
   "cell_type": "code",
   "execution_count": 50,
   "metadata": {},
   "outputs": [
    {
     "data": {
      "text/html": [
       "<div>\n",
       "<style scoped>\n",
       "    .dataframe tbody tr th:only-of-type {\n",
       "        vertical-align: middle;\n",
       "    }\n",
       "\n",
       "    .dataframe tbody tr th {\n",
       "        vertical-align: top;\n",
       "    }\n",
       "\n",
       "    .dataframe thead th {\n",
       "        text-align: right;\n",
       "    }\n",
       "</style>\n",
       "<table border=\"1\" class=\"dataframe\">\n",
       "  <thead>\n",
       "    <tr style=\"text-align: right;\">\n",
       "      <th></th>\n",
       "      <th>Date</th>\n",
       "      <th>HomeTeam</th>\n",
       "      <th>AwayTeam</th>\n",
       "      <th>FTR</th>\n",
       "      <th>B365H</th>\n",
       "      <th>B365D</th>\n",
       "      <th>B365A</th>\n",
       "      <th>Year</th>\n",
       "      <th>Month</th>\n",
       "      <th>Day</th>\n",
       "      <th>DayOfWeek</th>\n",
       "      <th>HomeTeamPPG</th>\n",
       "      <th>AwayTeamPPG</th>\n",
       "      <th>HomeTeamWinForm</th>\n",
       "      <th>AwayTeamWinForm</th>\n",
       "      <th>HomeTeamGoalForm</th>\n",
       "      <th>AwayTeamGoalForm</th>\n",
       "      <th>HomeTeamGoalAgainstForm</th>\n",
       "      <th>AwayTeamGoalAgainstForm</th>\n",
       "    </tr>\n",
       "  </thead>\n",
       "  <tbody>\n",
       "    <tr>\n",
       "      <th>0</th>\n",
       "      <td>2002-08-17</td>\n",
       "      <td>3</td>\n",
       "      <td>36</td>\n",
       "      <td>0</td>\n",
       "      <td>1.727</td>\n",
       "      <td>3.25</td>\n",
       "      <td>4.333</td>\n",
       "      <td>2002</td>\n",
       "      <td>8</td>\n",
       "      <td>17</td>\n",
       "      <td>5</td>\n",
       "      <td>1.524324</td>\n",
       "      <td>0.729148</td>\n",
       "      <td>0.109189</td>\n",
       "      <td>0.431390</td>\n",
       "      <td>1.354595</td>\n",
       "      <td>0.879821</td>\n",
       "      <td>1.151613</td>\n",
       "      <td>1.750000</td>\n",
       "    </tr>\n",
       "    <tr>\n",
       "      <th>1</th>\n",
       "      <td>2002-08-17</td>\n",
       "      <td>34</td>\n",
       "      <td>26</td>\n",
       "      <td>0</td>\n",
       "      <td>2.250</td>\n",
       "      <td>3.25</td>\n",
       "      <td>2.750</td>\n",
       "      <td>2002</td>\n",
       "      <td>8</td>\n",
       "      <td>17</td>\n",
       "      <td>5</td>\n",
       "      <td>1.374340</td>\n",
       "      <td>0.805442</td>\n",
       "      <td>0.017358</td>\n",
       "      <td>0.370068</td>\n",
       "      <td>1.382642</td>\n",
       "      <td>0.838095</td>\n",
       "      <td>1.300752</td>\n",
       "      <td>1.493243</td>\n",
       "    </tr>\n",
       "    <tr>\n",
       "      <th>2</th>\n",
       "      <td>2002-08-17</td>\n",
       "      <td>25</td>\n",
       "      <td>40</td>\n",
       "      <td>1</td>\n",
       "      <td>1.200</td>\n",
       "      <td>5.00</td>\n",
       "      <td>12.000</td>\n",
       "      <td>2002</td>\n",
       "      <td>8</td>\n",
       "      <td>17</td>\n",
       "      <td>5</td>\n",
       "      <td>2.245564</td>\n",
       "      <td>0.800000</td>\n",
       "      <td>0.557794</td>\n",
       "      <td>0.366942</td>\n",
       "      <td>2.039329</td>\n",
       "      <td>0.865289</td>\n",
       "      <td>0.812919</td>\n",
       "      <td>1.651029</td>\n",
       "    </tr>\n",
       "    <tr>\n",
       "      <th>3</th>\n",
       "      <td>2002-08-17</td>\n",
       "      <td>11</td>\n",
       "      <td>12</td>\n",
       "      <td>-1</td>\n",
       "      <td>2.800</td>\n",
       "      <td>3.25</td>\n",
       "      <td>2.200</td>\n",
       "      <td>2002</td>\n",
       "      <td>8</td>\n",
       "      <td>17</td>\n",
       "      <td>5</td>\n",
       "      <td>1.475556</td>\n",
       "      <td>1.785612</td>\n",
       "      <td>0.060000</td>\n",
       "      <td>-0.258513</td>\n",
       "      <td>1.351111</td>\n",
       "      <td>1.606715</td>\n",
       "      <td>1.340659</td>\n",
       "      <td>1.055024</td>\n",
       "    </tr>\n",
       "    <tr>\n",
       "      <th>4</th>\n",
       "      <td>2002-08-17</td>\n",
       "      <td>16</td>\n",
       "      <td>5</td>\n",
       "      <td>1</td>\n",
       "      <td>1.727</td>\n",
       "      <td>3.25</td>\n",
       "      <td>4.333</td>\n",
       "      <td>2002</td>\n",
       "      <td>8</td>\n",
       "      <td>17</td>\n",
       "      <td>5</td>\n",
       "      <td>1.487129</td>\n",
       "      <td>0.951351</td>\n",
       "      <td>0.060726</td>\n",
       "      <td>0.295135</td>\n",
       "      <td>1.379538</td>\n",
       "      <td>1.004324</td>\n",
       "      <td>1.317105</td>\n",
       "      <td>1.688172</td>\n",
       "    </tr>\n",
       "  </tbody>\n",
       "</table>\n",
       "</div>"
      ],
      "text/plain": [
       "        Date  HomeTeam  AwayTeam  FTR  B365H  B365D   B365A  Year  Month  Day  \\\n",
       "0 2002-08-17         3        36    0  1.727   3.25   4.333  2002      8   17   \n",
       "1 2002-08-17        34        26    0  2.250   3.25   2.750  2002      8   17   \n",
       "2 2002-08-17        25        40    1  1.200   5.00  12.000  2002      8   17   \n",
       "3 2002-08-17        11        12   -1  2.800   3.25   2.200  2002      8   17   \n",
       "4 2002-08-17        16         5    1  1.727   3.25   4.333  2002      8   17   \n",
       "\n",
       "   DayOfWeek  HomeTeamPPG  AwayTeamPPG  HomeTeamWinForm  AwayTeamWinForm  \\\n",
       "0          5     1.524324     0.729148         0.109189         0.431390   \n",
       "1          5     1.374340     0.805442         0.017358         0.370068   \n",
       "2          5     2.245564     0.800000         0.557794         0.366942   \n",
       "3          5     1.475556     1.785612         0.060000        -0.258513   \n",
       "4          5     1.487129     0.951351         0.060726         0.295135   \n",
       "\n",
       "   HomeTeamGoalForm  AwayTeamGoalForm  HomeTeamGoalAgainstForm  \\\n",
       "0          1.354595          0.879821                 1.151613   \n",
       "1          1.382642          0.838095                 1.300752   \n",
       "2          2.039329          0.865289                 0.812919   \n",
       "3          1.351111          1.606715                 1.340659   \n",
       "4          1.379538          1.004324                 1.317105   \n",
       "\n",
       "   AwayTeamGoalAgainstForm  \n",
       "0                 1.750000  \n",
       "1                 1.493243  \n",
       "2                 1.651029  \n",
       "3                 1.055024  \n",
       "4                 1.688172  "
      ]
     },
     "execution_count": 50,
     "metadata": {},
     "output_type": "execute_result"
    }
   ],
   "source": [
    "df.head()"
   ]
  },
  {
   "cell_type": "markdown",
   "metadata": {},
   "source": [
    "## Define and format train and test data\n",
    "We also have to map the values of the labels into values starting from 0 to fit with some of the classifiers to be used."
   ]
  },
  {
   "cell_type": "code",
   "execution_count": 51,
   "metadata": {},
   "outputs": [],
   "source": [
    "target = \"FTR\"\n",
    "df_train = df[df[\"Date\"] < \"2023-07-01\"]\n",
    "df_test = df[df[\"Date\"] >= \"2023-07-01\"]\n",
    "df_test = df_test[df_test[\"Date\"] < \"2024-07-01\"]\n",
    "\n",
    "X_train_df = df_train.drop(columns=[target, \"Date\"])\n",
    "y_train = df_train[target].map({1: 2, 0: 1, -1: 0})\n",
    "X_test_df = df_test.drop(columns=[target, \"Date\"])\n",
    "y_test = df_test[target].map({1: 2, 0: 1, -1: 0})"
   ]
  },
  {
   "cell_type": "markdown",
   "metadata": {},
   "source": [
    "We also scale the feature data, in order to fit the classifiers as best as possible."
   ]
  },
  {
   "cell_type": "code",
   "execution_count": 52,
   "metadata": {},
   "outputs": [],
   "source": [
    "scaler = StandardScaler()\n",
    "\n",
    "X_train = scaler.fit_transform(X_train_df)\n",
    "X_test = scaler.transform(X_test_df)"
   ]
  },
  {
   "cell_type": "markdown",
   "metadata": {},
   "source": [
    "## Defining the classifiers"
   ]
  },
  {
   "cell_type": "code",
   "execution_count": 53,
   "metadata": {},
   "outputs": [],
   "source": [
    "model_lbls = [\n",
    "    'dt' # decision tree\n",
    "    ,'nb' # gaussian naive bayes\n",
    "    ,'lp'   # linear perceptron\n",
    "    ,'svc'  # support vector \n",
    "    ,'knn'  # k nearest neighbours\n",
    "    ,'adb'  # adaboost\n",
    "    ,'rf'   # random forest\n",
    "    ,'xgb'  # xgboost\n",
    "]\n",
    "\n",
    "models = {\n",
    "    'dt': {'name': 'Decision Tree       ',\n",
    "           'estimator': DecisionTreeClassifier(random_state=random_state), \n",
    "           'param': [{'max_depth': [*range(1,20)],'class_weight':[None,'balanced']}],\n",
    "          },\n",
    "    'nb': {'name': 'Gaussian Naive Bayes',\n",
    "           'estimator': GaussianNB(),\n",
    "           'param': [{'var_smoothing': [10**exp for exp in range(-3,-13,-1)]}]\n",
    "          },\n",
    "    'lp': {'name': 'Linear Perceptron   ',\n",
    "           'estimator': Perceptron(random_state=random_state),\n",
    "           'param': [{'early_stopping': [True,False],'class_weight':[None,'balanced']}],\n",
    "          },\n",
    "    'svc':{'name': 'Support Vector      ',\n",
    "           'estimator': SVC(random_state=random_state), \n",
    "           'param': [{'kernel': ['rbf'], \n",
    "                    'gamma': [1e-3, 1e-4],\n",
    "                    'C': [1, 10, 100],\n",
    "                    },\n",
    "                    {'kernel': ['linear'],\n",
    "                     'C': [1, 10, 100],                     \n",
    "             },\n",
    "                   ]\n",
    "          },\n",
    "    'knn':{'name': 'K Nearest Neighbor ',\n",
    "           'estimator': KNeighborsClassifier(),\n",
    "           'param': [{'n_neighbors': list(range(1,7))}]\n",
    "       },\n",
    "    'adb':{'name': 'AdaBoost           ',\n",
    "           'estimator': AdaBoostClassifier(random_state=random_state, algorithm=\"SAMME\"),\n",
    "           'param': [{'n_estimators':[*range(10,101,10)]\n",
    "                     ,'learning_rate':[0.2,0.5,0.75,1,1.25,1.5]}]\n",
    "          },\n",
    "    'rf': {'name': 'Random forest       ',\n",
    "           'estimator': RandomForestClassifier(random_state=random_state),\n",
    "           'param': [{'max_depth': [*range(4,10)]\n",
    "                     ,'n_estimators':[*range(10,101,10)]}]\n",
    "          },\n",
    "    'xgb': {'name': 'XGBoost            ',\n",
    "           'estimator': XGBClassifier(random_state=random_state),\n",
    "           'param': [{'max_depth': [*range(4,10)]\n",
    "                     ,'n_estimators':[*range(10,101,10)]\n",
    "                     ,'learning_rate':[0.2,0.5,0.75,1,1.25,1.5]}]\n",
    "          }\n",
    "}"
   ]
  },
  {
   "cell_type": "markdown",
   "metadata": {},
   "source": [
    "## Performing a grid search"
   ]
  },
  {
   "cell_type": "code",
   "execution_count": 54,
   "metadata": {},
   "outputs": [
    {
     "name": "stderr",
     "output_type": "stream",
     "text": [
      "  0%|          | 0/8 [00:00<?, ?it/s]"
     ]
    },
    {
     "name": "stderr",
     "output_type": "stream",
     "text": [
      "100%|██████████| 8/8 [02:08<00:00, 16.08s/it]\n"
     ]
    }
   ],
   "source": [
    "best_classifiers = {}\n",
    "best_scores = {}\n",
    "\n",
    "for model_lbl in tqdm(model_lbls):\n",
    "    model = models[model_lbl]\n",
    "    name = model['name'].strip()\n",
    "    estimator = model['estimator']\n",
    "    param_grid = model['param']\n",
    "    \n",
    "    grid_search = GridSearchCV(estimator=estimator, \n",
    "                               param_grid=param_grid, \n",
    "                               scoring='accuracy', \n",
    "                               cv=5, \n",
    "                               n_jobs=-1)\n",
    "    grid_search.fit(X_train, y_train)\n",
    "    \n",
    "    best_model = grid_search.best_estimator_\n",
    "    best_params = grid_search.best_params_\n",
    "    best_score = grid_search.best_score_\n",
    "    \n",
    "    y_pred = best_model.predict(X_test)\n",
    "    test_score = accuracy_score(y_test, y_pred)\n",
    "    \n",
    "    best_classifiers[model_lbl] = best_model\n",
    "    best_scores[model_lbl] = {\n",
    "        'Best Params': best_params,\n",
    "        'CV Accuracy': best_score,\n",
    "        'Test Accuracy': test_score\n",
    "    }\n"
   ]
  },
  {
   "cell_type": "markdown",
   "metadata": {},
   "source": [
    "## Calculate and visualize the different performance metrics"
   ]
  },
  {
   "cell_type": "code",
   "execution_count": 55,
   "metadata": {},
   "outputs": [],
   "source": [
    "result = {}\n",
    "\n",
    "confusion_matrixes = {}\n",
    "\n",
    "for model_lbl in model_lbls:\n",
    "    model = best_classifiers[model_lbl]\n",
    "    \n",
    "    y_pred = model.predict(X_test)\n",
    "\n",
    "    full_df = pd.concat([X_test_df.reset_index(drop=True), y_test.reset_index(drop=True), pd.DataFrame(y_pred, columns=[\"Prediction\"]).reset_index(drop=True)], axis=1)\n",
    "\n",
    "    accuracy, won = data_aggregator.calculate_accuracy(full_df, \"FTR\", \"Prediction\")\n",
    "\n",
    "    data_aggregator.save_metrics(f\"{model_lbl}-classifier\", accuracy, won)\n",
    "\n",
    "    result[model_lbl] = [accuracy, won]\n",
    "\n",
    "    confusion_matrixes[model_lbl] = confusion_matrix(y_test, y_pred, labels=[0, 1, 2])"
   ]
  },
  {
   "cell_type": "code",
   "execution_count": 56,
   "metadata": {},
   "outputs": [
    {
     "data": {
      "text/html": [
       "<div>\n",
       "<style scoped>\n",
       "    .dataframe tbody tr th:only-of-type {\n",
       "        vertical-align: middle;\n",
       "    }\n",
       "\n",
       "    .dataframe tbody tr th {\n",
       "        vertical-align: top;\n",
       "    }\n",
       "\n",
       "    .dataframe thead th {\n",
       "        text-align: right;\n",
       "    }\n",
       "</style>\n",
       "<table border=\"1\" class=\"dataframe\">\n",
       "  <thead>\n",
       "    <tr style=\"text-align: right;\">\n",
       "      <th></th>\n",
       "      <th>dt</th>\n",
       "      <th>nb</th>\n",
       "      <th>lp</th>\n",
       "      <th>svc</th>\n",
       "      <th>knn</th>\n",
       "      <th>adb</th>\n",
       "      <th>rf</th>\n",
       "      <th>xgb</th>\n",
       "    </tr>\n",
       "  </thead>\n",
       "  <tbody>\n",
       "    <tr>\n",
       "      <th>Accuracy</th>\n",
       "      <td>0.597368</td>\n",
       "      <td>0.560526</td>\n",
       "      <td>0.510526</td>\n",
       "      <td>0.660526</td>\n",
       "      <td>0.547368</td>\n",
       "      <td>0.636842</td>\n",
       "      <td>0.628947</td>\n",
       "      <td>0.621053</td>\n",
       "    </tr>\n",
       "    <tr>\n",
       "      <th>Won</th>\n",
       "      <td>8001.600000</td>\n",
       "      <td>7334.500000</td>\n",
       "      <td>6665.600000</td>\n",
       "      <td>8700.200000</td>\n",
       "      <td>7270.900000</td>\n",
       "      <td>8231.000000</td>\n",
       "      <td>8161.000000</td>\n",
       "      <td>8084.000000</td>\n",
       "    </tr>\n",
       "  </tbody>\n",
       "</table>\n",
       "</div>"
      ],
      "text/plain": [
       "                   dt           nb           lp          svc          knn  \\\n",
       "Accuracy     0.597368     0.560526     0.510526     0.660526     0.547368   \n",
       "Won       8001.600000  7334.500000  6665.600000  8700.200000  7270.900000   \n",
       "\n",
       "                  adb           rf          xgb  \n",
       "Accuracy     0.636842     0.628947     0.621053  \n",
       "Won       8231.000000  8161.000000  8084.000000  "
      ]
     },
     "execution_count": 56,
     "metadata": {},
     "output_type": "execute_result"
    }
   ],
   "source": [
    "pd.DataFrame(result, index=[\"Accuracy\", \"Won\"])"
   ]
  },
  {
   "cell_type": "code",
   "execution_count": 57,
   "metadata": {},
   "outputs": [
    {
     "data": {
      "image/png": "[encoded data removed]",
      "text/plain": [
       "<Figure size 1600x800 with 8 Axes>"
      ]
     },
     "metadata": {},
     "output_type": "display_data"
    }
   ],
   "source": [
    "plot_confusion_matrixes(confusion_matrixes, classes=[\"A\", \"D\", \"H\"])"
   ]
  },
  {
   "cell_type": "markdown",
   "metadata": {},
   "source": [
    "As we can see from above, the models really struggles when predicting draws. The accuracy on home- and away wins, however, is somewhat okay."
   ]
  },
  {
   "cell_type": "markdown",
   "metadata": {},
   "source": [
    "## Filtering out draws"
   ]
  },
  {
   "cell_type": "markdown",
   "metadata": {},
   "source": [
    "Well, as we have just seen, predicting the draws can be a really challening task. Lets have a look at what happens if we filter out those draws from the dataset."
   ]
  },
  {
   "cell_type": "code",
   "execution_count": 58,
   "metadata": {},
   "outputs": [],
   "source": [
    "df = df[df[\"FTR\"] != 0]\n",
    "\n",
    "df_train = df[df[\"Date\"] < \"2023-07-01\"]\n",
    "df_test = df[df[\"Date\"] >= \"2023-07-01\"]\n",
    "df_test = df_test[df_test[\"Date\"] < \"2024-07-01\"]\n",
    "\n",
    "X_train_df = df_train.drop(columns=[target, \"Date\"])\n",
    "y_train = df_train[target]\n",
    "X_test_df = df_test.drop(columns=[target, \"Date\"])\n",
    "y_test = df_test[target]"
   ]
  },
  {
   "cell_type": "code",
   "execution_count": 59,
   "metadata": {},
   "outputs": [],
   "source": [
    "scaler = StandardScaler()\n",
    "\n",
    "X_train = scaler.fit_transform(X_train_df)\n",
    "X_test = scaler.transform(X_test_df)"
   ]
  },
  {
   "cell_type": "markdown",
   "metadata": {},
   "source": [
    "Instead of performing the full grid search again, we can see that the Support Vector Classifier performed the best earlier. Lets use that to predict these new matches."
   ]
  },
  {
   "cell_type": "code",
   "execution_count": 60,
   "metadata": {},
   "outputs": [],
   "source": [
    "model = SVC(random_state=random_state, **best_scores['svc'][\"Best Params\"]).fit(X_train, y_train)"
   ]
  },
  {
   "cell_type": "code",
   "execution_count": 61,
   "metadata": {},
   "outputs": [],
   "source": [
    "y_pred = model.predict(X_test)\n",
    "\n",
    "full_df = pd.concat([X_test_df.reset_index(drop=True), y_test.reset_index(drop=True), pd.DataFrame(y_pred, columns=[\"Prediction\"]).reset_index(drop=True)], axis=1)\n",
    "\n",
    "accuracy, won = data_aggregator.calculate_accuracy(full_df, \"FTR\", \"Prediction\")"
   ]
  },
  {
   "cell_type": "code",
   "execution_count": 62,
   "metadata": {},
   "outputs": [
    {
     "name": "stdout",
     "output_type": "stream",
     "text": [
      "The accuracy of the model is 84.90%\n",
      "The accuracy of the model is 253 out of 298 games.\n",
      "\n",
      "With this model, the expected return on value would be 9601.70€\n"
     ]
    }
   ],
   "source": [
    "print(f\"\"\"The accuracy of the model is {accuracy:.2%}\n",
    "The accuracy of the model is {accuracy*len(full_df):.0f} out of {len(full_df)} games.\n",
    "\"\"\")\n",
    "print(f\"With this model, the expected return on value would be {won:.2f}€\")"
   ]
  },
  {
   "cell_type": "code",
   "execution_count": 63,
   "metadata": {},
   "outputs": [
    {
     "name": "stdout",
     "output_type": "stream",
     "text": [
      "Classification report\n",
      "              precision    recall  f1-score   support\n",
      "\n",
      "          -1       0.81      0.82      0.82       123\n",
      "           1       0.87      0.87      0.87       175\n",
      "\n",
      "    accuracy                           0.85       298\n",
      "   macro avg       0.84      0.84      0.84       298\n",
      "weighted avg       0.85      0.85      0.85       298\n",
      "\n"
     ]
    }
   ],
   "source": [
    "print(\"Classification report\")\n",
    "print(classification_report(y_test, y_pred))"
   ]
  },
  {
   "cell_type": "markdown",
   "metadata": {},
   "source": [
    "First of all, we see that the accuracy is a lot higher. The accuracy of the model increases from $66.1$% to $84.9$% Furtermore, the recall and f1-score for both labels is actually pretty good, suggesting that the model is able to capture features to pretty accurately predict using a dataset with only home and away wins. Lets also have a look at the confusion matrix to see how it predicted the different labels."
   ]
  },
  {
   "cell_type": "code",
   "execution_count": 64,
   "metadata": {},
   "outputs": [
    {
     "data": {
      "image/png": "[encoded data removed]",
      "text/plain": [
       "<Figure size 640x480 with 2 Axes>"
      ]
     },
     "metadata": {},
     "output_type": "display_data"
    }
   ],
   "source": [
    "cm = confusion_matrix(y_test, y_pred, labels=[-1, 1])\n",
    "plot_confusion_matrix(cm, classes=[\"A\", \"H\"])"
   ]
  },
  {
   "cell_type": "markdown",
   "metadata": {},
   "source": [
    "The first thing to notice is the strong diagonal from top left to bottom right, indicating that the model is able to accurately caputure these true positives. Furthermore, the model is mispredicting some games into the wrong label, however, we have been able to gain a significant increase in performance."
   ]
  },
  {
   "cell_type": "code",
   "execution_count": 65,
   "metadata": {},
   "outputs": [],
   "source": [
    "data_aggregator.save_metrics(\"svc-classifier (no draws)\", accuracy, won)"
   ]
  }
 ],
 "metadata": {
  "kernelspec": {
   "display_name": "venv",
   "language": "python",
   "name": "python3"
  },
  "language_info": {
   "codemirror_mode": {
    "name": "ipython",
    "version": 3
   },
   "file_extension": ".py",
   "mimetype": "text/x-python",
   "name": "python",
   "nbconvert_exporter": "python",
   "pygments_lexer": "ipython3",
   "version": "3.12.2"
  }
 },
 "nbformat": 4,
 "nbformat_minor": 2
}
