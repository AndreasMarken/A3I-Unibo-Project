{
 "cells": [
  {
   "cell_type": "code",
   "execution_count": 1,
   "metadata": {},
   "outputs": [],
   "source": [
    "# ============================================================\n",
    "# Notebook setup\n",
    "# ============================================================\n",
    "\n",
    "%load_ext autoreload\n",
    "%autoreload 2\n",
    "\n",
    "figsize=(14, 4)\n",
    "\n",
    "from utils import DataAggregator\n",
    "import utils.data_visualizator as utils_dv"
   ]
  },
  {
   "cell_type": "code",
   "execution_count": 2,
   "metadata": {},
   "outputs": [],
   "source": [
    "data_aggregator = DataAggregator()"
   ]
  },
  {
   "cell_type": "markdown",
   "metadata": {},
   "source": [
    "# Summary"
   ]
  },
  {
   "cell_type": "code",
   "execution_count": 3,
   "metadata": {},
   "outputs": [],
   "source": [
    "metrics = data_aggregator.read_metrics()"
   ]
  },
  {
   "cell_type": "code",
   "execution_count": 4,
   "metadata": {},
   "outputs": [
    {
     "data": {
      "text/html": [
       "<div>\n",
       "<style scoped>\n",
       "    .dataframe tbody tr th:only-of-type {\n",
       "        vertical-align: middle;\n",
       "    }\n",
       "\n",
       "    .dataframe tbody tr th {\n",
       "        vertical-align: top;\n",
       "    }\n",
       "\n",
       "    .dataframe thead th {\n",
       "        text-align: right;\n",
       "    }\n",
       "</style>\n",
       "<table border=\"1\" class=\"dataframe\">\n",
       "  <thead>\n",
       "    <tr style=\"text-align: right;\">\n",
       "      <th></th>\n",
       "      <th>Accuracy</th>\n",
       "      <th>Profit</th>\n",
       "    </tr>\n",
       "    <tr>\n",
       "      <th>Model</th>\n",
       "      <th></th>\n",
       "      <th></th>\n",
       "    </tr>\n",
       "  </thead>\n",
       "  <tbody>\n",
       "    <tr>\n",
       "      <th>xgb-classifier (no draws)</th>\n",
       "      <td>0.738255</td>\n",
       "      <td>8509.70</td>\n",
       "    </tr>\n",
       "    <tr>\n",
       "      <th>RandomForestRegressor (no draws)</th>\n",
       "      <td>0.670635</td>\n",
       "      <td>7453.00</td>\n",
       "    </tr>\n",
       "    <tr>\n",
       "      <th>xgb-classifier</th>\n",
       "      <td>0.592105</td>\n",
       "      <td>7830.80</td>\n",
       "    </tr>\n",
       "    <tr>\n",
       "      <th>adb-classifier</th>\n",
       "      <td>0.581579</td>\n",
       "      <td>7729.50</td>\n",
       "    </tr>\n",
       "    <tr>\n",
       "      <th>rf-classifier</th>\n",
       "      <td>0.573684</td>\n",
       "      <td>7654.70</td>\n",
       "    </tr>\n",
       "    <tr>\n",
       "      <th>svc-classifier</th>\n",
       "      <td>0.573684</td>\n",
       "      <td>7688.00</td>\n",
       "    </tr>\n",
       "    <tr>\n",
       "      <th>optimized-ELO-model</th>\n",
       "      <td>0.563158</td>\n",
       "      <td>528.90</td>\n",
       "    </tr>\n",
       "    <tr>\n",
       "      <th>dt-classifier</th>\n",
       "      <td>0.560526</td>\n",
       "      <td>7592.20</td>\n",
       "    </tr>\n",
       "    <tr>\n",
       "      <th>odds</th>\n",
       "      <td>0.545379</td>\n",
       "      <td>-2464.29</td>\n",
       "    </tr>\n",
       "    <tr>\n",
       "      <th>nn_cls</th>\n",
       "      <td>0.542105</td>\n",
       "      <td>7385.20</td>\n",
       "    </tr>\n",
       "    <tr>\n",
       "      <th>RandomForestRegressor</th>\n",
       "      <td>0.539474</td>\n",
       "      <td>7147.90</td>\n",
       "    </tr>\n",
       "    <tr>\n",
       "      <th>knn-classifier</th>\n",
       "      <td>0.534211</td>\n",
       "      <td>6985.20</td>\n",
       "    </tr>\n",
       "    <tr>\n",
       "      <th>nb-classifier</th>\n",
       "      <td>0.531579</td>\n",
       "      <td>6933.10</td>\n",
       "    </tr>\n",
       "    <tr>\n",
       "      <th>ELO-model-2</th>\n",
       "      <td>0.510526</td>\n",
       "      <td>-68.30</td>\n",
       "    </tr>\n",
       "    <tr>\n",
       "      <th>ELO-model-1</th>\n",
       "      <td>0.505263</td>\n",
       "      <td>-130.80</td>\n",
       "    </tr>\n",
       "    <tr>\n",
       "      <th>nn_regr</th>\n",
       "      <td>0.450000</td>\n",
       "      <td>6256.80</td>\n",
       "    </tr>\n",
       "    <tr>\n",
       "      <th>lp-classifier</th>\n",
       "      <td>0.394737</td>\n",
       "      <td>1213.10</td>\n",
       "    </tr>\n",
       "    <tr>\n",
       "      <th>baseline</th>\n",
       "      <td>0.360190</td>\n",
       "      <td>-5070.33</td>\n",
       "    </tr>\n",
       "  </tbody>\n",
       "</table>\n",
       "</div>"
      ],
      "text/plain": [
       "                                  Accuracy   Profit\n",
       "Model                                              \n",
       "xgb-classifier (no draws)         0.738255  8509.70\n",
       "RandomForestRegressor (no draws)  0.670635  7453.00\n",
       "xgb-classifier                    0.592105  7830.80\n",
       "adb-classifier                    0.581579  7729.50\n",
       "rf-classifier                     0.573684  7654.70\n",
       "svc-classifier                    0.573684  7688.00\n",
       "optimized-ELO-model               0.563158   528.90\n",
       "dt-classifier                     0.560526  7592.20\n",
       "odds                              0.545379 -2464.29\n",
       "nn_cls                            0.542105  7385.20\n",
       "RandomForestRegressor             0.539474  7147.90\n",
       "knn-classifier                    0.534211  6985.20\n",
       "nb-classifier                     0.531579  6933.10\n",
       "ELO-model-2                       0.510526   -68.30\n",
       "ELO-model-1                       0.505263  -130.80\n",
       "nn_regr                           0.450000  6256.80\n",
       "lp-classifier                     0.394737  1213.10\n",
       "baseline                          0.360190 -5070.33"
      ]
     },
     "execution_count": 4,
     "metadata": {},
     "output_type": "execute_result"
    }
   ],
   "source": [
    "metrics = metrics.sort_values(by=\"Accuracy\", ascending=False)\n",
    "metrics"
   ]
  },
  {
   "cell_type": "code",
   "execution_count": 5,
   "metadata": {},
   "outputs": [
    {
     "data": {
      "application/vnd.plotly.v1+json": {
       "config": {
        "plotlyServerURL": "https://plot.ly"
       },
       "data": [
        {
         "customdata": [
          [
           "xgb-classifier (no draws)"
          ]
         ],
         "hovertemplate": "Model=%{customdata[0]}<br>Accuracy=%{x}<br>Profit=%{y}<extra></extra>",
         "legendgroup": "xgb-classifier (no draws)",
         "marker": {
          "color": "#636efa",
          "symbol": "circle"
         },
         "mode": "markers",
         "name": "xgb-classifier (no draws)",
         "orientation": "v",
         "showlegend": true,
         "type": "scatter",
         "x": [
          0.738255033557047
         ],
         "xaxis": "x",
         "y": [
          8509.7
         ],
         "yaxis": "y"
        },
        {
         "customdata": [
          [
           "RandomForestRegressor (no draws)"
          ]
         ],
         "hovertemplate": "Model=%{customdata[0]}<br>Accuracy=%{x}<br>Profit=%{y}<extra></extra>",
         "legendgroup": "RandomForestRegressor (no draws)",
         "marker": {
          "color": "#EF553B",
          "symbol": "circle"
         },
         "mode": "markers",
         "name": "RandomForestRegressor (no draws)",
         "orientation": "v",
         "showlegend": true,
         "type": "scatter",
         "x": [
          0.6706349206349206
         ],
         "xaxis": "x",
         "y": [
          7453
         ],
         "yaxis": "y"
        },
        {
         "customdata": [
          [
           "xgb-classifier"
          ]
         ],
         "hovertemplate": "Model=%{customdata[0]}<br>Accuracy=%{x}<br>Profit=%{y}<extra></extra>",
         "legendgroup": "xgb-classifier",
         "marker": {
          "color": "#00cc96",
          "symbol": "circle"
         },
         "mode": "markers",
         "name": "xgb-classifier",
         "orientation": "v",
         "showlegend": true,
         "type": "scatter",
         "x": [
          0.5921052631578947
         ],
         "xaxis": "x",
         "y": [
          7830.800000000001
         ],
         "yaxis": "y"
        },
        {
         "customdata": [
          [
           "adb-classifier"
          ]
         ],
         "hovertemplate": "Model=%{customdata[0]}<br>Accuracy=%{x}<br>Profit=%{y}<extra></extra>",
         "legendgroup": "adb-classifier",
         "marker": {
          "color": "#ab63fa",
          "symbol": "circle"
         },
         "mode": "markers",
         "name": "adb-classifier",
         "orientation": "v",
         "showlegend": true,
         "type": "scatter",
         "x": [
          0.5815789473684211
         ],
         "xaxis": "x",
         "y": [
          7729.500000000001
         ],
         "yaxis": "y"
        },
        {
         "customdata": [
          [
           "rf-classifier"
          ]
         ],
         "hovertemplate": "Model=%{customdata[0]}<br>Accuracy=%{x}<br>Profit=%{y}<extra></extra>",
         "legendgroup": "rf-classifier",
         "marker": {
          "color": "#FFA15A",
          "symbol": "circle"
         },
         "mode": "markers",
         "name": "rf-classifier",
         "orientation": "v",
         "showlegend": true,
         "type": "scatter",
         "x": [
          0.5736842105263158
         ],
         "xaxis": "x",
         "y": [
          7654.700000000001
         ],
         "yaxis": "y"
        },
        {
         "customdata": [
          [
           "svc-classifier"
          ]
         ],
         "hovertemplate": "Model=%{customdata[0]}<br>Accuracy=%{x}<br>Profit=%{y}<extra></extra>",
         "legendgroup": "svc-classifier",
         "marker": {
          "color": "#19d3f3",
          "symbol": "circle"
         },
         "mode": "markers",
         "name": "svc-classifier",
         "orientation": "v",
         "showlegend": true,
         "type": "scatter",
         "x": [
          0.5736842105263158
         ],
         "xaxis": "x",
         "y": [
          7688.000000000001
         ],
         "yaxis": "y"
        },
        {
         "customdata": [
          [
           "optimized-ELO-model"
          ]
         ],
         "hovertemplate": "Model=%{customdata[0]}<br>Accuracy=%{x}<br>Profit=%{y}<extra></extra>",
         "legendgroup": "optimized-ELO-model",
         "marker": {
          "color": "#FF6692",
          "symbol": "circle"
         },
         "mode": "markers",
         "name": "optimized-ELO-model",
         "orientation": "v",
         "showlegend": true,
         "type": "scatter",
         "x": [
          0.5631578947368421
         ],
         "xaxis": "x",
         "y": [
          528.9000000000001
         ],
         "yaxis": "y"
        },
        {
         "customdata": [
          [
           "dt-classifier"
          ]
         ],
         "hovertemplate": "Model=%{customdata[0]}<br>Accuracy=%{x}<br>Profit=%{y}<extra></extra>",
         "legendgroup": "dt-classifier",
         "marker": {
          "color": "#B6E880",
          "symbol": "circle"
         },
         "mode": "markers",
         "name": "dt-classifier",
         "orientation": "v",
         "showlegend": true,
         "type": "scatter",
         "x": [
          0.5605263157894737
         ],
         "xaxis": "x",
         "y": [
          7592.200000000001
         ],
         "yaxis": "y"
        },
        {
         "customdata": [
          [
           "odds"
          ]
         ],
         "hovertemplate": "Model=%{customdata[0]}<br>Accuracy=%{x}<br>Profit=%{y}<extra></extra>",
         "legendgroup": "odds",
         "marker": {
          "color": "#FF97FF",
          "symbol": "circle"
         },
         "mode": "markers",
         "name": "odds",
         "orientation": "v",
         "showlegend": true,
         "type": "scatter",
         "x": [
          0.5453791469194312
         ],
         "xaxis": "x",
         "y": [
          -2464.289999999994
         ],
         "yaxis": "y"
        },
        {
         "customdata": [
          [
           "nn_cls"
          ]
         ],
         "hovertemplate": "Model=%{customdata[0]}<br>Accuracy=%{x}<br>Profit=%{y}<extra></extra>",
         "legendgroup": "nn_cls",
         "marker": {
          "color": "#FECB52",
          "symbol": "circle"
         },
         "mode": "markers",
         "name": "nn_cls",
         "orientation": "v",
         "showlegend": true,
         "type": "scatter",
         "x": [
          0.5421052631578948
         ],
         "xaxis": "x",
         "y": [
          7385.200000000001
         ],
         "yaxis": "y"
        },
        {
         "customdata": [
          [
           "RandomForestRegressor"
          ]
         ],
         "hovertemplate": "Model=%{customdata[0]}<br>Accuracy=%{x}<br>Profit=%{y}<extra></extra>",
         "legendgroup": "RandomForestRegressor",
         "marker": {
          "color": "#636efa",
          "symbol": "circle"
         },
         "mode": "markers",
         "name": "RandomForestRegressor",
         "orientation": "v",
         "showlegend": true,
         "type": "scatter",
         "x": [
          0.5394736842105263
         ],
         "xaxis": "x",
         "y": [
          7147.9000000000015
         ],
         "yaxis": "y"
        },
        {
         "customdata": [
          [
           "knn-classifier"
          ]
         ],
         "hovertemplate": "Model=%{customdata[0]}<br>Accuracy=%{x}<br>Profit=%{y}<extra></extra>",
         "legendgroup": "knn-classifier",
         "marker": {
          "color": "#EF553B",
          "symbol": "circle"
         },
         "mode": "markers",
         "name": "knn-classifier",
         "orientation": "v",
         "showlegend": true,
         "type": "scatter",
         "x": [
          0.5342105263157895
         ],
         "xaxis": "x",
         "y": [
          6985.200000000002
         ],
         "yaxis": "y"
        },
        {
         "customdata": [
          [
           "nb-classifier"
          ]
         ],
         "hovertemplate": "Model=%{customdata[0]}<br>Accuracy=%{x}<br>Profit=%{y}<extra></extra>",
         "legendgroup": "nb-classifier",
         "marker": {
          "color": "#00cc96",
          "symbol": "circle"
         },
         "mode": "markers",
         "name": "nb-classifier",
         "orientation": "v",
         "showlegend": true,
         "type": "scatter",
         "x": [
          0.531578947368421
         ],
         "xaxis": "x",
         "y": [
          6933.100000000001
         ],
         "yaxis": "y"
        },
        {
         "customdata": [
          [
           "ELO-model-2"
          ]
         ],
         "hovertemplate": "Model=%{customdata[0]}<br>Accuracy=%{x}<br>Profit=%{y}<extra></extra>",
         "legendgroup": "ELO-model-2",
         "marker": {
          "color": "#ab63fa",
          "symbol": "circle"
         },
         "mode": "markers",
         "name": "ELO-model-2",
         "orientation": "v",
         "showlegend": true,
         "type": "scatter",
         "x": [
          0.5105263157894737
         ],
         "xaxis": "x",
         "y": [
          -68.3
         ],
         "yaxis": "y"
        },
        {
         "customdata": [
          [
           "ELO-model-1"
          ]
         ],
         "hovertemplate": "Model=%{customdata[0]}<br>Accuracy=%{x}<br>Profit=%{y}<extra></extra>",
         "legendgroup": "ELO-model-1",
         "marker": {
          "color": "#FFA15A",
          "symbol": "circle"
         },
         "mode": "markers",
         "name": "ELO-model-1",
         "orientation": "v",
         "showlegend": true,
         "type": "scatter",
         "x": [
          0.5052631578947369
         ],
         "xaxis": "x",
         "y": [
          -130.80000000000004
         ],
         "yaxis": "y"
        },
        {
         "customdata": [
          [
           "nn_regr"
          ]
         ],
         "hovertemplate": "Model=%{customdata[0]}<br>Accuracy=%{x}<br>Profit=%{y}<extra></extra>",
         "legendgroup": "nn_regr",
         "marker": {
          "color": "#19d3f3",
          "symbol": "circle"
         },
         "mode": "markers",
         "name": "nn_regr",
         "orientation": "v",
         "showlegend": true,
         "type": "scatter",
         "x": [
          0.45
         ],
         "xaxis": "x",
         "y": [
          6256.800000000002
         ],
         "yaxis": "y"
        },
        {
         "customdata": [
          [
           "lp-classifier"
          ]
         ],
         "hovertemplate": "Model=%{customdata[0]}<br>Accuracy=%{x}<br>Profit=%{y}<extra></extra>",
         "legendgroup": "lp-classifier",
         "marker": {
          "color": "#FF6692",
          "symbol": "circle"
         },
         "mode": "markers",
         "name": "lp-classifier",
         "orientation": "v",
         "showlegend": true,
         "type": "scatter",
         "x": [
          0.3947368421052631
         ],
         "xaxis": "x",
         "y": [
          1213.0999999999997
         ],
         "yaxis": "y"
        },
        {
         "customdata": [
          [
           "baseline"
          ]
         ],
         "hovertemplate": "Model=%{customdata[0]}<br>Accuracy=%{x}<br>Profit=%{y}<extra></extra>",
         "legendgroup": "baseline",
         "marker": {
          "color": "#B6E880",
          "symbol": "circle"
         },
         "mode": "markers",
         "name": "baseline",
         "orientation": "v",
         "showlegend": true,
         "type": "scatter",
         "x": [
          0.3601895734597156
         ],
         "xaxis": "x",
         "y": [
          -5070.329999999981
         ],
         "yaxis": "y"
        }
       ],
       "layout": {
        "legend": {
         "title": {
          "text": "Model"
         },
         "tracegroupgap": 0
        },
        "template": {
         "data": {
          "bar": [
           {
            "error_x": {
             "color": "#2a3f5f"
            },
            "error_y": {
             "color": "#2a3f5f"
            },
            "marker": {
             "line": {
              "color": "#E5ECF6",
              "width": 0.5
             },
             "pattern": {
              "fillmode": "overlay",
              "size": 10,
              "solidity": 0.2
             }
            },
            "type": "bar"
           }
          ],
          "barpolar": [
           {
            "marker": {
             "line": {
              "color": "#E5ECF6",
              "width": 0.5
             },
             "pattern": {
              "fillmode": "overlay",
              "size": 10,
              "solidity": 0.2
             }
            },
            "type": "barpolar"
           }
          ],
          "carpet": [
           {
            "aaxis": {
             "endlinecolor": "#2a3f5f",
             "gridcolor": "white",
             "linecolor": "white",
             "minorgridcolor": "white",
             "startlinecolor": "#2a3f5f"
            },
            "baxis": {
             "endlinecolor": "#2a3f5f",
             "gridcolor": "white",
             "linecolor": "white",
             "minorgridcolor": "white",
             "startlinecolor": "#2a3f5f"
            },
            "type": "carpet"
           }
          ],
          "choropleth": [
           {
            "colorbar": {
             "outlinewidth": 0,
             "ticks": ""
            },
            "type": "choropleth"
           }
          ],
          "contour": [
           {
            "colorbar": {
             "outlinewidth": 0,
             "ticks": ""
            },
            "colorscale": [
             [
              0,
              "#0d0887"
             ],
             [
              0.1111111111111111,
              "#46039f"
             ],
             [
              0.2222222222222222,
              "#7201a8"
             ],
             [
              0.3333333333333333,
              "#9c179e"
             ],
             [
              0.4444444444444444,
              "#bd3786"
             ],
             [
              0.5555555555555556,
              "#d8576b"
             ],
             [
              0.6666666666666666,
              "#ed7953"
             ],
             [
              0.7777777777777778,
              "#fb9f3a"
             ],
             [
              0.8888888888888888,
              "#fdca26"
             ],
             [
              1,
              "#f0f921"
             ]
            ],
            "type": "contour"
           }
          ],
          "contourcarpet": [
           {
            "colorbar": {
             "outlinewidth": 0,
             "ticks": ""
            },
            "type": "contourcarpet"
           }
          ],
          "heatmap": [
           {
            "colorbar": {
             "outlinewidth": 0,
             "ticks": ""
            },
            "colorscale": [
             [
              0,
              "#0d0887"
             ],
             [
              0.1111111111111111,
              "#46039f"
             ],
             [
              0.2222222222222222,
              "#7201a8"
             ],
             [
              0.3333333333333333,
              "#9c179e"
             ],
             [
              0.4444444444444444,
              "#bd3786"
             ],
             [
              0.5555555555555556,
              "#d8576b"
             ],
             [
              0.6666666666666666,
              "#ed7953"
             ],
             [
              0.7777777777777778,
              "#fb9f3a"
             ],
             [
              0.8888888888888888,
              "#fdca26"
             ],
             [
              1,
              "#f0f921"
             ]
            ],
            "type": "heatmap"
           }
          ],
          "heatmapgl": [
           {
            "colorbar": {
             "outlinewidth": 0,
             "ticks": ""
            },
            "colorscale": [
             [
              0,
              "#0d0887"
             ],
             [
              0.1111111111111111,
              "#46039f"
             ],
             [
              0.2222222222222222,
              "#7201a8"
             ],
             [
              0.3333333333333333,
              "#9c179e"
             ],
             [
              0.4444444444444444,
              "#bd3786"
             ],
             [
              0.5555555555555556,
              "#d8576b"
             ],
             [
              0.6666666666666666,
              "#ed7953"
             ],
             [
              0.7777777777777778,
              "#fb9f3a"
             ],
             [
              0.8888888888888888,
              "#fdca26"
             ],
             [
              1,
              "#f0f921"
             ]
            ],
            "type": "heatmapgl"
           }
          ],
          "histogram": [
           {
            "marker": {
             "pattern": {
              "fillmode": "overlay",
              "size": 10,
              "solidity": 0.2
             }
            },
            "type": "histogram"
           }
          ],
          "histogram2d": [
           {
            "colorbar": {
             "outlinewidth": 0,
             "ticks": ""
            },
            "colorscale": [
             [
              0,
              "#0d0887"
             ],
             [
              0.1111111111111111,
              "#46039f"
             ],
             [
              0.2222222222222222,
              "#7201a8"
             ],
             [
              0.3333333333333333,
              "#9c179e"
             ],
             [
              0.4444444444444444,
              "#bd3786"
             ],
             [
              0.5555555555555556,
              "#d8576b"
             ],
             [
              0.6666666666666666,
              "#ed7953"
             ],
             [
              0.7777777777777778,
              "#fb9f3a"
             ],
             [
              0.8888888888888888,
              "#fdca26"
             ],
             [
              1,
              "#f0f921"
             ]
            ],
            "type": "histogram2d"
           }
          ],
          "histogram2dcontour": [
           {
            "colorbar": {
             "outlinewidth": 0,
             "ticks": ""
            },
            "colorscale": [
             [
              0,
              "#0d0887"
             ],
             [
              0.1111111111111111,
              "#46039f"
             ],
             [
              0.2222222222222222,
              "#7201a8"
             ],
             [
              0.3333333333333333,
              "#9c179e"
             ],
             [
              0.4444444444444444,
              "#bd3786"
             ],
             [
              0.5555555555555556,
              "#d8576b"
             ],
             [
              0.6666666666666666,
              "#ed7953"
             ],
             [
              0.7777777777777778,
              "#fb9f3a"
             ],
             [
              0.8888888888888888,
              "#fdca26"
             ],
             [
              1,
              "#f0f921"
             ]
            ],
            "type": "histogram2dcontour"
           }
          ],
          "mesh3d": [
           {
            "colorbar": {
             "outlinewidth": 0,
             "ticks": ""
            },
            "type": "mesh3d"
           }
          ],
          "parcoords": [
           {
            "line": {
             "colorbar": {
              "outlinewidth": 0,
              "ticks": ""
             }
            },
            "type": "parcoords"
           }
          ],
          "pie": [
           {
            "automargin": true,
            "type": "pie"
           }
          ],
          "scatter": [
           {
            "fillpattern": {
             "fillmode": "overlay",
             "size": 10,
             "solidity": 0.2
            },
            "type": "scatter"
           }
          ],
          "scatter3d": [
           {
            "line": {
             "colorbar": {
              "outlinewidth": 0,
              "ticks": ""
             }
            },
            "marker": {
             "colorbar": {
              "outlinewidth": 0,
              "ticks": ""
             }
            },
            "type": "scatter3d"
           }
          ],
          "scattercarpet": [
           {
            "marker": {
             "colorbar": {
              "outlinewidth": 0,
              "ticks": ""
             }
            },
            "type": "scattercarpet"
           }
          ],
          "scattergeo": [
           {
            "marker": {
             "colorbar": {
              "outlinewidth": 0,
              "ticks": ""
             }
            },
            "type": "scattergeo"
           }
          ],
          "scattergl": [
           {
            "marker": {
             "colorbar": {
              "outlinewidth": 0,
              "ticks": ""
             }
            },
            "type": "scattergl"
           }
          ],
          "scattermapbox": [
           {
            "marker": {
             "colorbar": {
              "outlinewidth": 0,
              "ticks": ""
             }
            },
            "type": "scattermapbox"
           }
          ],
          "scatterpolar": [
           {
            "marker": {
             "colorbar": {
              "outlinewidth": 0,
              "ticks": ""
             }
            },
            "type": "scatterpolar"
           }
          ],
          "scatterpolargl": [
           {
            "marker": {
             "colorbar": {
              "outlinewidth": 0,
              "ticks": ""
             }
            },
            "type": "scatterpolargl"
           }
          ],
          "scatterternary": [
           {
            "marker": {
             "colorbar": {
              "outlinewidth": 0,
              "ticks": ""
             }
            },
            "type": "scatterternary"
           }
          ],
          "surface": [
           {
            "colorbar": {
             "outlinewidth": 0,
             "ticks": ""
            },
            "colorscale": [
             [
              0,
              "#0d0887"
             ],
             [
              0.1111111111111111,
              "#46039f"
             ],
             [
              0.2222222222222222,
              "#7201a8"
             ],
             [
              0.3333333333333333,
              "#9c179e"
             ],
             [
              0.4444444444444444,
              "#bd3786"
             ],
             [
              0.5555555555555556,
              "#d8576b"
             ],
             [
              0.6666666666666666,
              "#ed7953"
             ],
             [
              0.7777777777777778,
              "#fb9f3a"
             ],
             [
              0.8888888888888888,
              "#fdca26"
             ],
             [
              1,
              "#f0f921"
             ]
            ],
            "type": "surface"
           }
          ],
          "table": [
           {
            "cells": {
             "fill": {
              "color": "#EBF0F8"
             },
             "line": {
              "color": "white"
             }
            },
            "header": {
             "fill": {
              "color": "#C8D4E3"
             },
             "line": {
              "color": "white"
             }
            },
            "type": "table"
           }
          ]
         },
         "layout": {
          "annotationdefaults": {
           "arrowcolor": "#2a3f5f",
           "arrowhead": 0,
           "arrowwidth": 1
          },
          "autotypenumbers": "strict",
          "coloraxis": {
           "colorbar": {
            "outlinewidth": 0,
            "ticks": ""
           }
          },
          "colorscale": {
           "diverging": [
            [
             0,
             "#8e0152"
            ],
            [
             0.1,
             "#c51b7d"
            ],
            [
             0.2,
             "#de77ae"
            ],
            [
             0.3,
             "#f1b6da"
            ],
            [
             0.4,
             "#fde0ef"
            ],
            [
             0.5,
             "#f7f7f7"
            ],
            [
             0.6,
             "#e6f5d0"
            ],
            [
             0.7,
             "#b8e186"
            ],
            [
             0.8,
             "#7fbc41"
            ],
            [
             0.9,
             "#4d9221"
            ],
            [
             1,
             "#276419"
            ]
           ],
           "sequential": [
            [
             0,
             "#0d0887"
            ],
            [
             0.1111111111111111,
             "#46039f"
            ],
            [
             0.2222222222222222,
             "#7201a8"
            ],
            [
             0.3333333333333333,
             "#9c179e"
            ],
            [
             0.4444444444444444,
             "#bd3786"
            ],
            [
             0.5555555555555556,
             "#d8576b"
            ],
            [
             0.6666666666666666,
             "#ed7953"
            ],
            [
             0.7777777777777778,
             "#fb9f3a"
            ],
            [
             0.8888888888888888,
             "#fdca26"
            ],
            [
             1,
             "#f0f921"
            ]
           ],
           "sequentialminus": [
            [
             0,
             "#0d0887"
            ],
            [
             0.1111111111111111,
             "#46039f"
            ],
            [
             0.2222222222222222,
             "#7201a8"
            ],
            [
             0.3333333333333333,
             "#9c179e"
            ],
            [
             0.4444444444444444,
             "#bd3786"
            ],
            [
             0.5555555555555556,
             "#d8576b"
            ],
            [
             0.6666666666666666,
             "#ed7953"
            ],
            [
             0.7777777777777778,
             "#fb9f3a"
            ],
            [
             0.8888888888888888,
             "#fdca26"
            ],
            [
             1,
             "#f0f921"
            ]
           ]
          },
          "colorway": [
           "#636efa",
           "#EF553B",
           "#00cc96",
           "#ab63fa",
           "#FFA15A",
           "#19d3f3",
           "#FF6692",
           "#B6E880",
           "#FF97FF",
           "#FECB52"
          ],
          "font": {
           "color": "#2a3f5f"
          },
          "geo": {
           "bgcolor": "white",
           "lakecolor": "white",
           "landcolor": "#E5ECF6",
           "showlakes": true,
           "showland": true,
           "subunitcolor": "white"
          },
          "hoverlabel": {
           "align": "left"
          },
          "hovermode": "closest",
          "mapbox": {
           "style": "light"
          },
          "paper_bgcolor": "white",
          "plot_bgcolor": "#E5ECF6",
          "polar": {
           "angularaxis": {
            "gridcolor": "white",
            "linecolor": "white",
            "ticks": ""
           },
           "bgcolor": "#E5ECF6",
           "radialaxis": {
            "gridcolor": "white",
            "linecolor": "white",
            "ticks": ""
           }
          },
          "scene": {
           "xaxis": {
            "backgroundcolor": "#E5ECF6",
            "gridcolor": "white",
            "gridwidth": 2,
            "linecolor": "white",
            "showbackground": true,
            "ticks": "",
            "zerolinecolor": "white"
           },
           "yaxis": {
            "backgroundcolor": "#E5ECF6",
            "gridcolor": "white",
            "gridwidth": 2,
            "linecolor": "white",
            "showbackground": true,
            "ticks": "",
            "zerolinecolor": "white"
           },
           "zaxis": {
            "backgroundcolor": "#E5ECF6",
            "gridcolor": "white",
            "gridwidth": 2,
            "linecolor": "white",
            "showbackground": true,
            "ticks": "",
            "zerolinecolor": "white"
           }
          },
          "shapedefaults": {
           "line": {
            "color": "#2a3f5f"
           }
          },
          "ternary": {
           "aaxis": {
            "gridcolor": "white",
            "linecolor": "white",
            "ticks": ""
           },
           "baxis": {
            "gridcolor": "white",
            "linecolor": "white",
            "ticks": ""
           },
           "bgcolor": "#E5ECF6",
           "caxis": {
            "gridcolor": "white",
            "linecolor": "white",
            "ticks": ""
           }
          },
          "title": {
           "x": 0.05
          },
          "xaxis": {
           "automargin": true,
           "gridcolor": "white",
           "linecolor": "white",
           "ticks": "",
           "title": {
            "standoff": 15
           },
           "zerolinecolor": "white",
           "zerolinewidth": 2
          },
          "yaxis": {
           "automargin": true,
           "gridcolor": "white",
           "linecolor": "white",
           "ticks": "",
           "title": {
            "standoff": 15
           },
           "zerolinecolor": "white",
           "zerolinewidth": 2
          }
         }
        },
        "title": {
         "text": "Model Metrics"
        },
        "xaxis": {
         "anchor": "y",
         "domain": [
          0,
          1
         ],
         "title": {
          "text": "Accuracy"
         }
        },
        "yaxis": {
         "anchor": "x",
         "domain": [
          0,
          1
         ],
         "title": {
          "text": "Profit"
         }
        }
       }
      }
     },
     "metadata": {},
     "output_type": "display_data"
    }
   ],
   "source": [
    "utils_dv.plot_metrics(metrics)"
   ]
  },
  {
   "cell_type": "markdown",
   "metadata": {},
   "source": [
    "# Further work\n",
    "Model the dataset without the odds present, and test the same models and see how it performs. We would also suggest adding more features using the feature engineering previously described, however, adding the form window for 1 match, 3 matches, 5 matches, ..., and so on. Perform further feature importance analysis, especially on newer models without the odds present, in order to find the features which gives the most information to the models."
   ]
  }
 ],
 "metadata": {
  "kernelspec": {
   "display_name": "venv",
   "language": "python",
   "name": "python3"
  },
  "language_info": {
   "codemirror_mode": {
    "name": "ipython",
    "version": 3
   },
   "file_extension": ".py",
   "mimetype": "text/x-python",
   "name": "python",
   "nbconvert_exporter": "python",
   "pygments_lexer": "ipython3",
   "version": "3.12.2"
  }
 },
 "nbformat": 4,
 "nbformat_minor": 2
}
